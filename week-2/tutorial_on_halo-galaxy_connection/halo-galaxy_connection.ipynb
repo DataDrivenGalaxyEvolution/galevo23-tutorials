{
 "cells": [
  {
   "cell_type": "markdown",
   "id": "9c28cc28-e019-417c-9d4b-a85d844d4c46",
   "metadata": {},
   "source": [
    "# Halo-galaxy connection\n",
    "\n",
    "### Authors: [Natalí S. M. de Santi](https://natalidesanti.github.io/) and [Christopher Lovell](https://www.christopherlovell.co.uk/)\n",
    "\n",
    "In this tutorial we are going to see some ideas about how to work with **halo-galaxy connection** in the context of **machine learning** techniques.\n",
    "\n",
    "## Summary\n",
    "\n",
    "* 0. Handling data\n",
    "* 1. Neural Networks\n",
    "\n",
    "## Running options\n",
    "\n",
    "* **On the fly:** you can easily work with this complete notebook in `google colab`: \n",
    "\n",
    "[![Open this notebook in Colab](https://colab.research.google.com/assets/colab-badge.svg)](https://colab.research.google.com/github/natalidesanti/galevo23-tutorials/blob/tutorial_on_halo-galaxy_connection/week-2/tutorial_on_halo-galaxy_connection/halo-galaxy_connection.ipynb)\n",
    "\n",
    "* **Own computer:** otherwise you can download the notebook in your own computer and work with it in your own space. Just take care with the library dependencies. \n",
    "\n",
    "This current notebook contains the complete tutorial."
   ]
  },
  {
   "cell_type": "markdown",
   "id": "9ba78677-4a53-4ed2-98d4-ca242375db59",
   "metadata": {},
   "source": [
    "## 0. Handling data"
   ]
  },
  {
   "cell_type": "markdown",
   "id": "f539858b-2129-44cf-9672-f8f103af1d64",
   "metadata": {},
   "source": [
    "We are going to see how to read IllustrisTNG data and the\n",
    "main aspects that we are going to use from this, as a dataset, for the machine\n",
    "learning session.\n",
    "\n",
    "We are going to work with **IllustrisTNG** halo/galaxy catalog, from [**CAMELS**](https://camels.readthedocs.io/en/latest/). \n",
    "A complete description of the data, as well other user instructions, is given in the [webpage](https://camels.readthedocs.io/en/latest/subfind.html)."
   ]
  },
  {
   "cell_type": "markdown",
   "id": "c8f61801-d824-40f8-9912-a4f4fbc87ffc",
   "metadata": {},
   "source": [
    "### 0.0. Necessary libraries"
   ]
  },
  {
   "cell_type": "code",
   "execution_count": 1,
   "id": "3c767892-6b66-439e-82a0-3795f9003bc5",
   "metadata": {},
   "outputs": [],
   "source": [
    "import numpy as np\n",
    "import pandas as pd\n",
    "import h5py\n",
    "import matplotlib.pyplot as plt\n",
    "import seaborn as sns\n",
    "import warnings\n",
    "\n",
    "#Just in case, to not overload the notebook\n",
    "warnings.filterwarnings(\"ignore\")"
   ]
  },
  {
   "cell_type": "markdown",
   "id": "a4da4b7c-9545-4605-ac19-5b495af14d07",
   "metadata": {},
   "source": [
    "### 0.1. Getting and reading the data\n",
    "\n",
    "We will download the catalog from a specif link using `wget`"
   ]
  },
  {
   "cell_type": "code",
   "execution_count": 2,
   "id": "12b9e768-0d1d-4c20-811c-c55c9dc201b1",
   "metadata": {},
   "outputs": [],
   "source": [
    "!wget -q -nc -O fof_subhalo_tab_033.hdf5 https://www.dropbox.com/s/fgkxv5w8qr9v54m/fof_subhalo_tab_033.hdf5?dl=0"
   ]
  },
  {
   "cell_type": "markdown",
   "id": "31343275-1c07-4af4-9290-b88f6c92b0d9",
   "metadata": {},
   "source": [
    "The **IllustrisTNG** data is a `.hdf5` file. We can read their content using the library `h5py`, using the `keys` method:"
   ]
  },
  {
   "cell_type": "code",
   "execution_count": 3,
   "id": "2bcc4f5c-7023-4bcb-8db9-2e7fe989eb47",
   "metadata": {},
   "outputs": [
    {
     "data": {
      "text/plain": [
       "<KeysViewHDF5 ['Config', 'Group', 'Header', 'IDs', 'Parameters', 'Subhalo']>"
      ]
     },
     "execution_count": 3,
     "metadata": {},
     "output_type": "execute_result"
    }
   ],
   "source": [
    "f = h5py.File('fof_subhalo_tab_033.hdf5')\n",
    "f.keys()"
   ]
  },
  {
   "cell_type": "markdown",
   "id": "7718ad80-764c-4a55-8fe6-fdb5d78561cb",
   "metadata": {},
   "source": [
    "The catalog specs are given by:"
   ]
  },
  {
   "cell_type": "code",
   "execution_count": 4,
   "id": "be737c23-ccb3-4223-9ebc-ae6c03c401fc",
   "metadata": {},
   "outputs": [],
   "source": [
    "BoxSize      = f['Header'].attrs[u'BoxSize']/1e3    #size of the snapshot in comoving Mpc/h\n",
    "redshift     = f['Header'].attrs[u'Redshift']       #reshift of the snapshot\n",
    "scale_factor = f['Header'].attrs[u'Time']           #scale factor\n",
    "h            = f['Header'].attrs[u'HubbleParam']    #value of the hubble parameter in 100 km/s/(Mpc/h)\n",
    "Omega_m      = f['Header'].attrs[u'Omega0']         #Omega_matter\n",
    "Omega_L      = f['Header'].attrs[u'OmegaLambda']    #Omega_baryon"
   ]
  },
  {
   "cell_type": "code",
   "execution_count": 5,
   "id": "a83d69c3-0b0d-4bca-84e7-ca684755461c",
   "metadata": {},
   "outputs": [
    {
     "name": "stdout",
     "output_type": "stream",
     "text": [
      "Box size:                 25.00 Mpc/h\n",
      "snapshot redshift:        0.00\n",
      "Omega_m:                  0.300\n",
      "Omega_L:                  0.700\n"
     ]
    }
   ],
   "source": [
    "print('Box size:                 %.2f Mpc/h'%BoxSize)\n",
    "print('snapshot redshift:        %.2f'%redshift)\n",
    "print('Omega_m:                  %.3f'%Omega_m)\n",
    "print('Omega_L:                  %.3f'%Omega_L)"
   ]
  },
  {
   "cell_type": "markdown",
   "id": "150e3ebc-2b9e-4161-a759-3fecc0645911",
   "metadata": {},
   "source": [
    "Apart from the specifications, the catalogs contain two main groups:\n",
    "\n",
    "* **Group:** contains the properties of the halos.\n",
    "\n",
    "* **Subhalos:** contains the properties of the subhalos. Galaxies, are considered as subhalos with stellar mass larger than 0.\n",
    "\n",
    "In this tutorial we are going to work with both (halos and galaxies). So, le't get some of their properties."
   ]
  },
  {
   "cell_type": "markdown",
   "id": "a0b273eb-02cf-4398-a493-48e1f7e84e8c",
   "metadata": {},
   "source": [
    "### 0.2. Getting halo and galaxy properties"
   ]
  },
  {
   "cell_type": "code",
   "execution_count": 6,
   "id": "7d5926d9-9966-4c36-8498-87e6f56d9582",
   "metadata": {},
   "outputs": [],
   "source": [
    "c = 3.*10**8\n",
    "\n",
    "# Positions, velocities and masses of the halos\n",
    "M_h =   f['Group/Group_M_Crit200'][:]*1e10      #Msun/h\n",
    "R_h =   f['Group/Group_R_Crit200'][:]/c         #kpc/h\n",
    "V_h  =  f['Group/GroupVel'][:]                  #km/s\n",
    "V_h =   np.linalg.norm(V_h, axis = 1)\n",
    "ID_r =  f['Group/GroupFirstSub'][:] #Contains halos without gals as this number = -1\n",
    "ID_h =  np.arange(0, M_h.shape[0], 1, dtype = float) #It is the ID of the halos, to match the gal cat\n",
    "\n",
    "# Positions, stellar masses,  of the galaxies\n",
    "M_g    = f['Subhalo/SubhaloMassType'][:,4]*1e10 #Msun/h\n",
    "color_g = f['Subhalo/SubhaloStellarPhotometrics'][:]\n",
    "color_g = color_g[:, 4] - color_g[:, 6]\n",
    "SFR = f['Subhalo/SubhaloSFR'][:]*1e10 #(Msun/year)/ (10^10 Msun/h)\n",
    "ID_g = np.array(f['Subhalo/SubhaloGrNr']) #Gals IDs\n",
    "\n",
    "# close file\n",
    "f.close()"
   ]
  },
  {
   "cell_type": "markdown",
   "id": "9d56ab03-3e5a-4e81-9205-10cd042d6dec",
   "metadata": {},
   "source": [
    "You can see that the number of halos is not the same as the number of galaxies, because we have halos without and with more than one galaxy (central and satellites):"
   ]
  },
  {
   "cell_type": "code",
   "execution_count": 7,
   "id": "f958b504-1fff-4be5-963f-48bad44fb865",
   "metadata": {},
   "outputs": [
    {
     "data": {
      "text/plain": [
       "((20131,), (17176,))"
      ]
     },
     "execution_count": 7,
     "metadata": {},
     "output_type": "execute_result"
    }
   ],
   "source": [
    "M_h.shape, M_g.shape"
   ]
  },
  {
   "cell_type": "markdown",
   "id": "a22cfb4f-c577-4390-91ca-c5a5c9f733ca",
   "metadata": {},
   "source": [
    "Taking only the halos which have galaxies"
   ]
  },
  {
   "cell_type": "code",
   "execution_count": 8,
   "id": "97e2c1f8-382b-401f-b732-36ccab147da4",
   "metadata": {},
   "outputs": [
    {
     "data": {
      "text/plain": [
       "(13837,)"
      ]
     },
     "execution_count": 8,
     "metadata": {},
     "output_type": "execute_result"
    }
   ],
   "source": [
    "indexes = np.where( ID_r != -1)[0]\n",
    "M_h = M_h[indexes]\n",
    "R_h = R_h[indexes]\n",
    "V_h = V_h[indexes]\n",
    "ID_h = ID_h[indexes]\n",
    "\n",
    "ID_h.shape"
   ]
  },
  {
   "cell_type": "markdown",
   "id": "c7d4db32-4acd-41f2-89f1-f2b04d197c3c",
   "metadata": {},
   "source": [
    "Creating the halo and galaxy catalogs"
   ]
  },
  {
   "cell_type": "code",
   "execution_count": 9,
   "id": "747a6765-8ba9-4dc9-a64e-8e117eabf9af",
   "metadata": {},
   "outputs": [
    {
     "data": {
      "text/html": [
       "<div>\n",
       "<style scoped>\n",
       "    .dataframe tbody tr th:only-of-type {\n",
       "        vertical-align: middle;\n",
       "    }\n",
       "\n",
       "    .dataframe tbody tr th {\n",
       "        vertical-align: top;\n",
       "    }\n",
       "\n",
       "    .dataframe thead th {\n",
       "        text-align: right;\n",
       "    }\n",
       "</style>\n",
       "<table border=\"1\" class=\"dataframe\">\n",
       "  <thead>\n",
       "    <tr style=\"text-align: right;\">\n",
       "      <th></th>\n",
       "      <th>M_h</th>\n",
       "      <th>R_h</th>\n",
       "      <th>V_h</th>\n",
       "      <th>ID</th>\n",
       "    </tr>\n",
       "  </thead>\n",
       "  <tbody>\n",
       "    <tr>\n",
       "      <th>0</th>\n",
       "      <td>4.500575e+13</td>\n",
       "      <td>0.000002</td>\n",
       "      <td>27.004244</td>\n",
       "      <td>0.0</td>\n",
       "    </tr>\n",
       "    <tr>\n",
       "      <th>1</th>\n",
       "      <td>1.912689e+13</td>\n",
       "      <td>0.000001</td>\n",
       "      <td>56.368275</td>\n",
       "      <td>1.0</td>\n",
       "    </tr>\n",
       "    <tr>\n",
       "      <th>2</th>\n",
       "      <td>2.011009e+13</td>\n",
       "      <td>0.000001</td>\n",
       "      <td>188.867279</td>\n",
       "      <td>2.0</td>\n",
       "    </tr>\n",
       "  </tbody>\n",
       "</table>\n",
       "</div>"
      ],
      "text/plain": [
       "            M_h       R_h         V_h   ID\n",
       "0  4.500575e+13  0.000002   27.004244  0.0\n",
       "1  1.912689e+13  0.000001   56.368275  1.0\n",
       "2  2.011009e+13  0.000001  188.867279  2.0"
      ]
     },
     "execution_count": 9,
     "metadata": {},
     "output_type": "execute_result"
    }
   ],
   "source": [
    "# Halo catalog\n",
    "data = np.array( [ M_h, R_h, V_h, ID_h ] ).T\n",
    "columns = [ 'M_h', 'R_h', 'V_h', 'ID' ] \n",
    "halos = pd.DataFrame(data = data, columns = columns)\n",
    "halos.head(3)"
   ]
  },
  {
   "cell_type": "code",
   "execution_count": 10,
   "id": "eea00b77-ab65-46a7-b4fe-aac570a497f7",
   "metadata": {},
   "outputs": [
    {
     "data": {
      "text/html": [
       "<div>\n",
       "<style scoped>\n",
       "    .dataframe tbody tr th:only-of-type {\n",
       "        vertical-align: middle;\n",
       "    }\n",
       "\n",
       "    .dataframe tbody tr th {\n",
       "        vertical-align: top;\n",
       "    }\n",
       "\n",
       "    .dataframe thead th {\n",
       "        text-align: right;\n",
       "    }\n",
       "</style>\n",
       "<table border=\"1\" class=\"dataframe\">\n",
       "  <thead>\n",
       "    <tr style=\"text-align: right;\">\n",
       "      <th></th>\n",
       "      <th>M_g</th>\n",
       "      <th>color_g</th>\n",
       "      <th>SFR_g</th>\n",
       "      <th>ID</th>\n",
       "    </tr>\n",
       "  </thead>\n",
       "  <tbody>\n",
       "    <tr>\n",
       "      <th>0</th>\n",
       "      <td>4.267894e+11</td>\n",
       "      <td>1.126476</td>\n",
       "      <td>0.000000e+00</td>\n",
       "      <td>0.0</td>\n",
       "    </tr>\n",
       "    <tr>\n",
       "      <th>1</th>\n",
       "      <td>2.398532e+10</td>\n",
       "      <td>0.826265</td>\n",
       "      <td>1.699688e+10</td>\n",
       "      <td>0.0</td>\n",
       "    </tr>\n",
       "    <tr>\n",
       "      <th>2</th>\n",
       "      <td>1.551164e+10</td>\n",
       "      <td>0.798616</td>\n",
       "      <td>2.204744e+09</td>\n",
       "      <td>0.0</td>\n",
       "    </tr>\n",
       "  </tbody>\n",
       "</table>\n",
       "</div>"
      ],
      "text/plain": [
       "            M_g   color_g         SFR_g   ID\n",
       "0  4.267894e+11  1.126476  0.000000e+00  0.0\n",
       "1  2.398532e+10  0.826265  1.699688e+10  0.0\n",
       "2  1.551164e+10  0.798616  2.204744e+09  0.0"
      ]
     },
     "execution_count": 10,
     "metadata": {},
     "output_type": "execute_result"
    }
   ],
   "source": [
    "#Galaxy catalog\n",
    "data = np.array( [ M_g, color_g, SFR, ID_g ] ).T\n",
    "columns = [ 'M_g', 'color_g', 'SFR_g', 'ID' ] \n",
    "gals = pd.DataFrame(data = data, columns = columns)\n",
    "gals.head(3)"
   ]
  },
  {
   "cell_type": "markdown",
   "id": "cc77b1be-ebac-420f-8887-6495256d4daa",
   "metadata": {},
   "source": [
    "Keeping only central galaxies"
   ]
  },
  {
   "cell_type": "code",
   "execution_count": 11,
   "id": "aceb67ac-536a-4cfb-983f-cdfdca0caf76",
   "metadata": {},
   "outputs": [],
   "source": [
    "gals = gals.drop_duplicates(subset = ['ID'], keep = 'first')"
   ]
  },
  {
   "cell_type": "markdown",
   "id": "997d7714-0968-4b49-bb39-c84c5f0d469f",
   "metadata": {},
   "source": [
    "Matching the halo to the galaxy catalogs"
   ]
  },
  {
   "cell_type": "code",
   "execution_count": 12,
   "id": "ae60fa54-8697-4ae0-8a31-0314f6ad4e3d",
   "metadata": {},
   "outputs": [
    {
     "data": {
      "text/plain": [
       "(13837, 7)"
      ]
     },
     "execution_count": 12,
     "metadata": {},
     "output_type": "execute_result"
    }
   ],
   "source": [
    "df = pd.merge(left = halos, right = gals, left_on = 'ID', right_on = 'ID')\n",
    "df.shape"
   ]
  },
  {
   "cell_type": "markdown",
   "id": "0557f865-8c5f-431b-87ea-c9e91fbe0a25",
   "metadata": {},
   "source": [
    "Cleaning the data"
   ]
  },
  {
   "cell_type": "code",
   "execution_count": 13,
   "id": "d15bd0d0-1b27-4637-a5c0-1a7473f02070",
   "metadata": {},
   "outputs": [],
   "source": [
    "df = df[ df['M_g'] > 0 ] #Considering only galaxies [gals are gals if SM > 0]"
   ]
  },
  {
   "cell_type": "code",
   "execution_count": 14,
   "id": "cefdda1f-e087-41b6-9f49-966494ac53b7",
   "metadata": {},
   "outputs": [],
   "source": [
    "#Converting SFR from the non-forming galaxies to have a SFR equal to a Gaussian distribution\n",
    "df['SFR_g'] = df['SFR_g'].replace(0, 1)\n",
    "df['SFR_g'] = np.log10(df['SFR_g'])\n",
    "df.loc[df['SFR_g'] == 0, \"SFR_g\"] = np.random.normal(7, 0.5, len(df.loc[df[\"SFR_g\"] == 0]))"
   ]
  },
  {
   "cell_type": "code",
   "execution_count": 15,
   "id": "f693212c-efdc-401f-a04c-e2cf5a6d83fe",
   "metadata": {},
   "outputs": [
    {
     "data": {
      "text/plain": [
       "(1514, 6)"
      ]
     },
     "execution_count": 15,
     "metadata": {},
     "output_type": "execute_result"
    }
   ],
   "source": [
    "#Just dropping the ID column because we don't need it anymore\n",
    "df = df.drop(['ID'], axis = 1)\n",
    "df.shape"
   ]
  },
  {
   "cell_type": "markdown",
   "id": "5cb4d6d2-81a5-4b3f-82f6-da03f72e0ec2",
   "metadata": {},
   "source": [
    "Now, let's see some statiscs from these halos/galaxies:"
   ]
  },
  {
   "cell_type": "code",
   "execution_count": 16,
   "id": "6036f47e-3c21-4b15-b13a-739442d12c59",
   "metadata": {},
   "outputs": [
    {
     "data": {
      "text/html": [
       "<div>\n",
       "<style scoped>\n",
       "    .dataframe tbody tr th:only-of-type {\n",
       "        vertical-align: middle;\n",
       "    }\n",
       "\n",
       "    .dataframe tbody tr th {\n",
       "        vertical-align: top;\n",
       "    }\n",
       "\n",
       "    .dataframe thead th {\n",
       "        text-align: right;\n",
       "    }\n",
       "</style>\n",
       "<table border=\"1\" class=\"dataframe\">\n",
       "  <thead>\n",
       "    <tr style=\"text-align: right;\">\n",
       "      <th></th>\n",
       "      <th>M_h</th>\n",
       "      <th>R_h</th>\n",
       "      <th>V_h</th>\n",
       "      <th>M_g</th>\n",
       "      <th>color_g</th>\n",
       "      <th>SFR_g</th>\n",
       "    </tr>\n",
       "  </thead>\n",
       "  <tbody>\n",
       "    <tr>\n",
       "      <th>count</th>\n",
       "      <td>1.514000e+03</td>\n",
       "      <td>1.514000e+03</td>\n",
       "      <td>1514.000000</td>\n",
       "      <td>1.514000e+03</td>\n",
       "      <td>1514.000000</td>\n",
       "      <td>1514.000000</td>\n",
       "    </tr>\n",
       "    <tr>\n",
       "      <th>mean</th>\n",
       "      <td>2.590867e+11</td>\n",
       "      <td>2.269759e-07</td>\n",
       "      <td>159.914377</td>\n",
       "      <td>3.018712e+09</td>\n",
       "      <td>0.678903</td>\n",
       "      <td>7.629482</td>\n",
       "    </tr>\n",
       "    <tr>\n",
       "      <th>std</th>\n",
       "      <td>1.656051e+12</td>\n",
       "      <td>1.490707e-07</td>\n",
       "      <td>84.731841</td>\n",
       "      <td>1.944717e+10</td>\n",
       "      <td>0.192099</td>\n",
       "      <td>1.050015</td>\n",
       "    </tr>\n",
       "    <tr>\n",
       "      <th>min</th>\n",
       "      <td>1.443876e+09</td>\n",
       "      <td>6.127277e-08</td>\n",
       "      <td>7.104222</td>\n",
       "      <td>1.739187e+06</td>\n",
       "      <td>-0.794176</td>\n",
       "      <td>5.583295</td>\n",
       "    </tr>\n",
       "    <tr>\n",
       "      <th>25%</th>\n",
       "      <td>2.201826e+10</td>\n",
       "      <td>1.519423e-07</td>\n",
       "      <td>100.411592</td>\n",
       "      <td>1.297332e+07</td>\n",
       "      <td>0.638956</td>\n",
       "      <td>6.843019</td>\n",
       "    </tr>\n",
       "    <tr>\n",
       "      <th>50%</th>\n",
       "      <td>4.039674e+10</td>\n",
       "      <td>1.860214e-07</td>\n",
       "      <td>144.193092</td>\n",
       "      <td>3.437585e+07</td>\n",
       "      <td>0.700603</td>\n",
       "      <td>7.366351</td>\n",
       "    </tr>\n",
       "    <tr>\n",
       "      <th>75%</th>\n",
       "      <td>9.681791e+10</td>\n",
       "      <td>2.489396e-07</td>\n",
       "      <td>204.188789</td>\n",
       "      <td>2.047698e+08</td>\n",
       "      <td>0.764560</td>\n",
       "      <td>8.288161</td>\n",
       "    </tr>\n",
       "    <tr>\n",
       "      <th>max</th>\n",
       "      <td>4.500575e+13</td>\n",
       "      <td>1.928402e-06</td>\n",
       "      <td>563.310913</td>\n",
       "      <td>4.267894e+11</td>\n",
       "      <td>1.197241</td>\n",
       "      <td>10.718828</td>\n",
       "    </tr>\n",
       "  </tbody>\n",
       "</table>\n",
       "</div>"
      ],
      "text/plain": [
       "                M_h           R_h          V_h           M_g      color_g  \\\n",
       "count  1.514000e+03  1.514000e+03  1514.000000  1.514000e+03  1514.000000   \n",
       "mean   2.590867e+11  2.269759e-07   159.914377  3.018712e+09     0.678903   \n",
       "std    1.656051e+12  1.490707e-07    84.731841  1.944717e+10     0.192099   \n",
       "min    1.443876e+09  6.127277e-08     7.104222  1.739187e+06    -0.794176   \n",
       "25%    2.201826e+10  1.519423e-07   100.411592  1.297332e+07     0.638956   \n",
       "50%    4.039674e+10  1.860214e-07   144.193092  3.437585e+07     0.700603   \n",
       "75%    9.681791e+10  2.489396e-07   204.188789  2.047698e+08     0.764560   \n",
       "max    4.500575e+13  1.928402e-06   563.310913  4.267894e+11     1.197241   \n",
       "\n",
       "             SFR_g  \n",
       "count  1514.000000  \n",
       "mean      7.629482  \n",
       "std       1.050015  \n",
       "min       5.583295  \n",
       "25%       6.843019  \n",
       "50%       7.366351  \n",
       "75%       8.288161  \n",
       "max      10.718828  "
      ]
     },
     "execution_count": 16,
     "metadata": {},
     "output_type": "execute_result"
    }
   ],
   "source": [
    "df.describe()"
   ]
  },
  {
   "cell_type": "markdown",
   "id": "040ea495-24f5-4c13-b44e-610abaaaf785",
   "metadata": {},
   "source": [
    "### 0.3. Data-preprocessing\n",
    "\n",
    "It is important to deal with data in small range, usually, around 1 and 0. So, let's take the $log_{10}$ of the properties"
   ]
  },
  {
   "cell_type": "code",
   "execution_count": 17,
   "id": "d93e674c-af1f-43b3-bb6a-2c7cb83a36d1",
   "metadata": {},
   "outputs": [],
   "source": [
    "df['M_h'] = np.log10(df['M_h'])\n",
    "df['R_h'] = np.log10(df['R_h'])\n",
    "df['V_h'] = np.log10(df['V_h'])\n",
    "df['M_g'] = np.log10(df['M_g'])"
   ]
  },
  {
   "cell_type": "code",
   "execution_count": 18,
   "id": "4d220b45-dd91-42d9-ab14-9e20ad1e35ca",
   "metadata": {},
   "outputs": [
    {
     "data": {
      "text/plain": [
       "Text(0.5, 0, 'V_h')"
      ]
     },
     "execution_count": 18,
     "metadata": {},
     "output_type": "execute_result"
    },
    {
     "data": {
      "image/png": "[encoded data removed]",
      "text/plain": [
       "<Figure size 1500x500 with 3 Axes>"
      ]
     },
     "metadata": {
      "needs_background": "light"
     },
     "output_type": "display_data"
    }
   ],
   "source": [
    "fig = plt.figure(dpi = 100, figsize = (15, 5))\n",
    "gs = fig.add_gridspec(1, 3, hspace = 0, wspace = 0)\n",
    "axs = gs.subplots(sharey = True)\n",
    "\n",
    "fig.suptitle('Halo properties')\n",
    "\n",
    "axs[0].hist(df['M_h'])\n",
    "axs[0].set_yscale('log')\n",
    "axs[0].set_xlabel('M_h')\n",
    "axs[0].set_ylabel('# halos')\n",
    "\n",
    "axs[1].hist(df['R_h'])\n",
    "axs[1].set_yscale('log')\n",
    "axs[1].set_xlabel('R_h')\n",
    "\n",
    "axs[2].hist(df['V_h'])\n",
    "axs[2].set_yscale('log')\n",
    "axs[2].set_xlabel('V_h')"
   ]
  },
  {
   "cell_type": "code",
   "execution_count": 19,
   "id": "831c9825-51a4-4aed-8f8b-4fe5061b2b21",
   "metadata": {},
   "outputs": [
    {
     "data": {
      "text/plain": [
       "Text(0.5, 0, 'SFR')"
      ]
     },
     "execution_count": 19,
     "metadata": {},
     "output_type": "execute_result"
    },
    {
     "data": {
      "image/png": "[encoded data removed]",
      "text/plain": [
       "<Figure size 1500x500 with 3 Axes>"
      ]
     },
     "metadata": {
      "needs_background": "light"
     },
     "output_type": "display_data"
    }
   ],
   "source": [
    "fig = plt.figure(dpi = 100, figsize = (15, 5))\n",
    "gs = fig.add_gridspec(1, 3, hspace = 0, wspace = 0)\n",
    "axs = gs.subplots(sharey = True)\n",
    "\n",
    "fig.suptitle('Galaxy properties')\n",
    "\n",
    "axs[0].hist(df['M_g'])\n",
    "axs[0].set_yscale('log')\n",
    "axs[0].set_xlabel(r'$M_{\\star}$')\n",
    "axs[0].set_ylabel('# halos')\n",
    "\n",
    "axs[1].hist(df['color_g'])\n",
    "axs[1].set_yscale('log')\n",
    "axs[1].set_xlabel('Color')\n",
    "\n",
    "axs[2].hist(df['SFR_g'])\n",
    "axs[2].set_yscale('log')\n",
    "axs[2].set_xlabel('SFR')"
   ]
  },
  {
   "cell_type": "markdown",
   "id": "c960db24-9f36-47b9-ae95-b9d4e006297b",
   "metadata": {},
   "source": [
    "### 0.4. Measuring the correlation among halo/galaxy properties\n",
    "\n",
    "Here we are going to measure the [Pearson Correlation Coefficient](https://en.wikipedia.org/wiki/Pearson_correlation_coefficient)\n",
    "\\begin{equation}\n",
    " PCC = \\frac{ \\mathrm{cov} (X, Y) }{ \\sigma_X \\sigma_Y }\n",
    "\\end{equation}\n",
    "\n",
    "and plotting it as a heatmap of the values."
   ]
  },
  {
   "cell_type": "code",
   "execution_count": 20,
   "id": "5c0db71a-ba22-49f9-a2e9-3e424dc901cd",
   "metadata": {},
   "outputs": [],
   "source": [
    "def correlation_heatmap(df):\n",
    "    correlations = df.corr(method = 'pearson')\n",
    "\n",
    "    fig, ax = plt.subplots(figsize = (10,10))\n",
    "    sns.heatmap(correlations, vmax = 1.0, center = 0, fmt = '.2f',\n",
    "                square = True, linewidths = .5, annot = True, \n",
    "                cbar_kws = {\"shrink\": .82})\n",
    "    plt.title('Pearson correlation Heatmap')\n",
    "    plt.show()\n",
    "    \n",
    "    return correlations"
   ]
  },
  {
   "cell_type": "code",
   "execution_count": 21,
   "id": "41230f8e-c846-499d-a86c-38d9f7170310",
   "metadata": {},
   "outputs": [
    {
     "data": {
      "image/png": "[encoded data removed]",
      "text/plain": [
       "<Figure size 720x720 with 2 Axes>"
      ]
     },
     "metadata": {
      "needs_background": "light"
     },
     "output_type": "display_data"
    },
    {
     "data": {
      "text/html": [
       "<div>\n",
       "<style scoped>\n",
       "    .dataframe tbody tr th:only-of-type {\n",
       "        vertical-align: middle;\n",
       "    }\n",
       "\n",
       "    .dataframe tbody tr th {\n",
       "        vertical-align: top;\n",
       "    }\n",
       "\n",
       "    .dataframe thead th {\n",
       "        text-align: right;\n",
       "    }\n",
       "</style>\n",
       "<table border=\"1\" class=\"dataframe\">\n",
       "  <thead>\n",
       "    <tr style=\"text-align: right;\">\n",
       "      <th></th>\n",
       "      <th>M_h</th>\n",
       "      <th>R_h</th>\n",
       "      <th>V_h</th>\n",
       "      <th>M_g</th>\n",
       "      <th>color_g</th>\n",
       "      <th>SFR_g</th>\n",
       "    </tr>\n",
       "  </thead>\n",
       "  <tbody>\n",
       "    <tr>\n",
       "      <th>M_h</th>\n",
       "      <td>1.000000</td>\n",
       "      <td>1.000000</td>\n",
       "      <td>-0.154836</td>\n",
       "      <td>0.910068</td>\n",
       "      <td>0.113225</td>\n",
       "      <td>0.563869</td>\n",
       "    </tr>\n",
       "    <tr>\n",
       "      <th>R_h</th>\n",
       "      <td>1.000000</td>\n",
       "      <td>1.000000</td>\n",
       "      <td>-0.154837</td>\n",
       "      <td>0.910068</td>\n",
       "      <td>0.113225</td>\n",
       "      <td>0.563868</td>\n",
       "    </tr>\n",
       "    <tr>\n",
       "      <th>V_h</th>\n",
       "      <td>-0.154836</td>\n",
       "      <td>-0.154837</td>\n",
       "      <td>1.000000</td>\n",
       "      <td>-0.082602</td>\n",
       "      <td>0.017113</td>\n",
       "      <td>-0.051836</td>\n",
       "    </tr>\n",
       "    <tr>\n",
       "      <th>M_g</th>\n",
       "      <td>0.910068</td>\n",
       "      <td>0.910068</td>\n",
       "      <td>-0.082602</td>\n",
       "      <td>1.000000</td>\n",
       "      <td>0.162549</td>\n",
       "      <td>0.627464</td>\n",
       "    </tr>\n",
       "    <tr>\n",
       "      <th>color_g</th>\n",
       "      <td>0.113225</td>\n",
       "      <td>0.113225</td>\n",
       "      <td>0.017113</td>\n",
       "      <td>0.162549</td>\n",
       "      <td>1.000000</td>\n",
       "      <td>-0.274169</td>\n",
       "    </tr>\n",
       "    <tr>\n",
       "      <th>SFR_g</th>\n",
       "      <td>0.563869</td>\n",
       "      <td>0.563868</td>\n",
       "      <td>-0.051836</td>\n",
       "      <td>0.627464</td>\n",
       "      <td>-0.274169</td>\n",
       "      <td>1.000000</td>\n",
       "    </tr>\n",
       "  </tbody>\n",
       "</table>\n",
       "</div>"
      ],
      "text/plain": [
       "              M_h       R_h       V_h       M_g   color_g     SFR_g\n",
       "M_h      1.000000  1.000000 -0.154836  0.910068  0.113225  0.563869\n",
       "R_h      1.000000  1.000000 -0.154837  0.910068  0.113225  0.563868\n",
       "V_h     -0.154836 -0.154837  1.000000 -0.082602  0.017113 -0.051836\n",
       "M_g      0.910068  0.910068 -0.082602  1.000000  0.162549  0.627464\n",
       "color_g  0.113225  0.113225  0.017113  0.162549  1.000000 -0.274169\n",
       "SFR_g    0.563869  0.563868 -0.051836  0.627464 -0.274169  1.000000"
      ]
     },
     "execution_count": 21,
     "metadata": {},
     "output_type": "execute_result"
    }
   ],
   "source": [
    "correlation_heatmap(df)"
   ]
  },
  {
   "cell_type": "markdown",
   "id": "fe8cd129-e4f9-44ab-95f3-2071e538625f",
   "metadata": {},
   "source": [
    "### 0.5. Saving the dataset"
   ]
  },
  {
   "cell_type": "code",
   "execution_count": 22,
   "id": "ad1c6ce4-8d6d-47ec-a960-4f2d98ff7175",
   "metadata": {},
   "outputs": [],
   "source": [
    "#To save in the main directory - COLAB\n",
    "df.to_csv('halos_and_gals.csv', index = False)"
   ]
  },
  {
   "cell_type": "markdown",
   "id": "925ad943-86a7-4c58-a343-40f6422b02f4",
   "metadata": {},
   "source": [
    "Saving as train and test sets"
   ]
  },
  {
   "cell_type": "code",
   "execution_count": 23,
   "id": "3e7e19bf-d896-4077-a519-62b5b327218d",
   "metadata": {},
   "outputs": [],
   "source": [
    "#Randomizing\n",
    "df = df.sample(frac = 1, random_state = 42)"
   ]
  },
  {
   "cell_type": "code",
   "execution_count": 24,
   "id": "5508c149-8cac-43fa-b2df-37fd8ea8e92c",
   "metadata": {},
   "outputs": [],
   "source": [
    "#Train and test\n",
    "total = df.shape[0]\n",
    "frac = 0.8\n",
    "\n",
    "df_train = df.iloc[:int(frac*total), :] #train\n",
    "df_test = df.iloc[int(frac*total):, :] #test"
   ]
  },
  {
   "cell_type": "code",
   "execution_count": 25,
   "id": "ce617e03-a288-456b-9714-96125ce36856",
   "metadata": {},
   "outputs": [],
   "source": [
    "#To save in the main directory - COLAB\n",
    "df_train.to_csv('train-halos_and_gals.csv', index = False)\n",
    "df_test.to_csv('test-halos_and_gals.csv', index = False)"
   ]
  },
  {
   "cell_type": "markdown",
   "id": "0fb3fa54-a543-406d-ae70-775adb69bcde",
   "metadata": {},
   "source": [
    "## 1. Neural Networks\n",
    "\n",
    "Now we are going to see how to build a **Neural Network** to predict some galaxy properties, based in some halo properties."
   ]
  },
  {
   "cell_type": "markdown",
   "id": "b691a907-65ee-4275-a8da-1891fff92874",
   "metadata": {},
   "source": [
    "### 1.0. Necessary libraries"
   ]
  },
  {
   "cell_type": "code",
   "execution_count": 26,
   "id": "a4f2d95d-fc04-4799-9ed3-e14873f86c31",
   "metadata": {},
   "outputs": [],
   "source": [
    "import numpy as np\n",
    "import matplotlib.pyplot as plt\n",
    "import pandas as pd\n",
    "import h5py\n",
    "import seaborn as sns\n",
    "from keras import models\n",
    "from keras import layers\n",
    "from keras import regularizers\n",
    "import os\n",
    "from scipy.stats import gaussian_kde\n",
    "from numpy.random import seed\n",
    "from keras.wrappers.scikit_learn import KerasRegressor\n",
    "from sklearn.model_selection import train_test_split\n",
    "from sklearn.metrics import mean_squared_error\n",
    "from tensorflow.keras.utils import set_random_seed\n",
    "from numpy.random import seed\n",
    "from tensorflow.keras.models import load_model"
   ]
  },
  {
   "cell_type": "markdown",
   "id": "d03d8eb9-7951-4c49-bdc4-9d5623418460",
   "metadata": {},
   "source": [
    "### 1.1. Reading the data\n",
    "\n",
    "We are going to work to the data created above"
   ]
  },
  {
   "cell_type": "code",
   "execution_count": 27,
   "id": "b4362eff-4d6b-469a-b96e-6878624cafcd",
   "metadata": {},
   "outputs": [],
   "source": [
    "df_train = pd.read_csv('train-halos_and_gals.csv')\n",
    "df_test = pd.read_csv('test-halos_and_gals.csv')"
   ]
  },
  {
   "cell_type": "markdown",
   "id": "4db58acf-3a98-4c51-8c7d-464c10ac48c5",
   "metadata": {},
   "source": [
    "If, for some reason, you had problems to generate the data you can download it using the following piece of code (you need to remove it from commentary)"
   ]
  },
  {
   "cell_type": "code",
   "execution_count": 28,
   "id": "ebf13d68-dcff-408d-8cd7-c57690cd52eb",
   "metadata": {},
   "outputs": [],
   "source": [
    "# # Downloading it from the cloud\n",
    "# !wget -q -nc -O test-halos_and_gals.csv https://www.dropbox.com/s/y9rsx6gtjsdr7r1/test-halos_and_gals.csv?dl=0\n",
    "# !wget -q -nc -O train-halos_and_gals.csv https://www.dropbox.com/s/gncweskcappi81t/train-halos_and_gals.csv?dl=0\n",
    "\n",
    "# df_train = pd.read_csv('train-halos_and_gals.csv')\n",
    "# df_test = pd.read_csv('test-halos_and_gals.csv')"
   ]
  },
  {
   "cell_type": "markdown",
   "id": "1452f9dd-5a13-4507-8a46-d2413e5bb6f8",
   "metadata": {},
   "source": [
    "Using:\n",
    "* halos: mass, radius, velocity modulus\n",
    "\n",
    "To predict\n",
    "* galaxies: stellar masses\n",
    "\n",
    "\\begin{equation}\n",
    " \\{ M_h, R_h, V_h \\} \\Rightarrow M_{\\star}\n",
    "\\end{equation}"
   ]
  },
  {
   "cell_type": "code",
   "execution_count": 29,
   "id": "9c2fe672-82e0-4db9-81a7-0286bbbba689",
   "metadata": {},
   "outputs": [],
   "source": [
    "x_train = np.array([df_train['M_h'], df_train['R_h'], df_train['V_h']]).T\n",
    "x_test = np.array([df_test['M_h'], df_test['R_h'], df_test['V_h']]).T\n",
    "\n",
    "y_train = np.array([df_train['M_g']]).T\n",
    "y_test = np.array([df_test['M_g']]).T"
   ]
  },
  {
   "cell_type": "code",
   "execution_count": 30,
   "id": "6a18dc23-c3f4-4f5c-8e74-1a4768a27eb8",
   "metadata": {},
   "outputs": [
    {
     "data": {
      "text/plain": [
       "((1211, 3), (303, 3), (1211, 1), (303, 1))"
      ]
     },
     "execution_count": 30,
     "metadata": {},
     "output_type": "execute_result"
    }
   ],
   "source": [
    "x_train.shape, x_test.shape, y_train.shape, y_test.shape"
   ]
  },
  {
   "cell_type": "markdown",
   "id": "7c73439d-8dce-464e-b331-69fa60ecf548",
   "metadata": {},
   "source": [
    "### 1.2. Pre-processing the data\n",
    "\n",
    "We will do the following transformation\n",
    "\\begin{equation}\n",
    " data \\Rightarrow \\frac{(data - mean)}{std}\n",
    "\\end{equation}"
   ]
  },
  {
   "cell_type": "code",
   "execution_count": 31,
   "id": "31fc3274-baef-4fdb-ada3-5ff922488d2e",
   "metadata": {},
   "outputs": [
    {
     "data": {
      "text/plain": [
       "(array([10.72031404, -6.69246455,  2.14441201]),\n",
       " array([0.57831041, 0.19277028, 0.24073891]))"
      ]
     },
     "execution_count": 31,
     "metadata": {},
     "output_type": "execute_result"
    }
   ],
   "source": [
    "#Taking mean and std\n",
    "mean_data = np.mean(x_train, axis = 0)\n",
    "std_data = np.std(x_train, axis = 0)\n",
    "mean_data, std_data"
   ]
  },
  {
   "cell_type": "code",
   "execution_count": 32,
   "id": "590adcd4-aa09-45fc-968d-a97ad33e5265",
   "metadata": {},
   "outputs": [],
   "source": [
    "x_train -= mean_data\n",
    "x_train /= std_data\n",
    "x_test -= mean_data\n",
    "x_test /= std_data"
   ]
  },
  {
   "cell_type": "markdown",
   "id": "2087b0e6-54c0-4ca6-9fe2-b70d3882dcd9",
   "metadata": {},
   "source": [
    "### 1.3. Neural Networks\n",
    "\n",
    "A **neural network** is a collection of _nodes_ (neurons) that are arranged in a series of **layers**:\n",
    "\n",
    "![](https://www.tibco.com/sites/tibco/files/media_entity/2021-05/neutral-network-diagram.svg)"
   ]
  },
  {
   "cell_type": "markdown",
   "id": "dda8d464-8946-40f5-b498-df23e00403a9",
   "metadata": {},
   "source": [
    "Each connection is responsible to give a weight: $\\omega_i a_i$ and each layer is a summarization of them, plus a bias $b$, according too:\n",
    "\\begin{equation}\n",
    " b_{\\mu} + \\sum_{\\nu} W_{\\mu \\nu} a_{\\nu} .\n",
    "\\end{equation}\n",
    "Besides, we have another numeric transformation called **activation function**, responsible to perform a non linear transformation of the values of each layer\n",
    "\\begin{equation}\n",
    " y_{\\mu} = f \\left( b_{\\mu} + \\sum_{\\nu} W_{\\mu \\nu} a_{\\nu} \\right) ,\n",
    "\\end{equation}\n",
    "that can assume different forms:\n",
    "\n",
    "![](https://miro.medium.com/max/1200/1*ZafDv3VUm60Eh10OeJu1vw.png)"
   ]
  },
  {
   "cell_type": "markdown",
   "id": "7a44517b-e977-4cab-8993-a4188ab19357",
   "metadata": {},
   "source": [
    "During the **training process** these _weights_ are adjusted through **epochs** in order to minimize the difference between the network predictions $y_{pred}$, and the target values $y_{target}$ through the minimization of a **loss function** (that also can assume different forms). In this tutorial we are going to use the **Mean Squared Error** (**MSE**)\n",
    "\\begin{equation}\n",
    " MSE = \\frac{1}{m} \\sum_{i = 1}^m (y_{pred} - y_{target})^2 ,\n",
    "\\end{equation}"
   ]
  },
  {
   "cell_type": "markdown",
   "id": "abb02b39-740f-42d7-803d-429bdc374ca5",
   "metadata": {},
   "source": [
    "### 1.3.1. Defining the model"
   ]
  },
  {
   "cell_type": "markdown",
   "id": "d1bf0afd-bc2c-4801-ade5-2b5c2477f7df",
   "metadata": {},
   "source": [
    "First, defining the **random seed** to get reproducible results"
   ]
  },
  {
   "cell_type": "code",
   "execution_count": 33,
   "id": "9c7c347b-477b-4fa1-9b10-2fcfa9986f79",
   "metadata": {},
   "outputs": [],
   "source": [
    "set_random_seed(42)\n",
    "seed(42)"
   ]
  },
  {
   "cell_type": "markdown",
   "id": "eb52bf5c-e157-438b-bedb-1242beafba25",
   "metadata": {},
   "source": [
    "Let's define a simple standard model according too:"
   ]
  },
  {
   "cell_type": "code",
   "execution_count": 34,
   "id": "f88c36d4-7161-40a9-b07b-1bc26d741219",
   "metadata": {},
   "outputs": [],
   "source": [
    "def base_model():\n",
    "    model = models.Sequential() \n",
    "    model.add(layers.Dense(16, activation = 'relu', \n",
    "                           input_shape = (x_train.shape[1],)))\n",
    "    model.add(layers.Dense(8, activation = 'relu'))\n",
    "    model.add(layers.Dense(1))\n",
    "    \n",
    "    print(model.summary())\n",
    "    \n",
    "    model.compile(optimizer = 'Adam', loss = 'mse')\n",
    "    \n",
    "    return model"
   ]
  },
  {
   "cell_type": "markdown",
   "id": "d9f925d6-b18c-43dc-ad9e-04cb1e635d12",
   "metadata": {},
   "source": [
    "Here you can visualize the model and their details"
   ]
  },
  {
   "cell_type": "code",
   "execution_count": 35,
   "id": "048513c3-7a7b-4c1e-b589-41fe8ac4dc13",
   "metadata": {},
   "outputs": [
    {
     "data": {
      "text/plain": [
       "<keras.wrappers.scikit_learn.KerasRegressor at 0x7f2732dbd0d0>"
      ]
     },
     "execution_count": 35,
     "metadata": {},
     "output_type": "execute_result"
    }
   ],
   "source": [
    "my_model = KerasRegressor(build_fn = base_model)\n",
    "my_model"
   ]
  },
  {
   "cell_type": "markdown",
   "id": "82f2ad27-bed0-4862-b0a8-b43266651394",
   "metadata": {},
   "source": [
    "### 1.3.2. Fitting the model\n",
    "\n",
    "The learning process is made by the `fit` function"
   ]
  },
  {
   "cell_type": "code",
   "execution_count": 36,
   "id": "b2bb7237-85c4-4286-b33d-fb0f402a8434",
   "metadata": {},
   "outputs": [
    {
     "name": "stdout",
     "output_type": "stream",
     "text": [
      "Model: \"sequential\"\n",
      "_________________________________________________________________\n",
      " Layer (type)                Output Shape              Param #   \n",
      "=================================================================\n",
      " dense (Dense)               (None, 16)                64        \n",
      "                                                                 \n",
      " dense_1 (Dense)             (None, 8)                 136       \n",
      "                                                                 \n",
      " dense_2 (Dense)             (None, 1)                 9         \n",
      "                                                                 \n",
      "=================================================================\n",
      "Total params: 209\n",
      "Trainable params: 209\n",
      "Non-trainable params: 0\n",
      "_________________________________________________________________\n",
      "None\n"
     ]
    },
    {
     "data": {
      "text/plain": [
       "<keras.callbacks.History at 0x7f26c80ae580>"
      ]
     },
     "execution_count": 36,
     "metadata": {},
     "output_type": "execute_result"
    }
   ],
   "source": [
    "#Fitting data\n",
    "no_epochs = 100\n",
    "batch_size = 50\n",
    "validation_split = 0.2\n",
    "history = my_model.fit(x_train, y_train, epochs = no_epochs, \n",
    "                       batch_size = batch_size, \n",
    "                       validation_split = validation_split, verbose = False)\n",
    "history"
   ]
  },
  {
   "cell_type": "markdown",
   "id": "0f1be47d-6e26-40ef-87bc-206055c35f04",
   "metadata": {},
   "source": [
    "To see if we don't have over/under fitting we can analyse the validation and training losses"
   ]
  },
  {
   "cell_type": "code",
   "execution_count": 37,
   "id": "ac5de03e-58bc-47e8-bb93-de89ebe7e339",
   "metadata": {},
   "outputs": [],
   "source": [
    "train_loss = history.history['loss']\n",
    "train_val_loss = history.history['val_loss']\n",
    "epochs = range(1, len(train_loss) + 1)"
   ]
  },
  {
   "cell_type": "code",
   "execution_count": 38,
   "id": "2a1dd583-6a0d-46f6-9400-ec9694b20c35",
   "metadata": {},
   "outputs": [
    {
     "data": {
      "text/plain": [
       "Text(0.5, 0, 'Epochs')"
      ]
     },
     "execution_count": 38,
     "metadata": {},
     "output_type": "execute_result"
    },
    {
     "data": {
      "image/png": "[encoded data removed]",
      "text/plain": [
       "<Figure size 600x400 with 1 Axes>"
      ]
     },
     "metadata": {
      "needs_background": "light"
     },
     "output_type": "display_data"
    }
   ],
   "source": [
    "plt.figure(dpi=100)\n",
    "plt.plot(epochs, train_loss, color = 'black',label = 'Loss')\n",
    "plt.scatter(epochs, train_val_loss, s = 5, color = 'red', label = 'Val Loss')\n",
    "plt.legend()  \n",
    "plt.title('MSE loss: All')\n",
    "plt.ylabel('Loss')\n",
    "plt.xlabel('Epochs')"
   ]
  },
  {
   "cell_type": "markdown",
   "id": "44d1094c-2c98-4889-b1bd-a769b6d283d7",
   "metadata": {},
   "source": [
    "### 1.3.4. Saving the mode weights\n",
    "\n",
    "We can save the model weights, to use later, to do the predictions, according to:"
   ]
  },
  {
   "cell_type": "code",
   "execution_count": 39,
   "id": "e6326976-8495-4944-bac8-ba931883a274",
   "metadata": {},
   "outputs": [],
   "source": [
    "my_model.model.save('model.h5')"
   ]
  },
  {
   "cell_type": "markdown",
   "id": "160d0840-b8eb-4510-9e03-54543fe5f1bf",
   "metadata": {},
   "source": [
    "### 1.3.3. Doing the predictions\n",
    "\n",
    "The predictions are done using the `predict` function, after loading the saved model:"
   ]
  },
  {
   "cell_type": "code",
   "execution_count": 40,
   "id": "332d35bd-55e9-428d-811e-f8df0774f2e4",
   "metadata": {},
   "outputs": [],
   "source": [
    "#Loading the model\n",
    "loaded_model = load_model('model.h5')"
   ]
  },
  {
   "cell_type": "code",
   "execution_count": 41,
   "id": "64049cc9-c750-4121-a609-925ab969fdb9",
   "metadata": {},
   "outputs": [
    {
     "name": "stdout",
     "output_type": "stream",
     "text": [
      "10/10 [==============================] - 0s 1ms/step\n"
     ]
    }
   ],
   "source": [
    "#Predictions\n",
    "prediction = loaded_model.predict(x_test)"
   ]
  },
  {
   "cell_type": "markdown",
   "id": "b36ca7d1-0fdd-4dcc-8ec6-315753fb3d6f",
   "metadata": {},
   "source": [
    "### 1.3.4. Performance\n",
    "\n",
    "#### a) We check the final performance taking a look of some metric computed over the predictions"
   ]
  },
  {
   "cell_type": "code",
   "execution_count": 42,
   "id": "535ca87d-c566-4918-81b9-7d44b7234a12",
   "metadata": {},
   "outputs": [
    {
     "data": {
      "text/plain": [
       "0.10382461455087828"
      ]
     },
     "execution_count": 42,
     "metadata": {},
     "output_type": "execute_result"
    }
   ],
   "source": [
    "#Scores\n",
    "MSE = mean_squared_error(prediction, y_test)\n",
    "MSE"
   ]
  },
  {
   "cell_type": "markdown",
   "id": "ff329d14-0911-4da7-aeaf-5fe4c47ce5d7",
   "metadata": {},
   "source": [
    "#### b) Visualizing the results"
   ]
  },
  {
   "cell_type": "markdown",
   "id": "984953f5-9572-42fa-ac85-e0d802d72599",
   "metadata": {},
   "source": [
    "Scatter plot"
   ]
  },
  {
   "cell_type": "code",
   "execution_count": 43,
   "id": "9d8902b4-c135-4c3a-b0a4-61d31a92de31",
   "metadata": {},
   "outputs": [
    {
     "data": {
      "text/plain": [
       "<matplotlib.legend.Legend at 0x7f26b8350d30>"
      ]
     },
     "execution_count": 43,
     "metadata": {},
     "output_type": "execute_result"
    },
    {
     "data": {
      "image/png": "[encoded data removed]",
      "text/plain": [
       "<Figure size 600x400 with 1 Axes>"
      ]
     },
     "metadata": {
      "needs_background": "light"
     },
     "output_type": "display_data"
    }
   ],
   "source": [
    "plt.figure(dpi = 100)\n",
    "plt.title('Galaxy predictions')\n",
    "plt.scatter(y_test, prediction, s = 5, color = 'C0', label = '$M_{\\star}$')\n",
    "plt.xlabel(r'Truth')\n",
    "plt.plot(y_test, y_test, color = 'black')\n",
    "plt.ylabel(r'Predition')\n",
    "plt.legend()"
   ]
  },
  {
   "cell_type": "markdown",
   "id": "5dfce0a3-c898-4a0a-b568-1a505e7b5964",
   "metadata": {},
   "source": [
    "Histogram"
   ]
  },
  {
   "cell_type": "code",
   "execution_count": 44,
   "id": "4f898946-de30-449b-84b4-8aae4cbc9190",
   "metadata": {},
   "outputs": [
    {
     "data": {
      "image/png": "[encoded data removed]",
      "text/plain": [
       "<Figure size 600x400 with 1 Axes>"
      ]
     },
     "metadata": {
      "needs_background": "light"
     },
     "output_type": "display_data"
    }
   ],
   "source": [
    "plt.figure(dpi = 100)\n",
    "plt.title('Galaxy predictions')\n",
    "\n",
    "bins = np.linspace(np.min(y_test), np.max(y_test), 10)\n",
    "plt.hist(y_test, bins = bins, color = 'gray', label = 'Truth')\n",
    "plt.hist(prediction, bins = bins, color = 'C0', alpha = 0.5, label = 'Predition')\n",
    "plt.xlabel(r'$M_{\\star}$')\n",
    "plt.ylabel(r'# galaxies')\n",
    "plt.legend()\n",
    "plt.yscale('log')"
   ]
  },
  {
   "cell_type": "markdown",
   "id": "f6ad84b9-de8f-4995-b7b6-488bd11ad6ac",
   "metadata": {},
   "source": [
    "Let's try to do better, but first:"
   ]
  },
  {
   "cell_type": "markdown",
   "id": "16cddb62-22c1-42bc-934f-60d0f8d2d681",
   "metadata": {},
   "source": [
    "## 1.4. YOUR TURN\n",
    "\n",
    "Try to create a NN to:\n",
    "\n",
    "Using:\n",
    "* halos: mass, radius, velocity modulus\n",
    "\n",
    "To predict\n",
    "* 1) galaxies: SFR\n",
    "* 2) galaxies: color\n",
    "* 3) galaxies: stellar mass, SFR, color\n",
    "\n",
    "Try to think in which lines of code you need to change!\n",
    "Are just the lines corresponding to the predictions?\n",
    "Are there any issues related to dimensions then?"
   ]
  },
  {
   "cell_type": "markdown",
   "id": "7d79ae34-eafd-431b-8f6d-89726d28a205",
   "metadata": {},
   "source": [
    "## 2. Optimizing the code\n",
    "\n",
    "We can obtain better results doing a **hyperparameter optimization** and we can do this using `optuna`, a framework for automating the optimization process of these hyperparameters.\n",
    "\n",
    "The main idea is to use a metric, from your validation set, to look for the best set of hyperparameters:\n",
    "\n",
    "![](https://editor.analyticsvidhya.com/uploads/67819opt.png)\n",
    "\n",
    "Let's do it!"
   ]
  },
  {
   "cell_type": "markdown",
   "id": "009dcd0f-d921-434f-8695-2eb6edd397f1",
   "metadata": {},
   "source": [
    "### 2.0. Necessary libraries"
   ]
  },
  {
   "cell_type": "code",
   "execution_count": 45,
   "id": "072c193f-9697-4ae3-af38-893c4972d2f4",
   "metadata": {},
   "outputs": [],
   "source": [
    "import optuna"
   ]
  },
  {
   "cell_type": "markdown",
   "id": "8ed05be2-968c-4e2d-9e14-31f12a1785e2",
   "metadata": {},
   "source": [
    "### 2.1. The objective function\n",
    "\n",
    "We start defining an **objective function**, the function which will be optimized.\n",
    "\n",
    "**First**, we need to define some hyperparameters to be tunned. For simplycity le't choose:\n",
    "\n",
    "* Number of middle layer\n",
    "* Number of hidden neurons per layer\n",
    "\n",
    "Then, we need to define their range.\n",
    "\n",
    "**Second**, we write our model.\n",
    "\n",
    "**Third**, we have to fit the model.\n",
    "\n",
    "**Fourth**, we need to write the quantity to be optmized and how. We are going to chose the model which minimized the MSE for the validation set!"
   ]
  },
  {
   "cell_type": "code",
   "execution_count": 46,
   "id": "e1c4c55f-85c1-462e-80af-a2b761cb44d3",
   "metadata": {},
   "outputs": [],
   "source": [
    "def objective(trial):\n",
    "    \n",
    "    #Defining the hyperparameters and their ranges\n",
    "    n_layers = trial.suggest_int('n_layers', 0, 5)\n",
    "    hiddens = trial.suggest_int('hiddens', 0, 64)\n",
    "    \n",
    "    #The model\n",
    "    def base_model():\n",
    "        model = models.Sequential() \n",
    "        model.add(layers.Dense(hiddens, activation = 'relu', input_shape = (x_train.shape[1],)))\n",
    "        for i in range(n_layers):\n",
    "            model.add(layers.Dense(hiddens, activation = 'relu'))\n",
    "        model.add(layers.Dense(1))\n",
    "        \n",
    "        model.compile(optimizer = 'Adam', loss = 'mse')\n",
    "    \n",
    "        return model\n",
    "    \n",
    "    my_model = KerasRegressor(build_fn = base_model)\n",
    "    \n",
    "    #Fitting the model\n",
    "    no_epochs = 20\n",
    "    batch_size = 20\n",
    "    validation_split = 0.2\n",
    "    history = my_model.fit(x_train, y_train, epochs = no_epochs, batch_size = batch_size, \n",
    "                 validation_split = validation_split, verbose = False)\n",
    "\n",
    "    #Validation criteria to optmize\n",
    "    train_loss = history.history['loss']\n",
    "    val_loss = history.history['val_loss']\n",
    "    \n",
    "    validation = 10000.\n",
    "    \n",
    "    for i in range(no_epochs):\n",
    "        if val_loss[i] < train_loss[i]:\n",
    "            validation = val_loss[i]\n",
    "            \n",
    "            my_model.model.save(f'trial{trial.number}-optuna_model.h5')\n",
    "        \n",
    "    return validation"
   ]
  },
  {
   "cell_type": "markdown",
   "id": "9546b137-b019-4656-9fdc-e217ca30591f",
   "metadata": {},
   "source": [
    "### 2.2. Evaluation\n",
    "\n",
    "The objective function value is evaluated using a study object which uses:\n",
    "\n",
    "* **Direction:** which minimized in regression problems\n",
    "* **Trials:** which is the number of runs to optuna find the best model"
   ]
  },
  {
   "cell_type": "code",
   "execution_count": 47,
   "id": "0d7d04a2-3178-4810-bbd0-0c3c03919bd4",
   "metadata": {},
   "outputs": [
    {
     "name": "stderr",
     "output_type": "stream",
     "text": [
      "\u001b[32m[I 2023-01-19 17:14:52,604]\u001b[0m A new study created in memory with name: no-name-7a84b333-3168-485f-bf35-97d8a48d442e\u001b[0m\n",
      "\u001b[32m[I 2023-01-19 17:14:55,714]\u001b[0m Trial 0 finished with value: 10000.0 and parameters: {'n_layers': 4, 'hiddens': 1}. Best is trial 0 with value: 10000.0.\u001b[0m\n",
      "\u001b[32m[I 2023-01-19 17:14:58,758]\u001b[0m Trial 1 finished with value: 0.27276110649108887 and parameters: {'n_layers': 2, 'hiddens': 11}. Best is trial 1 with value: 0.27276110649108887.\u001b[0m\n",
      "\u001b[32m[I 2023-01-19 17:15:01,435]\u001b[0m Trial 2 finished with value: 0.2852313816547394 and parameters: {'n_layers': 0, 'hiddens': 55}. Best is trial 1 with value: 0.27276110649108887.\u001b[0m\n"
     ]
    }
   ],
   "source": [
    "study = optuna.create_study(direction = 'minimize')\n",
    "study.optimize(objective, n_trials = 3)"
   ]
  },
  {
   "cell_type": "code",
   "execution_count": 48,
   "id": "0fb2439c-80e0-48de-966f-2cbebbc7400f",
   "metadata": {},
   "outputs": [
    {
     "name": "stdout",
     "output_type": "stream",
     "text": [
      "Best trial:  1\n",
      "Best hyperparameters: {'n_layers': 2, 'hiddens': 11}\n"
     ]
    }
   ],
   "source": [
    "best_trial = study.best_trial\n",
    "print(\"Best trial: \", best_trial.number)\n",
    "print(\"Best hyperparameters: {}\".format(best_trial.params))"
   ]
  },
  {
   "cell_type": "markdown",
   "id": "29783192-ce86-4542-8e15-773b71d6b925",
   "metadata": {},
   "source": [
    "### 2.3. Predictions\n",
    "\n",
    "Doing the predictions using the best saved model:"
   ]
  },
  {
   "cell_type": "code",
   "execution_count": 49,
   "id": "70b9a18d-a2fc-4a5a-8617-084ae6abeed9",
   "metadata": {},
   "outputs": [],
   "source": [
    "#Loading the model\n",
    "loaded_model = load_model(f'trial{best_trial.number}-optuna_model.h5')"
   ]
  },
  {
   "cell_type": "code",
   "execution_count": 50,
   "id": "338eed76-1957-4239-9c7d-afd6011707ff",
   "metadata": {},
   "outputs": [
    {
     "name": "stdout",
     "output_type": "stream",
     "text": [
      "10/10 [==============================] - 0s 1ms/step\n"
     ]
    }
   ],
   "source": [
    "#Predictions\n",
    "prediction = loaded_model.predict(x_test)"
   ]
  },
  {
   "cell_type": "markdown",
   "id": "26c0f7a6-fdc4-4e3a-979f-6196d644c097",
   "metadata": {},
   "source": [
    "### 2.4. Performance\n",
    "\n",
    "#### a) We check the final performance taking a look of some metric computed over the predictions"
   ]
  },
  {
   "cell_type": "code",
   "execution_count": 51,
   "id": "6764db3d-f32f-4cf2-8243-a12b59cc079f",
   "metadata": {},
   "outputs": [
    {
     "data": {
      "text/plain": [
       "0.1314386380427003"
      ]
     },
     "execution_count": 51,
     "metadata": {},
     "output_type": "execute_result"
    }
   ],
   "source": [
    "#Scores\n",
    "MSE = mean_squared_error(prediction, y_test)\n",
    "MSE"
   ]
  },
  {
   "cell_type": "markdown",
   "id": "238ff63a-5b37-48f7-bfae-30571a20f013",
   "metadata": {},
   "source": [
    "#### b) Visualizing the results"
   ]
  },
  {
   "cell_type": "code",
   "execution_count": 52,
   "id": "e33e7af9-2172-4da6-b135-dd8d476b9573",
   "metadata": {},
   "outputs": [
    {
     "data": {
      "text/plain": [
       "<matplotlib.legend.Legend at 0x7f24825dbd60>"
      ]
     },
     "execution_count": 52,
     "metadata": {},
     "output_type": "execute_result"
    },
    {
     "data": {
      "image/png": "[encoded data removed]",
      "text/plain": [
       "<Figure size 600x400 with 1 Axes>"
      ]
     },
     "metadata": {
      "needs_background": "light"
     },
     "output_type": "display_data"
    }
   ],
   "source": [
    "plt.figure(dpi = 100)\n",
    "plt.title('Galaxy predictions')\n",
    "plt.scatter(y_test, prediction, s = 5, color = 'C0', label = '$M_{\\star}$')\n",
    "plt.xlabel(r'Truth')\n",
    "plt.plot(y_test, y_test, color = 'black')\n",
    "plt.ylabel(r'Predition')\n",
    "plt.legend()"
   ]
  },
  {
   "cell_type": "markdown",
   "id": "242930b0-9966-4249-ae44-01c7332e0827",
   "metadata": {},
   "source": [
    "Histogram"
   ]
  },
  {
   "cell_type": "code",
   "execution_count": 53,
   "id": "050b4363-7610-4ae7-9dc6-58509c9b6a08",
   "metadata": {},
   "outputs": [
    {
     "data": {
      "image/png": "[encoded data removed]",
      "text/plain": [
       "<Figure size 600x400 with 1 Axes>"
      ]
     },
     "metadata": {
      "needs_background": "light"
     },
     "output_type": "display_data"
    }
   ],
   "source": [
    "plt.figure(dpi = 100)\n",
    "plt.title('Galaxy predictions')\n",
    "\n",
    "bins = np.linspace(np.min(y_test), np.max(y_test), 10)\n",
    "plt.hist(y_test, bins = bins, color = 'gray', label = 'Truth')\n",
    "plt.hist(prediction, bins = bins, color = 'C0', alpha = 0.5, label = 'Predition')\n",
    "plt.xlabel(r'$M_{\\star}$')\n",
    "plt.ylabel(r'# galaxies')\n",
    "plt.legend()\n",
    "plt.yscale('log')"
   ]
  },
  {
   "cell_type": "markdown",
   "id": "0d1069a8-e07f-48fa-b1fc-ed4cde639d83",
   "metadata": {},
   "source": [
    "### 2.5. YOUR TURN\n",
    "\n",
    "Try to create a optuna optimization to:\n",
    "\n",
    "Using:\n",
    "* halos: mass, radius, velocity modulus\n",
    "\n",
    "To predict\n",
    "* 1) galaxies: SFR\n",
    "* 2) galaxies: color\n",
    "* 3) galaxies: stellar mass, SFR, color"
   ]
  },
  {
   "cell_type": "markdown",
   "id": "b47039c2-cdb4-4d9d-9d74-af561619ec3d",
   "metadata": {},
   "source": [
    "## 3. The imbalanced problem\n",
    "\n",
    "In ML, there is a common problem with so-called **imbalanced data sets**. \n",
    "In these samples, relatively underrepresented regions of the data space may carry the same, or even higher importance, \n",
    "than the bulk of the distribution. \n",
    "These data are harder to predict by the machine which focuses on learning about the regions around the peak of the\n",
    "distribution in the parameter space.\n",
    "\n",
    "We can apply:\n",
    "* **Over-sampling:** increasing the amoun of data\n",
    "* **Under-sampling:** reducing the amount of data \n",
    "in conveniently chosen regions of the distribution.\n",
    "\n",
    "Here we are going to use **Synthetic Minority Over-Sampling Technique for Regression with Gaussian Nois ([SMOGN](https://pypi.org/project/smogn/))**.\n",
    "It works by combining random **under-sampling** with **two over-sampling techniques**: SmoteR and Gaussian noise.\n",
    "The algorithm first bins the data for a given target variable and subsequently splits the resulting distribution in **rare** and\n",
    "**normal** bins. Rare bins are augmented, whereas normal bins are under-sampled.\n",
    "\n",
    "![](data:image/png;base64,iVBORw0KGgoAAAANSUhEUgAAAZYAAAD8CAYAAABU4IIeAAAABHNCSVQICAgIfAhkiAAAAAlwSFlz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%0ApYlFKaVUWP3/zMIb0WahRU4AAAAASUVORK5CYII=)"
   ]
  },
  {
   "cell_type": "markdown",
   "id": "71cc0d60-c66a-44b3-8cf6-6e222567063a",
   "metadata": {},
   "source": [
    "### 3.0. Necessary libraries"
   ]
  },
  {
   "cell_type": "code",
   "execution_count": 54,
   "id": "e05bd597-564d-46e2-ab2c-8eb7c71866dc",
   "metadata": {},
   "outputs": [],
   "source": [
    "import smogn"
   ]
  },
  {
   "cell_type": "markdown",
   "id": "b4336e64-ab09-4f1a-9bbe-aff95c074f2d",
   "metadata": {},
   "source": [
    "### 3.1. Letting the code to do everything\n",
    "\n",
    "We can let the code reduce/augment by itself just passing the whole dataset:"
   ]
  },
  {
   "cell_type": "code",
   "execution_count": 55,
   "id": "f8c7a035-901d-4cd8-9a27-a9fc237581f5",
   "metadata": {},
   "outputs": [
    {
     "name": "stderr",
     "output_type": "stream",
     "text": [
      "dist_matrix: 100%|##########| 209/209 [00:11<00:00, 18.59it/s]\n",
      "synth_matrix: 100%|##########| 209/209 [00:00<00:00, 629.14it/s]\n",
      "r_index: 100%|##########| 187/187 [00:00<00:00, 631.42it/s]\n"
     ]
    }
   ],
   "source": [
    "df_sm = smogn.smoter(data = df_train, y = \"M_g\")"
   ]
  },
  {
   "cell_type": "markdown",
   "id": "6162c12c-1e14-46ad-8ef9-613a5e41ab17",
   "metadata": {},
   "source": [
    "Comparing:"
   ]
  },
  {
   "cell_type": "code",
   "execution_count": 56,
   "id": "a079546b-46cc-4222-936c-d56422f206f1",
   "metadata": {},
   "outputs": [
    {
     "data": {
      "image/png": "[encoded data removed]",
      "text/plain": [
       "<Figure size 600x400 with 1 Axes>"
      ]
     },
     "metadata": {
      "needs_background": "light"
     },
     "output_type": "display_data"
    }
   ],
   "source": [
    "bins = np.linspace(np.min(df['M_g']), np.max(df['M_g']), 10)\n",
    "\n",
    "plt.figure(dpi = 100)\n",
    "plt.hist(df['M_g'], bins = bins, color = 'gray', label = 'Truth')\n",
    "plt.hist(df_sm['M_g'], bins = bins, color = 'C0', alpha = 0.5, label = 'Predition')\n",
    "plt.xlabel(r'$M_{\\star}$')\n",
    "plt.ylabel(r'# galaxies')\n",
    "plt.legend()\n",
    "plt.yscale('log')"
   ]
  },
  {
   "cell_type": "markdown",
   "id": "b08f57fb-c346-4bae-8a81-5bb9d3f934d1",
   "metadata": {},
   "source": [
    "### 3.2. Choosing a specific region to reduce/augment\n",
    "\n",
    "We can let specify the relative region of interest of the prediction $y$ using: $[y_{\\mathrm{value}}, 0/1]$, where:\n",
    "* `0`: minority\n",
    "* `1`: majority\n",
    "Then, the code will increase the minority values and decrease the samples in the majority region of the distribution."
   ]
  },
  {
   "cell_type": "code",
   "execution_count": 57,
   "id": "c8d4769b-3d9d-43e6-b107-8107eda11955",
   "metadata": {},
   "outputs": [],
   "source": [
    "rg_mtrx = [\n",
    "    [7.0, 1],  ## over-sample (\"minority\")\n",
    "    [9.0, 0]  ## under-sample (\"majority\")\n",
    "]"
   ]
  },
  {
   "cell_type": "code",
   "execution_count": 59,
   "id": "f46abdb4-a2ed-4566-b08f-f90b0a78e077",
   "metadata": {},
   "outputs": [
    {
     "name": "stderr",
     "output_type": "stream",
     "text": [
      "dist_matrix: 100%|##########| 209/209 [00:11<00:00, 18.13it/s]\n",
      "synth_matrix: 100%|##########| 209/209 [00:00<00:00, 621.99it/s]\n",
      "r_index: 100%|##########| 187/187 [00:00<00:00, 622.77it/s]\n"
     ]
    }
   ],
   "source": [
    "df_sm = smogn.smoter(data = df_train, y = \"M_g\", rel_ctrl_pts_rg = rg_mtrx)"
   ]
  },
  {
   "cell_type": "code",
   "execution_count": 60,
   "id": "23e3dd5e-749f-4b37-bf9f-fbb769a09c67",
   "metadata": {},
   "outputs": [
    {
     "data": {
      "image/png": "[encoded data removed]",
      "text/plain": [
       "<Figure size 600x400 with 1 Axes>"
      ]
     },
     "metadata": {
      "needs_background": "light"
     },
     "output_type": "display_data"
    }
   ],
   "source": [
    "bins = np.linspace(np.min(df['M_g']), np.max(df['M_g']), 10)\n",
    "\n",
    "plt.figure(dpi = 100)\n",
    "plt.hist(df['M_g'], bins = bins, color = 'gray', label = 'Truth')\n",
    "plt.hist(df_sm['M_g'], bins = bins, color = 'C0', alpha = 0.5, label = 'Predition')\n",
    "plt.xlabel(r'$M_{\\star}$')\n",
    "plt.ylabel(r'# galaxies')\n",
    "plt.legend()\n",
    "plt.yscale('log')"
   ]
  },
  {
   "cell_type": "markdown",
   "id": "a591d278-5a2d-4da7-a68e-fcee7e39f84f",
   "metadata": {},
   "source": [
    "### 3.3. YOUR TURN\n",
    "\n",
    "Do the same SMOGN exercise in the case of galaxies:\n",
    "* color\n",
    "* SFR\n",
    "\n",
    "Try to play around different regions of interest and take a look at the resulted distributions.\n",
    "Remember, there is no final answer here, the best distribution is the one which gives to you the\n",
    "best predictions of the interested property."
   ]
  },
  {
   "cell_type": "code",
   "execution_count": null,
   "id": "1407d8da-e182-4409-a284-a11ce677b15e",
   "metadata": {},
   "outputs": [],
   "source": []
  }
 ],
 "metadata": {
  "kernelspec": {
   "display_name": "Python 3",
   "language": "python",
   "name": "python3"
  },
  "language_info": {
   "codemirror_mode": {
    "name": "ipython",
    "version": 3
   },
   "file_extension": ".py",
   "mimetype": "text/x-python",
   "name": "python",
   "nbconvert_exporter": "python",
   "pygments_lexer": "ipython3",
   "version": "3.8.10"
  }
 },
 "nbformat": 4,
 "nbformat_minor": 5
}
