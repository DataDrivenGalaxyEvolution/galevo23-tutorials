{
 "cells": [
  {
   "cell_type": "markdown",
   "id": "9c28cc28-e019-417c-9d4b-a85d844d4c46",
   "metadata": {},
   "source": [
    "# Halo-galaxy connection\n",
    "\n",
    "### Authors: [Natalí S. M. de Santi](https://natalidesanti.github.io/) and [Christopher Lovell](https://www.christopherlovell.co.uk/)\n",
    "\n",
    "In this tutorial we are going to see some ideas about how to work with **halo-galaxy connection** in the context of **machine learning** techniques.\n",
    "\n",
    "## Summary\n",
    "\n",
    "* 0. Handling data\n",
    "* 1. Neural Networks\n",
    "\n",
    "## Running options\n",
    "\n",
    "* **On the fly:** you can easily work with this complete notebook in `google colab`: \n",
    "\n",
    "[![Open this notebook in Colab](https://colab.research.google.com/assets/colab-badge.svg)](https://colab.research.google.com/github/natalidesanti/galevo23-tutorials/blob/tutorial_on_halo-galaxy_connection/week-2/tutorial_on_halo-galaxy_connection/halo-galaxy_connection.ipynb)\n",
    "\n",
    "* **Own computer:** otherwise you can download the notebook in your own computer and work with it in your own space. Just take care with the library dependencies. \n",
    "\n",
    "This current notebook contains the complete tutorial.\n",
    "\n",
    "Also, you can find notebooks, per item (in the item section above), separetelly, in the directory: `notebooks/` as long with all data (`data/`). These separate notebooks are made to run in local machines but you can modify them to tun it on the fly too!"
   ]
  },
  {
   "cell_type": "markdown",
   "id": "9ba78677-4a53-4ed2-98d4-ca242375db59",
   "metadata": {},
   "source": [
    "## 0. Handling data"
   ]
  },
  {
   "cell_type": "markdown",
   "id": "f539858b-2129-44cf-9672-f8f103af1d64",
   "metadata": {},
   "source": [
    "We are going to see how to read IllustrisTNG data and the\n",
    "main aspects that we are going to use from this, as a dataset, for the machine\n",
    "learning session.\n",
    "\n",
    "We are going to work with **IllustrisTNG** halo/galaxy catalog, from [**CAMELS**](https://camels.readthedocs.io/en/latest/). \n",
    "A complete description of the data, as well other user instructions, is given in the [webpage](https://camels.readthedocs.io/en/latest/subfind.html)."
   ]
  },
  {
   "cell_type": "markdown",
   "id": "c8f61801-d824-40f8-9912-a4f4fbc87ffc",
   "metadata": {},
   "source": [
    "### 0.0. Necessary libraries"
   ]
  },
  {
   "cell_type": "code",
   "execution_count": 1,
   "id": "3c767892-6b66-439e-82a0-3795f9003bc5",
   "metadata": {},
   "outputs": [],
   "source": [
    "import numpy as np\n",
    "import pandas as pd\n",
    "import h5py\n",
    "import matplotlib.pyplot as plt\n",
    "import seaborn as sns"
   ]
  },
  {
   "cell_type": "markdown",
   "id": "a4da4b7c-9545-4605-ac19-5b495af14d07",
   "metadata": {},
   "source": [
    "### 0.1. Getting and reading the data\n",
    "\n",
    "We will download the catalog from a specif link using `wget`"
   ]
  },
  {
   "cell_type": "code",
   "execution_count": 2,
   "id": "12b9e768-0d1d-4c20-811c-c55c9dc201b1",
   "metadata": {},
   "outputs": [],
   "source": [
    "!wget -q -nc -O fof_subhalo_tab_033.hdf5 https://www.dropbox.com/s/fgkxv5w8qr9v54m/fof_subhalo_tab_033.hdf5?dl=0"
   ]
  },
  {
   "cell_type": "markdown",
   "id": "31343275-1c07-4af4-9290-b88f6c92b0d9",
   "metadata": {},
   "source": [
    "The **IllustrisTNG** data is a `.hdf5` file. We can read their content using the library `h5py`, using the `keys` method:"
   ]
  },
  {
   "cell_type": "code",
   "execution_count": 3,
   "id": "2bcc4f5c-7023-4bcb-8db9-2e7fe989eb47",
   "metadata": {},
   "outputs": [
    {
     "data": {
      "text/plain": [
       "<KeysViewHDF5 ['Config', 'Group', 'Header', 'IDs', 'Parameters', 'Subhalo']>"
      ]
     },
     "execution_count": 3,
     "metadata": {},
     "output_type": "execute_result"
    }
   ],
   "source": [
    "f = h5py.File('fof_subhalo_tab_033.hdf5')\n",
    "f.keys()"
   ]
  },
  {
   "cell_type": "markdown",
   "id": "7718ad80-764c-4a55-8fe6-fdb5d78561cb",
   "metadata": {},
   "source": [
    "The catalog specs are given by:"
   ]
  },
  {
   "cell_type": "code",
   "execution_count": 4,
   "id": "be737c23-ccb3-4223-9ebc-ae6c03c401fc",
   "metadata": {},
   "outputs": [],
   "source": [
    "BoxSize      = f['Header'].attrs[u'BoxSize']/1e3    #size of the snapshot in comoving Mpc/h\n",
    "redshift     = f['Header'].attrs[u'Redshift']       #reshift of the snapshot\n",
    "scale_factor = f['Header'].attrs[u'Time']           #scale factor\n",
    "h            = f['Header'].attrs[u'HubbleParam']    #value of the hubble parameter in 100 km/s/(Mpc/h)\n",
    "Omega_m      = f['Header'].attrs[u'Omega0']         #Omega_matter\n",
    "Omega_L      = f['Header'].attrs[u'OmegaLambda']    #Omega_baryon"
   ]
  },
  {
   "cell_type": "code",
   "execution_count": 5,
   "id": "a83d69c3-0b0d-4bca-84e7-ca684755461c",
   "metadata": {},
   "outputs": [
    {
     "name": "stdout",
     "output_type": "stream",
     "text": [
      "Box size:                 25.00 Mpc/h\n",
      "snapshot redshift:        0.00\n",
      "Omega_m:                  0.300\n",
      "Omega_L:                  0.700\n"
     ]
    }
   ],
   "source": [
    "print('Box size:                 %.2f Mpc/h'%BoxSize)\n",
    "print('snapshot redshift:        %.2f'%redshift)\n",
    "print('Omega_m:                  %.3f'%Omega_m)\n",
    "print('Omega_L:                  %.3f'%Omega_L)"
   ]
  },
  {
   "cell_type": "markdown",
   "id": "150e3ebc-2b9e-4161-a759-3fecc0645911",
   "metadata": {},
   "source": [
    "Apart from the specifications, the catalogs contain two main groups:\n",
    "\n",
    "* **Group:** contains the properties of the halos.\n",
    "\n",
    "* **Subhalos:** contains the properties of the subhalos. Galaxies, are considered as subhalos with stellar mass larger than 0.\n",
    "\n",
    "In this tutorial we are going to work with both (halos and galaxies). So, le't get some of their properties."
   ]
  },
  {
   "cell_type": "markdown",
   "id": "a0b273eb-02cf-4398-a493-48e1f7e84e8c",
   "metadata": {},
   "source": [
    "### 0.2. Getting halo and galaxy properties"
   ]
  },
  {
   "cell_type": "code",
   "execution_count": 6,
   "id": "7d5926d9-9966-4c36-8498-87e6f56d9582",
   "metadata": {},
   "outputs": [],
   "source": [
    "c = 3.*10**8\n",
    "\n",
    "# Positions, velocities and masses of the halos\n",
    "M_h =   f['Group/Group_M_Crit200'][:]*1e10      #Msun/h\n",
    "R_h =   f['Group/Group_R_Crit200'][:]/c         #kpc/h\n",
    "V_h  =  f['Group/GroupVel'][:]                  #km/s\n",
    "V_h =   np.linalg.norm(V_h, axis = 1)\n",
    "ID_r =  f['Group/GroupFirstSub'][:] #Contains halos without gals as this number = -1\n",
    "ID_h =  np.arange(0, M_h.shape[0], 1, dtype = float) #It is the ID of the halos, to match the gal cat\n",
    "\n",
    "# Positions, stellar masses,  of the galaxies\n",
    "M_g    = f['Subhalo/SubhaloMassType'][:,4]*1e10 #Msun/h\n",
    "color_g = f['Subhalo/SubhaloStellarPhotometrics'][:]\n",
    "color_g = color_g[:, 4] - color_g[:, 6]\n",
    "SFR = f['Subhalo/SubhaloSFR'][:]*1e10 #(Msun/year)/ (10^10 Msun/h)\n",
    "ID_g = np.array(f['Subhalo/SubhaloGrNr']) #Gals IDs\n",
    "\n",
    "# close file\n",
    "f.close()"
   ]
  },
  {
   "cell_type": "markdown",
   "id": "9d56ab03-3e5a-4e81-9205-10cd042d6dec",
   "metadata": {},
   "source": [
    "You can see that the number of halos is not the same as the number of galaxies, because we have halos without and with more than one galaxy (central and satellites):"
   ]
  },
  {
   "cell_type": "code",
   "execution_count": 7,
   "id": "f958b504-1fff-4be5-963f-48bad44fb865",
   "metadata": {},
   "outputs": [
    {
     "data": {
      "text/plain": [
       "((20131,), (17176,))"
      ]
     },
     "execution_count": 7,
     "metadata": {},
     "output_type": "execute_result"
    }
   ],
   "source": [
    "M_h.shape, M_g.shape"
   ]
  },
  {
   "cell_type": "markdown",
   "id": "a22cfb4f-c577-4390-91ca-c5a5c9f733ca",
   "metadata": {},
   "source": [
    "Taking only the halos which have galaxies"
   ]
  },
  {
   "cell_type": "code",
   "execution_count": 8,
   "id": "97e2c1f8-382b-401f-b732-36ccab147da4",
   "metadata": {},
   "outputs": [
    {
     "data": {
      "text/plain": [
       "(13837,)"
      ]
     },
     "execution_count": 8,
     "metadata": {},
     "output_type": "execute_result"
    }
   ],
   "source": [
    "indexes = np.where( ID_r != -1)[0]\n",
    "M_h = M_h[indexes]\n",
    "R_h = R_h[indexes]\n",
    "V_h = V_h[indexes]\n",
    "ID_h = ID_h[indexes]\n",
    "\n",
    "ID_h.shape"
   ]
  },
  {
   "cell_type": "markdown",
   "id": "c7d4db32-4acd-41f2-89f1-f2b04d197c3c",
   "metadata": {},
   "source": [
    "Creating the halo and galaxy catalogs"
   ]
  },
  {
   "cell_type": "code",
   "execution_count": 9,
   "id": "747a6765-8ba9-4dc9-a64e-8e117eabf9af",
   "metadata": {},
   "outputs": [
    {
     "data": {
      "text/html": [
       "<div>\n",
       "<style scoped>\n",
       "    .dataframe tbody tr th:only-of-type {\n",
       "        vertical-align: middle;\n",
       "    }\n",
       "\n",
       "    .dataframe tbody tr th {\n",
       "        vertical-align: top;\n",
       "    }\n",
       "\n",
       "    .dataframe thead th {\n",
       "        text-align: right;\n",
       "    }\n",
       "</style>\n",
       "<table border=\"1\" class=\"dataframe\">\n",
       "  <thead>\n",
       "    <tr style=\"text-align: right;\">\n",
       "      <th></th>\n",
       "      <th>M_h</th>\n",
       "      <th>R_h</th>\n",
       "      <th>V_h</th>\n",
       "      <th>ID</th>\n",
       "    </tr>\n",
       "  </thead>\n",
       "  <tbody>\n",
       "    <tr>\n",
       "      <th>0</th>\n",
       "      <td>4.500575e+13</td>\n",
       "      <td>0.000002</td>\n",
       "      <td>27.004244</td>\n",
       "      <td>0.0</td>\n",
       "    </tr>\n",
       "    <tr>\n",
       "      <th>1</th>\n",
       "      <td>1.912689e+13</td>\n",
       "      <td>0.000001</td>\n",
       "      <td>56.368275</td>\n",
       "      <td>1.0</td>\n",
       "    </tr>\n",
       "    <tr>\n",
       "      <th>2</th>\n",
       "      <td>2.011009e+13</td>\n",
       "      <td>0.000001</td>\n",
       "      <td>188.867279</td>\n",
       "      <td>2.0</td>\n",
       "    </tr>\n",
       "  </tbody>\n",
       "</table>\n",
       "</div>"
      ],
      "text/plain": [
       "            M_h       R_h         V_h   ID\n",
       "0  4.500575e+13  0.000002   27.004244  0.0\n",
       "1  1.912689e+13  0.000001   56.368275  1.0\n",
       "2  2.011009e+13  0.000001  188.867279  2.0"
      ]
     },
     "execution_count": 9,
     "metadata": {},
     "output_type": "execute_result"
    }
   ],
   "source": [
    "# Halo catalog\n",
    "data = np.array( [ M_h, R_h, V_h, ID_h ] ).T\n",
    "columns = [ 'M_h', 'R_h', 'V_h', 'ID' ] \n",
    "halos = pd.DataFrame(data = data, columns = columns)\n",
    "halos.head(3)"
   ]
  },
  {
   "cell_type": "code",
   "execution_count": 10,
   "id": "eea00b77-ab65-46a7-b4fe-aac570a497f7",
   "metadata": {},
   "outputs": [
    {
     "data": {
      "text/html": [
       "<div>\n",
       "<style scoped>\n",
       "    .dataframe tbody tr th:only-of-type {\n",
       "        vertical-align: middle;\n",
       "    }\n",
       "\n",
       "    .dataframe tbody tr th {\n",
       "        vertical-align: top;\n",
       "    }\n",
       "\n",
       "    .dataframe thead th {\n",
       "        text-align: right;\n",
       "    }\n",
       "</style>\n",
       "<table border=\"1\" class=\"dataframe\">\n",
       "  <thead>\n",
       "    <tr style=\"text-align: right;\">\n",
       "      <th></th>\n",
       "      <th>M_g</th>\n",
       "      <th>color_g</th>\n",
       "      <th>SFR_g</th>\n",
       "      <th>ID</th>\n",
       "    </tr>\n",
       "  </thead>\n",
       "  <tbody>\n",
       "    <tr>\n",
       "      <th>0</th>\n",
       "      <td>4.267894e+11</td>\n",
       "      <td>1.126476</td>\n",
       "      <td>0.000000e+00</td>\n",
       "      <td>0.0</td>\n",
       "    </tr>\n",
       "    <tr>\n",
       "      <th>1</th>\n",
       "      <td>2.398532e+10</td>\n",
       "      <td>0.826265</td>\n",
       "      <td>1.699688e+10</td>\n",
       "      <td>0.0</td>\n",
       "    </tr>\n",
       "    <tr>\n",
       "      <th>2</th>\n",
       "      <td>1.551164e+10</td>\n",
       "      <td>0.798616</td>\n",
       "      <td>2.204744e+09</td>\n",
       "      <td>0.0</td>\n",
       "    </tr>\n",
       "  </tbody>\n",
       "</table>\n",
       "</div>"
      ],
      "text/plain": [
       "            M_g   color_g         SFR_g   ID\n",
       "0  4.267894e+11  1.126476  0.000000e+00  0.0\n",
       "1  2.398532e+10  0.826265  1.699688e+10  0.0\n",
       "2  1.551164e+10  0.798616  2.204744e+09  0.0"
      ]
     },
     "execution_count": 10,
     "metadata": {},
     "output_type": "execute_result"
    }
   ],
   "source": [
    "#Galaxy catalog\n",
    "data = np.array( [ M_g, color_g, SFR, ID_g ] ).T\n",
    "columns = [ 'M_g', 'color_g', 'SFR_g', 'ID' ] \n",
    "gals = pd.DataFrame(data = data, columns = columns)\n",
    "gals.head(3)"
   ]
  },
  {
   "cell_type": "markdown",
   "id": "cc77b1be-ebac-420f-8887-6495256d4daa",
   "metadata": {},
   "source": [
    "Keeping only central galaxies"
   ]
  },
  {
   "cell_type": "code",
   "execution_count": 11,
   "id": "aceb67ac-536a-4cfb-983f-cdfdca0caf76",
   "metadata": {},
   "outputs": [],
   "source": [
    "gals = gals.drop_duplicates(subset = ['ID'], keep = 'first')"
   ]
  },
  {
   "cell_type": "markdown",
   "id": "997d7714-0968-4b49-bb39-c84c5f0d469f",
   "metadata": {},
   "source": [
    "Matching the halo to the galaxy catalogs"
   ]
  },
  {
   "cell_type": "code",
   "execution_count": 12,
   "id": "ae60fa54-8697-4ae0-8a31-0314f6ad4e3d",
   "metadata": {},
   "outputs": [
    {
     "data": {
      "text/plain": [
       "(13837, 7)"
      ]
     },
     "execution_count": 12,
     "metadata": {},
     "output_type": "execute_result"
    }
   ],
   "source": [
    "df = pd.merge(left = halos, right = gals, left_on = 'ID', right_on = 'ID')\n",
    "df.shape"
   ]
  },
  {
   "cell_type": "markdown",
   "id": "0557f865-8c5f-431b-87ea-c9e91fbe0a25",
   "metadata": {},
   "source": [
    "Cleaning the data"
   ]
  },
  {
   "cell_type": "code",
   "execution_count": 13,
   "id": "d15bd0d0-1b27-4637-a5c0-1a7473f02070",
   "metadata": {},
   "outputs": [],
   "source": [
    "df = df[ df['M_g'] > 0 ] #Considering only galaxies [gals are gals if SM > 0]"
   ]
  },
  {
   "cell_type": "code",
   "execution_count": 14,
   "id": "cefdda1f-e087-41b6-9f49-966494ac53b7",
   "metadata": {},
   "outputs": [],
   "source": [
    "#Converting SFR from the non-forming galaxies to have a SFR equal to a Gaussian distribution\n",
    "df['SFR_g'] = df['SFR_g'].replace(0, 1)\n",
    "df['SFR_g'] = np.log10(df['SFR_g'])\n",
    "df.loc[df['SFR_g'] == 0, \"SFR_g\"] = np.random.normal(7, 0.5, len(df.loc[df[\"SFR_g\"] == 0]))"
   ]
  },
  {
   "cell_type": "code",
   "execution_count": 15,
   "id": "f693212c-efdc-401f-a04c-e2cf5a6d83fe",
   "metadata": {},
   "outputs": [
    {
     "data": {
      "text/plain": [
       "(1514, 6)"
      ]
     },
     "execution_count": 15,
     "metadata": {},
     "output_type": "execute_result"
    }
   ],
   "source": [
    "#Just dropping the ID column because we don't need it anymore\n",
    "df = df.drop(['ID'], axis = 1)\n",
    "df.shape"
   ]
  },
  {
   "cell_type": "markdown",
   "id": "5cb4d6d2-81a5-4b3f-82f6-da03f72e0ec2",
   "metadata": {},
   "source": [
    "Now, let's see some statiscs from these halos/galaxies:"
   ]
  },
  {
   "cell_type": "code",
   "execution_count": 16,
   "id": "6036f47e-3c21-4b15-b13a-739442d12c59",
   "metadata": {},
   "outputs": [
    {
     "data": {
      "text/html": [
       "<div>\n",
       "<style scoped>\n",
       "    .dataframe tbody tr th:only-of-type {\n",
       "        vertical-align: middle;\n",
       "    }\n",
       "\n",
       "    .dataframe tbody tr th {\n",
       "        vertical-align: top;\n",
       "    }\n",
       "\n",
       "    .dataframe thead th {\n",
       "        text-align: right;\n",
       "    }\n",
       "</style>\n",
       "<table border=\"1\" class=\"dataframe\">\n",
       "  <thead>\n",
       "    <tr style=\"text-align: right;\">\n",
       "      <th></th>\n",
       "      <th>M_h</th>\n",
       "      <th>R_h</th>\n",
       "      <th>V_h</th>\n",
       "      <th>M_g</th>\n",
       "      <th>color_g</th>\n",
       "      <th>SFR_g</th>\n",
       "    </tr>\n",
       "  </thead>\n",
       "  <tbody>\n",
       "    <tr>\n",
       "      <th>count</th>\n",
       "      <td>1.514000e+03</td>\n",
       "      <td>1.514000e+03</td>\n",
       "      <td>1514.000000</td>\n",
       "      <td>1.514000e+03</td>\n",
       "      <td>1514.000000</td>\n",
       "      <td>1514.000000</td>\n",
       "    </tr>\n",
       "    <tr>\n",
       "      <th>mean</th>\n",
       "      <td>2.590867e+11</td>\n",
       "      <td>2.269759e-07</td>\n",
       "      <td>159.914377</td>\n",
       "      <td>3.018712e+09</td>\n",
       "      <td>0.678903</td>\n",
       "      <td>7.622448</td>\n",
       "    </tr>\n",
       "    <tr>\n",
       "      <th>std</th>\n",
       "      <td>1.656051e+12</td>\n",
       "      <td>1.490707e-07</td>\n",
       "      <td>84.731841</td>\n",
       "      <td>1.944717e+10</td>\n",
       "      <td>0.192099</td>\n",
       "      <td>1.052962</td>\n",
       "    </tr>\n",
       "    <tr>\n",
       "      <th>min</th>\n",
       "      <td>1.443876e+09</td>\n",
       "      <td>6.127277e-08</td>\n",
       "      <td>7.104222</td>\n",
       "      <td>1.739187e+06</td>\n",
       "      <td>-0.794176</td>\n",
       "      <td>5.669010</td>\n",
       "    </tr>\n",
       "    <tr>\n",
       "      <th>25%</th>\n",
       "      <td>2.201826e+10</td>\n",
       "      <td>1.519423e-07</td>\n",
       "      <td>100.411592</td>\n",
       "      <td>1.297332e+07</td>\n",
       "      <td>0.638956</td>\n",
       "      <td>6.862470</td>\n",
       "    </tr>\n",
       "    <tr>\n",
       "      <th>50%</th>\n",
       "      <td>4.039674e+10</td>\n",
       "      <td>1.860214e-07</td>\n",
       "      <td>144.193092</td>\n",
       "      <td>3.437585e+07</td>\n",
       "      <td>0.700603</td>\n",
       "      <td>7.339203</td>\n",
       "    </tr>\n",
       "    <tr>\n",
       "      <th>75%</th>\n",
       "      <td>9.681791e+10</td>\n",
       "      <td>2.489396e-07</td>\n",
       "      <td>204.188789</td>\n",
       "      <td>2.047698e+08</td>\n",
       "      <td>0.764560</td>\n",
       "      <td>8.285613</td>\n",
       "    </tr>\n",
       "    <tr>\n",
       "      <th>max</th>\n",
       "      <td>4.500575e+13</td>\n",
       "      <td>1.928402e-06</td>\n",
       "      <td>563.310913</td>\n",
       "      <td>4.267894e+11</td>\n",
       "      <td>1.197241</td>\n",
       "      <td>10.718828</td>\n",
       "    </tr>\n",
       "  </tbody>\n",
       "</table>\n",
       "</div>"
      ],
      "text/plain": [
       "                M_h           R_h          V_h           M_g      color_g  \\\n",
       "count  1.514000e+03  1.514000e+03  1514.000000  1.514000e+03  1514.000000   \n",
       "mean   2.590867e+11  2.269759e-07   159.914377  3.018712e+09     0.678903   \n",
       "std    1.656051e+12  1.490707e-07    84.731841  1.944717e+10     0.192099   \n",
       "min    1.443876e+09  6.127277e-08     7.104222  1.739187e+06    -0.794176   \n",
       "25%    2.201826e+10  1.519423e-07   100.411592  1.297332e+07     0.638956   \n",
       "50%    4.039674e+10  1.860214e-07   144.193092  3.437585e+07     0.700603   \n",
       "75%    9.681791e+10  2.489396e-07   204.188789  2.047698e+08     0.764560   \n",
       "max    4.500575e+13  1.928402e-06   563.310913  4.267894e+11     1.197241   \n",
       "\n",
       "             SFR_g  \n",
       "count  1514.000000  \n",
       "mean      7.622448  \n",
       "std       1.052962  \n",
       "min       5.669010  \n",
       "25%       6.862470  \n",
       "50%       7.339203  \n",
       "75%       8.285613  \n",
       "max      10.718828  "
      ]
     },
     "execution_count": 16,
     "metadata": {},
     "output_type": "execute_result"
    }
   ],
   "source": [
    "df.describe()"
   ]
  },
  {
   "cell_type": "markdown",
   "id": "040ea495-24f5-4c13-b44e-610abaaaf785",
   "metadata": {},
   "source": [
    "### 0.3. Data-preprocessing\n",
    "\n",
    "It is important to deal with data in small range, usually, around 1 and 0. So, let's take the $log_{10}$ of the properties"
   ]
  },
  {
   "cell_type": "code",
   "execution_count": 17,
   "id": "d93e674c-af1f-43b3-bb6a-2c7cb83a36d1",
   "metadata": {},
   "outputs": [],
   "source": [
    "df['M_h'] = np.log10(df['M_h'])\n",
    "df['R_h'] = np.log10(df['R_h'])\n",
    "df['V_h'] = np.log10(df['V_h'])\n",
    "df['M_g'] = np.log10(df['M_g'])"
   ]
  },
  {
   "cell_type": "code",
   "execution_count": 18,
   "id": "4d220b45-dd91-42d9-ab14-9e20ad1e35ca",
   "metadata": {},
   "outputs": [
    {
     "data": {
      "text/plain": [
       "Text(0.5, 0, 'V_h')"
      ]
     },
     "execution_count": 18,
     "metadata": {},
     "output_type": "execute_result"
    },
    {
     "data": {
      "image/png": "[encoded data removed]",
      "text/plain": [
       "<Figure size 1500x500 with 3 Axes>"
      ]
     },
     "metadata": {
      "needs_background": "light"
     },
     "output_type": "display_data"
    }
   ],
   "source": [
    "fig = plt.figure(dpi = 100, figsize = (15, 5))\n",
    "gs = fig.add_gridspec(1, 3, hspace = 0, wspace = 0)\n",
    "axs = gs.subplots(sharey = True)\n",
    "\n",
    "fig.suptitle('Halo properties')\n",
    "\n",
    "axs[0].hist(df['M_h'])\n",
    "axs[0].set_yscale('log')\n",
    "axs[0].set_xlabel('M_h')\n",
    "axs[0].set_ylabel('# halos')\n",
    "\n",
    "axs[1].hist(df['R_h'])\n",
    "axs[1].set_yscale('log')\n",
    "axs[1].set_xlabel('R_h')\n",
    "\n",
    "axs[2].hist(df['V_h'])\n",
    "axs[2].set_yscale('log')\n",
    "axs[2].set_xlabel('V_h')"
   ]
  },
  {
   "cell_type": "code",
   "execution_count": 19,
   "id": "831c9825-51a4-4aed-8f8b-4fe5061b2b21",
   "metadata": {},
   "outputs": [
    {
     "data": {
      "text/plain": [
       "Text(0.5, 0, 'SFR')"
      ]
     },
     "execution_count": 19,
     "metadata": {},
     "output_type": "execute_result"
    },
    {
     "data": {
      "image/png": "[encoded data removed]",
      "text/plain": [
       "<Figure size 1500x500 with 3 Axes>"
      ]
     },
     "metadata": {
      "needs_background": "light"
     },
     "output_type": "display_data"
    }
   ],
   "source": [
    "fig = plt.figure(dpi = 100, figsize = (15, 5))\n",
    "gs = fig.add_gridspec(1, 3, hspace = 0, wspace = 0)\n",
    "axs = gs.subplots(sharey = True)\n",
    "\n",
    "fig.suptitle('Galaxy properties')\n",
    "\n",
    "axs[0].hist(df['M_g'])\n",
    "axs[0].set_yscale('log')\n",
    "axs[0].set_xlabel(r'$M_{\\star}$')\n",
    "axs[0].set_ylabel('# halos')\n",
    "\n",
    "axs[1].hist(df['color_g'])\n",
    "axs[1].set_yscale('log')\n",
    "axs[1].set_xlabel('Color')\n",
    "\n",
    "axs[2].hist(df['SFR_g'])\n",
    "axs[2].set_yscale('log')\n",
    "axs[2].set_xlabel('SFR')"
   ]
  },
  {
   "cell_type": "markdown",
   "id": "c960db24-9f36-47b9-ae95-b9d4e006297b",
   "metadata": {},
   "source": [
    "### 0.4. Measuring the correlation among halo/galaxy properties\n",
    "\n",
    "Here we are going to measure the [Pearson Correlation Coefficient](https://en.wikipedia.org/wiki/Pearson_correlation_coefficient)\n",
    "\\begin{equation}\n",
    " PCC = \\frac{ \\mathrm{cov} (X, Y) }{ \\sigma_X \\sigma_Y }\n",
    "\\end{equation}\n",
    "\n",
    "and plotting it as a heatmap of the values."
   ]
  },
  {
   "cell_type": "code",
   "execution_count": 20,
   "id": "5c0db71a-ba22-49f9-a2e9-3e424dc901cd",
   "metadata": {},
   "outputs": [],
   "source": [
    "def correlation_heatmap(df):\n",
    "    correlations = df.corr(method = 'pearson')\n",
    "\n",
    "    fig, ax = plt.subplots(figsize = (10,10))\n",
    "    sns.heatmap(correlations, vmax = 1.0, center = 0, fmt = '.2f',\n",
    "                square = True, linewidths = .5, annot = True, \n",
    "                cbar_kws = {\"shrink\": .82})\n",
    "    plt.title('Pearson correlation Heatmap')\n",
    "    plt.show()\n",
    "    \n",
    "    return correlations"
   ]
  },
  {
   "cell_type": "code",
   "execution_count": 21,
   "id": "41230f8e-c846-499d-a86c-38d9f7170310",
   "metadata": {},
   "outputs": [
    {
     "data": {
      "image/png": "[encoded data removed]",
      "text/plain": [
       "<Figure size 720x720 with 2 Axes>"
      ]
     },
     "metadata": {
      "needs_background": "light"
     },
     "output_type": "display_data"
    },
    {
     "data": {
      "text/html": [
       "<div>\n",
       "<style scoped>\n",
       "    .dataframe tbody tr th:only-of-type {\n",
       "        vertical-align: middle;\n",
       "    }\n",
       "\n",
       "    .dataframe tbody tr th {\n",
       "        vertical-align: top;\n",
       "    }\n",
       "\n",
       "    .dataframe thead th {\n",
       "        text-align: right;\n",
       "    }\n",
       "</style>\n",
       "<table border=\"1\" class=\"dataframe\">\n",
       "  <thead>\n",
       "    <tr style=\"text-align: right;\">\n",
       "      <th></th>\n",
       "      <th>M_h</th>\n",
       "      <th>R_h</th>\n",
       "      <th>V_h</th>\n",
       "      <th>M_g</th>\n",
       "      <th>color_g</th>\n",
       "      <th>SFR_g</th>\n",
       "    </tr>\n",
       "  </thead>\n",
       "  <tbody>\n",
       "    <tr>\n",
       "      <th>M_h</th>\n",
       "      <td>1.000000</td>\n",
       "      <td>1.000000</td>\n",
       "      <td>-0.154836</td>\n",
       "      <td>0.910068</td>\n",
       "      <td>0.113225</td>\n",
       "      <td>0.549910</td>\n",
       "    </tr>\n",
       "    <tr>\n",
       "      <th>R_h</th>\n",
       "      <td>1.000000</td>\n",
       "      <td>1.000000</td>\n",
       "      <td>-0.154837</td>\n",
       "      <td>0.910068</td>\n",
       "      <td>0.113225</td>\n",
       "      <td>0.549910</td>\n",
       "    </tr>\n",
       "    <tr>\n",
       "      <th>V_h</th>\n",
       "      <td>-0.154836</td>\n",
       "      <td>-0.154837</td>\n",
       "      <td>1.000000</td>\n",
       "      <td>-0.082602</td>\n",
       "      <td>0.017113</td>\n",
       "      <td>-0.047983</td>\n",
       "    </tr>\n",
       "    <tr>\n",
       "      <th>M_g</th>\n",
       "      <td>0.910068</td>\n",
       "      <td>0.910068</td>\n",
       "      <td>-0.082602</td>\n",
       "      <td>1.000000</td>\n",
       "      <td>0.162549</td>\n",
       "      <td>0.615689</td>\n",
       "    </tr>\n",
       "    <tr>\n",
       "      <th>color_g</th>\n",
       "      <td>0.113225</td>\n",
       "      <td>0.113225</td>\n",
       "      <td>0.017113</td>\n",
       "      <td>0.162549</td>\n",
       "      <td>1.000000</td>\n",
       "      <td>-0.289915</td>\n",
       "    </tr>\n",
       "    <tr>\n",
       "      <th>SFR_g</th>\n",
       "      <td>0.549910</td>\n",
       "      <td>0.549910</td>\n",
       "      <td>-0.047983</td>\n",
       "      <td>0.615689</td>\n",
       "      <td>-0.289915</td>\n",
       "      <td>1.000000</td>\n",
       "    </tr>\n",
       "  </tbody>\n",
       "</table>\n",
       "</div>"
      ],
      "text/plain": [
       "              M_h       R_h       V_h       M_g   color_g     SFR_g\n",
       "M_h      1.000000  1.000000 -0.154836  0.910068  0.113225  0.549910\n",
       "R_h      1.000000  1.000000 -0.154837  0.910068  0.113225  0.549910\n",
       "V_h     -0.154836 -0.154837  1.000000 -0.082602  0.017113 -0.047983\n",
       "M_g      0.910068  0.910068 -0.082602  1.000000  0.162549  0.615689\n",
       "color_g  0.113225  0.113225  0.017113  0.162549  1.000000 -0.289915\n",
       "SFR_g    0.549910  0.549910 -0.047983  0.615689 -0.289915  1.000000"
      ]
     },
     "execution_count": 21,
     "metadata": {},
     "output_type": "execute_result"
    }
   ],
   "source": [
    "correlation_heatmap(df)"
   ]
  },
  {
   "cell_type": "markdown",
   "id": "fe8cd129-e4f9-44ab-95f3-2071e538625f",
   "metadata": {},
   "source": [
    "### 0.5. Saving the dataset"
   ]
  },
  {
   "cell_type": "code",
   "execution_count": 22,
   "id": "ad1c6ce4-8d6d-47ec-a960-4f2d98ff7175",
   "metadata": {},
   "outputs": [],
   "source": [
    "#To save in the main directory - COLAB\n",
    "df.to_csv('halos_and_gals.csv', index = False)"
   ]
  },
  {
   "cell_type": "markdown",
   "id": "925ad943-86a7-4c58-a343-40f6422b02f4",
   "metadata": {},
   "source": [
    "Saving as train and test sets"
   ]
  },
  {
   "cell_type": "code",
   "execution_count": 23,
   "id": "3e7e19bf-d896-4077-a519-62b5b327218d",
   "metadata": {},
   "outputs": [],
   "source": [
    "#Randomizing\n",
    "df = df.sample(frac = 1, random_state = 42)"
   ]
  },
  {
   "cell_type": "code",
   "execution_count": 24,
   "id": "5508c149-8cac-43fa-b2df-37fd8ea8e92c",
   "metadata": {},
   "outputs": [],
   "source": [
    "#Train and test\n",
    "total = df.shape[0]\n",
    "frac = 0.8\n",
    "\n",
    "df_train = df.iloc[:int(frac*total), :] #train\n",
    "df_test = df.iloc[int(frac*total):, :] #test"
   ]
  },
  {
   "cell_type": "code",
   "execution_count": 25,
   "id": "ce617e03-a288-456b-9714-96125ce36856",
   "metadata": {},
   "outputs": [],
   "source": [
    "#To save in the main directory - COLAB\n",
    "df_train.to_csv('train-halos_and_gals.csv', index = False)\n",
    "df_test.to_csv('test-halos_and_gals.csv', index = False)"
   ]
  },
  {
   "cell_type": "markdown",
   "id": "0fb3fa54-a543-406d-ae70-775adb69bcde",
   "metadata": {},
   "source": [
    "## 1. Neural Networks\n",
    "\n",
    "Now we are going to see how to build a **Neural Network** to predict some galaxy properties, based in some halo properties."
   ]
  },
  {
   "cell_type": "markdown",
   "id": "b691a907-65ee-4275-a8da-1891fff92874",
   "metadata": {},
   "source": [
    "### 1.0. Necessary libraries"
   ]
  },
  {
   "cell_type": "code",
   "execution_count": 26,
   "id": "a4f2d95d-fc04-4799-9ed3-e14873f86c31",
   "metadata": {},
   "outputs": [],
   "source": [
    "import numpy as np\n",
    "import matplotlib.pyplot as plt\n",
    "import pandas as pd\n",
    "import h5py\n",
    "import seaborn as sns\n",
    "from keras import models\n",
    "from keras import layers\n",
    "from keras import regularizers\n",
    "import os\n",
    "from scipy.stats import gaussian_kde\n",
    "from numpy.random import seed\n",
    "from keras.wrappers.scikit_learn import KerasRegressor\n",
    "from sklearn.model_selection import train_test_split\n",
    "from sklearn.metrics import mean_squared_error\n",
    "from tensorflow.keras.utils import set_random_seed\n",
    "from numpy.random import seed"
   ]
  },
  {
   "cell_type": "markdown",
   "id": "d03d8eb9-7951-4c49-bdc4-9d5623418460",
   "metadata": {},
   "source": [
    "### 1.1. Reading the data\n",
    "\n",
    "We are going to work to the data created above"
   ]
  },
  {
   "cell_type": "code",
   "execution_count": 27,
   "id": "b4362eff-4d6b-469a-b96e-6878624cafcd",
   "metadata": {},
   "outputs": [],
   "source": [
    "df_train = pd.read_csv('train-halos_and_gals.csv')\n",
    "df_test = pd.read_csv('test-halos_and_gals.csv')"
   ]
  },
  {
   "cell_type": "markdown",
   "id": "4db58acf-3a98-4c51-8c7d-464c10ac48c5",
   "metadata": {},
   "source": [
    "If, for some reason, you had problems to generate the data you can download it using the following piece of code (you need to remove it from commentary)"
   ]
  },
  {
   "cell_type": "code",
   "execution_count": 28,
   "id": "ebf13d68-dcff-408d-8cd7-c57690cd52eb",
   "metadata": {},
   "outputs": [],
   "source": [
    "# # Downloading it from the cloud\n",
    "# !wget -q -nc -O test-halos_and_gals.csv https://www.dropbox.com/s/y9rsx6gtjsdr7r1/test-halos_and_gals.csv?dl=0\n",
    "# !wget -q -nc -O train-halos_and_gals.csv https://www.dropbox.com/s/gncweskcappi81t/train-halos_and_gals.csv?dl=0\n",
    "\n",
    "# df_train = pd.read_csv('train-halos_and_gals.csv')\n",
    "# df_test = pd.read_csv('test-halos_and_gals.csv')"
   ]
  },
  {
   "cell_type": "markdown",
   "id": "1452f9dd-5a13-4507-8a46-d2413e5bb6f8",
   "metadata": {},
   "source": [
    "Using:\n",
    "* halos: mass, radius, velocity modulus\n",
    "\n",
    "To predict\n",
    "* galaxies: stellar masses\n",
    "\n",
    "\\begin{equation}\n",
    " \\{ M_h, R_h, V_h \\} \\Rightarrow M_{\\star}\n",
    "\\end{equation}"
   ]
  },
  {
   "cell_type": "code",
   "execution_count": 29,
   "id": "9c2fe672-82e0-4db9-81a7-0286bbbba689",
   "metadata": {},
   "outputs": [],
   "source": [
    "x_train = np.array([df_train['M_h'], df_train['R_h'], df_train['V_h']]).T\n",
    "x_test = np.array([df_test['M_h'], df_test['R_h'], df_test['V_h']]).T\n",
    "\n",
    "y_train = np.array([df_train['M_g']]).T\n",
    "y_test = np.array([df_test['M_g']]).T"
   ]
  },
  {
   "cell_type": "code",
   "execution_count": 30,
   "id": "6a18dc23-c3f4-4f5c-8e74-1a4768a27eb8",
   "metadata": {},
   "outputs": [
    {
     "data": {
      "text/plain": [
       "((1211, 3), (303, 3), (1211, 1), (303, 1))"
      ]
     },
     "execution_count": 30,
     "metadata": {},
     "output_type": "execute_result"
    }
   ],
   "source": [
    "x_train.shape, x_test.shape, y_train.shape, y_test.shape"
   ]
  },
  {
   "cell_type": "markdown",
   "id": "7c73439d-8dce-464e-b331-69fa60ecf548",
   "metadata": {},
   "source": [
    "### 1.2. Pre-processing the data\n",
    "\n",
    "We will do the following transformation\n",
    "\\begin{equation}\n",
    " data \\Rightarrow \\frac{(data - mean)}{std}\n",
    "\\end{equation}"
   ]
  },
  {
   "cell_type": "code",
   "execution_count": 31,
   "id": "31fc3274-baef-4fdb-ada3-5ff922488d2e",
   "metadata": {},
   "outputs": [
    {
     "data": {
      "text/plain": [
       "(array([10.72031404, -6.69246455,  2.14441201]),\n",
       " array([0.57831041, 0.19277028, 0.24073891]))"
      ]
     },
     "execution_count": 31,
     "metadata": {},
     "output_type": "execute_result"
    }
   ],
   "source": [
    "#Taking mean and std\n",
    "mean_data = np.mean(x_train, axis = 0)\n",
    "std_data = np.std(x_train, axis = 0)\n",
    "mean_data, std_data"
   ]
  },
  {
   "cell_type": "code",
   "execution_count": 32,
   "id": "590adcd4-aa09-45fc-968d-a97ad33e5265",
   "metadata": {},
   "outputs": [],
   "source": [
    "x_train -= mean_data\n",
    "x_train /= std_data\n",
    "x_test -= mean_data\n",
    "x_test /= std_data"
   ]
  },
  {
   "cell_type": "markdown",
   "id": "2087b0e6-54c0-4ca6-9fe2-b70d3882dcd9",
   "metadata": {},
   "source": [
    "### 1.3. Neural Networks\n",
    "\n",
    "A **neural network** is a collection of _nodes_ (neurons) that are arranged in a series of **layers**:\n",
    "\n",
    "![](https://www.tibco.com/sites/tibco/files/media_entity/2021-05/neutral-network-diagram.svg)"
   ]
  },
  {
   "cell_type": "markdown",
   "id": "dda8d464-8946-40f5-b498-df23e00403a9",
   "metadata": {},
   "source": [
    "Each connection is responsible to give a weight: $\\omega_i a_i$ and each layer is a summarization of them, plus a bias $b$, according too:\n",
    "\\begin{equation}\n",
    " b_{\\mu} + \\sum_{\\nu} W_{\\mu \\nu} a_{\\nu} .\n",
    "\\end{equation}\n",
    "Besides, we have another numeric transformation called **activation function**, responsible to perform a non linear transformation of the values of each layer\n",
    "\\begin{equation}\n",
    " y_{\\mu} = f \\left( b_{\\mu} + \\sum_{\\nu} W_{\\mu \\nu} a_{\\nu} \\right) ,\n",
    "\\end{equation}\n",
    "that can assume different forms:\n",
    "\n",
    "![](https://miro.medium.com/max/1200/1*ZafDv3VUm60Eh10OeJu1vw.png)"
   ]
  },
  {
   "cell_type": "markdown",
   "id": "7a44517b-e977-4cab-8993-a4188ab19357",
   "metadata": {},
   "source": [
    "During the **training process** these _weights_ are adjusted through **epochs** in order to minimize the difference between the network predictions $y_{pred}$, and the target values $y_{target}$ through the minimization of a **loss function** (that also can assume different forms). In this tutorial we are going to use the **Mean Squared Error** (**MSE**)\n",
    "\\begin{equation}\n",
    " MSE = \\frac{1}{m} \\sum_{i = 1}^m (y_{pred} - y_{target})^2 ,\n",
    "\\end{equation}"
   ]
  },
  {
   "cell_type": "markdown",
   "id": "abb02b39-740f-42d7-803d-429bdc374ca5",
   "metadata": {},
   "source": [
    "### 1.3.1. Defining the model"
   ]
  },
  {
   "cell_type": "markdown",
   "id": "d1bf0afd-bc2c-4801-ade5-2b5c2477f7df",
   "metadata": {},
   "source": [
    "First, defining the **random seed** to get reproducible results"
   ]
  },
  {
   "cell_type": "code",
   "execution_count": 33,
   "id": "9c7c347b-477b-4fa1-9b10-2fcfa9986f79",
   "metadata": {},
   "outputs": [],
   "source": [
    "set_random_seed(42)\n",
    "seed(42)"
   ]
  },
  {
   "cell_type": "markdown",
   "id": "eb52bf5c-e157-438b-bedb-1242beafba25",
   "metadata": {},
   "source": [
    "Let's define a simple standard model according too:"
   ]
  },
  {
   "cell_type": "code",
   "execution_count": 34,
   "id": "f88c36d4-7161-40a9-b07b-1bc26d741219",
   "metadata": {},
   "outputs": [],
   "source": [
    "def base_model():\n",
    "    model = models.Sequential() \n",
    "    model.add(layers.Dense(64, activation = 'relu', \n",
    "                           input_shape = (x_train.shape[1],)))\n",
    "    model.add(layers.Dense(32, activation = 'relu'))\n",
    "    model.add(layers.Dense(1))\n",
    "    \n",
    "    print(model.summary())\n",
    "    \n",
    "    model.compile(optimizer = 'Adam', loss = 'mse')\n",
    "    \n",
    "    return model"
   ]
  },
  {
   "cell_type": "markdown",
   "id": "d9f925d6-b18c-43dc-ad9e-04cb1e635d12",
   "metadata": {},
   "source": [
    "Here you can visualize the model and their details"
   ]
  },
  {
   "cell_type": "code",
   "execution_count": 35,
   "id": "048513c3-7a7b-4c1e-b589-41fe8ac4dc13",
   "metadata": {},
   "outputs": [
    {
     "name": "stdout",
     "output_type": "stream",
     "text": [
      "Model: \"sequential\"\n",
      "_________________________________________________________________\n",
      " Layer (type)                Output Shape              Param #   \n",
      "=================================================================\n",
      " dense (Dense)               (None, 64)                256       \n",
      "                                                                 \n",
      " dense_1 (Dense)             (None, 32)                2080      \n",
      "                                                                 \n",
      " dense_2 (Dense)             (None, 1)                 33        \n",
      "                                                                 \n",
      "=================================================================\n",
      "Total params: 2,369\n",
      "Trainable params: 2,369\n",
      "Non-trainable params: 0\n",
      "_________________________________________________________________\n",
      "None\n"
     ]
    },
    {
     "data": {
      "text/plain": [
       "<keras.engine.sequential.Sequential at 0x7f928c7ff430>"
      ]
     },
     "execution_count": 35,
     "metadata": {},
     "output_type": "execute_result"
    }
   ],
   "source": [
    "my_model = base_model()\n",
    "my_model"
   ]
  },
  {
   "cell_type": "markdown",
   "id": "82f2ad27-bed0-4862-b0a8-b43266651394",
   "metadata": {},
   "source": [
    "### 1.3.2. Fitting the model\n",
    "\n",
    "The learning process is made by the `fit` function"
   ]
  },
  {
   "cell_type": "code",
   "execution_count": 36,
   "id": "b2bb7237-85c4-4286-b33d-fb0f402a8434",
   "metadata": {},
   "outputs": [
    {
     "data": {
      "text/plain": [
       "<keras.callbacks.History at 0x7f92142dad30>"
      ]
     },
     "execution_count": 36,
     "metadata": {},
     "output_type": "execute_result"
    }
   ],
   "source": [
    "#Fitting data\n",
    "no_epochs = 100\n",
    "batch_size = 50\n",
    "validation_split = 0.2\n",
    "history = my_model.fit(x_train, y_train, epochs = no_epochs, \n",
    "                       batch_size = batch_size, \n",
    "                       validation_split = validation_split, verbose = False)\n",
    "history"
   ]
  },
  {
   "cell_type": "markdown",
   "id": "0f1be47d-6e26-40ef-87bc-206055c35f04",
   "metadata": {},
   "source": [
    "To see if we don't have over/under fitting we can analyse the validation and training losses"
   ]
  },
  {
   "cell_type": "code",
   "execution_count": 37,
   "id": "ac5de03e-58bc-47e8-bb93-de89ebe7e339",
   "metadata": {},
   "outputs": [],
   "source": [
    "train_loss = history.history['loss']\n",
    "train_val_loss = history.history['val_loss']\n",
    "epochs = range(1, len(train_loss) + 1)"
   ]
  },
  {
   "cell_type": "code",
   "execution_count": 38,
   "id": "2a1dd583-6a0d-46f6-9400-ec9694b20c35",
   "metadata": {},
   "outputs": [
    {
     "data": {
      "text/plain": [
       "Text(0.5, 0, 'Epochs')"
      ]
     },
     "execution_count": 38,
     "metadata": {},
     "output_type": "execute_result"
    },
    {
     "data": {
      "image/png": "[encoded data removed]",
      "text/plain": [
       "<Figure size 600x400 with 1 Axes>"
      ]
     },
     "metadata": {
      "needs_background": "light"
     },
     "output_type": "display_data"
    }
   ],
   "source": [
    "plt.figure(dpi=100)\n",
    "plt.plot(epochs, train_loss, color = 'black',label = 'Loss')\n",
    "plt.scatter(epochs, train_val_loss, s = 5, color = 'red', label = 'Val Loss')\n",
    "plt.legend()  \n",
    "plt.title('MSE loss: All')\n",
    "plt.ylabel('Loss')\n",
    "plt.xlabel('Epochs')"
   ]
  },
  {
   "cell_type": "markdown",
   "id": "160d0840-b8eb-4510-9e03-54543fe5f1bf",
   "metadata": {},
   "source": [
    "### 1.3.3. Doing the predictions\n",
    "\n",
    "The predictions are done using the `predict` function"
   ]
  },
  {
   "cell_type": "code",
   "execution_count": 39,
   "id": "64049cc9-c750-4121-a609-925ab969fdb9",
   "metadata": {},
   "outputs": [
    {
     "name": "stdout",
     "output_type": "stream",
     "text": [
      "10/10 [==============================] - 0s 1ms/step\n"
     ]
    }
   ],
   "source": [
    "#Predictions\n",
    "prediction = my_model.predict(x_test)"
   ]
  },
  {
   "cell_type": "markdown",
   "id": "b36ca7d1-0fdd-4dcc-8ec6-315753fb3d6f",
   "metadata": {},
   "source": [
    "### 1.3.4. Performance\n",
    "\n",
    "#### a) We check the final performance taking a look of some metric computed over the predictions"
   ]
  },
  {
   "cell_type": "code",
   "execution_count": 40,
   "id": "535ca87d-c566-4918-81b9-7d44b7234a12",
   "metadata": {},
   "outputs": [
    {
     "data": {
      "text/plain": [
       "0.07860897390975116"
      ]
     },
     "execution_count": 40,
     "metadata": {},
     "output_type": "execute_result"
    }
   ],
   "source": [
    "#Scores\n",
    "MSE = mean_squared_error(prediction, y_test)\n",
    "MSE"
   ]
  },
  {
   "cell_type": "markdown",
   "id": "ff329d14-0911-4da7-aeaf-5fe4c47ce5d7",
   "metadata": {},
   "source": [
    "#### b) Visualizing the results"
   ]
  },
  {
   "cell_type": "markdown",
   "id": "984953f5-9572-42fa-ac85-e0d802d72599",
   "metadata": {},
   "source": [
    "Scatter plot"
   ]
  },
  {
   "cell_type": "code",
   "execution_count": 41,
   "id": "9d8902b4-c135-4c3a-b0a4-61d31a92de31",
   "metadata": {},
   "outputs": [
    {
     "data": {
      "text/plain": [
       "<matplotlib.legend.Legend at 0x7f91d45fbdc0>"
      ]
     },
     "execution_count": 41,
     "metadata": {},
     "output_type": "execute_result"
    },
    {
     "data": {
      "image/png": "[encoded data removed]",
      "text/plain": [
       "<Figure size 600x400 with 1 Axes>"
      ]
     },
     "metadata": {
      "needs_background": "light"
     },
     "output_type": "display_data"
    }
   ],
   "source": [
    "plt.figure(dpi = 100)\n",
    "plt.title('Galaxy predictions')\n",
    "plt.scatter(y_test[:, 0], prediction[:, 0], s = 5, color = 'C0', label = '$M_{\\star}$')\n",
    "plt.xlabel(r'Truth')\n",
    "plt.plot(y_test[:, 0], y_test[:, 0], color = 'black')\n",
    "plt.ylabel(r'Predition')\n",
    "plt.legend()"
   ]
  },
  {
   "cell_type": "markdown",
   "id": "5dfce0a3-c898-4a0a-b568-1a505e7b5964",
   "metadata": {},
   "source": [
    "Histogram"
   ]
  },
  {
   "cell_type": "code",
   "execution_count": 42,
   "id": "4f898946-de30-449b-84b4-8aae4cbc9190",
   "metadata": {},
   "outputs": [
    {
     "data": {
      "image/png": "[encoded data removed]",
      "text/plain": [
       "<Figure size 600x400 with 1 Axes>"
      ]
     },
     "metadata": {
      "needs_background": "light"
     },
     "output_type": "display_data"
    }
   ],
   "source": [
    "plt.figure(dpi = 100)\n",
    "plt.title('Galaxy predictions')\n",
    "\n",
    "bins = np.linspace(np.min(y_test[:, 0]), np.max(y_test[:, 0]), 10)\n",
    "plt.hist(y_test[:, 0], bins = bins, color = 'gray', label = 'Truth')\n",
    "plt.hist(prediction[:, 0], bins = bins, color = 'C0', alpha = 0.5, label = 'Predition')\n",
    "plt.xlabel(r'$M_{\\star}$')\n",
    "plt.ylabel(r'# galaxies')\n",
    "plt.legend()\n",
    "plt.yscale('log')"
   ]
  },
  {
   "cell_type": "markdown",
   "id": "16cddb62-22c1-42bc-934f-60d0f8d2d681",
   "metadata": {},
   "source": [
    "## 1.4. YOUR TURN\n",
    "\n",
    "Try to create a NN to:\n",
    "\n",
    "Using:\n",
    "* halos: mass, radius, velocity modulus\n",
    "\n",
    "To predict\n",
    "* 1) galaxies: SFR\n",
    "* 2) galaxies: color\n",
    "* 3) galaxies: stellar mass, SFR, color\n",
    "\n",
    "Try to think in which lines of code you need to change!\n",
    "Are just the lines corresponding to the predictions?\n",
    "Are there any issues related to dimensions then?"
   ]
  },
  {
   "cell_type": "code",
   "execution_count": null,
   "id": "432d4c5c-7ef3-4ce6-87dd-2f95c2760c3b",
   "metadata": {},
   "outputs": [],
   "source": []
  }
 ],
 "metadata": {
  "kernelspec": {
   "display_name": "Python 3",
   "language": "python",
   "name": "python3"
  },
  "language_info": {
   "codemirror_mode": {
    "name": "ipython",
    "version": 3
   },
   "file_extension": ".py",
   "mimetype": "text/x-python",
   "name": "python",
   "nbconvert_exporter": "python",
   "pygments_lexer": "ipython3",
   "version": "3.8.10"
  }
 },
 "nbformat": 4,
 "nbformat_minor": 5
}
