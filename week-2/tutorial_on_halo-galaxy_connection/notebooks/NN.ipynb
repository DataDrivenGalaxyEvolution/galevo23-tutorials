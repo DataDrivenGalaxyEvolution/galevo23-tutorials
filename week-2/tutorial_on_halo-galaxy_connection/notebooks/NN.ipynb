{
 "cells": [
  {
   "cell_type": "markdown",
   "id": "4453e3bb-e1ad-4f60-bfc4-6853e7f67c24",
   "metadata": {},
   "source": [
    "# Neural Network predictions\n",
    "\n",
    "### Authors: [Natalí S. M. de Santi](https://natalidesanti.github.io/) and [Christopher Lovell](https://www.christopherlovell.co.uk/)\n",
    "\n",
    "In this notebook we are going to see how to build a **Neural Network** to predict some galaxy properties, based in some halo properties."
   ]
  },
  {
   "cell_type": "markdown",
   "id": "b20f2b4f-8bbd-4ff8-a811-ce90217e83b6",
   "metadata": {},
   "source": [
    "## 0) Necessary libraries"
   ]
  },
  {
   "cell_type": "code",
   "execution_count": 1,
   "id": "7a013485-08ce-49ae-a3cd-05524537b51f",
   "metadata": {},
   "outputs": [],
   "source": [
    "import numpy as np\n",
    "import matplotlib.pyplot as plt\n",
    "import pandas as pd\n",
    "import h5py\n",
    "import seaborn as sns\n",
    "from keras import models\n",
    "from keras import layers\n",
    "from keras import regularizers\n",
    "import os\n",
    "from scipy.stats import gaussian_kde\n",
    "from numpy.random import seed\n",
    "from keras.wrappers.scikit_learn import KerasRegressor\n",
    "from sklearn.model_selection import train_test_split\n",
    "from sklearn.metrics import mean_squared_error\n",
    "from tensorflow.keras.utils import set_random_seed\n",
    "from numpy.random import seed"
   ]
  },
  {
   "cell_type": "markdown",
   "id": "c617edb0-68a8-4e3c-9031-f86af9f44275",
   "metadata": {},
   "source": [
    "## 1) Reading the data\n",
    "\n",
    "We will work with the catalogs generated with `handling_data.ipynb`."
   ]
  },
  {
   "cell_type": "code",
   "execution_count": 2,
   "id": "b151783c-ae07-4330-afef-9a57c876b95f",
   "metadata": {},
   "outputs": [],
   "source": [
    "# Load the data in this way if you have it in the directory\n",
    "df_train = pd.read_csv('../data/train-halos_and_gals.csv')\n",
    "df_test = pd.read_csv('../data/test-halos_and_gals.csv')"
   ]
  },
  {
   "cell_type": "markdown",
   "id": "ec954449-4fe7-44d1-9690-b0ae0836a909",
   "metadata": {},
   "source": [
    "Using:\n",
    "* halos: mass, radius, velocity modulus\n",
    "\n",
    "To predict\n",
    "* galaxies: stellar masses\n",
    "\n",
    "\\begin{equation}\n",
    " \\{ M_h, R_h, V_h \\} \\Rightarrow M_{\\star}\n",
    "\\end{equation}"
   ]
  },
  {
   "cell_type": "code",
   "execution_count": 3,
   "id": "f6a91f39-6aaf-4dc0-aa70-d1a71810c0e2",
   "metadata": {},
   "outputs": [],
   "source": [
    "x_train = np.array([df_train['M_h'], df_train['R_h'], df_train['V_h']]).T\n",
    "x_test = np.array([df_test['M_h'], df_test['R_h'], df_test['V_h']]).T\n",
    "\n",
    "y_train = np.array([df_train['M_g']]).T\n",
    "y_test = np.array([df_test['M_g']]).T"
   ]
  },
  {
   "cell_type": "code",
   "execution_count": 4,
   "id": "65f294e4-e192-4dd3-814f-586231aca83e",
   "metadata": {},
   "outputs": [
    {
     "data": {
      "text/plain": [
       "((1211, 3), (303, 3), (1211, 1), (303, 1))"
      ]
     },
     "execution_count": 4,
     "metadata": {},
     "output_type": "execute_result"
    }
   ],
   "source": [
    "x_train.shape, x_test.shape, y_train.shape, y_test.shape"
   ]
  },
  {
   "cell_type": "markdown",
   "id": "5eaf50ff-abc3-47f8-b35e-92b19776dc0e",
   "metadata": {},
   "source": [
    "## 2) Pre-processing the data\n",
    "\n",
    "We will do the following transformation\n",
    "\\begin{equation}\n",
    " data \\Rightarrow \\frac{(data - mean)}{std}\n",
    "\\end{equation}"
   ]
  },
  {
   "cell_type": "code",
   "execution_count": 5,
   "id": "a38d132e-9c1c-4666-b0f5-e6d5eabfa9b2",
   "metadata": {},
   "outputs": [
    {
     "data": {
      "text/plain": [
       "(array([10.72031404, -6.69246455,  2.14441201]),\n",
       " array([0.57831041, 0.19277028, 0.24073891]))"
      ]
     },
     "execution_count": 5,
     "metadata": {},
     "output_type": "execute_result"
    }
   ],
   "source": [
    "#Taking mean and std\n",
    "mean_data = np.mean(x_train, axis = 0)\n",
    "std_data = np.std(x_train, axis = 0)\n",
    "mean_data, std_data"
   ]
  },
  {
   "cell_type": "code",
   "execution_count": 6,
   "id": "b8002c2c-ac23-476b-9915-14ef3db23fe4",
   "metadata": {},
   "outputs": [],
   "source": [
    "x_train -= mean_data\n",
    "x_train /= std_data\n",
    "x_test -= mean_data\n",
    "x_test /= std_data"
   ]
  },
  {
   "cell_type": "markdown",
   "id": "44c92651-e9c9-4d5b-a0f6-375aecf77f2c",
   "metadata": {},
   "source": [
    "## 3) Neural Networks\n",
    "\n",
    "A **neural network** is a collection of _nodes_ (neurons) that are arranged in a series of **layers**:\n",
    "\n",
    "![](https://www.tibco.com/sites/tibco/files/media_entity/2021-05/neutral-network-diagram.svg)"
   ]
  },
  {
   "cell_type": "markdown",
   "id": "cba0fd84-a88b-498f-b4bb-b70aa08a8791",
   "metadata": {},
   "source": [
    "Each connection is responsible to give a weight: $\\omega_i a_i$ and each layer is a summarization of them, plus a bias $b$, according too:\n",
    "\\begin{equation}\n",
    " b_{\\mu} + \\sum_{\\nu} W_{\\mu \\nu} a_{\\nu} .\n",
    "\\end{equation}\n",
    "Besides, we have another numeric transformation called **activation function**, responsible to perform a non linear transformation of the values of each layer\n",
    "\\begin{equation}\n",
    " y_{\\mu} = f \\left( b_{\\mu} + \\sum_{\\nu} W_{\\mu \\nu} a_{\\nu} \\right) ,\n",
    "\\end{equation}\n",
    "that can assume different forms:\n",
    "\n",
    "![](https://miro.medium.com/max/1200/1*ZafDv3VUm60Eh10OeJu1vw.png)"
   ]
  },
  {
   "cell_type": "markdown",
   "id": "3a05d583-64f2-475f-8794-7c947a26e5e7",
   "metadata": {},
   "source": [
    "During the **training process** these _weights_ are adjusted through **epochs** in order to minimize the difference between the network predictions $y_{pred}$, and the target values $y_{target}$ through the minimization of a **loss function** (that also can assume different forms). In this tutorial we are going to use the **Mean Squared Error** (**MSE**)\n",
    "\\begin{equation}\n",
    " MSE = \\frac{1}{m} \\sum_{i = 1}^m (y_{pred} - y_{target})^2 ,\n",
    "\\end{equation}"
   ]
  },
  {
   "cell_type": "markdown",
   "id": "9e8270a6-4724-4562-b487-b15b57498081",
   "metadata": {},
   "source": [
    "### 3.1. Defining the model"
   ]
  },
  {
   "cell_type": "markdown",
   "id": "dd4e554e-a4da-42e3-a6e8-4faacfdccf1a",
   "metadata": {},
   "source": [
    "First, defining the **random seed** to get reproducible results"
   ]
  },
  {
   "cell_type": "code",
   "execution_count": 7,
   "id": "32b7b3d1-5fc5-41d4-9e72-80aa7011f161",
   "metadata": {},
   "outputs": [],
   "source": [
    "set_random_seed(42)\n",
    "seed(42)"
   ]
  },
  {
   "cell_type": "markdown",
   "id": "92a4d15e-4ad0-42c2-bcf9-40c71387c8cb",
   "metadata": {},
   "source": [
    "Let's define a simple standard model according too:"
   ]
  },
  {
   "cell_type": "code",
   "execution_count": 8,
   "id": "7ea90475-0cb0-4fe4-be26-435b8d6736fa",
   "metadata": {},
   "outputs": [],
   "source": [
    "def base_model():\n",
    "    model = models.Sequential() \n",
    "    model.add(layers.Dense(16, activation = 'relu', input_shape = (x_train.shape[1],)))\n",
    "    model.add(layers.Dense(8, activation = 'relu'))\n",
    "    model.add(layers.Dense(1))\n",
    "    \n",
    "    print(model.summary())\n",
    "    \n",
    "    model.compile(optimizer = 'Adam', loss = 'mse')\n",
    "    \n",
    "    return model"
   ]
  },
  {
   "cell_type": "markdown",
   "id": "46328b9a-bf96-49f7-9135-5c39172ee3a1",
   "metadata": {},
   "source": [
    "Here you can visualize the model and their details"
   ]
  },
  {
   "cell_type": "code",
   "execution_count": 9,
   "id": "cc173ba6-4dfc-44e4-a660-cfac69f60f43",
   "metadata": {},
   "outputs": [
    {
     "name": "stdout",
     "output_type": "stream",
     "text": [
      "Model: \"sequential\"\n",
      "_________________________________________________________________\n",
      " Layer (type)                Output Shape              Param #   \n",
      "=================================================================\n",
      " dense (Dense)               (None, 64)                256       \n",
      "                                                                 \n",
      " dense_1 (Dense)             (None, 32)                2080      \n",
      "                                                                 \n",
      " dense_2 (Dense)             (None, 1)                 33        \n",
      "                                                                 \n",
      "=================================================================\n",
      "Total params: 2,369\n",
      "Trainable params: 2,369\n",
      "Non-trainable params: 0\n",
      "_________________________________________________________________\n",
      "None\n"
     ]
    },
    {
     "data": {
      "text/plain": [
       "<keras.engine.sequential.Sequential at 0x7f7a3eb58fd0>"
      ]
     },
     "execution_count": 9,
     "metadata": {},
     "output_type": "execute_result"
    }
   ],
   "source": [
    "my_model = base_model()\n",
    "my_model"
   ]
  },
  {
   "cell_type": "markdown",
   "id": "dc26c662-d37e-4146-9176-bbf755ab500c",
   "metadata": {},
   "source": [
    "### 3.2. Fitting the model\n",
    "\n",
    "The learning process is made by the `fit` function"
   ]
  },
  {
   "cell_type": "code",
   "execution_count": 10,
   "id": "ced916ec-f2dc-45a6-a218-a8f7cd44f599",
   "metadata": {},
   "outputs": [
    {
     "data": {
      "text/plain": [
       "<keras.callbacks.History at 0x7f7a305c9940>"
      ]
     },
     "execution_count": 10,
     "metadata": {},
     "output_type": "execute_result"
    }
   ],
   "source": [
    "#Fitting data\n",
    "no_epochs = 100\n",
    "batch_size = 100\n",
    "validation_split = 0.2\n",
    "history = my_model.fit(x_train, y_train, epochs = no_epochs, \n",
    "                       batch_size = batch_size, \n",
    "                       validation_split = validation_split, verbose = False)\n",
    "history"
   ]
  },
  {
   "cell_type": "markdown",
   "id": "fb8bf74d-fe1d-439b-8440-fa4420161ed5",
   "metadata": {},
   "source": [
    "To see if we don't have over/under fitting we can analyse the validation and training losses"
   ]
  },
  {
   "cell_type": "code",
   "execution_count": 11,
   "id": "4a7ccebc-0406-42b6-96f3-e82cedc471cc",
   "metadata": {},
   "outputs": [],
   "source": [
    "train_loss = history.history['loss']\n",
    "train_val_loss = history.history['val_loss']\n",
    "epochs = range(1, len(train_loss) + 1)"
   ]
  },
  {
   "cell_type": "code",
   "execution_count": 12,
   "id": "e36ea0c2-28a1-4578-aa53-9285f808984c",
   "metadata": {},
   "outputs": [
    {
     "data": {
      "text/plain": [
       "Text(0.5, 0, 'Epochs')"
      ]
     },
     "execution_count": 12,
     "metadata": {},
     "output_type": "execute_result"
    },
    {
     "data": {
      "image/png": "[encoded data removed]",
      "text/plain": [
       "<Figure size 600x400 with 1 Axes>"
      ]
     },
     "metadata": {
      "needs_background": "light"
     },
     "output_type": "display_data"
    }
   ],
   "source": [
    "plt.figure(dpi=100)\n",
    "plt.plot(epochs, train_loss, color = 'black',label = 'Loss')\n",
    "plt.scatter(epochs, train_val_loss, s = 5, color = 'red', label = 'Val Loss')\n",
    "plt.legend()  \n",
    "plt.title('MSE loss: All')\n",
    "plt.ylabel('Loss')\n",
    "plt.xlabel('Epochs')"
   ]
  },
  {
   "cell_type": "markdown",
   "id": "88121ec9-0827-4066-bad4-2829a8969b8b",
   "metadata": {},
   "source": [
    "### 3.3. Doing the predictions\n",
    "\n",
    "The predictions are done using the `predict` function"
   ]
  },
  {
   "cell_type": "code",
   "execution_count": 13,
   "id": "5854e96d-dced-4bcb-8188-ecc56eeba446",
   "metadata": {},
   "outputs": [
    {
     "name": "stdout",
     "output_type": "stream",
     "text": [
      "10/10 [==============================] - 0s 1ms/step\n"
     ]
    }
   ],
   "source": [
    "#Prediction\n",
    "prediction = my_model.predict(x_test)"
   ]
  },
  {
   "cell_type": "markdown",
   "id": "878a255c-70f3-47ec-903d-32fe03f6ba56",
   "metadata": {},
   "source": [
    "### 3.4. Performance\n",
    "\n",
    "#### a) We check the final performance taking a look of some metric computed over the predictions"
   ]
  },
  {
   "cell_type": "code",
   "execution_count": 14,
   "id": "48ddfa93-8159-45bf-a676-ea83117a6e8f",
   "metadata": {},
   "outputs": [
    {
     "data": {
      "text/plain": [
       "0.0842410711185824"
      ]
     },
     "execution_count": 14,
     "metadata": {},
     "output_type": "execute_result"
    }
   ],
   "source": [
    "#Scores\n",
    "MSE = mean_squared_error(prediction, y_test)\n",
    "MSE"
   ]
  },
  {
   "cell_type": "markdown",
   "id": "4cd91332-dc3f-4a2e-8b08-a6c2385a2974",
   "metadata": {},
   "source": [
    "#### b) Visualizing the results"
   ]
  },
  {
   "cell_type": "markdown",
   "id": "4960a287-8cd4-4781-8349-967bb0bc9546",
   "metadata": {},
   "source": [
    "Scatter plot"
   ]
  },
  {
   "cell_type": "code",
   "execution_count": 15,
   "id": "4eb59ce9-f010-4490-bd90-abb9cd7a8437",
   "metadata": {},
   "outputs": [
    {
     "data": {
      "text/plain": [
       "<matplotlib.legend.Legend at 0x7f7a303f1730>"
      ]
     },
     "execution_count": 15,
     "metadata": {},
     "output_type": "execute_result"
    },
    {
     "data": {
      "image/png": "[encoded data removed]",
      "text/plain": [
       "<Figure size 600x400 with 1 Axes>"
      ]
     },
     "metadata": {
      "needs_background": "light"
     },
     "output_type": "display_data"
    }
   ],
   "source": [
    "plt.figure(dpi = 100)\n",
    "plt.title('Galaxy predictions')\n",
    "plt.scatter(y_test[:, 0], prediction[:, 0], s = 5, color = 'C0', label = '$M_{\\star}$')\n",
    "plt.xlabel(r'Truth')\n",
    "plt.plot(y_test[:, 0], y_test[:, 0], color = 'black')\n",
    "plt.ylabel(r'Predition')\n",
    "plt.legend()"
   ]
  },
  {
   "cell_type": "markdown",
   "id": "f3200f76-24e9-40b9-baea-5185b1df27ed",
   "metadata": {},
   "source": [
    "Histogram"
   ]
  },
  {
   "cell_type": "code",
   "execution_count": 16,
   "id": "2d0e4908-7d82-42c9-aecc-4c3c4bb6b7d6",
   "metadata": {},
   "outputs": [
    {
     "data": {
      "image/png": "[encoded data removed]",
      "text/plain": [
       "<Figure size 600x400 with 1 Axes>"
      ]
     },
     "metadata": {
      "needs_background": "light"
     },
     "output_type": "display_data"
    }
   ],
   "source": [
    "plt.figure(dpi = 100)\n",
    "plt.title('Galaxy predictions')\n",
    "bins = np.linspace(np.min(y_test[:, 0]), np.max(y_test[:, 0]), 10)\n",
    "plt.hist(y_test[:, 0], bins = bins, color = 'gray', label = 'Truth')\n",
    "plt.hist(prediction[:, 0], bins = bins, color = 'C0', alpha = 0.5, label = 'Predition')\n",
    "plt.xlabel(r'$M_{\\star}$')\n",
    "plt.ylabel(r'# galaxies')\n",
    "plt.legend()\n",
    "plt.yscale('log')"
   ]
  },
  {
   "cell_type": "markdown",
   "id": "be3a0eee-1550-4f94-83ee-848cde9cb808",
   "metadata": {},
   "source": [
    "Let's try to do better, but first:"
   ]
  },
  {
   "cell_type": "markdown",
   "id": "8cd2634c-aecd-4b49-ba9d-8073086bcbbf",
   "metadata": {},
   "source": [
    "## 4. YOUR TURN\n",
    "\n",
    "Try to create a NN to:\n",
    "\n",
    "Using:\n",
    "* halos: mass, radius, velocity modulus\n",
    "\n",
    "To predict\n",
    "* 1) galaxies: SFR\n",
    "* 2) galaxies: color\n",
    "* 3) galaxies: stellar mass, SFR, color\n",
    "\n",
    "Try to think in which lines of code you need to change!\n",
    "Are just the lines corresponding to the predictions?\n",
    "Are there any issues related to dimensions then?"
   ]
  },
  {
   "cell_type": "code",
   "execution_count": null,
   "id": "794fa729-0643-4017-921b-3a8f6ffa280b",
   "metadata": {},
   "outputs": [],
   "source": []
  }
 ],
 "metadata": {
  "kernelspec": {
   "display_name": "Python 3",
   "language": "python",
   "name": "python3"
  },
  "language_info": {
   "codemirror_mode": {
    "name": "ipython",
    "version": 3
   },
   "file_extension": ".py",
   "mimetype": "text/x-python",
   "name": "python",
   "nbconvert_exporter": "python",
   "pygments_lexer": "ipython3",
   "version": "3.8.10"
  }
 },
 "nbformat": 4,
 "nbformat_minor": 5
}
