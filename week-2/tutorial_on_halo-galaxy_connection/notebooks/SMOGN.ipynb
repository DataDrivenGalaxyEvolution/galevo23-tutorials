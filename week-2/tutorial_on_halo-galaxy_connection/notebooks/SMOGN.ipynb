{
 "cells": [
  {
   "cell_type": "code",
   "execution_count": 1,
   "id": "99fa2165-a276-4ef7-8af4-c9d834a9570e",
   "metadata": {},
   "outputs": [],
   "source": [
    "import pandas as pd\n",
    "import smogn\n",
    "import matplotlib.pyplot as plt\n",
    "import numpy as np"
   ]
  },
  {
   "cell_type": "code",
   "execution_count": 2,
   "id": "887fdc69-a16d-425f-ae5f-63044a56a97f",
   "metadata": {},
   "outputs": [
    {
     "data": {
      "text/plain": [
       "(1211, 6)"
      ]
     },
     "execution_count": 2,
     "metadata": {},
     "output_type": "execute_result"
    }
   ],
   "source": [
    "#Loading data\n",
    "df = pd.read_csv('../data/train-halos_and_gals.csv')\n",
    "df.shape"
   ]
  },
  {
   "cell_type": "code",
   "execution_count": 3,
   "id": "99577b7a-21d6-4c53-b485-119229417085",
   "metadata": {},
   "outputs": [
    {
     "name": "stderr",
     "output_type": "stream",
     "text": [
      "dist_matrix: 100%|##########| 209/209 [00:10<00:00, 19.21it/s]\n",
      "synth_matrix: 100%|##########| 209/209 [00:00<00:00, 642.71it/s]\n",
      "r_index: 100%|##########| 187/187 [00:00<00:00, 642.90it/s]\n"
     ]
    }
   ],
   "source": [
    "#Stellar Mass\n",
    "df_sm = smogn.smoter(data = df, y = \"M_g\")"
   ]
  },
  {
   "cell_type": "code",
   "execution_count": 4,
   "id": "8c173e56-3b91-40eb-aa91-fac76f351219",
   "metadata": {},
   "outputs": [
    {
     "name": "stderr",
     "output_type": "stream",
     "text": [
      "dist_matrix: 100%|##########| 5/5 [00:00<00:00, 752.15it/s]\n",
      "synth_matrix: 100%|##########| 5/5 [00:00<00:00,  6.34it/s]\n",
      "r_index: 100%|##########| 3/3 [00:00<00:00, 474.72it/s]\n",
      "dist_matrix: 100%|##########| 38/38 [00:00<00:00, 105.11it/s]\n",
      "synth_matrix: 100%|##########| 38/38 [00:00<00:00, 60.84it/s]\n",
      "r_index: 100%|##########| 24/24 [00:00<00:00, 547.65it/s]\n"
     ]
    }
   ],
   "source": [
    "#Color\n",
    "rg_mtrx = [\n",
    "    [-0.55, 1, 0],  ## over-sample (\"minority\")\n",
    "    [1.0, 0, 0],  ## under-sample (\"majority\")\n",
    "    [1.1, 1, 0],  ## over-sample (\"minority\")\n",
    "]\n",
    "\n",
    "df_color = smogn.smoter(\n",
    "    \n",
    "    ## main arguments\n",
    "    data = df,              ## pandas dataframe\n",
    "    y = 'color_g',          ## string ('header name')\n",
    "    k = 7,                    ## positive integer (k < n)\n",
    "    pert = 0.04,              ## real number (0 < R < 1)\n",
    "    samp_method = 'balance',  ## string ('balance' or 'extreme')\n",
    "    drop_na_col = True,       ## boolean (True or False)\n",
    "    drop_na_row = True,       ## boolean (True or False)\n",
    "    replace = False,          ## boolean (True or False)\n",
    "\n",
    "    ## phi relevance arguments\n",
    "    rel_thres = 0.8,          ## real number (0 < R < 1)\n",
    "    rel_method = 'manual',    ## string ('auto' or 'manual')\n",
    "    rel_ctrl_pts_rg = rg_mtrx ## 2d array (format: [x, y])\n",
    ")\n"
   ]
  },
  {
   "cell_type": "code",
   "execution_count": 5,
   "id": "a02a054c-5446-435f-a198-578416b609e2",
   "metadata": {},
   "outputs": [
    {
     "name": "stderr",
     "output_type": "stream",
     "text": [
      "dist_matrix: 100%|##########| 115/115 [00:03<00:00, 34.75it/s]\n",
      "synth_matrix: 100%|##########| 115/115 [00:00<00:00, 297.40it/s]\n",
      "r_index: 100%|##########| 59/59 [00:00<00:00, 595.48it/s]\n",
      "dist_matrix: 100%|##########| 234/234 [00:13<00:00, 17.03it/s]\n",
      "r_index: 100%|##########| 170/170 [00:00<00:00, 642.07it/s]\n"
     ]
    }
   ],
   "source": [
    "#SFR\n",
    "rg_mtrx = [\n",
    "    [6.25, 1, 0],  ## over-sample (\"minority\")\n",
    "    [6.6, 0, 0],  ## over-sample (\"majority\")\n",
    "    [8.5, 0, 0],  ## over-sample (\"majority\")\n",
    "    [9., 1, 0],  ## over-sample (\"minority\")\n",
    "]\n",
    "\n",
    "df_sfr = smogn.smoter(\n",
    "    \n",
    "    ## main arguments\n",
    "    data = df,           ## pandas dataframe\n",
    "    y = 'SFR_g',          ## string ('header name')\n",
    "    k = 7,                    ## positive integer (k < n)\n",
    "    pert = 0.04,              ## real number (0 < R < 1)\n",
    "    samp_method = 'balance',  ## string ('balance' or 'extreme')\n",
    "    drop_na_col = True,       ## boolean (True or False)\n",
    "    drop_na_row = True,       ## boolean (True or False)\n",
    "    replace = False,          ## boolean (True or False)\n",
    "\n",
    "    ## phi relevance arguments\n",
    "    rel_thres = 0.2,         ## real number (0 < R < 1)\n",
    "    rel_method = 'manual',    ## string ('auto' or 'manual')\n",
    "    rel_ctrl_pts_rg = rg_mtrx ## 2d array (format: [x, y])\n",
    ")"
   ]
  },
  {
   "cell_type": "code",
   "execution_count": 6,
   "id": "44f63fd5-ecfd-45bd-bdbe-a95debdf8af9",
   "metadata": {},
   "outputs": [
    {
     "data": {
      "image/png": "[encoded data removed]",
      "text/plain": [
       "<Figure size 1500x500 with 3 Axes>"
      ]
     },
     "metadata": {
      "needs_background": "light"
     },
     "output_type": "display_data"
    }
   ],
   "source": [
    "fig = plt.figure(dpi = 100, figsize = (15, 5))\n",
    "gs = fig.add_gridspec(1, 3)\n",
    "axs = gs.subplots()\n",
    "\n",
    "fig.suptitle('Comparison')\n",
    "\n",
    "bins = np.linspace(np.min(df['M_g']), np.max(df['M_g']), 10)\n",
    "axs[0].hist(df['M_g'], bins = bins, color = 'gray', label = 'Truth')\n",
    "axs[0].hist(df_sm['M_g'], bins = bins, color = 'C0', alpha = 0.5, label = 'Predition')\n",
    "axs[0].set_xlabel(r'$M_{\\star}$')\n",
    "axs[0].set_ylabel(r'# galaxies')\n",
    "axs[0].legend()\n",
    "axs[0].set_yscale('log')\n",
    "\n",
    "bins = np.linspace(np.min(df['color_g']), np.max(df['color_g']), 10)\n",
    "axs[1].hist(df['color_g'], bins = bins, color = 'gray', label = 'Truth')\n",
    "axs[1].hist(df_color['color_g'], bins = bins, color = 'C1', alpha = 0.5, label = 'Predition')\n",
    "axs[1].set_xlabel(r'Color')\n",
    "axs[1].set_ylabel(r'# galaxies')\n",
    "axs[1].legend()\n",
    "axs[1].set_yscale('log')\n",
    "\n",
    "bins = np.linspace(np.min(df['SFR_g']), np.max(df['SFR_g']), 10)\n",
    "axs[2].hist(df['SFR_g'], bins = bins, color = 'gray', label = 'Truth')\n",
    "axs[2].hist(df_sfr['SFR_g'], bins = bins, color = 'C2', alpha = 0.5, label = 'Predition')\n",
    "axs[2].set_xlabel(r'SFR')\n",
    "axs[2].set_ylabel(r'# galaxies')\n",
    "axs[2].legend()\n",
    "axs[2].set_yscale('log')"
   ]
  },
  {
   "cell_type": "code",
   "execution_count": 7,
   "id": "e07a4e87-13a5-4e59-b0ed-aa6f5b8592f4",
   "metadata": {},
   "outputs": [],
   "source": [
    "#Saving the augmented data\n",
    "df_sm.to_csv('../data/stellar_mass-smoogn_data.csv')\n",
    "df_color.to_csv('../data/color-smoogn_data.csv')\n",
    "df_sfr.to_csv('../data/SFR-smoogn_data.csv')"
   ]
  },
  {
   "cell_type": "code",
   "execution_count": null,
   "id": "30b9cb47-22d0-49b7-9969-2af6bd7e9654",
   "metadata": {},
   "outputs": [],
   "source": []
  }
 ],
 "metadata": {
  "kernelspec": {
   "display_name": "Python 3",
   "language": "python",
   "name": "python3"
  },
  "language_info": {
   "codemirror_mode": {
    "name": "ipython",
    "version": 3
   },
   "file_extension": ".py",
   "mimetype": "text/x-python",
   "name": "python",
   "nbconvert_exporter": "python",
   "pygments_lexer": "ipython3",
   "version": "3.8.10"
  }
 },
 "nbformat": 4,
 "nbformat_minor": 5
}
