{
 "cells": [
  {
   "cell_type": "markdown",
   "id": "8a4a6d89-7f70-4984-8657-bed5044b5153",
   "metadata": {},
   "source": [
    "# Optimizing the code\n",
    "\n",
    "### Authors: [Natalí S. M. de Santi](https://natalidesanti.github.io/) and [Christopher Lovell](https://www.christopherlovell.co.uk/)\n",
    "\n",
    "We can obtain better results doing a **hyperparameter optimization** and we can do this using `optuna`, a framework for automating the optimization process of these hyperparameters.\n",
    "\n",
    "The main idea is to use a metric, from your validation set, to look for the best set of hyperparameters:\n",
    "\n",
    "![](https://editor.analyticsvidhya.com/uploads/67819opt.png)\n",
    "\n",
    "Let's do it!"
   ]
  },
  {
   "cell_type": "markdown",
   "id": "94056ecf-0039-4caa-9f54-c1ccc715a3c9",
   "metadata": {},
   "source": [
    "## 0. Necessary libraries"
   ]
  },
  {
   "cell_type": "code",
   "execution_count": 2,
   "id": "ec45f287-9780-437c-a849-f9daced0d7fa",
   "metadata": {},
   "outputs": [],
   "source": [
    "import numpy as np\n",
    "import matplotlib.pyplot as plt\n",
    "import pandas as pd\n",
    "import h5py\n",
    "import seaborn as sns\n",
    "from keras import models\n",
    "from keras import layers\n",
    "from keras import regularizers\n",
    "import os\n",
    "from scipy.stats import gaussian_kde\n",
    "from numpy.random import seed\n",
    "from keras.wrappers.scikit_learn import KerasRegressor\n",
    "from sklearn.model_selection import train_test_split\n",
    "from sklearn.metrics import mean_squared_error\n",
    "import optuna"
   ]
  },
  {
   "cell_type": "markdown",
   "id": "12d77731-fd3c-46d2-a060-c94c49eeaf15",
   "metadata": {},
   "source": [
    "## 1. Reading the data"
   ]
  },
  {
   "cell_type": "code",
   "execution_count": 3,
   "id": "42d284a7-ec52-4df7-b74a-21aedfa5c48c",
   "metadata": {},
   "outputs": [],
   "source": [
    "df_train = pd.read_csv('../data/train-halos_and_gals.csv')\n",
    "df_test = pd.read_csv('../data/test-halos_and_gals.csv')"
   ]
  },
  {
   "cell_type": "markdown",
   "id": "99b64fc0-2f48-41ae-8abf-110929dd9180",
   "metadata": {},
   "source": [
    "Using:\n",
    "* halos: mass, radius, velocity modulus\n",
    "\n",
    "To predict\n",
    "* galaxies: stellar masses\n",
    "\n",
    "\\begin{equation}\n",
    " \\{ M_h, R_h, V_h \\} \\Rightarrow M_{\\star}\n",
    "\\end{equation}"
   ]
  },
  {
   "cell_type": "code",
   "execution_count": 4,
   "id": "4b0b6535-70f1-4a77-9ae9-568d92640c5c",
   "metadata": {},
   "outputs": [],
   "source": [
    "x_train = np.array([df_train['M_h'], df_train['R_h'], df_train['V_h']]).T\n",
    "x_test = np.array([df_test['M_h'], df_test['R_h'], df_test['V_h']]).T\n",
    "\n",
    "y_train = np.array([df_train['M_g']]).T\n",
    "y_test = np.array([df_test['M_g']]).T"
   ]
  },
  {
   "cell_type": "markdown",
   "id": "52e627f3-ffcb-437b-b138-85bf1a3209fd",
   "metadata": {},
   "source": [
    "## 2. Pre-processing the data\n",
    "\n",
    "We will do the following transformation\n",
    "\\begin{equation}\n",
    " data \\Rightarrow \\frac{(data - mean)}{std}\n",
    "\\end{equation}"
   ]
  },
  {
   "cell_type": "code",
   "execution_count": 5,
   "id": "1e08fd47-1e3d-4c26-8bc9-49862958f676",
   "metadata": {},
   "outputs": [
    {
     "data": {
      "text/plain": [
       "(array([10.72031404, -6.69246455,  2.14441201]),\n",
       " array([0.57831041, 0.19277028, 0.24073891]))"
      ]
     },
     "execution_count": 5,
     "metadata": {},
     "output_type": "execute_result"
    }
   ],
   "source": [
    "#Taking mean and std\n",
    "mean_data = np.mean(x_train, axis = 0)\n",
    "std_data = np.std(x_train, axis = 0)\n",
    "mean_data, std_data"
   ]
  },
  {
   "cell_type": "code",
   "execution_count": 6,
   "id": "66c8bdac-b3ee-4bcc-bbe3-976ed3f97f66",
   "metadata": {},
   "outputs": [],
   "source": [
    "x_train -= mean_data\n",
    "x_train /= std_data\n",
    "x_test -= mean_data\n",
    "x_test /= std_data"
   ]
  },
  {
   "cell_type": "code",
   "execution_count": null,
   "id": "fc5f857e-9306-4724-9008-eca606d4bc4d",
   "metadata": {},
   "outputs": [],
   "source": []
  },
  {
   "cell_type": "code",
   "execution_count": 6,
   "id": "8535fbe0-fa6f-45c4-b625-7ac1178af1a4",
   "metadata": {},
   "outputs": [],
   "source": [
    "def objective(trial):\n",
    "    \n",
    "    n_layers = trial.suggest_int('n_layers', 0, 5)\n",
    "    hiddens = trial.suggest_int('hiddens', 0, 64)\n",
    "    \n",
    "    def base_model():\n",
    "        model = models.Sequential() \n",
    "        model.add(layers.Dense(hiddens, activation = 'relu', input_shape = (x_train.shape[1],)))\n",
    "        for i in range(n_layers):\n",
    "            model.add(layers.Dense(hiddens, activation = 'relu'))\n",
    "        model.add(layers.Dense(3))\n",
    "        \n",
    "        model.compile(optimizer = 'Adamax', loss = 'mse')\n",
    "    \n",
    "        return model\n",
    "    \n",
    "    my_model = KerasRegressor(build_fn = base_model)\n",
    "    \n",
    "    no_epochs = 20\n",
    "    batch_size = 20\n",
    "    validation_split = 0.2\n",
    "    history = my_model.fit(x_train, y_train, epochs = no_epochs, batch_size = batch_size, \n",
    "                 validation_split = validation_split, verbose = False)\n",
    "\n",
    "    train_loss = history.history['loss']\n",
    "    val_loss = history.history['val_loss']\n",
    "    \n",
    "    validation = 10000.\n",
    "    \n",
    "    for i in range(no_epochs):\n",
    "        if val_loss[i] < train_loss[i]:\n",
    "            validation = val_loss[i]\n",
    "            \n",
    "            my_model.model.save('results/optuna_model.h5')\n",
    "        \n",
    "    return validation"
   ]
  },
  {
   "cell_type": "code",
   "execution_count": 7,
   "id": "bb102856-3cb4-4d7b-b8d6-b2ae1afef398",
   "metadata": {},
   "outputs": [
    {
     "name": "stderr",
     "output_type": "stream",
     "text": [
      "\u001b[32m[I 2023-01-19 10:47:55,409]\u001b[0m A new study created in memory with name: no-name-422bfecc-3630-41d6-846a-ad87c29923e7\u001b[0m\n",
      "\u001b[32m[I 2023-01-19 10:47:59,256]\u001b[0m Trial 0 finished with value: 9.809013366699219 and parameters: {'n_layers': 0, 'hiddens': 11}. Best is trial 0 with value: 9.809013366699219.\u001b[0m\n"
     ]
    }
   ],
   "source": [
    "study = optuna.create_study(direction = 'minimize')\n",
    "study.optimize(objective, n_trials = 1)"
   ]
  },
  {
   "cell_type": "code",
   "execution_count": null,
   "id": "5af17cbd-85bd-4754-8e62-cb89c98e0371",
   "metadata": {},
   "outputs": [],
   "source": []
  }
 ],
 "metadata": {
  "kernelspec": {
   "display_name": "Python 3",
   "language": "python",
   "name": "python3"
  },
  "language_info": {
   "codemirror_mode": {
    "name": "ipython",
    "version": 3
   },
   "file_extension": ".py",
   "mimetype": "text/x-python",
   "name": "python",
   "nbconvert_exporter": "python",
   "pygments_lexer": "ipython3",
   "version": "3.8.10"
  }
 },
 "nbformat": 4,
 "nbformat_minor": 5
}
