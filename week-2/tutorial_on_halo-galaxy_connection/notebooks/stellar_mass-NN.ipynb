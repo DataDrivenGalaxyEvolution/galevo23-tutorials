{
 "cells": [
  {
   "cell_type": "code",
   "execution_count": 1,
   "id": "174087da-c4f5-4566-8490-eb02d23bd81f",
   "metadata": {},
   "outputs": [],
   "source": [
    "import numpy as np\n",
    "import matplotlib.pyplot as plt\n",
    "import pandas as pd\n",
    "import h5py\n",
    "import seaborn as sns\n",
    "from keras import models\n",
    "from keras import layers\n",
    "from keras import regularizers\n",
    "import os\n",
    "from scipy.stats import gaussian_kde\n",
    "from numpy.random import seed\n",
    "from keras.wrappers.scikit_learn import KerasRegressor\n",
    "from sklearn.model_selection import train_test_split\n",
    "from sklearn.metrics import mean_squared_error"
   ]
  },
  {
   "cell_type": "markdown",
   "id": "b3fef967-590f-41e4-9a4b-1389b4494b3d",
   "metadata": {},
   "source": [
    "[![Open this notebook in Colab](https://colab.research.google.com/assets/colab-badge.svg)](https://colab.research.google.com/github/natalidesanti/galevo23-tutorials/blob/tutorial_on_halo-galaxy_connection/week-2/tutorial_on_halo-galaxy_connection/notebooks/stellar_mass-NN.ipynb)"
   ]
  },
  {
   "cell_type": "code",
   "execution_count": 2,
   "id": "b151783c-ae07-4330-afef-9a57c876b95f",
   "metadata": {},
   "outputs": [],
   "source": [
    "df_train = pd.read_csv('../data/stellar_mass-smoogn_data.csv')\n",
    "df_test = pd.read_csv('../data/test-halos_and_gals.csv')"
   ]
  },
  {
   "cell_type": "code",
   "execution_count": 3,
   "id": "f6a91f39-6aaf-4dc0-aa70-d1a71810c0e2",
   "metadata": {},
   "outputs": [],
   "source": [
    "x_train = np.array([df_train['M_h'], df_train['R_h'], df_train['V_h']]).T\n",
    "x_test = np.array([df_test['M_h'], df_test['R_h'], df_test['V_h']]).T\n",
    "\n",
    "y_train = np.array([df_train['M_g']]).T\n",
    "y_test = np.array([df_test['M_g']]).T"
   ]
  },
  {
   "cell_type": "code",
   "execution_count": 4,
   "id": "65f294e4-e192-4dd3-814f-586231aca83e",
   "metadata": {},
   "outputs": [
    {
     "data": {
      "text/plain": [
       "((1001, 3), (303, 3), (1001, 1), (303, 1))"
      ]
     },
     "execution_count": 4,
     "metadata": {},
     "output_type": "execute_result"
    }
   ],
   "source": [
    "x_train.shape, x_test.shape, y_train.shape, y_test.shape"
   ]
  },
  {
   "cell_type": "code",
   "execution_count": 5,
   "id": "a38d132e-9c1c-4666-b0f5-e6d5eabfa9b2",
   "metadata": {},
   "outputs": [
    {
     "data": {
      "text/plain": [
       "(array([11.21893708, -6.5262624 ,  2.13033063]),\n",
       " array([0.7073557 , 0.2357897 , 0.23718377]))"
      ]
     },
     "execution_count": 5,
     "metadata": {},
     "output_type": "execute_result"
    }
   ],
   "source": [
    "#Preparing data\n",
    "mean_data = np.mean(x_train, axis = 0)\n",
    "std_data = np.std(x_train, axis = 0)\n",
    "mean_data, std_data"
   ]
  },
  {
   "cell_type": "code",
   "execution_count": 6,
   "id": "b8002c2c-ac23-476b-9915-14ef3db23fe4",
   "metadata": {},
   "outputs": [],
   "source": [
    "x_train -= mean_data\n",
    "x_train /= std_data\n",
    "x_test -= mean_data\n",
    "x_test /= std_data"
   ]
  },
  {
   "cell_type": "code",
   "execution_count": 7,
   "id": "7ea90475-0cb0-4fe4-be26-435b8d6736fa",
   "metadata": {},
   "outputs": [],
   "source": [
    "def base_model():\n",
    "    model = models.Sequential() \n",
    "    model.add(layers.Dense(64, activation = 'relu', input_shape = (x_train.shape[1],)))\n",
    "    model.add(layers.Dense(32, activation = 'relu'))\n",
    "    model.add(layers.Dense(1))\n",
    "    \n",
    "    print(model.summary())\n",
    "    \n",
    "    model.compile(optimizer = 'Adamax', loss = 'mse')\n",
    "    \n",
    "    return model"
   ]
  },
  {
   "cell_type": "code",
   "execution_count": 8,
   "id": "cc173ba6-4dfc-44e4-a660-cfac69f60f43",
   "metadata": {},
   "outputs": [
    {
     "name": "stdout",
     "output_type": "stream",
     "text": [
      "Model: \"sequential\"\n",
      "_________________________________________________________________\n",
      " Layer (type)                Output Shape              Param #   \n",
      "=================================================================\n",
      " dense (Dense)               (None, 64)                256       \n",
      "                                                                 \n",
      " dense_1 (Dense)             (None, 32)                2080      \n",
      "                                                                 \n",
      " dense_2 (Dense)             (None, 1)                 33        \n",
      "                                                                 \n",
      "=================================================================\n",
      "Total params: 2,369\n",
      "Trainable params: 2,369\n",
      "Non-trainable params: 0\n",
      "_________________________________________________________________\n",
      "None\n"
     ]
    },
    {
     "data": {
      "text/plain": [
       "<keras.engine.sequential.Sequential at 0x7efdd460c6a0>"
      ]
     },
     "execution_count": 8,
     "metadata": {},
     "output_type": "execute_result"
    }
   ],
   "source": [
    "my_model = base_model()\n",
    "my_model"
   ]
  },
  {
   "cell_type": "code",
   "execution_count": 9,
   "id": "ced916ec-f2dc-45a6-a218-a8f7cd44f599",
   "metadata": {},
   "outputs": [
    {
     "name": "stdout",
     "output_type": "stream",
     "text": [
      "Epoch 1/100\n",
      "8/8 [==============================] - 1s 30ms/step - loss: 80.5277 - val_loss: 68.5074\n",
      "Epoch 2/100\n",
      "8/8 [==============================] - 0s 5ms/step - loss: 77.7240 - val_loss: 65.8922\n",
      "Epoch 3/100\n",
      "8/8 [==============================] - 0s 5ms/step - loss: 75.3250 - val_loss: 63.4122\n",
      "Epoch 4/100\n",
      "8/8 [==============================] - 0s 6ms/step - loss: 72.9634 - val_loss: 60.8405\n",
      "Epoch 5/100\n",
      "8/8 [==============================] - 0s 5ms/step - loss: 70.5203 - val_loss: 58.1342\n",
      "Epoch 6/100\n",
      "8/8 [==============================] - 0s 5ms/step - loss: 67.8430 - val_loss: 55.1010\n",
      "Epoch 7/100\n",
      "8/8 [==============================] - 0s 5ms/step - loss: 64.8758 - val_loss: 51.7384\n",
      "Epoch 8/100\n",
      "8/8 [==============================] - 0s 5ms/step - loss: 61.6247 - val_loss: 48.2538\n",
      "Epoch 9/100\n",
      "8/8 [==============================] - 0s 6ms/step - loss: 58.1566 - val_loss: 44.5655\n",
      "Epoch 10/100\n",
      "8/8 [==============================] - 0s 5ms/step - loss: 54.4049 - val_loss: 40.6986\n",
      "Epoch 11/100\n",
      "8/8 [==============================] - 0s 5ms/step - loss: 50.2668 - val_loss: 36.6372\n",
      "Epoch 12/100\n",
      "8/8 [==============================] - 0s 5ms/step - loss: 45.8782 - val_loss: 32.5090\n",
      "Epoch 13/100\n",
      "8/8 [==============================] - 0s 5ms/step - loss: 41.3188 - val_loss: 28.3739\n",
      "Epoch 14/100\n",
      "8/8 [==============================] - 0s 5ms/step - loss: 36.6101 - val_loss: 24.3886\n",
      "Epoch 15/100\n",
      "8/8 [==============================] - 0s 5ms/step - loss: 32.0442 - val_loss: 20.7120\n",
      "Epoch 16/100\n",
      "8/8 [==============================] - 0s 5ms/step - loss: 27.6353 - val_loss: 17.4265\n",
      "Epoch 17/100\n",
      "8/8 [==============================] - 0s 6ms/step - loss: 23.5641 - val_loss: 14.6200\n",
      "Epoch 18/100\n",
      "8/8 [==============================] - 0s 5ms/step - loss: 19.9481 - val_loss: 12.3636\n",
      "Epoch 19/100\n",
      "8/8 [==============================] - 0s 5ms/step - loss: 16.8624 - val_loss: 10.6815\n",
      "Epoch 20/100\n",
      "8/8 [==============================] - 0s 5ms/step - loss: 14.4276 - val_loss: 9.5168\n",
      "Epoch 21/100\n",
      "8/8 [==============================] - 0s 5ms/step - loss: 12.5680 - val_loss: 8.7713\n",
      "Epoch 22/100\n",
      "8/8 [==============================] - 0s 5ms/step - loss: 11.2257 - val_loss: 8.3236\n",
      "Epoch 23/100\n",
      "8/8 [==============================] - 0s 5ms/step - loss: 10.3008 - val_loss: 8.0453\n",
      "Epoch 24/100\n",
      "8/8 [==============================] - 0s 5ms/step - loss: 9.6470 - val_loss: 7.8323\n",
      "Epoch 25/100\n",
      "8/8 [==============================] - 0s 5ms/step - loss: 9.1295 - val_loss: 7.6264\n",
      "Epoch 26/100\n",
      "8/8 [==============================] - 0s 5ms/step - loss: 8.7276 - val_loss: 7.4045\n",
      "Epoch 27/100\n",
      "8/8 [==============================] - 0s 6ms/step - loss: 8.3679 - val_loss: 7.1824\n",
      "Epoch 28/100\n",
      "8/8 [==============================] - 0s 6ms/step - loss: 7.9919 - val_loss: 6.9128\n",
      "Epoch 29/100\n",
      "8/8 [==============================] - 0s 5ms/step - loss: 7.6626 - val_loss: 6.6406\n",
      "Epoch 30/100\n",
      "8/8 [==============================] - 0s 5ms/step - loss: 7.3356 - val_loss: 6.3669\n",
      "Epoch 31/100\n",
      "8/8 [==============================] - 0s 5ms/step - loss: 7.0124 - val_loss: 6.1158\n",
      "Epoch 32/100\n",
      "8/8 [==============================] - 0s 5ms/step - loss: 6.7083 - val_loss: 5.8603\n",
      "Epoch 33/100\n",
      "8/8 [==============================] - 0s 5ms/step - loss: 6.3986 - val_loss: 5.6273\n",
      "Epoch 34/100\n",
      "8/8 [==============================] - 0s 5ms/step - loss: 6.1045 - val_loss: 5.3937\n",
      "Epoch 35/100\n",
      "8/8 [==============================] - 0s 6ms/step - loss: 5.8250 - val_loss: 5.1559\n",
      "Epoch 36/100\n",
      "8/8 [==============================] - 0s 5ms/step - loss: 5.5396 - val_loss: 4.9456\n",
      "Epoch 37/100\n",
      "8/8 [==============================] - 0s 5ms/step - loss: 5.2725 - val_loss: 4.7338\n",
      "Epoch 38/100\n",
      "8/8 [==============================] - 0s 5ms/step - loss: 5.0167 - val_loss: 4.5184\n",
      "Epoch 39/100\n",
      "8/8 [==============================] - 0s 5ms/step - loss: 4.7708 - val_loss: 4.3160\n",
      "Epoch 40/100\n",
      "8/8 [==============================] - 0s 5ms/step - loss: 4.5273 - val_loss: 4.1293\n",
      "Epoch 41/100\n",
      "8/8 [==============================] - 0s 5ms/step - loss: 4.2981 - val_loss: 3.9576\n",
      "Epoch 42/100\n",
      "8/8 [==============================] - 0s 5ms/step - loss: 4.0838 - val_loss: 3.7753\n",
      "Epoch 43/100\n",
      "8/8 [==============================] - 0s 5ms/step - loss: 3.8714 - val_loss: 3.5977\n",
      "Epoch 44/100\n",
      "8/8 [==============================] - 0s 5ms/step - loss: 3.6721 - val_loss: 3.4339\n",
      "Epoch 45/100\n",
      "8/8 [==============================] - 0s 5ms/step - loss: 3.4858 - val_loss: 3.2752\n",
      "Epoch 46/100\n",
      "8/8 [==============================] - 0s 5ms/step - loss: 3.3021 - val_loss: 3.1313\n",
      "Epoch 47/100\n",
      "8/8 [==============================] - 0s 5ms/step - loss: 3.1304 - val_loss: 2.9776\n",
      "Epoch 48/100\n",
      "8/8 [==============================] - 0s 5ms/step - loss: 2.9663 - val_loss: 2.8555\n",
      "Epoch 49/100\n",
      "8/8 [==============================] - 0s 5ms/step - loss: 2.8145 - val_loss: 2.7119\n",
      "Epoch 50/100\n",
      "8/8 [==============================] - 0s 6ms/step - loss: 2.6655 - val_loss: 2.5900\n",
      "Epoch 51/100\n",
      "8/8 [==============================] - 0s 5ms/step - loss: 2.5251 - val_loss: 2.4662\n",
      "Epoch 52/100\n",
      "8/8 [==============================] - 0s 6ms/step - loss: 2.3961 - val_loss: 2.3421\n",
      "Epoch 53/100\n",
      "8/8 [==============================] - 0s 5ms/step - loss: 2.2688 - val_loss: 2.2356\n",
      "Epoch 54/100\n",
      "8/8 [==============================] - 0s 5ms/step - loss: 2.1520 - val_loss: 2.1314\n",
      "Epoch 55/100\n",
      "8/8 [==============================] - 0s 6ms/step - loss: 2.0382 - val_loss: 2.0345\n",
      "Epoch 56/100\n",
      "8/8 [==============================] - 0s 5ms/step - loss: 1.9352 - val_loss: 1.9404\n",
      "Epoch 57/100\n",
      "8/8 [==============================] - 0s 5ms/step - loss: 1.8361 - val_loss: 1.8554\n",
      "Epoch 58/100\n",
      "8/8 [==============================] - 0s 5ms/step - loss: 1.7435 - val_loss: 1.7677\n",
      "Epoch 59/100\n",
      "8/8 [==============================] - 0s 5ms/step - loss: 1.6571 - val_loss: 1.6812\n",
      "Epoch 60/100\n",
      "8/8 [==============================] - 0s 5ms/step - loss: 1.5727 - val_loss: 1.6044\n",
      "Epoch 61/100\n",
      "8/8 [==============================] - 0s 5ms/step - loss: 1.4971 - val_loss: 1.5238\n",
      "Epoch 62/100\n",
      "8/8 [==============================] - 0s 5ms/step - loss: 1.4212 - val_loss: 1.4570\n",
      "Epoch 63/100\n",
      "8/8 [==============================] - 0s 5ms/step - loss: 1.3532 - val_loss: 1.3862\n",
      "Epoch 64/100\n",
      "8/8 [==============================] - 0s 6ms/step - loss: 1.2857 - val_loss: 1.3282\n",
      "Epoch 65/100\n",
      "8/8 [==============================] - 0s 5ms/step - loss: 1.2241 - val_loss: 1.2742\n",
      "Epoch 66/100\n",
      "8/8 [==============================] - 0s 5ms/step - loss: 1.1660 - val_loss: 1.2198\n",
      "Epoch 67/100\n",
      "8/8 [==============================] - 0s 5ms/step - loss: 1.1095 - val_loss: 1.1616\n",
      "Epoch 68/100\n",
      "8/8 [==============================] - 0s 5ms/step - loss: 1.0585 - val_loss: 1.1056\n",
      "Epoch 69/100\n",
      "8/8 [==============================] - 0s 5ms/step - loss: 1.0050 - val_loss: 1.0597\n",
      "Epoch 70/100\n",
      "8/8 [==============================] - 0s 5ms/step - loss: 0.9588 - val_loss: 1.0100\n",
      "Epoch 71/100\n",
      "8/8 [==============================] - 0s 5ms/step - loss: 0.9127 - val_loss: 0.9667\n",
      "Epoch 72/100\n",
      "8/8 [==============================] - 0s 5ms/step - loss: 0.8694 - val_loss: 0.9257\n",
      "Epoch 73/100\n",
      "8/8 [==============================] - 0s 5ms/step - loss: 0.8289 - val_loss: 0.8890\n",
      "Epoch 74/100\n",
      "8/8 [==============================] - 0s 5ms/step - loss: 0.7921 - val_loss: 0.8459\n",
      "Epoch 75/100\n",
      "8/8 [==============================] - 0s 5ms/step - loss: 0.7534 - val_loss: 0.8082\n",
      "Epoch 76/100\n",
      "8/8 [==============================] - 0s 6ms/step - loss: 0.7178 - val_loss: 0.7765\n",
      "Epoch 77/100\n",
      "8/8 [==============================] - 0s 6ms/step - loss: 0.6851 - val_loss: 0.7469\n",
      "Epoch 78/100\n",
      "8/8 [==============================] - 0s 5ms/step - loss: 0.6546 - val_loss: 0.7116\n",
      "Epoch 79/100\n",
      "8/8 [==============================] - 0s 5ms/step - loss: 0.6240 - val_loss: 0.6807\n",
      "Epoch 80/100\n",
      "8/8 [==============================] - 0s 5ms/step - loss: 0.5969 - val_loss: 0.6497\n",
      "Epoch 81/100\n",
      "8/8 [==============================] - 0s 5ms/step - loss: 0.5699 - val_loss: 0.6186\n",
      "Epoch 82/100\n",
      "8/8 [==============================] - 0s 5ms/step - loss: 0.5444 - val_loss: 0.5935\n",
      "Epoch 83/100\n",
      "8/8 [==============================] - 0s 5ms/step - loss: 0.5200 - val_loss: 0.5706\n",
      "Epoch 84/100\n",
      "8/8 [==============================] - 0s 5ms/step - loss: 0.4996 - val_loss: 0.5419\n",
      "Epoch 85/100\n",
      "8/8 [==============================] - 0s 5ms/step - loss: 0.4750 - val_loss: 0.5233\n",
      "Epoch 86/100\n",
      "8/8 [==============================] - 0s 5ms/step - loss: 0.4560 - val_loss: 0.4990\n",
      "Epoch 87/100\n",
      "8/8 [==============================] - 0s 5ms/step - loss: 0.4343 - val_loss: 0.4831\n",
      "Epoch 88/100\n",
      "8/8 [==============================] - 0s 5ms/step - loss: 0.4157 - val_loss: 0.4641\n",
      "Epoch 89/100\n",
      "8/8 [==============================] - 0s 5ms/step - loss: 0.3985 - val_loss: 0.4418\n",
      "Epoch 90/100\n",
      "8/8 [==============================] - 0s 5ms/step - loss: 0.3802 - val_loss: 0.4260\n",
      "Epoch 91/100\n",
      "8/8 [==============================] - 0s 5ms/step - loss: 0.3641 - val_loss: 0.4084\n",
      "Epoch 92/100\n",
      "8/8 [==============================] - 0s 5ms/step - loss: 0.3486 - val_loss: 0.3936\n",
      "Epoch 93/100\n",
      "8/8 [==============================] - 0s 5ms/step - loss: 0.3338 - val_loss: 0.3767\n",
      "Epoch 94/100\n",
      "8/8 [==============================] - 0s 5ms/step - loss: 0.3206 - val_loss: 0.3588\n",
      "Epoch 95/100\n",
      "8/8 [==============================] - 0s 5ms/step - loss: 0.3060 - val_loss: 0.3463\n",
      "Epoch 96/100\n",
      "8/8 [==============================] - 0s 5ms/step - loss: 0.2933 - val_loss: 0.3354\n",
      "Epoch 97/100\n",
      "8/8 [==============================] - 0s 5ms/step - loss: 0.2816 - val_loss: 0.3205\n",
      "Epoch 98/100\n",
      "8/8 [==============================] - 0s 5ms/step - loss: 0.2694 - val_loss: 0.3094\n",
      "Epoch 99/100\n",
      "8/8 [==============================] - 0s 5ms/step - loss: 0.2588 - val_loss: 0.2999\n",
      "Epoch 100/100\n",
      "8/8 [==============================] - 0s 5ms/step - loss: 0.2476 - val_loss: 0.2881\n"
     ]
    },
    {
     "data": {
      "text/plain": [
       "<keras.callbacks.History at 0x7efd280983a0>"
      ]
     },
     "execution_count": 9,
     "metadata": {},
     "output_type": "execute_result"
    }
   ],
   "source": [
    "#Fitting data\n",
    "no_epochs = 100\n",
    "batch_size = 100\n",
    "validation_split = 0.2\n",
    "history = my_model.fit(x_train, y_train, epochs = no_epochs, batch_size = batch_size, validation_split = validation_split)\n",
    "history"
   ]
  },
  {
   "cell_type": "code",
   "execution_count": 10,
   "id": "4a7ccebc-0406-42b6-96f3-e82cedc471cc",
   "metadata": {},
   "outputs": [],
   "source": [
    "train_loss = history.history['loss']\n",
    "train_val_loss = history.history['val_loss']\n",
    "epochs = range(1, len(train_loss) + 1)"
   ]
  },
  {
   "cell_type": "code",
   "execution_count": 11,
   "id": "e36ea0c2-28a1-4578-aa53-9285f808984c",
   "metadata": {},
   "outputs": [
    {
     "data": {
      "text/plain": [
       "Text(0.5, 0, 'Epochs')"
      ]
     },
     "execution_count": 11,
     "metadata": {},
     "output_type": "execute_result"
    },
    {
     "data": {
      "image/png": "[encoded data removed]",
      "text/plain": [
       "<Figure size 600x400 with 1 Axes>"
      ]
     },
     "metadata": {
      "needs_background": "light"
     },
     "output_type": "display_data"
    }
   ],
   "source": [
    "plt.figure(dpi=100)\n",
    "plt.plot(epochs, train_loss, color = 'black',label = 'Loss')\n",
    "plt.scatter(epochs, train_val_loss, s = 5, color = 'red', label = 'Val Loss')\n",
    "plt.legend()  \n",
    "plt.title('MSE loss: All')\n",
    "plt.ylabel('Loss')\n",
    "plt.xlabel('Epochs')"
   ]
  },
  {
   "cell_type": "code",
   "execution_count": 12,
   "id": "5854e96d-dced-4bcb-8188-ecc56eeba446",
   "metadata": {},
   "outputs": [
    {
     "name": "stdout",
     "output_type": "stream",
     "text": [
      "10/10 [==============================] - 0s 1ms/step\n"
     ]
    }
   ],
   "source": [
    "#Prediction\n",
    "prediction = my_model.predict(x_test)"
   ]
  },
  {
   "cell_type": "code",
   "execution_count": 13,
   "id": "48ddfa93-8159-45bf-a676-ea83117a6e8f",
   "metadata": {},
   "outputs": [
    {
     "data": {
      "text/plain": [
       "0.2423624606858279"
      ]
     },
     "execution_count": 13,
     "metadata": {},
     "output_type": "execute_result"
    }
   ],
   "source": [
    "#Scores\n",
    "MSE = mean_squared_error(prediction, y_test)\n",
    "MSE"
   ]
  },
  {
   "cell_type": "code",
   "execution_count": 15,
   "id": "4eb59ce9-f010-4490-bd90-abb9cd7a8437",
   "metadata": {},
   "outputs": [
    {
     "data": {
      "text/plain": [
       "<matplotlib.legend.Legend at 0x7efcc01e3280>"
      ]
     },
     "execution_count": 15,
     "metadata": {},
     "output_type": "execute_result"
    },
    {
     "data": {
      "image/png": "[encoded data removed]",
      "text/plain": [
       "<Figure size 600x400 with 1 Axes>"
      ]
     },
     "metadata": {
      "needs_background": "light"
     },
     "output_type": "display_data"
    }
   ],
   "source": [
    "plt.figure(dpi = 100)\n",
    "plt.title('Galaxy prediction')\n",
    "plt.scatter(y_test[:, 0], prediction[:, 0], s = 5, color = 'C0', label = '$M_{\\star}$')\n",
    "plt.xlabel(r'Truth')\n",
    "plt.plot(y_test[:, 0], y_test[:, 0], color = 'black')\n",
    "plt.ylabel(r'Predition')\n",
    "plt.legend()"
   ]
  },
  {
   "cell_type": "code",
   "execution_count": 17,
   "id": "2d0e4908-7d82-42c9-aecc-4c3c4bb6b7d6",
   "metadata": {},
   "outputs": [
    {
     "data": {
      "image/png": "[encoded data removed]",
      "text/plain": [
       "<Figure size 600x400 with 1 Axes>"
      ]
     },
     "metadata": {
      "needs_background": "light"
     },
     "output_type": "display_data"
    }
   ],
   "source": [
    "plt.figure(dpi = 100)\n",
    "plt.title('Galaxy prediction')\n",
    "\n",
    "bins = np.linspace(np.min(y_test[:, 0]), np.max(y_test[:, 0]), 10)\n",
    "plt.hist(y_test[:, 0], bins = bins, color = 'gray', label = 'Truth')\n",
    "plt.hist(prediction[:, 0], bins = bins, color = 'C0', alpha = 0.5, label = 'Predition')\n",
    "plt.xlabel(r'$M_{\\star}$')\n",
    "plt.ylabel(r'# galaxies')\n",
    "plt.legend()\n",
    "plt.yscale('log')"
   ]
  },
  {
   "cell_type": "code",
   "execution_count": null,
   "id": "c907291d-d5bc-4b28-8a1d-8c3b0b44589a",
   "metadata": {},
   "outputs": [],
   "source": []
  }
 ],
 "metadata": {
  "kernelspec": {
   "display_name": "Python 3",
   "language": "python",
   "name": "python3"
  },
  "language_info": {
   "codemirror_mode": {
    "name": "ipython",
    "version": 3
   },
   "file_extension": ".py",
   "mimetype": "text/x-python",
   "name": "python",
   "nbconvert_exporter": "python",
   "pygments_lexer": "ipython3",
   "version": "3.8.10"
  }
 },
 "nbformat": 4,
 "nbformat_minor": 5
}
