{
  "nbformat": 4,
  "nbformat_minor": 0,
  "metadata": {
    "colab": {
      "provenance": [],
      "collapsed_sections": [
        "csK7PioklO9E",
        "k57mZvNLhp1O"
      ],
      "authorship_tag": "ABX9TyOTS3TalZ8RxmbCYSVLWsNp",
      "include_colab_link": true
    },
    "kernelspec": {
      "name": "python3",
      "display_name": "Python 3"
    },
    "language_info": {
      "name": "python"
    },
    "widgets": {
      "application/vnd.jupyter.widget-state+json": {
        "803cd476f6c24b3cbd14a76fd81c89f2": {
          "model_module": "@jupyter-widgets/controls",
          "model_name": "HBoxModel",
          "model_module_version": "1.5.0",
          "state": {
            "_dom_classes": [],
            "_model_module": "@jupyter-widgets/controls",
            "_model_module_version": "1.5.0",
            "_model_name": "HBoxModel",
            "_view_count": null,
            "_view_module": "@jupyter-widgets/controls",
            "_view_module_version": "1.5.0",
            "_view_name": "HBoxView",
            "box_style": "",
            "children": [
              "IPY_MODEL_f5965c45fc534ccab4d807a860f583ac",
              "IPY_MODEL_4b037cf7762044c79e0466e08450c317",
              "IPY_MODEL_0d839b246fa444ecb03c1b916e14395c"
            ],
            "layout": "IPY_MODEL_105fdd0831794a12a576b8af12bd8bfb"
          }
        },
        "f5965c45fc534ccab4d807a860f583ac": {
          "model_module": "@jupyter-widgets/controls",
          "model_name": "HTMLModel",
          "model_module_version": "1.5.0",
          "state": {
            "_dom_classes": [],
            "_model_module": "@jupyter-widgets/controls",
            "_model_module_version": "1.5.0",
            "_model_name": "HTMLModel",
            "_view_count": null,
            "_view_module": "@jupyter-widgets/controls",
            "_view_module_version": "1.5.0",
            "_view_name": "HTMLView",
            "description": "",
            "description_tooltip": null,
            "layout": "IPY_MODEL_7d1b6b2cb5774411a2526ff02a28f5fc",
            "placeholder": "​",
            "style": "IPY_MODEL_01414caa728441fbb856b19e53857828",
            "value": "100%"
          }
        },
        "4b037cf7762044c79e0466e08450c317": {
          "model_module": "@jupyter-widgets/controls",
          "model_name": "FloatProgressModel",
          "model_module_version": "1.5.0",
          "state": {
            "_dom_classes": [],
            "_model_module": "@jupyter-widgets/controls",
            "_model_module_version": "1.5.0",
            "_model_name": "FloatProgressModel",
            "_view_count": null,
            "_view_module": "@jupyter-widgets/controls",
            "_view_module_version": "1.5.0",
            "_view_name": "ProgressView",
            "bar_style": "success",
            "description": "",
            "description_tooltip": null,
            "layout": "IPY_MODEL_4a079d4f5bbb4eeca2a7c938dd849aa7",
            "max": 200,
            "min": 0,
            "orientation": "horizontal",
            "style": "IPY_MODEL_4c1fb160edbe49ac8f209c4635133b23",
            "value": 200
          }
        },
        "0d839b246fa444ecb03c1b916e14395c": {
          "model_module": "@jupyter-widgets/controls",
          "model_name": "HTMLModel",
          "model_module_version": "1.5.0",
          "state": {
            "_dom_classes": [],
            "_model_module": "@jupyter-widgets/controls",
            "_model_module_version": "1.5.0",
            "_model_name": "HTMLModel",
            "_view_count": null,
            "_view_module": "@jupyter-widgets/controls",
            "_view_module_version": "1.5.0",
            "_view_name": "HTMLView",
            "description": "",
            "description_tooltip": null,
            "layout": "IPY_MODEL_627186c6ddd24c3f89d12b149a17cbf3",
            "placeholder": "​",
            "style": "IPY_MODEL_8c47aeb743ed4a9a899cbd5264b13a18",
            "value": " 200/200 [00:00&lt;00:00, 1785.64it/s]"
          }
        },
        "105fdd0831794a12a576b8af12bd8bfb": {
          "model_module": "@jupyter-widgets/base",
          "model_name": "LayoutModel",
          "model_module_version": "1.2.0",
          "state": {
            "_model_module": "@jupyter-widgets/base",
            "_model_module_version": "1.2.0",
            "_model_name": "LayoutModel",
            "_view_count": null,
            "_view_module": "@jupyter-widgets/base",
            "_view_module_version": "1.2.0",
            "_view_name": "LayoutView",
            "align_content": null,
            "align_items": null,
            "align_self": null,
            "border": null,
            "bottom": null,
            "display": null,
            "flex": null,
            "flex_flow": null,
            "grid_area": null,
            "grid_auto_columns": null,
            "grid_auto_flow": null,
            "grid_auto_rows": null,
            "grid_column": null,
            "grid_gap": null,
            "grid_row": null,
            "grid_template_areas": null,
            "grid_template_columns": null,
            "grid_template_rows": null,
            "height": null,
            "justify_content": null,
            "justify_items": null,
            "left": null,
            "margin": null,
            "max_height": null,
            "max_width": null,
            "min_height": null,
            "min_width": null,
            "object_fit": null,
            "object_position": null,
            "order": null,
            "overflow": null,
            "overflow_x": null,
            "overflow_y": null,
            "padding": null,
            "right": null,
            "top": null,
            "visibility": null,
            "width": null
          }
        },
        "7d1b6b2cb5774411a2526ff02a28f5fc": {
          "model_module": "@jupyter-widgets/base",
          "model_name": "LayoutModel",
          "model_module_version": "1.2.0",
          "state": {
            "_model_module": "@jupyter-widgets/base",
            "_model_module_version": "1.2.0",
            "_model_name": "LayoutModel",
            "_view_count": null,
            "_view_module": "@jupyter-widgets/base",
            "_view_module_version": "1.2.0",
            "_view_name": "LayoutView",
            "align_content": null,
            "align_items": null,
            "align_self": null,
            "border": null,
            "bottom": null,
            "display": null,
            "flex": null,
            "flex_flow": null,
            "grid_area": null,
            "grid_auto_columns": null,
            "grid_auto_flow": null,
            "grid_auto_rows": null,
            "grid_column": null,
            "grid_gap": null,
            "grid_row": null,
            "grid_template_areas": null,
            "grid_template_columns": null,
            "grid_template_rows": null,
            "height": null,
            "justify_content": null,
            "justify_items": null,
            "left": null,
            "margin": null,
            "max_height": null,
            "max_width": null,
            "min_height": null,
            "min_width": null,
            "object_fit": null,
            "object_position": null,
            "order": null,
            "overflow": null,
            "overflow_x": null,
            "overflow_y": null,
            "padding": null,
            "right": null,
            "top": null,
            "visibility": null,
            "width": null
          }
        },
        "01414caa728441fbb856b19e53857828": {
          "model_module": "@jupyter-widgets/controls",
          "model_name": "DescriptionStyleModel",
          "model_module_version": "1.5.0",
          "state": {
            "_model_module": "@jupyter-widgets/controls",
            "_model_module_version": "1.5.0",
            "_model_name": "DescriptionStyleModel",
            "_view_count": null,
            "_view_module": "@jupyter-widgets/base",
            "_view_module_version": "1.2.0",
            "_view_name": "StyleView",
            "description_width": ""
          }
        },
        "4a079d4f5bbb4eeca2a7c938dd849aa7": {
          "model_module": "@jupyter-widgets/base",
          "model_name": "LayoutModel",
          "model_module_version": "1.2.0",
          "state": {
            "_model_module": "@jupyter-widgets/base",
            "_model_module_version": "1.2.0",
            "_model_name": "LayoutModel",
            "_view_count": null,
            "_view_module": "@jupyter-widgets/base",
            "_view_module_version": "1.2.0",
            "_view_name": "LayoutView",
            "align_content": null,
            "align_items": null,
            "align_self": null,
            "border": null,
            "bottom": null,
            "display": null,
            "flex": null,
            "flex_flow": null,
            "grid_area": null,
            "grid_auto_columns": null,
            "grid_auto_flow": null,
            "grid_auto_rows": null,
            "grid_column": null,
            "grid_gap": null,
            "grid_row": null,
            "grid_template_areas": null,
            "grid_template_columns": null,
            "grid_template_rows": null,
            "height": null,
            "justify_content": null,
            "justify_items": null,
            "left": null,
            "margin": null,
            "max_height": null,
            "max_width": null,
            "min_height": null,
            "min_width": null,
            "object_fit": null,
            "object_position": null,
            "order": null,
            "overflow": null,
            "overflow_x": null,
            "overflow_y": null,
            "padding": null,
            "right": null,
            "top": null,
            "visibility": null,
            "width": null
          }
        },
        "4c1fb160edbe49ac8f209c4635133b23": {
          "model_module": "@jupyter-widgets/controls",
          "model_name": "ProgressStyleModel",
          "model_module_version": "1.5.0",
          "state": {
            "_model_module": "@jupyter-widgets/controls",
            "_model_module_version": "1.5.0",
            "_model_name": "ProgressStyleModel",
            "_view_count": null,
            "_view_module": "@jupyter-widgets/base",
            "_view_module_version": "1.2.0",
            "_view_name": "StyleView",
            "bar_color": null,
            "description_width": ""
          }
        },
        "627186c6ddd24c3f89d12b149a17cbf3": {
          "model_module": "@jupyter-widgets/base",
          "model_name": "LayoutModel",
          "model_module_version": "1.2.0",
          "state": {
            "_model_module": "@jupyter-widgets/base",
            "_model_module_version": "1.2.0",
            "_model_name": "LayoutModel",
            "_view_count": null,
            "_view_module": "@jupyter-widgets/base",
            "_view_module_version": "1.2.0",
            "_view_name": "LayoutView",
            "align_content": null,
            "align_items": null,
            "align_self": null,
            "border": null,
            "bottom": null,
            "display": null,
            "flex": null,
            "flex_flow": null,
            "grid_area": null,
            "grid_auto_columns": null,
            "grid_auto_flow": null,
            "grid_auto_rows": null,
            "grid_column": null,
            "grid_gap": null,
            "grid_row": null,
            "grid_template_areas": null,
            "grid_template_columns": null,
            "grid_template_rows": null,
            "height": null,
            "justify_content": null,
            "justify_items": null,
            "left": null,
            "margin": null,
            "max_height": null,
            "max_width": null,
            "min_height": null,
            "min_width": null,
            "object_fit": null,
            "object_position": null,
            "order": null,
            "overflow": null,
            "overflow_x": null,
            "overflow_y": null,
            "padding": null,
            "right": null,
            "top": null,
            "visibility": null,
            "width": null
          }
        },
        "8c47aeb743ed4a9a899cbd5264b13a18": {
          "model_module": "@jupyter-widgets/controls",
          "model_name": "DescriptionStyleModel",
          "model_module_version": "1.5.0",
          "state": {
            "_model_module": "@jupyter-widgets/controls",
            "_model_module_version": "1.5.0",
            "_model_name": "DescriptionStyleModel",
            "_view_count": null,
            "_view_module": "@jupyter-widgets/base",
            "_view_module_version": "1.2.0",
            "_view_name": "StyleView",
            "description_width": ""
          }
        }
      }
    }
  },
  "cells": [
    {
      "cell_type": "markdown",
      "metadata": {
        "id": "view-in-github",
        "colab_type": "text"
      },
      "source": [
        "<a href=\"https://colab.research.google.com/github/aritraghsh09/pop_py_prog/blob/master/ml/ml_uncertainties/robust_uncertainities.ipynb\" target=\"_parent\"><img src=\"https://colab.research.google.com/assets/colab-badge.svg\" alt=\"Open In Colab\"/></a>"
      ]
    },
    {
      "cell_type": "markdown",
      "source": [
        "\n",
        "\n",
        "# <center>Robust Uncertainty Estimation in Machine Learning </center>\n",
        "#### <center> **[Aritra Ghosh](https://ghosharitra.com)**</center>\n",
        "#### <center> Ph.D. Candidate, Yale University </center>\n",
        "#### <center>  </center>\n",
        "#### <center> Jan./Feb. 2023 | [KITP-CCA Workshop: Data Driven Galaxy Evolution](https://datadrivengalaxyevolution.github.io/#ccaweek) </center>\n",
        "\n",
        "\n",
        "\n"
      ],
      "metadata": {
        "id": "89D0bwcuwgNd"
      }
    },
    {
      "cell_type": "markdown",
      "source": [
        "<hr>\n",
        "\n",
        "#Introduction\n",
        "\n",
        "The title of this notebook / workshop session is too broad to be reasonably convered in the alloted time. Thus, as we go through the tutorial, we will keep narrowing our focus from uncertainties in machine learning --> uncertainties in neural networks --> Bayesian Deep Learning --> Bayesian Deep Learning for Galaxy Morphology\n",
        "\n",
        "This Notebook is meant to be used along with the slide deck which is hosted at [this link](https://drive.google.com/file/d/1E17L5UVCiHEdOCrpSJB4U1M_05RQGFvt/view?usp=sharing) \n"
      ],
      "metadata": {
        "id": "Gt6io4-64od9"
      }
    },
    {
      "cell_type": "code",
      "source": [
        "import torch\n",
        "from torch import nn\n",
        "from torch import optim\n",
        "from torch import functional as F\n",
        "import pylab as plt\n",
        "import numpy as np\n",
        "import pandas as pd\n",
        "\n",
        "\n",
        "try:\n",
        "    import urllib\n",
        "    from urllib import urlretrieve\n",
        "except Exception:\n",
        "    import urllib.request as urllib\n",
        "from os import path\n",
        "import os"
      ],
      "metadata": {
        "id": "K3Vzcyaj2CRg"
      },
      "execution_count": 1,
      "outputs": []
    },
    {
      "cell_type": "markdown",
      "source": [
        "#Exercise 1: Building A Classical NN to Fit Some Data\n"
      ],
      "metadata": {
        "id": "QRVfqdhJ4oAD"
      }
    },
    {
      "cell_type": "markdown",
      "source": [
        "##1.1: Let's Generate Some Data"
      ],
      "metadata": {
        "id": "Wi7FOCME4nyV"
      }
    },
    {
      "cell_type": "code",
      "execution_count": 2,
      "metadata": {
        "id": "6zwOavqq2nOA"
      },
      "outputs": [],
      "source": [
        "# Function to Create Some Data\n",
        "def create_dataset():\n",
        "    x = np.arange(0, 20, 0.035)\n",
        "    y = x * 0.5\n",
        "    y = y + np.random.normal(0, 0.5, (len(x))) * x/5\n",
        "    return x, y\n",
        "\n",
        "# Just a function to take our numpy arrays to PyTorch Tensors\n",
        "def t(x):\n",
        "    return torch.from_numpy(x).float()[..., None]\n"
      ]
    },
    {
      "cell_type": "code",
      "source": [
        "#Let's Generate some fake data\n",
        "x, y = create_dataset()\n",
        "\n",
        "\n",
        "#Let's Randomly Split This Up Into Train & Test Sets \n",
        "train_idxs = np.random.choice(len(x),size=int(0.7*len(x)),replace=False)\n",
        "train_idxs = np.sort(train_idxs)\n",
        "\n",
        "x_train = t(x[train_idxs])\n",
        "x_test = t(np.delete(x,train_idxs))\n",
        "y_train = t(y[train_idxs])\n",
        "y_test = t(np.delete(y,train_idxs))\n",
        "\n",
        "\n",
        "#Let's Plot All the Data\n",
        "fig, ax = plt.subplots(1,2,figsize=(12,4))\n",
        "font_size = 18\n",
        "\n",
        "ax[0].scatter(x,y,s=30)\n",
        "ax[0].set_xlabel(\"x\",fontsize=font_size)\n",
        "ax[0].set_ylabel(\"y\",fontsize=font_size)\n",
        "\n",
        "ax[1].scatter(x_train,y_train,s=30,label=\"train\")\n",
        "ax[1].scatter(x_test,y_test,s=30,label=\"test\")\n",
        "ax[1].legend(loc=\"best\",fontsize=font_size-2)\n",
        "\n",
        "ax[1].set_xlabel(\"x\",fontsize=font_size)\n",
        "ax[1].set_ylabel(\"y\",fontsize=font_size)"
      ],
      "metadata": {
        "colab": {
          "base_uri": "https://localhost:8080/",
          "height": 305
        },
        "id": "nJeMSlZr4mkF",
        "outputId": "f99433c1-1e7e-44a4-a379-3959a6e39487"
      },
      "execution_count": 3,
      "outputs": [
        {
          "output_type": "execute_result",
          "data": {
            "text/plain": [
              "Text(0, 0.5, 'y')"
            ]
          },
          "metadata": {},
          "execution_count": 3
        },
        {
          "output_type": "display_data",
          "data": {
            "text/plain": [
              "<Figure size 864x288 with 2 Axes>"
            ],
            "image/png": "[encoded data removed]"
          },
          "metadata": {
            "needs_background": "light"
          }
        }
      ]
    },
    {
      "cell_type": "markdown",
      "source": [
        "##1.2: Now let's build a NN to fit this data"
      ],
      "metadata": {
        "id": "og6qPCYH8aOb"
      }
    },
    {
      "cell_type": "markdown",
      "source": [
        "### 1.2.1:Pre-Written PyTorch Helper Function to Help You Train\n",
        "\n",
        "```python\n",
        "def train_model(model, loss_fn, optimizer, iterations=100, print_every=50,\n",
        "                lr=0.001)\n",
        "\n",
        "## A function to train a specified PyTorch model on the above\n",
        "## dataset                \n",
        "\n",
        "## model --> PyTorch Model\n",
        "## loss_fn --> Loss Function\n",
        "## optimizer --> Optimizer for Training\n",
        "## iterations --> Number of Iterations to Train For\n",
        "## print_every --> number of iterations after which loss value on train and \n",
        "##                 test sets are printed\n",
        "## lr --> learning rate (hyper-parameter)\n",
        "```"
      ],
      "metadata": {
        "id": "xXsxHz7l82sM"
      }
    },
    {
      "cell_type": "code",
      "source": [
        "#@title Show Code for Above Function { vertical-output: true }\n",
        "def train_model(model, loss_fn, optimizer, iterations=100, print_every=50,\n",
        "                lr=0.001):\n",
        "  \n",
        "    optimizer.lr = lr\n",
        "\n",
        "    for i in range(iterations):\n",
        "        model.train()\n",
        "        out = model(x_train)\n",
        "        loss = loss_fn(y_train, out)\n",
        "        optimizer.zero_grad()\n",
        "        loss.backward()\n",
        "        optimizer.step()\n",
        "\n",
        "        if i % print_every == 0:\n",
        "            with torch.no_grad():\n",
        "                model.eval()\n",
        "                out = model(x_test)\n",
        "                test_loss = loss_fn(y_test, out)\n",
        "                print(loss, test_loss)\n",
        "\n",
        "    return model \n"
      ],
      "metadata": {
        "cellView": "form",
        "id": "JAqr82xB4EYq"
      },
      "execution_count": 4,
      "outputs": []
    },
    {
      "cell_type": "markdown",
      "source": [
        "###1.2.2: Define a NN with PyTorch & Train It\n",
        "\n",
        "To help you design your own neural network for this problem, here's some PyTorch code for a neural network with 2 input neurons, 10 hidden neurons, and 3 output neurons\n",
        "\n",
        "```python\n",
        "model = nn.Sequential(\n",
        "    nn.Linear(2, 10),\n",
        "    nn.LeakyReLU(0.3),\n",
        "    nn.Linear(10, 3),\n",
        ")\n",
        "```\n",
        "\n",
        "In the following, code block define a neural network with 1 neuron in the input layer, 20 in the hidden layer, and 1 in the output layer."
      ],
      "metadata": {
        "id": "EOcNgm5GEfkJ"
      }
    },
    {
      "cell_type": "code",
      "source": [
        "### Your NN code goes here\n",
        "\n",
        "\n",
        "# Defining the loss function and optimizer\n",
        "mse_loss = nn.MSELoss() #defining the loss as just a mean squared e\n",
        "adam = optim.Adam(params=model.parameters(), lr=0.001)"
      ],
      "metadata": {
        "id": "oFwT7z6bFqCO",
        "colab": {
          "base_uri": "https://localhost:8080/",
          "height": 204
        },
        "collapsed": true,
        "outputId": "5d4c28ff-c9ba-49b2-d878-61819b11a7a1"
      },
      "execution_count": 5,
      "outputs": [
        {
          "output_type": "error",
          "ename": "NameError",
          "evalue": "ignored",
          "traceback": [
            "\u001b[0;31m---------------------------------------------------------------------------\u001b[0m",
            "\u001b[0;31mNameError\u001b[0m                                 Traceback (most recent call last)",
            "\u001b[0;32m<ipython-input-5-48d4638b4ee4>\u001b[0m in \u001b[0;36m<module>\u001b[0;34m\u001b[0m\n\u001b[1;32m      4\u001b[0m \u001b[0;31m# Defining the loss function and optimizer\u001b[0m\u001b[0;34m\u001b[0m\u001b[0;34m\u001b[0m\u001b[0;34m\u001b[0m\u001b[0m\n\u001b[1;32m      5\u001b[0m \u001b[0mmse_loss\u001b[0m \u001b[0;34m=\u001b[0m \u001b[0mnn\u001b[0m\u001b[0;34m.\u001b[0m\u001b[0mMSELoss\u001b[0m\u001b[0;34m(\u001b[0m\u001b[0;34m)\u001b[0m \u001b[0;31m#defining the loss as just a mean squared e\u001b[0m\u001b[0;34m\u001b[0m\u001b[0;34m\u001b[0m\u001b[0m\n\u001b[0;32m----> 6\u001b[0;31m \u001b[0madam\u001b[0m \u001b[0;34m=\u001b[0m \u001b[0moptim\u001b[0m\u001b[0;34m.\u001b[0m\u001b[0mAdam\u001b[0m\u001b[0;34m(\u001b[0m\u001b[0mparams\u001b[0m\u001b[0;34m=\u001b[0m\u001b[0mmodel\u001b[0m\u001b[0;34m.\u001b[0m\u001b[0mparameters\u001b[0m\u001b[0;34m(\u001b[0m\u001b[0;34m)\u001b[0m\u001b[0;34m,\u001b[0m \u001b[0mlr\u001b[0m\u001b[0;34m=\u001b[0m\u001b[0;36m0.001\u001b[0m\u001b[0;34m)\u001b[0m\u001b[0;34m\u001b[0m\u001b[0;34m\u001b[0m\u001b[0m\n\u001b[0m",
            "\u001b[0;31mNameError\u001b[0m: name 'model' is not defined"
          ]
        }
      ]
    },
    {
      "cell_type": "code",
      "source": [
        "#@title Show Answer!\n",
        "model = nn.Sequential(\n",
        "    nn.Linear(1, 20),\n",
        "    nn.LeakyReLU(0.3),\n",
        "    nn.Linear(20, 1),\n",
        ")\n",
        "mse_loss = nn.MSELoss()\n",
        "adam = optim.Adam(params=model.parameters(), lr=0.001)"
      ],
      "metadata": {
        "cellView": "form",
        "id": "E9k_zA7UF7fd"
      },
      "execution_count": 5,
      "outputs": []
    },
    {
      "cell_type": "code",
      "source": [
        "#Let's Train the Model Now\n",
        "model = train_model(model, mse_loss, adam, iterations=4000, print_every=1000)\n",
        "\n",
        "\n",
        "#Now Let's Predict on the test values\n",
        "model.eval()\n",
        "y_pred_test = model(x_test).detach().numpy().squeeze()"
      ],
      "metadata": {
        "colab": {
          "base_uri": "https://localhost:8080/"
        },
        "id": "0dwmd7MSoLVv",
        "outputId": "66936c7b-4285-45ca-d1ce-c409ccc9a579"
      },
      "execution_count": 6,
      "outputs": [
        {
          "output_type": "stream",
          "name": "stdout",
          "text": [
            "tensor(97.2280, grad_fn=<MseLossBackward0>) tensor(89.8135)\n",
            "tensor(1.3788, grad_fn=<MseLossBackward0>) tensor(1.3679)\n",
            "tensor(1.3481, grad_fn=<MseLossBackward0>) tensor(1.3385)\n",
            "tensor(1.3469, grad_fn=<MseLossBackward0>) tensor(1.3373)\n"
          ]
        }
      ]
    },
    {
      "cell_type": "markdown",
      "source": [
        "##1.3: Let's Visualize the Model Predictions on the Test Set"
      ],
      "metadata": {
        "id": "AszhncU0t0uQ"
      }
    },
    {
      "cell_type": "code",
      "source": [
        "#Let's Now Viusalize The Predictions for the Test Set\n",
        "\n",
        "plt.scatter(x_test,y_test,label=\"True Values\")\n",
        "plt.scatter(x_test,y_pred_test,label=\"Predicted Values\")\n",
        "\n",
        "font_size=18\n",
        "plt.legend(loc=\"best\",fontsize=font_size-2)\n",
        "plt.xlabel(\"x\",fontsize=font_size)\n",
        "plt.ylabel(\"y\",fontsize=font_size)"
      ],
      "metadata": {
        "colab": {
          "base_uri": "https://localhost:8080/",
          "height": 305
        },
        "id": "Gm7hhPWco1S8",
        "outputId": "c4027b13-24fa-49b5-b5da-cddae4ef6487"
      },
      "execution_count": 8,
      "outputs": [
        {
          "output_type": "execute_result",
          "data": {
            "text/plain": [
              "Text(0, 0.5, 'y')"
            ]
          },
          "metadata": {},
          "execution_count": 8
        },
        {
          "output_type": "display_data",
          "data": {
            "text/plain": [
              "<Figure size 432x288 with 1 Axes>"
            ],
            "image/png": "[encoded data removed]"
          },
          "metadata": {
            "needs_background": "light"
          }
        }
      ]
    },
    {
      "cell_type": "markdown",
      "source": [
        "As we can see, the NN has figured out the mean relationship in the data, but completely failed to capture the amount of scatter present in our data. \n",
        "\n",
        "\n",
        "**Let's now go back to the slides to see how we might remedy this**!"
      ],
      "metadata": {
        "id": "eXDnKqqZtX9l"
      }
    },
    {
      "cell_type": "markdown",
      "source": [
        "# Exercise 2: Explicilty Accounting for Aleatoric Uncertainity"
      ],
      "metadata": {
        "id": "DZHoc4KkhluQ"
      }
    },
    {
      "cell_type": "markdown",
      "source": [
        "[GaMPEN](https://github.com/aritraghsh09/GaMPEN) is an ML framework for estimating Bayesian posteriors of morphological parameters for arbitrarily large numbers of galaxies. We will use GaMPEN later in the tutorial. \n",
        "\n",
        "For this problem, we will just steal the aleatoric loss function already implemented in GaMPEN for a multi-dimensional scenario. Run the cell below to install GaMEPN and check the isntallation"
      ],
      "metadata": {
        "id": "g_BsLLlWlINw"
      }
    },
    {
      "cell_type": "markdown",
      "source": [
        "### Installing GaMPEN\n",
        "\n",
        "First, let's install GaMPEN. \n",
        "\n",
        "Some of these commands are specifically for Google Colab. If doing this on your own machine, please follow the steps outlined [here](https://gampen.readthedocs.io/en/latest/Getting_Started.html)"
      ],
      "metadata": {
        "id": "csK7PioklO9E"
      }
    },
    {
      "cell_type": "code",
      "execution_count": 9,
      "metadata": {
        "outputId": "7eee5860-f9f0-4655-cf08-f3b37b6816e5",
        "colab": {
          "base_uri": "https://localhost:8080/"
        },
        "id": "a83dbfthlO9F"
      },
      "outputs": [
        {
          "output_type": "stream",
          "name": "stdout",
          "text": [
            "Cloning into 'GaMPEN'...\n",
            "remote: Enumerating objects: 2372, done.\u001b[K\n",
            "remote: Counting objects: 100% (720/720), done.\u001b[K\n",
            "remote: Compressing objects: 100% (360/360), done.\u001b[K\n",
            "remote: Total 2372 (delta 462), reused 592 (delta 355), pack-reused 1652\u001b[K\n",
            "Receiving objects: 100% (2372/2372), 24.77 MiB | 28.82 MiB/s, done.\n",
            "Resolving deltas: 100% (1550/1550), done.\n"
          ]
        }
      ],
      "source": [
        "!git clone https://github.com/aritraghsh09/GaMPEN.git"
      ]
    },
    {
      "cell_type": "code",
      "source": [
        "%cd /content/GaMPEN/\n",
        "\n",
        "!pip install -r requirements.txt "
      ],
      "metadata": {
        "outputId": "129d7c1a-b593-4cff-c86b-7510fcc88fa1",
        "colab": {
          "base_uri": "https://localhost:8080/"
        },
        "id": "JF5sweaMlO9F"
      },
      "execution_count": 10,
      "outputs": [
        {
          "output_type": "stream",
          "name": "stdout",
          "text": [
            "/content/GaMPEN\n",
            "Looking in indexes: https://pypi.org/simple, https://us-python.pkg.dev/colab-wheels/public/simple/\n",
            "Obtaining file:///content/GaMPEN (from -r requirements.txt (line 2))\n",
            "  Preparing metadata (setup.py) ... \u001b[?25l\u001b[?25hdone\n",
            "Collecting GrouPy@ git+https://github.com/adambielski/GrouPy@e9c2e5ae8f2234359a9f68b52d9d430d9a72f4d7\n",
            "  Cloning https://github.com/adambielski/GrouPy (to revision e9c2e5ae8f2234359a9f68b52d9d430d9a72f4d7) to /tmp/pip-install-iruz7cfn/groupy_800e2db83cf74372a03f0573a6e7e867\n",
            "  Running command git clone --filter=blob:none --quiet https://github.com/adambielski/GrouPy /tmp/pip-install-iruz7cfn/groupy_800e2db83cf74372a03f0573a6e7e867\n",
            "  Running command git rev-parse -q --verify 'sha^e9c2e5ae8f2234359a9f68b52d9d430d9a72f4d7'\n",
            "  Running command git fetch -q https://github.com/adambielski/GrouPy e9c2e5ae8f2234359a9f68b52d9d430d9a72f4d7\n",
            "  Resolved https://github.com/adambielski/GrouPy to commit e9c2e5ae8f2234359a9f68b52d9d430d9a72f4d7\n",
            "  Preparing metadata (setup.py) ... \u001b[?25l\u001b[?25hdone\n",
            "Collecting alembic==1.4.2\n",
            "  Downloading alembic-1.4.2.tar.gz (1.1 MB)\n",
            "\u001b[2K     \u001b[90m━━━━━━━━━━━━━━━━━━━━━━━━━━━━━━━━━━━━━━━━\u001b[0m \u001b[32m1.1/1.1 MB\u001b[0m \u001b[31m17.4 MB/s\u001b[0m eta \u001b[36m0:00:00\u001b[0m\n",
            "\u001b[?25h  Installing build dependencies ... \u001b[?25l\u001b[?25hdone\n",
            "  Getting requirements to build wheel ... \u001b[?25l\u001b[?25hdone\n",
            "  Preparing metadata (pyproject.toml) ... \u001b[?25l\u001b[?25hdone\n",
            "Requirement already satisfied: appdirs==1.4.4 in /usr/local/lib/python3.8/dist-packages (from -r requirements.txt (line 9)) (1.4.4)\n",
            "Collecting astropy==4.0.1.post1\n",
            "  Downloading astropy-4.0.1.post1-cp38-cp38-manylinux1_x86_64.whl (6.5 MB)\n",
            "\u001b[2K     \u001b[90m━━━━━━━━━━━━━━━━━━━━━━━━━━━━━━━━━━━━━━━━\u001b[0m \u001b[32m6.5/6.5 MB\u001b[0m \u001b[31m65.6 MB/s\u001b[0m eta \u001b[36m0:00:00\u001b[0m\n",
            "\u001b[?25hCollecting attrs==19.3.0\n",
            "  Downloading attrs-19.3.0-py2.py3-none-any.whl (39 kB)\n",
            "Collecting azure-core==1.7.0\n",
            "  Downloading azure_core-1.7.0-py2.py3-none-any.whl (121 kB)\n",
            "\u001b[2K     \u001b[90m━━━━━━━━━━━━━━━━━━━━━━━━━━━━━━━━━━━━━━\u001b[0m \u001b[32m121.4/121.4 KB\u001b[0m \u001b[31m10.8 MB/s\u001b[0m eta \u001b[36m0:00:00\u001b[0m\n",
            "\u001b[?25hCollecting azure-storage-blob==12.3.2\n",
            "  Downloading azure_storage_blob-12.3.2-py2.py3-none-any.whl (280 kB)\n",
            "\u001b[2K     \u001b[90m━━━━━━━━━━━━━━━━━━━━━━━━━━━━━━━━━━━━━━\u001b[0m \u001b[32m280.1/280.1 KB\u001b[0m \u001b[31m25.0 MB/s\u001b[0m eta \u001b[36m0:00:00\u001b[0m\n",
            "\u001b[?25hCollecting black==20.8b1\n",
            "  Downloading black-20.8b1.tar.gz (1.1 MB)\n",
            "\u001b[2K     \u001b[90m━━━━━━━━━━━━━━━━━━━━━━━━━━━━━━━━━━━━━━━━\u001b[0m \u001b[32m1.1/1.1 MB\u001b[0m \u001b[31m54.7 MB/s\u001b[0m eta \u001b[36m0:00:00\u001b[0m\n",
            "\u001b[?25h  Installing build dependencies ... \u001b[?25l\u001b[?25hdone\n",
            "  Getting requirements to build wheel ... \u001b[?25l\u001b[?25hdone\n",
            "  Preparing metadata (pyproject.toml) ... \u001b[?25l\u001b[?25hdone\n",
            "Collecting certifi==2020.6.20\n",
            "  Downloading certifi-2020.6.20-py2.py3-none-any.whl (156 kB)\n",
            "\u001b[2K     \u001b[90m━━━━━━━━━━━━━━━━━━━━━━━━━━━━━━━━━━━━━━\u001b[0m \u001b[32m156.6/156.6 KB\u001b[0m \u001b[31m14.6 MB/s\u001b[0m eta \u001b[36m0:00:00\u001b[0m\n",
            "\u001b[?25hCollecting cffi==1.14.1\n",
            "  Downloading cffi-1.14.1-cp38-cp38-manylinux1_x86_64.whl (409 kB)\n",
            "\u001b[2K     \u001b[90m━━━━━━━━━━━━━━━━━━━━━━━━━━━━━━━━━━━━━━\u001b[0m \u001b[32m409.9/409.9 KB\u001b[0m \u001b[31m24.4 MB/s\u001b[0m eta \u001b[36m0:00:00\u001b[0m\n",
            "\u001b[?25hCollecting chardet==3.0.4\n",
            "  Downloading chardet-3.0.4-py2.py3-none-any.whl (133 kB)\n",
            "\u001b[2K     \u001b[90m━━━━━━━━━━━━━━━━━━━━━━━━━━━━━━━━━━━━━━\u001b[0m \u001b[32m133.4/133.4 KB\u001b[0m \u001b[31m13.8 MB/s\u001b[0m eta \u001b[36m0:00:00\u001b[0m\n",
            "\u001b[?25hRequirement already satisfied: click==7.1.2 in /usr/local/lib/python3.8/dist-packages (from -r requirements.txt (line 18)) (7.1.2)\n",
            "Collecting cloudpickle==1.5.0\n",
            "  Downloading cloudpickle-1.5.0-py3-none-any.whl (22 kB)\n",
            "Collecting coverage==5.2.1\n",
            "  Downloading coverage-5.2.1-cp38-cp38-manylinux1_x86_64.whl (231 kB)\n",
            "\u001b[2K     \u001b[90m━━━━━━━━━━━━━━━━━━━━━━━━━━━━━━━━━━━━━━\u001b[0m \u001b[32m231.3/231.3 KB\u001b[0m \u001b[31m21.6 MB/s\u001b[0m eta \u001b[36m0:00:00\u001b[0m\n",
            "\u001b[?25hCollecting cryptography==3.0\n",
            "  Downloading cryptography-3.0-cp35-abi3-manylinux2010_x86_64.whl (2.7 MB)\n",
            "\u001b[2K     \u001b[90m━━━━━━━━━━━━━━━━━━━━━━━━━━━━━━━━━━━━━━━━\u001b[0m \u001b[32m2.7/2.7 MB\u001b[0m \u001b[31m65.7 MB/s\u001b[0m eta \u001b[36m0:00:00\u001b[0m\n",
            "\u001b[?25hCollecting databricks-cli==0.11.0\n",
            "  Downloading databricks-cli-0.11.0.tar.gz (49 kB)\n",
            "\u001b[2K     \u001b[90m━━━━━━━━━━━━━━━━━━━━━━━━━━━━━━━━━━━━━━━━\u001b[0m \u001b[32m49.5/49.5 KB\u001b[0m \u001b[31m5.6 MB/s\u001b[0m eta \u001b[36m0:00:00\u001b[0m\n",
            "\u001b[?25h  Preparing metadata (setup.py) ... \u001b[?25l\u001b[?25hdone\n",
            "Collecting distlib==0.3.1\n",
            "  Downloading distlib-0.3.1-py2.py3-none-any.whl (335 kB)\n",
            "\u001b[2K     \u001b[90m━━━━━━━━━━━━━━━━━━━━━━━━━━━━━━━━━━━━━━\u001b[0m \u001b[32m335.9/335.9 KB\u001b[0m \u001b[31m25.9 MB/s\u001b[0m eta \u001b[36m0:00:00\u001b[0m\n",
            "\u001b[?25hCollecting docker==4.2.2\n",
            "  Downloading docker-4.2.2-py2.py3-none-any.whl (144 kB)\n",
            "\u001b[2K     \u001b[90m━━━━━━━━━━━━━━━━━━━━━━━━━━━━━━━━━━━━━━\u001b[0m \u001b[32m144.1/144.1 KB\u001b[0m \u001b[31m10.9 MB/s\u001b[0m eta \u001b[36m0:00:00\u001b[0m\n",
            "\u001b[?25hCollecting entrypoints==0.3\n",
            "  Downloading entrypoints-0.3-py2.py3-none-any.whl (11 kB)\n",
            "Collecting filelock==3.0.12\n",
            "  Downloading filelock-3.0.12-py3-none-any.whl (7.6 kB)\n",
            "Collecting flake8==3.8.3\n",
            "  Downloading flake8-3.8.3-py2.py3-none-any.whl (72 kB)\n",
            "\u001b[2K     \u001b[90m━━━━━━━━━━━━━━━━━━━━━━━━━━━━━━━━━━━━━━━━\u001b[0m \u001b[32m72.7/72.7 KB\u001b[0m \u001b[31m7.0 MB/s\u001b[0m eta \u001b[36m0:00:00\u001b[0m\n",
            "\u001b[?25hCollecting Flask==1.1.2\n",
            "  Downloading Flask-1.1.2-py2.py3-none-any.whl (94 kB)\n",
            "\u001b[2K     \u001b[90m━━━━━━━━━━━━━━━━━━━━━━━━━━━━━━━━━━━━━━━━\u001b[0m \u001b[32m94.6/94.6 KB\u001b[0m \u001b[31m10.3 MB/s\u001b[0m eta \u001b[36m0:00:00\u001b[0m\n",
            "\u001b[?25hCollecting future==0.18.2\n",
            "  Downloading future-0.18.2.tar.gz (829 kB)\n",
            "\u001b[2K     \u001b[90m━━━━━━━━━━━━━━━━━━━━━━━━━━━━━━━━━━━━━━\u001b[0m \u001b[32m829.2/829.2 KB\u001b[0m \u001b[31m30.9 MB/s\u001b[0m eta \u001b[36m0:00:00\u001b[0m\n",
            "\u001b[?25h  Preparing metadata (setup.py) ... \u001b[?25l\u001b[?25hdone\n",
            "Collecting gitdb==4.0.5\n",
            "  Downloading gitdb-4.0.5-py3-none-any.whl (63 kB)\n",
            "\u001b[2K     \u001b[90m━━━━━━━━━━━━━━━━━━━━━━━━━━━━━━━━━━━━━━━━\u001b[0m \u001b[32m63.1/63.1 KB\u001b[0m \u001b[31m4.1 MB/s\u001b[0m eta \u001b[36m0:00:00\u001b[0m\n",
            "\u001b[?25hCollecting GitPython==3.1.7\n",
            "  Downloading GitPython-3.1.7-py3-none-any.whl (158 kB)\n",
            "\u001b[2K     \u001b[90m━━━━━━━━━━━━━━━━━━━━━━━━━━━━━━━━━━━━━━\u001b[0m \u001b[32m158.3/158.3 KB\u001b[0m \u001b[31m16.6 MB/s\u001b[0m eta \u001b[36m0:00:00\u001b[0m\n",
            "\u001b[?25hCollecting gorilla==0.3.0\n",
            "  Downloading gorilla-0.3.0-py2.py3-none-any.whl (11 kB)\n",
            "Collecting gunicorn==20.0.4\n",
            "  Downloading gunicorn-20.0.4-py2.py3-none-any.whl (77 kB)\n",
            "\u001b[2K     \u001b[90m━━━━━━━━━━━━━━━━━━━━━━━━━━━━━━━━━━━━━━━━\u001b[0m \u001b[32m77.9/77.9 KB\u001b[0m \u001b[31m9.0 MB/s\u001b[0m eta \u001b[36m0:00:00\u001b[0m\n",
            "\u001b[?25hRequirement already satisfied: idna==2.10 in /usr/local/lib/python3.8/dist-packages (from -r requirements.txt (line 34)) (2.10)\n",
            "Collecting iniconfig==1.0.1\n",
            "  Downloading iniconfig-1.0.1-py3-none-any.whl (4.2 kB)\n",
            "Collecting isodate==0.6.0\n",
            "  Downloading isodate-0.6.0-py2.py3-none-any.whl (45 kB)\n",
            "\u001b[2K     \u001b[90m━━━━━━━━━━━━━━━━━━━━━━━━━━━━━━━━━━━━━━━━\u001b[0m \u001b[32m45.7/45.7 KB\u001b[0m \u001b[31m4.8 MB/s\u001b[0m eta \u001b[36m0:00:00\u001b[0m\n",
            "\u001b[?25hRequirement already satisfied: itsdangerous==1.1.0 in /usr/local/lib/python3.8/dist-packages (from -r requirements.txt (line 37)) (1.1.0)\n",
            "Collecting Jinja2==2.11.2\n",
            "  Downloading Jinja2-2.11.2-py2.py3-none-any.whl (125 kB)\n",
            "\u001b[2K     \u001b[90m━━━━━━━━━━━━━━━━━━━━━━━━━━━━━━━━━━━━━━\u001b[0m \u001b[32m125.8/125.8 KB\u001b[0m \u001b[31m11.6 MB/s\u001b[0m eta \u001b[36m0:00:00\u001b[0m\n",
            "\u001b[?25hCollecting kornia==0.4.0\n",
            "  Downloading kornia-0.4.0-py2.py3-none-any.whl (195 kB)\n",
            "\u001b[2K     \u001b[90m━━━━━━━━━━━━━━━━━━━━━━━━━━━━━━━━━━━━━━\u001b[0m \u001b[32m195.1/195.1 KB\u001b[0m \u001b[31m18.0 MB/s\u001b[0m eta \u001b[36m0:00:00\u001b[0m\n",
            "\u001b[?25hCollecting Mako==1.1.3\n",
            "  Downloading Mako-1.1.3-py2.py3-none-any.whl (75 kB)\n",
            "\u001b[2K     \u001b[90m━━━━━━━━━━━━━━━━━━━━━━━━━━━━━━━━━━━━━━━━\u001b[0m \u001b[32m75.5/75.5 KB\u001b[0m \u001b[31m8.0 MB/s\u001b[0m eta \u001b[36m0:00:00\u001b[0m\n",
            "\u001b[?25hCollecting MarkupSafe==1.1.1\n",
            "  Downloading MarkupSafe-1.1.1-cp38-cp38-manylinux2010_x86_64.whl (32 kB)\n",
            "Collecting matplotlib==3.3.1\n",
            "  Downloading matplotlib-3.3.1-cp38-cp38-manylinux1_x86_64.whl (11.6 MB)\n",
            "\u001b[2K     \u001b[90m━━━━━━━━━━━━━━━━━━━━━━━━━━━━━━━━━━━━━━━━\u001b[0m \u001b[32m11.6/11.6 MB\u001b[0m \u001b[31m77.1 MB/s\u001b[0m eta \u001b[36m0:00:00\u001b[0m\n",
            "\u001b[?25hCollecting mccabe==0.6.1\n",
            "  Downloading mccabe-0.6.1-py2.py3-none-any.whl (8.6 kB)\n",
            "Collecting mlflow==1.10.0\n",
            "  Downloading mlflow-1.10.0-py3-none-any.whl (12.4 MB)\n",
            "\u001b[2K     \u001b[90m━━━━━━━━━━━━━━━━━━━━━━━━━━━━━━━━━━━━━━━━\u001b[0m \u001b[32m12.4/12.4 MB\u001b[0m \u001b[31m71.6 MB/s\u001b[0m eta \u001b[36m0:00:00\u001b[0m\n",
            "\u001b[?25hCollecting more-itertools==8.4.0\n",
            "  Downloading more_itertools-8.4.0-py3-none-any.whl (43 kB)\n",
            "\u001b[2K     \u001b[90m━━━━━━━━━━━━━━━━━━━━━━━━━━━━━━━━━━━━━━━━\u001b[0m \u001b[32m43.1/43.1 KB\u001b[0m \u001b[31m4.2 MB/s\u001b[0m eta \u001b[36m0:00:00\u001b[0m\n",
            "\u001b[?25hCollecting msrest==0.6.18\n",
            "  Downloading msrest-0.6.18-py2.py3-none-any.whl (84 kB)\n",
            "\u001b[2K     \u001b[90m━━━━━━━━━━━━━━━━━━━━━━━━━━━━━━━━━━━━━━━━\u001b[0m \u001b[32m84.7/84.7 KB\u001b[0m \u001b[31m9.1 MB/s\u001b[0m eta \u001b[36m0:00:00\u001b[0m\n",
            "\u001b[?25hCollecting numpy==1.19.1\n",
            "  Downloading numpy-1.19.1-cp38-cp38-manylinux2010_x86_64.whl (14.5 MB)\n",
            "\u001b[2K     \u001b[90m━━━━━━━━━━━━━━━━━━━━━━━━━━━━━━━━━━━━━━━━\u001b[0m \u001b[32m14.5/14.5 MB\u001b[0m \u001b[31m66.4 MB/s\u001b[0m eta \u001b[36m0:00:00\u001b[0m\n",
            "\u001b[?25hCollecting oauthlib==3.1.0\n",
            "  Downloading oauthlib-3.1.0-py2.py3-none-any.whl (147 kB)\n",
            "\u001b[2K     \u001b[90m━━━━━━━━━━━━━━━━━━━━━━━━━━━━━━━━━━━━━━\u001b[0m \u001b[32m147.4/147.4 KB\u001b[0m \u001b[31m12.6 MB/s\u001b[0m eta \u001b[36m0:00:00\u001b[0m\n",
            "\u001b[?25hCollecting packaging==20.4\n",
            "  Downloading packaging-20.4-py2.py3-none-any.whl (37 kB)\n",
            "Collecting pandas==1.1.0\n",
            "  Downloading pandas-1.1.0-cp38-cp38-manylinux1_x86_64.whl (10.3 MB)\n",
            "\u001b[2K     \u001b[90m━━━━━━━━━━━━━━━━━━━━━━━━━━━━━━━━━━━━━━━━\u001b[0m \u001b[32m10.3/10.3 MB\u001b[0m \u001b[31m31.4 MB/s\u001b[0m eta \u001b[36m0:00:00\u001b[0m\n",
            "\u001b[?25hCollecting Pillow==7.2.0\n",
            "  Downloading Pillow-7.2.0-cp38-cp38-manylinux1_x86_64.whl (2.2 MB)\n",
            "\u001b[2K     \u001b[90m━━━━━━━━━━━━━━━━━━━━━━━━━━━━━━━━━━━━━━━━\u001b[0m \u001b[32m2.2/2.2 MB\u001b[0m \u001b[31m72.8 MB/s\u001b[0m eta \u001b[36m0:00:00\u001b[0m\n",
            "\u001b[?25hCollecting pluggy==0.13.1\n",
            "  Downloading pluggy-0.13.1-py2.py3-none-any.whl (18 kB)\n",
            "Collecting prometheus-client==0.8.0\n",
            "  Downloading prometheus_client-0.8.0-py2.py3-none-any.whl (53 kB)\n",
            "\u001b[2K     \u001b[90m━━━━━━━━━━━━━━━━━━━━━━━━━━━━━━━━━━━━━━━━\u001b[0m \u001b[32m53.6/53.6 KB\u001b[0m \u001b[31m5.1 MB/s\u001b[0m eta \u001b[36m0:00:00\u001b[0m\n",
            "\u001b[?25hCollecting prometheus-flask-exporter==0.15.4\n",
            "  Downloading prometheus_flask_exporter-0.15.4.tar.gz (20 kB)\n",
            "  Preparing metadata (setup.py) ... \u001b[?25l\u001b[?25hdone\n",
            "Collecting protobuf==3.12.4\n",
            "  Downloading protobuf-3.12.4-cp38-cp38-manylinux1_x86_64.whl (1.3 MB)\n",
            "\u001b[2K     \u001b[90m━━━━━━━━━━━━━━━━━━━━━━━━━━━━━━━━━━━━━━━━\u001b[0m \u001b[32m1.3/1.3 MB\u001b[0m \u001b[31m57.8 MB/s\u001b[0m eta \u001b[36m0:00:00\u001b[0m\n",
            "\u001b[?25hCollecting py==1.9.0\n",
            "  Downloading py-1.9.0-py2.py3-none-any.whl (99 kB)\n",
            "\u001b[2K     \u001b[90m━━━━━━━━━━━━━━━━━━━━━━━━━━━━━━━━━━━━━━━━\u001b[0m \u001b[32m99.0/99.0 KB\u001b[0m \u001b[31m10.6 MB/s\u001b[0m eta \u001b[36m0:00:00\u001b[0m\n",
            "\u001b[?25hCollecting pycodestyle==2.6.0\n",
            "  Downloading pycodestyle-2.6.0-py2.py3-none-any.whl (41 kB)\n",
            "\u001b[2K     \u001b[90m━━━━━━━━━━━━━━━━━━━━━━━━━━━━━━━━━━━━━━━━\u001b[0m \u001b[32m41.4/41.4 KB\u001b[0m \u001b[31m2.6 MB/s\u001b[0m eta \u001b[36m0:00:00\u001b[0m\n",
            "\u001b[?25hCollecting pycparser==2.20\n",
            "  Downloading pycparser-2.20-py2.py3-none-any.whl (112 kB)\n",
            "\u001b[2K     \u001b[90m━━━━━━━━━━━━━━━━━━━━━━━━━━━━━━━━━━━━━━\u001b[0m \u001b[32m112.0/112.0 KB\u001b[0m \u001b[31m12.1 MB/s\u001b[0m eta \u001b[36m0:00:00\u001b[0m\n",
            "\u001b[?25hCollecting pyflakes==2.2.0\n",
            "  Downloading pyflakes-2.2.0-py2.py3-none-any.whl (66 kB)\n",
            "\u001b[2K     \u001b[90m━━━━━━━━━━━━━━━━━━━━━━━━━━━━━━━━━━━━━━━━\u001b[0m \u001b[32m67.0/67.0 KB\u001b[0m \u001b[31m6.2 MB/s\u001b[0m eta \u001b[36m0:00:00\u001b[0m\n",
            "\u001b[?25hCollecting pyparsing==2.4.7\n",
            "  Downloading pyparsing-2.4.7-py2.py3-none-any.whl (67 kB)\n",
            "\u001b[2K     \u001b[90m━━━━━━━━━━━━━━━━━━━━━━━━━━━━━━━━━━━━━━━━\u001b[0m \u001b[32m67.8/67.8 KB\u001b[0m \u001b[31m7.2 MB/s\u001b[0m eta \u001b[36m0:00:00\u001b[0m\n",
            "\u001b[?25hCollecting pytest==6.0.1\n",
            "  Downloading pytest-6.0.1-py3-none-any.whl (270 kB)\n",
            "\u001b[2K     \u001b[90m━━━━━━━━━━━━━━━━━━━━━━━━━━━━━━━━━━━━━━\u001b[0m \u001b[32m270.6/270.6 KB\u001b[0m \u001b[31m21.9 MB/s\u001b[0m eta \u001b[36m0:00:00\u001b[0m\n",
            "\u001b[?25hCollecting python-dateutil==2.8.1\n",
            "  Downloading python_dateutil-2.8.1-py2.py3-none-any.whl (227 kB)\n",
            "\u001b[2K     \u001b[90m━━━━━━━━━━━━━━━━━━━━━━━━━━━━━━━━━━━━━━\u001b[0m \u001b[32m227.2/227.2 KB\u001b[0m \u001b[31m19.5 MB/s\u001b[0m eta \u001b[36m0:00:00\u001b[0m\n",
            "\u001b[?25hCollecting python-dotenv==0.14.0\n",
            "  Downloading python_dotenv-0.14.0-py2.py3-none-any.whl (17 kB)\n",
            "Collecting python-editor==1.0.4\n",
            "  Downloading python_editor-1.0.4-py3-none-any.whl (4.9 kB)\n",
            "Collecting pytorch-ignite==0.4.1\n",
            "  Downloading pytorch_ignite-0.4.1-py2.py3-none-any.whl (166 kB)\n",
            "\u001b[2K     \u001b[90m━━━━━━━━━━━━━━━━━━━━━━━━━━━━━━━━━━━━━━\u001b[0m \u001b[32m166.7/166.7 KB\u001b[0m \u001b[31m15.5 MB/s\u001b[0m eta \u001b[36m0:00:00\u001b[0m\n",
            "\u001b[?25hCollecting pytorch-ranger==0.1.1\n",
            "  Downloading pytorch_ranger-0.1.1-py3-none-any.whl (14 kB)\n",
            "Collecting pytz==2020.1\n",
            "  Downloading pytz-2020.1-py2.py3-none-any.whl (510 kB)\n",
            "\u001b[2K     \u001b[90m━━━━━━━━━━━━━━━━━━━━━━━━━━━━━━━━━━━━━━\u001b[0m \u001b[32m510.2/510.2 KB\u001b[0m \u001b[31m38.1 MB/s\u001b[0m eta \u001b[36m0:00:00\u001b[0m\n",
            "\u001b[?25hCollecting PyYAML==5.3.1\n",
            "  Downloading PyYAML-5.3.1.tar.gz (269 kB)\n",
            "\u001b[2K     \u001b[90m━━━━━━━━━━━━━━━━━━━━━━━━━━━━━━━━━━━━━━\u001b[0m \u001b[32m269.4/269.4 KB\u001b[0m \u001b[31m23.7 MB/s\u001b[0m eta \u001b[36m0:00:00\u001b[0m\n",
            "\u001b[?25h  Preparing metadata (setup.py) ... \u001b[?25l\u001b[?25hdone\n",
            "Collecting querystring-parser==1.2.4\n",
            "  Downloading querystring_parser-1.2.4-py2.py3-none-any.whl (7.9 kB)\n",
            "Collecting requests==2.24.0\n",
            "  Downloading requests-2.24.0-py2.py3-none-any.whl (61 kB)\n",
            "\u001b[2K     \u001b[90m━━━━━━━━━━━━━━━━━━━━━━━━━━━━━━━━━━━━━━━━\u001b[0m \u001b[32m61.8/61.8 KB\u001b[0m \u001b[31m5.9 MB/s\u001b[0m eta \u001b[36m0:00:00\u001b[0m\n",
            "\u001b[?25hCollecting requests-oauthlib==1.3.0\n",
            "  Downloading requests_oauthlib-1.3.0-py2.py3-none-any.whl (23 kB)\n",
            "Requirement already satisfied: six==1.15.0 in /usr/local/lib/python3.8/dist-packages (from -r requirements.txt (line 72)) (1.15.0)\n",
            "Collecting scikit-learn==0.23.2\n",
            "  Downloading scikit_learn-0.23.2-cp38-cp38-manylinux1_x86_64.whl (6.8 MB)\n",
            "\u001b[2K     \u001b[90m━━━━━━━━━━━━━━━━━━━━━━━━━━━━━━━━━━━━━━━━\u001b[0m \u001b[32m6.8/6.8 MB\u001b[0m \u001b[31m81.0 MB/s\u001b[0m eta \u001b[36m0:00:00\u001b[0m\n",
            "\u001b[?25hCollecting schwimmbad==0.3.2\n",
            "  Downloading schwimmbad-0.3.2.tar.gz (24 kB)\n",
            "  Installing build dependencies ... \u001b[?25l\u001b[?25hdone\n",
            "  Getting requirements to build wheel ... \u001b[?25l\u001b[?25hdone\n",
            "  Preparing metadata (pyproject.toml) ... \u001b[?25l\u001b[?25hdone\n",
            "Collecting smmap==3.0.4\n",
            "  Downloading smmap-3.0.4-py2.py3-none-any.whl (25 kB)\n",
            "Collecting SQLAlchemy==1.3.13\n",
            "  Downloading SQLAlchemy-1.3.13.tar.gz (6.0 MB)\n",
            "\u001b[2K     \u001b[90m━━━━━━━━━━━━━━━━━━━━━━━━━━━━━━━━━━━━━━━━\u001b[0m \u001b[32m6.0/6.0 MB\u001b[0m \u001b[31m74.3 MB/s\u001b[0m eta \u001b[36m0:00:00\u001b[0m\n",
            "\u001b[?25h  Preparing metadata (setup.py) ... \u001b[?25l\u001b[?25hdone\n",
            "Collecting sqlparse==0.3.1\n",
            "  Downloading sqlparse-0.3.1-py2.py3-none-any.whl (40 kB)\n",
            "\u001b[2K     \u001b[90m━━━━━━━━━━━━━━━━━━━━━━━━━━━━━━━━━━━━━━━━\u001b[0m \u001b[32m40.8/40.8 KB\u001b[0m \u001b[31m4.4 MB/s\u001b[0m eta \u001b[36m0:00:00\u001b[0m\n",
            "\u001b[?25hCollecting tabulate==0.8.7\n",
            "  Downloading tabulate-0.8.7-py3-none-any.whl (24 kB)\n",
            "Collecting toml==0.10.1\n",
            "  Downloading toml-0.10.1-py2.py3-none-any.whl (19 kB)\n",
            "Collecting torch==1.6.0\n",
            "  Downloading torch-1.6.0-cp38-cp38-manylinux1_x86_64.whl (748.8 MB)\n",
            "\u001b[2K     \u001b[90m━━━━━━━━━━━━━━━━━━━━━━━━━━━━━━━━━━━━━━━\u001b[0m \u001b[32m748.8/748.8 MB\u001b[0m \u001b[31m1.8 MB/s\u001b[0m eta \u001b[36m0:00:00\u001b[0m\n",
            "\u001b[?25hCollecting torch-optimizer==0.0.1a14\n",
            "  Downloading torch_optimizer-0.0.1a14-py3-none-any.whl (40 kB)\n",
            "\u001b[2K     \u001b[90m━━━━━━━━━━━━━━━━━━━━━━━━━━━━━━━━━━━━━━━━\u001b[0m \u001b[32m40.2/40.2 KB\u001b[0m \u001b[31m4.1 MB/s\u001b[0m eta \u001b[36m0:00:00\u001b[0m\n",
            "\u001b[?25hCollecting torchvision==0.7.0\n",
            "  Downloading torchvision-0.7.0-cp38-cp38-manylinux1_x86_64.whl (5.9 MB)\n",
            "\u001b[2K     \u001b[90m━━━━━━━━━━━━━━━━━━━━━━━━━━━━━━━━━━━━━━━━\u001b[0m \u001b[32m5.9/5.9 MB\u001b[0m \u001b[31m79.4 MB/s\u001b[0m eta \u001b[36m0:00:00\u001b[0m\n",
            "\u001b[?25hCollecting tqdm==4.48.2\n",
            "  Downloading tqdm-4.48.2-py2.py3-none-any.whl (68 kB)\n",
            "\u001b[2K     \u001b[90m━━━━━━━━━━━━━━━━━━━━━━━━━━━━━━━━━━━━━━━━\u001b[0m \u001b[32m68.3/68.3 KB\u001b[0m \u001b[31m7.3 MB/s\u001b[0m eta \u001b[36m0:00:00\u001b[0m\n",
            "\u001b[?25hCollecting urllib3==1.25.10\n",
            "  Downloading urllib3-1.25.10-py2.py3-none-any.whl (127 kB)\n",
            "\u001b[2K     \u001b[90m━━━━━━━━━━━━━━━━━━━━━━━━━━━━━━━━━━━━━━\u001b[0m \u001b[32m127.6/127.6 KB\u001b[0m \u001b[31m13.0 MB/s\u001b[0m eta \u001b[36m0:00:00\u001b[0m\n",
            "\u001b[?25hCollecting virtualenv==20.0.30\n",
            "  Downloading virtualenv-20.0.30-py2.py3-none-any.whl (7.1 MB)\n",
            "\u001b[2K     \u001b[90m━━━━━━━━━━━━━━━━━━━━━━━━━━━━━━━━━━━━━━━━\u001b[0m \u001b[32m7.1/7.1 MB\u001b[0m \u001b[31m60.5 MB/s\u001b[0m eta \u001b[36m0:00:00\u001b[0m\n",
            "\u001b[?25hCollecting websocket-client==0.57.0\n",
            "  Downloading websocket_client-0.57.0-py2.py3-none-any.whl (200 kB)\n",
            "\u001b[2K     \u001b[90m━━━━━━━━━━━━━━━━━━━━━━━━━━━━━━━━━━━━━━\u001b[0m \u001b[32m200.9/200.9 KB\u001b[0m \u001b[31m19.2 MB/s\u001b[0m eta \u001b[36m0:00:00\u001b[0m\n",
            "\u001b[?25hRequirement already satisfied: Werkzeug==1.0.1 in /usr/local/lib/python3.8/dist-packages (from -r requirements.txt (line 87)) (1.0.1)\n",
            "Requirement already satisfied: regex>=2020.1.8 in /usr/local/lib/python3.8/dist-packages (from black==20.8b1->-r requirements.txt (line 14)) (2022.6.2)\n",
            "Requirement already satisfied: typing-extensions>=3.7.4 in /usr/local/lib/python3.8/dist-packages (from black==20.8b1->-r requirements.txt (line 14)) (4.4.0)\n",
            "Collecting mypy-extensions>=0.4.3\n",
            "  Downloading mypy_extensions-0.4.3-py2.py3-none-any.whl (4.5 kB)\n",
            "Collecting typed-ast>=1.4.0\n",
            "  Downloading typed_ast-1.5.4-cp38-cp38-manylinux_2_5_x86_64.manylinux1_x86_64.manylinux_2_12_x86_64.manylinux2010_x86_64.whl (897 kB)\n",
            "\u001b[2K     \u001b[90m━━━━━━━━━━━━━━━━━━━━━━━━━━━━━━━━━━━━━━\u001b[0m \u001b[32m897.2/897.2 KB\u001b[0m \u001b[31m51.1 MB/s\u001b[0m eta \u001b[36m0:00:00\u001b[0m\n",
            "\u001b[?25hCollecting pathspec<1,>=0.6\n",
            "  Downloading pathspec-0.11.0-py3-none-any.whl (29 kB)\n",
            "Requirement already satisfied: setuptools>=3.0 in /usr/local/lib/python3.8/dist-packages (from gunicorn==20.0.4->-r requirements.txt (line 33)) (57.4.0)\n",
            "Requirement already satisfied: cycler>=0.10 in /usr/local/lib/python3.8/dist-packages (from matplotlib==3.3.1->-r requirements.txt (line 42)) (0.11.0)\n",
            "Requirement already satisfied: kiwisolver>=1.0.1 in /usr/local/lib/python3.8/dist-packages (from matplotlib==3.3.1->-r requirements.txt (line 42)) (1.4.4)\n",
            "Requirement already satisfied: joblib>=0.11 in /usr/local/lib/python3.8/dist-packages (from scikit-learn==0.23.2->-r requirements.txt (line 73)) (1.2.0)\n",
            "Requirement already satisfied: threadpoolctl>=2.0.0 in /usr/local/lib/python3.8/dist-packages (from scikit-learn==0.23.2->-r requirements.txt (line 73)) (3.1.0)\n",
            "Requirement already satisfied: scipy>=0.19.1 in /usr/local/lib/python3.8/dist-packages (from scikit-learn==0.23.2->-r requirements.txt (line 73)) (1.7.3)\n",
            "Building wheels for collected packages: alembic, black, databricks-cli, future, prometheus-flask-exporter, PyYAML, schwimmbad, SQLAlchemy, GrouPy\n",
            "  Building wheel for alembic (pyproject.toml) ... \u001b[?25l\u001b[?25hdone\n",
            "  Created wheel for alembic: filename=alembic-1.4.2-py2.py3-none-any.whl size=159554 sha256=9534f7d4ef7ad85a926e7c222d5780c6e315566d3fb2acdc510f7a15b37e13c3\n",
            "  Stored in directory: /root/.cache/pip/wheels/70/08/70/cea787a7e95817b831469fa42af076046e55a05f7c94657463\n",
            "  Building wheel for black (pyproject.toml) ... \u001b[?25l\u001b[?25hdone\n",
            "  Created wheel for black: filename=black-20.8b1-py3-none-any.whl size=124194 sha256=9172a623d8530684007f72cab00c725049a5efc6635e09f6c1ac8a100b1390e9\n",
            "  Stored in directory: /root/.cache/pip/wheels/95/a4/59/10cd5378d52f92cdb45025f040e4686e10ae5217961c25fd66\n",
            "  Building wheel for databricks-cli (setup.py) ... \u001b[?25l\u001b[?25hdone\n",
            "  Created wheel for databricks-cli: filename=databricks_cli-0.11.0-py3-none-any.whl size=90303 sha256=c644cff1706b266c1b6cde050812231eb2ab1c3d00def3a420fa0cdf5f2bb4da\n",
            "  Stored in directory: /root/.cache/pip/wheels/b9/f6/7e/6a96e9345afe0a27903541766afe0f6229900bbcd33b096032\n",
            "  Building wheel for future (setup.py) ... \u001b[?25l\u001b[?25hdone\n",
            "  Created wheel for future: filename=future-0.18.2-py3-none-any.whl size=491071 sha256=e18506cb4e349fae1258aea0ac9910b8db44127073336b26f16407060155152b\n",
            "  Stored in directory: /root/.cache/pip/wheels/8e/70/28/3d6ccd6e315f65f245da085482a2e1c7d14b90b30f239e2cf4\n",
            "  Building wheel for prometheus-flask-exporter (setup.py) ... \u001b[?25l\u001b[?25hdone\n",
            "  Created wheel for prometheus-flask-exporter: filename=prometheus_flask_exporter-0.15.4-py3-none-any.whl size=16469 sha256=1febb4f702250ada2f300bcedcde65833677d65c5f63a79a7a53422f6761d23d\n",
            "  Stored in directory: /root/.cache/pip/wheels/e5/f3/9e/985c949ec7eec3e7aa56f87256e576973c0c183fff0b4328f9\n",
            "  Building wheel for PyYAML (setup.py) ... \u001b[?25l\u001b[?25hdone\n",
            "  Created wheel for PyYAML: filename=PyYAML-5.3.1-cp38-cp38-linux_x86_64.whl size=44634 sha256=cb33a84686c67a655a6de778715f48466e762213e01f202469cb9706a7b8835e\n",
            "  Stored in directory: /root/.cache/pip/wheels/13/90/db/290ab3a34f2ef0b5a0f89235dc2d40fea83e77de84ed2dc05c\n",
            "  Building wheel for schwimmbad (pyproject.toml) ... \u001b[?25l\u001b[?25hdone\n",
            "  Created wheel for schwimmbad: filename=schwimmbad-0.3.2-py3-none-any.whl size=15743 sha256=06a6eba3a6b2e5656435a604eb63e8e0b5a91eb740bbe86b959d934d020a84ae\n",
            "  Stored in directory: /root/.cache/pip/wheels/8c/7a/3a/af51699f8437d3191ec41ca5c1c90e4e8f3b98f194cf61e94f\n",
            "  Building wheel for SQLAlchemy (setup.py) ... \u001b[?25l\u001b[?25hdone\n",
            "  Created wheel for SQLAlchemy: filename=SQLAlchemy-1.3.13-cp38-cp38-linux_x86_64.whl size=1226241 sha256=745032d2eae039d4f8649029afad873f7028323f2ee897ef643bde8ae9f72045\n",
            "  Stored in directory: /root/.cache/pip/wheels/1b/5b/fe/df3abf130f4f66b437ea92eb98814d9d9fa80d70a6ee080b96\n",
            "  Building wheel for GrouPy (setup.py) ... \u001b[?25l\u001b[?25hdone\n",
            "  Created wheel for GrouPy: filename=GrouPy-0.1.2-py3-none-any.whl size=41055 sha256=fadc763b0e81066900d36c7e0167b54fe31e4dc4b45b080a37ab6b54c61aa852\n",
            "  Stored in directory: /root/.cache/pip/wheels/19/e3/8a/16dda11d9a0733fd095b3c82a8ee6c8a52869d3d8605d37303\n",
            "Successfully built alembic black databricks-cli future prometheus-flask-exporter PyYAML schwimmbad SQLAlchemy GrouPy\n",
            "Installing collected packages: toml, tabulate, pytz, python-editor, python-dotenv, prometheus-client, mypy-extensions, mccabe, iniconfig, GrouPy, gorilla, ggt, filelock, distlib, chardet, certifi, websocket-client, virtualenv, urllib3, typed-ast, tqdm, sqlparse, SQLAlchemy, smmap, schwimmbad, querystring-parser, PyYAML, python-dateutil, pyparsing, pyflakes, pycparser, pycodestyle, py, protobuf, pluggy, Pillow, pathspec, oauthlib, numpy, more-itertools, MarkupSafe, isodate, gunicorn, future, entrypoints, coverage, cloudpickle, attrs, torch, requests, pandas, packaging, matplotlib, Mako, Jinja2, gitdb, flake8, cffi, black, astropy, torchvision, scikit-learn, requests-oauthlib, pytorch-ranger, pytorch-ignite, pytest, kornia, GitPython, Flask, docker, databricks-cli, cryptography, azure-core, alembic, torch-optimizer, prometheus-flask-exporter, msrest, azure-storage-blob, mlflow\n",
            "  Attempting uninstall: toml\n",
            "    Found existing installation: toml 0.10.2\n",
            "    Uninstalling toml-0.10.2:\n",
            "      Successfully uninstalled toml-0.10.2\n",
            "  Attempting uninstall: tabulate\n",
            "    Found existing installation: tabulate 0.8.10\n",
            "    Uninstalling tabulate-0.8.10:\n",
            "      Successfully uninstalled tabulate-0.8.10\n",
            "  Attempting uninstall: pytz\n",
            "    Found existing installation: pytz 2022.7\n",
            "    Uninstalling pytz-2022.7:\n",
            "      Successfully uninstalled pytz-2022.7\n",
            "  Attempting uninstall: prometheus-client\n",
            "    Found existing installation: prometheus-client 0.15.0\n",
            "    Uninstalling prometheus-client-0.15.0:\n",
            "      Successfully uninstalled prometheus-client-0.15.0\n",
            "  Running setup.py develop for ggt\n",
            "  Attempting uninstall: filelock\n",
            "    Found existing installation: filelock 3.9.0\n",
            "    Uninstalling filelock-3.9.0:\n",
            "      Successfully uninstalled filelock-3.9.0\n",
            "  Attempting uninstall: chardet\n",
            "    Found existing installation: chardet 4.0.0\n",
            "    Uninstalling chardet-4.0.0:\n",
            "      Successfully uninstalled chardet-4.0.0\n",
            "  Attempting uninstall: certifi\n",
            "    Found existing installation: certifi 2022.12.7\n",
            "    Uninstalling certifi-2022.12.7:\n",
            "      Successfully uninstalled certifi-2022.12.7\n",
            "  Attempting uninstall: urllib3\n",
            "    Found existing installation: urllib3 1.24.3\n",
            "    Uninstalling urllib3-1.24.3:\n",
            "      Successfully uninstalled urllib3-1.24.3\n",
            "  Attempting uninstall: tqdm\n",
            "    Found existing installation: tqdm 4.64.1\n",
            "    Uninstalling tqdm-4.64.1:\n",
            "      Successfully uninstalled tqdm-4.64.1\n",
            "  Attempting uninstall: sqlparse\n",
            "    Found existing installation: sqlparse 0.4.3\n",
            "    Uninstalling sqlparse-0.4.3:\n",
            "      Successfully uninstalled sqlparse-0.4.3\n",
            "  Attempting uninstall: SQLAlchemy\n",
            "    Found existing installation: SQLAlchemy 1.4.46\n",
            "    Uninstalling SQLAlchemy-1.4.46:\n",
            "      Successfully uninstalled SQLAlchemy-1.4.46\n",
            "  Attempting uninstall: PyYAML\n",
            "    Found existing installation: PyYAML 6.0\n",
            "    Uninstalling PyYAML-6.0:\n",
            "      Successfully uninstalled PyYAML-6.0\n",
            "  Attempting uninstall: python-dateutil\n",
            "    Found existing installation: python-dateutil 2.8.2\n",
            "    Uninstalling python-dateutil-2.8.2:\n",
            "      Successfully uninstalled python-dateutil-2.8.2\n",
            "  Attempting uninstall: pyparsing\n",
            "    Found existing installation: pyparsing 3.0.9\n",
            "    Uninstalling pyparsing-3.0.9:\n",
            "      Successfully uninstalled pyparsing-3.0.9\n",
            "  Attempting uninstall: pycparser\n",
            "    Found existing installation: pycparser 2.21\n",
            "    Uninstalling pycparser-2.21:\n",
            "      Successfully uninstalled pycparser-2.21\n",
            "  Attempting uninstall: py\n",
            "    Found existing installation: py 1.11.0\n",
            "    Uninstalling py-1.11.0:\n",
            "      Successfully uninstalled py-1.11.0\n",
            "  Attempting uninstall: protobuf\n",
            "    Found existing installation: protobuf 3.19.6\n",
            "    Uninstalling protobuf-3.19.6:\n",
            "      Successfully uninstalled protobuf-3.19.6\n",
            "  Attempting uninstall: pluggy\n",
            "    Found existing installation: pluggy 0.7.1\n",
            "    Uninstalling pluggy-0.7.1:\n",
            "      Successfully uninstalled pluggy-0.7.1\n",
            "  Attempting uninstall: Pillow\n",
            "    Found existing installation: Pillow 7.1.2\n",
            "    Uninstalling Pillow-7.1.2:\n",
            "      Successfully uninstalled Pillow-7.1.2\n",
            "  Attempting uninstall: oauthlib\n",
            "    Found existing installation: oauthlib 3.2.2\n",
            "    Uninstalling oauthlib-3.2.2:\n",
            "      Successfully uninstalled oauthlib-3.2.2\n",
            "  Attempting uninstall: numpy\n",
            "    Found existing installation: numpy 1.21.6\n",
            "    Uninstalling numpy-1.21.6:\n",
            "      Successfully uninstalled numpy-1.21.6\n",
            "  Attempting uninstall: more-itertools\n",
            "    Found existing installation: more-itertools 9.0.0\n",
            "    Uninstalling more-itertools-9.0.0:\n",
            "      Successfully uninstalled more-itertools-9.0.0\n",
            "  Attempting uninstall: MarkupSafe\n",
            "    Found existing installation: MarkupSafe 2.0.1\n",
            "    Uninstalling MarkupSafe-2.0.1:\n",
            "      Successfully uninstalled MarkupSafe-2.0.1\n",
            "  Attempting uninstall: future\n",
            "    Found existing installation: future 0.16.0\n",
            "    Uninstalling future-0.16.0:\n",
            "      Successfully uninstalled future-0.16.0\n",
            "  Attempting uninstall: entrypoints\n",
            "    Found existing installation: entrypoints 0.4\n",
            "    Uninstalling entrypoints-0.4:\n",
            "      Successfully uninstalled entrypoints-0.4\n",
            "  Attempting uninstall: cloudpickle\n",
            "    Found existing installation: cloudpickle 2.2.0\n",
            "    Uninstalling cloudpickle-2.2.0:\n",
            "      Successfully uninstalled cloudpickle-2.2.0\n",
            "  Attempting uninstall: attrs\n",
            "    Found existing installation: attrs 22.2.0\n",
            "    Uninstalling attrs-22.2.0:\n",
            "      Successfully uninstalled attrs-22.2.0\n",
            "  Attempting uninstall: torch\n",
            "    Found existing installation: torch 1.13.1+cu116\n",
            "    Uninstalling torch-1.13.1+cu116:\n",
            "      Successfully uninstalled torch-1.13.1+cu116\n",
            "  Attempting uninstall: requests\n",
            "    Found existing installation: requests 2.25.1\n",
            "    Uninstalling requests-2.25.1:\n",
            "      Successfully uninstalled requests-2.25.1\n",
            "  Attempting uninstall: pandas\n",
            "    Found existing installation: pandas 1.3.5\n",
            "    Uninstalling pandas-1.3.5:\n",
            "      Successfully uninstalled pandas-1.3.5\n",
            "  Attempting uninstall: packaging\n",
            "    Found existing installation: packaging 21.3\n",
            "    Uninstalling packaging-21.3:\n",
            "      Successfully uninstalled packaging-21.3\n",
            "  Attempting uninstall: matplotlib\n",
            "    Found existing installation: matplotlib 3.2.2\n",
            "    Uninstalling matplotlib-3.2.2:\n",
            "      Successfully uninstalled matplotlib-3.2.2\n",
            "  Attempting uninstall: Jinja2\n",
            "    Found existing installation: Jinja2 2.11.3\n",
            "    Uninstalling Jinja2-2.11.3:\n",
            "      Successfully uninstalled Jinja2-2.11.3\n",
            "  Attempting uninstall: cffi\n",
            "    Found existing installation: cffi 1.15.1\n",
            "    Uninstalling cffi-1.15.1:\n",
            "      Successfully uninstalled cffi-1.15.1\n",
            "  Attempting uninstall: astropy\n",
            "    Found existing installation: astropy 4.3.1\n",
            "    Uninstalling astropy-4.3.1:\n",
            "      Successfully uninstalled astropy-4.3.1\n",
            "  Attempting uninstall: torchvision\n",
            "    Found existing installation: torchvision 0.14.1+cu116\n",
            "    Uninstalling torchvision-0.14.1+cu116:\n",
            "      Successfully uninstalled torchvision-0.14.1+cu116\n",
            "  Attempting uninstall: scikit-learn\n",
            "    Found existing installation: scikit-learn 1.0.2\n",
            "    Uninstalling scikit-learn-1.0.2:\n",
            "      Successfully uninstalled scikit-learn-1.0.2\n",
            "  Attempting uninstall: requests-oauthlib\n",
            "    Found existing installation: requests-oauthlib 1.3.1\n",
            "    Uninstalling requests-oauthlib-1.3.1:\n",
            "      Successfully uninstalled requests-oauthlib-1.3.1\n",
            "  Attempting uninstall: pytest\n",
            "    Found existing installation: pytest 3.6.4\n",
            "    Uninstalling pytest-3.6.4:\n",
            "      Successfully uninstalled pytest-3.6.4\n",
            "  Attempting uninstall: Flask\n",
            "    Found existing installation: Flask 1.1.4\n",
            "    Uninstalling Flask-1.1.4:\n",
            "      Successfully uninstalled Flask-1.1.4\n",
            "\u001b[31mERROR: pip's dependency resolver does not currently take into account all the packages that are installed. This behaviour is the source of the following dependency conflicts.\n",
            "yellowbrick 1.5 requires scikit-learn>=1.0.0, but you have scikit-learn 0.23.2 which is incompatible.\n",
            "xarray 2022.12.0 requires numpy>=1.20, but you have numpy 1.19.1 which is incompatible.\n",
            "xarray 2022.12.0 requires packaging>=21.3, but you have packaging 20.4 which is incompatible.\n",
            "xarray 2022.12.0 requires pandas>=1.3, but you have pandas 1.1.0 which is incompatible.\n",
            "xarray-einstats 0.4.0 requires numpy>=1.20, but you have numpy 1.19.1 which is incompatible.\n",
            "torchtext 0.14.1 requires torch==1.13.1, but you have torch 1.6.0 which is incompatible.\n",
            "torchaudio 0.13.1+cu116 requires torch==1.13.1, but you have torch 1.6.0 which is incompatible.\n",
            "tifffile 2022.10.10 requires numpy>=1.19.2, but you have numpy 1.19.1 which is incompatible.\n",
            "tensorflow 2.9.2 requires numpy>=1.20, but you have numpy 1.19.1 which is incompatible.\n",
            "tensorflow-metadata 1.12.0 requires protobuf<4,>=3.13, but you have protobuf 3.12.4 which is incompatible.\n",
            "proto-plus 1.22.2 requires protobuf<5.0.0dev,>=3.19.0, but you have protobuf 3.12.4 which is incompatible.\n",
            "jaxlib 0.3.25+cuda11.cudnn805 requires numpy>=1.20, but you have numpy 1.19.1 which is incompatible.\n",
            "jax 0.3.25 requires numpy>=1.20, but you have numpy 1.19.1 which is incompatible.\n",
            "imbalanced-learn 0.8.1 requires scikit-learn>=0.24, but you have scikit-learn 0.23.2 which is incompatible.\n",
            "googleapis-common-protos 1.58.0 requires protobuf!=3.20.0,!=3.20.1,!=4.21.1,!=4.21.2,!=4.21.3,!=4.21.4,!=4.21.5,<5.0.0dev,>=3.19.5, but you have protobuf 3.12.4 which is incompatible.\n",
            "google-colab 1.0.0 requires requests>=2.25.1, but you have requests 2.24.0 which is incompatible.\n",
            "google-cloud-translate 3.8.4 requires protobuf!=3.20.0,!=3.20.1,!=4.21.0,!=4.21.1,!=4.21.2,!=4.21.3,!=4.21.4,!=4.21.5,<5.0.0dev,>=3.19.5, but you have protobuf 3.12.4 which is incompatible.\n",
            "google-cloud-language 2.6.1 requires protobuf!=3.20.0,!=3.20.1,!=4.21.0,!=4.21.1,!=4.21.2,!=4.21.3,!=4.21.4,!=4.21.5,<5.0.0dev,>=3.19.5, but you have protobuf 3.12.4 which is incompatible.\n",
            "google-cloud-firestore 2.7.3 requires protobuf!=3.20.0,!=3.20.1,!=4.21.0,!=4.21.1,!=4.21.2,!=4.21.3,!=4.21.4,!=4.21.5,<5.0.0dev,>=3.19.5, but you have protobuf 3.12.4 which is incompatible.\n",
            "google-cloud-datastore 2.11.1 requires protobuf!=3.20.0,!=3.20.1,!=4.21.0,!=4.21.1,!=4.21.2,!=4.21.3,!=4.21.4,!=4.21.5,<5.0.0dev,>=3.19.5, but you have protobuf 3.12.4 which is incompatible.\n",
            "google-cloud-bigquery 3.4.1 requires protobuf!=3.20.0,!=3.20.1,!=4.21.0,!=4.21.1,!=4.21.2,!=4.21.3,!=4.21.4,!=4.21.5,<5.0.0dev,>=3.19.5, but you have protobuf 3.12.4 which is incompatible.\n",
            "google-cloud-bigquery-storage 2.17.0 requires protobuf!=3.20.0,!=3.20.1,!=4.21.0,!=4.21.1,!=4.21.2,!=4.21.3,!=4.21.4,!=4.21.5,<5.0.0dev,>=3.19.5, but you have protobuf 3.12.4 which is incompatible.\n",
            "google-api-core 2.11.0 requires protobuf!=3.20.0,!=3.20.1,!=4.21.0,!=4.21.1,!=4.21.2,!=4.21.3,!=4.21.4,!=4.21.5,<5.0.0dev,>=3.19.5, but you have protobuf 3.12.4 which is incompatible.\n",
            "fastai 2.7.10 requires torch<1.14,>=1.7, but you have torch 1.6.0 which is incompatible.\n",
            "fastai 2.7.10 requires torchvision>=0.8.2, but you have torchvision 0.7.0 which is incompatible.\n",
            "cmdstanpy 1.0.8 requires numpy>=1.21, but you have numpy 1.19.1 which is incompatible.\u001b[0m\u001b[31m\n",
            "\u001b[0mSuccessfully installed Flask-1.1.2 GitPython-3.1.7 GrouPy-0.1.2 Jinja2-2.11.2 Mako-1.1.3 MarkupSafe-1.1.1 Pillow-7.2.0 PyYAML-5.3.1 SQLAlchemy-1.3.13 alembic-1.4.2 astropy-4.0.1.post1 attrs-19.3.0 azure-core-1.7.0 azure-storage-blob-12.3.2 black-20.8b1 certifi-2020.6.20 cffi-1.14.1 chardet-3.0.4 cloudpickle-1.5.0 coverage-5.2.1 cryptography-3.0 databricks-cli-0.11.0 distlib-0.3.1 docker-4.2.2 entrypoints-0.3 filelock-3.0.12 flake8-3.8.3 future-0.18.2 ggt-0.1.0 gitdb-4.0.5 gorilla-0.3.0 gunicorn-20.0.4 iniconfig-1.0.1 isodate-0.6.0 kornia-0.4.0 matplotlib-3.3.1 mccabe-0.6.1 mlflow-1.10.0 more-itertools-8.4.0 msrest-0.6.18 mypy-extensions-0.4.3 numpy-1.19.1 oauthlib-3.1.0 packaging-20.4 pandas-1.1.0 pathspec-0.11.0 pluggy-0.13.1 prometheus-client-0.8.0 prometheus-flask-exporter-0.15.4 protobuf-3.12.4 py-1.9.0 pycodestyle-2.6.0 pycparser-2.20 pyflakes-2.2.0 pyparsing-2.4.7 pytest-6.0.1 python-dateutil-2.8.1 python-dotenv-0.14.0 python-editor-1.0.4 pytorch-ignite-0.4.1 pytorch-ranger-0.1.1 pytz-2020.1 querystring-parser-1.2.4 requests-2.24.0 requests-oauthlib-1.3.0 schwimmbad-0.3.2 scikit-learn-0.23.2 smmap-3.0.4 sqlparse-0.3.1 tabulate-0.8.7 toml-0.10.1 torch-1.6.0 torch-optimizer-0.0.1a14 torchvision-0.7.0 tqdm-4.48.2 typed-ast-1.5.4 urllib3-1.25.10 virtualenv-20.0.30 websocket-client-0.57.0\n"
          ]
        }
      ]
    },
    {
      "cell_type": "markdown",
      "source": [
        "In order to check whether the installation has occured succesfully, run the command below.  "
      ],
      "metadata": {
        "id": "MnLtRYvzlO9F"
      }
    },
    {
      "cell_type": "code",
      "source": [
        "!make check"
      ],
      "metadata": {
        "outputId": "ed7626cc-fab8-488a-96a3-9e3c517d2d01",
        "colab": {
          "base_uri": "https://localhost:8080/"
        },
        "id": "Waw12SSMlO9G"
      },
      "execution_count": 11,
      "outputs": [
        {
          "output_type": "stream",
          "name": "stdout",
          "text": [
            "flake8 --ignore=E203,W503 ggt\n",
            "pytest\n",
            "\u001b[1m============================= test session starts ==============================\u001b[0m\n",
            "platform linux -- Python 3.8.10, pytest-6.0.1, py-1.9.0, pluggy-0.13.1\n",
            "rootdir: /content/GaMPEN\n",
            "plugins: typeguard-2.7.1\n",
            "collected 7 items                                                              \u001b[0m\n",
            "\n",
            "ggt/tests/test_install.py \u001b[32m.\u001b[0m\u001b[32m                                              [ 14%]\u001b[0m\n",
            "ggt/tests/test_metrics.py \u001b[32m.\u001b[0m\u001b[32m                                              [ 28%]\u001b[0m\n",
            "ggt/tests/test_models.py \u001b[32m.\u001b[0m\u001b[32m.\u001b[0m\u001b[32m.\u001b[0m\u001b[33ms\u001b[0m\u001b[32m                                            [ 85%]\u001b[0m\n",
            "ggt/tests/test_utils.py \u001b[32m.\u001b[0m\u001b[32m                                                [100%]\u001b[0m\n",
            "\n",
            "\u001b[32m======================== \u001b[32m\u001b[1m6 passed\u001b[0m, \u001b[33m1 skipped\u001b[0m\u001b[32m in 11.57s\u001b[0m\u001b[32m =========================\u001b[0m\n"
          ]
        }
      ]
    },
    {
      "cell_type": "markdown",
      "source": [
        "As long as the tests do not produce any errors, you are good to go! \n",
        "\n",
        "Note that warnings and and tests being skipped are ok! "
      ],
      "metadata": {
        "id": "qzIUnu18lO9G"
      }
    },
    {
      "cell_type": "markdown",
      "source": [
        "##2.1: Defining the New Model and Loss Function"
      ],
      "metadata": {
        "id": "0V0Uhhj8mTpv"
      }
    },
    {
      "cell_type": "code",
      "source": [
        "from ggt.losses import AleatoricLoss  #Importing the loss from GaMPEN\n",
        "                                      #Note that for a multi-dimensional\n",
        "                                      #case, you would need to use \n",
        "                                      #AleatoricCovLoss instead\n",
        "\n",
        "\n",
        "al_loss = AleatoricLoss(average=False) #Since we are not training in batches, \n",
        "                                       #we have set average to False"
      ],
      "metadata": {
        "id": "IemE7eeemTX6"
      },
      "execution_count": 12,
      "outputs": []
    },
    {
      "cell_type": "markdown",
      "source": [
        "As an alternative exercise, try to implement the AleatoricLoss function\n",
        "yourself! \n",
        "\n",
        "Here's some basic code to do it\n",
        "\n",
        "```python\n",
        "\n",
        "import torch.nn as nn\n",
        "\n",
        "class AleatoricLoss(nn.Module):\n",
        "    def __init__(self, average=True):\n",
        "        super(AleatoricLoss, self).__init__()\n",
        "        self.average = average\n",
        "\n",
        "    def forward(self, outputs, targets):\n",
        "        return aleatoric_loss(outputs, targets, average=self.average)\n",
        "\n",
        "\n",
        "def aleatoric_loss(outputs, targets, average=True):\n",
        "    \"\"\"\n",
        "    Computes the aleatoric loss.\n",
        "    Args:\n",
        "        outputs: (tensor) - predicted outputs from the model\n",
        "        targets: (tensor) - ground truth labels\n",
        "        size_average: (bool) - if True, the losses are\n",
        "               averaged over all elements of the batch\n",
        "    Returns:\n",
        "        aleatoric_loss: (tensor) - aleatoric loss\n",
        "    \"\"\"\n",
        "\n",
        "    num_out = outputs.shape[len(outputs.shape) - 1]\n",
        "    if num_out % 2 != 0:\n",
        "        raise ValueError(\n",
        "            \"The number of predicted variables should be divisible by \"\n",
        "            \"2 for calculation of aleatoric loss\"\n",
        "        )\n",
        "\n",
        "    ## FILL-IN!\n",
        "    ## FILL-IN!\n",
        "\n",
        "```\n",
        "\n",
        "You can see the anwwer from https://github.com/aritraghsh09/GaMPEN/blob/master/ggt/losses/aleatoric_loss.py"
      ],
      "metadata": {
        "id": "tSC-vAflzovR"
      }
    },
    {
      "cell_type": "code",
      "source": [
        "# Defining the new model \n",
        "class ModelWithError(nn.Module):\n",
        "    def __init__(self):\n",
        "        super().__init__()\n",
        "        self.backbone = nn.Sequential(\n",
        "            nn.BatchNorm1d(1), # trick to normalize the input automatically\n",
        "            nn.Linear(#?, #?), #FILL-IN THIS LINE\n",
        "            nn.ReLU(inplace=True),\n",
        "            nn.BatchNorm1d(#?), #FILL-IN THIS LINE\n",
        "            nn.Linear(#?, #?), #FILL-IN THIS LINE\n",
        "        )\n",
        "        nn.init.kaiming_normal_(self.backbone[1].weight.data)\n",
        "        nn.init.ones_(self.backbone[1].bias.data)\n",
        "        nn.init.kaiming_normal_(self.backbone[4].weight.data)\n",
        "        nn.init.ones_(self.backbone[4].bias.data)\n",
        "    \n",
        "    def forward(self, X):\n",
        "        out = self.backbone(X)\n",
        "        \n",
        "        return out\n"
      ],
      "metadata": {
        "id": "UmWk_Q0ZrDxa"
      },
      "execution_count": null,
      "outputs": []
    },
    {
      "cell_type": "code",
      "source": [
        "#@title Show Answer\n",
        "# Defining the new model \n",
        "\n",
        "class ModelWithError(nn.Module):\n",
        "    def __init__(self):\n",
        "        super().__init__()\n",
        "        self.backbone = nn.Sequential(\n",
        "            nn.BatchNorm1d(1), # trick to normalize the input automatically\n",
        "            nn.Linear(1, 10), #FILL-IN THIS LINE\n",
        "            nn.ReLU(inplace=True),\n",
        "            nn.BatchNorm1d(10), #FILL-IN THIS LINE\n",
        "            nn.Linear(10, 2), #FILL-IN THIS LINE\n",
        "        )\n",
        "        nn.init.kaiming_normal_(self.backbone[1].weight.data)\n",
        "        nn.init.ones_(self.backbone[1].bias.data)\n",
        "        nn.init.kaiming_normal_(self.backbone[4].weight.data)\n",
        "        nn.init.ones_(self.backbone[4].bias.data)\n",
        "    \n",
        "    def forward(self, X):\n",
        "        out = self.backbone(X)\n",
        "        \n",
        "        return out"
      ],
      "metadata": {
        "cellView": "form",
        "id": "flO9CX0jTdYh"
      },
      "execution_count": 17,
      "outputs": []
    },
    {
      "cell_type": "code",
      "source": [
        "#@title Pre-Defined Code to Train the Model\n",
        "def train_model(model, loss_fn, optimizer, iterations=100, print_every=50, \n",
        "                 lr=0.001):\n",
        "    optimizer.lr = lr\n",
        "\n",
        "    for i in range(iterations):\n",
        "        model.train()\n",
        "        out = model(x_train)\n",
        "        loss = loss_fn(out, y_train)\n",
        "        optimizer.zero_grad()\n",
        "        loss.backward()\n",
        "        optimizer.step()\n",
        "\n",
        "        if i % print_every == 0:\n",
        "            with torch.no_grad():\n",
        "                model.eval()\n",
        "                out = model(x_test)\n",
        "                test_loss = loss_fn(out,y_test)\n",
        "                print(loss, test_loss)\n",
        "\n",
        "    return model"
      ],
      "metadata": {
        "id": "eZC2Qm6lXecd"
      },
      "execution_count": 24,
      "outputs": []
    },
    {
      "cell_type": "code",
      "source": [
        "# Defining the Model\n",
        "model = ModelWithError()\n",
        "\n",
        "# Defininf the Adam Optimizer\n",
        "adam = optim.Adam(params=model.parameters(), lr=0.001)\n",
        "\n",
        "# Traning the Model\n",
        "model = train_model(model, al_loss, adam, iterations=20000, \n",
        "                    print_every=2000, lr=0.001)"
      ],
      "metadata": {
        "colab": {
          "base_uri": "https://localhost:8080/"
        },
        "id": "1lW21qCxW_2L",
        "outputId": "9a69fd58-982a-42e9-a263-25da1c942fb4"
      },
      "execution_count": 25,
      "outputs": [
        {
          "output_type": "stream",
          "name": "stdout",
          "text": [
            "tensor(1553.4950, grad_fn=<SumBackward0>) tensor(470.0142)\n",
            "tensor(83.7121, grad_fn=<SumBackward0>) tensor(45.3139)\n",
            "tensor(80.4419, grad_fn=<SumBackward0>) tensor(44.6940)\n",
            "tensor(75.1616, grad_fn=<SumBackward0>) tensor(38.0682)\n",
            "tensor(71.9671, grad_fn=<SumBackward0>) tensor(37.6430)\n",
            "tensor(67.9449, grad_fn=<SumBackward0>) tensor(39.5877)\n",
            "tensor(66.0231, grad_fn=<SumBackward0>) tensor(38.7613)\n",
            "tensor(65.5783, grad_fn=<SumBackward0>) tensor(38.8852)\n",
            "tensor(65.1525, grad_fn=<SumBackward0>) tensor(38.3913)\n",
            "tensor(64.8928, grad_fn=<SumBackward0>) tensor(37.7232)\n"
          ]
        }
      ]
    },
    {
      "cell_type": "markdown",
      "source": [
        "##2.2: Performing Predictions With the New Model"
      ],
      "metadata": {
        "id": "l9lKoAxHt2GD"
      }
    },
    {
      "cell_type": "code",
      "source": [
        "#Taking the Output and Reverting it to the mean and std\n",
        "#for each value in the test set\n",
        "#AleatoricLoss processes the two outputs as mu and \n",
        "# log(sigma^2) which we call sk below\n",
        "\n",
        "test_out = model(x_test)\n",
        "test_mean = test_out[..., 0].detach().numpy().squeeze()\n",
        "\n",
        "test_sk = test_out[..., 1]\n",
        "test_std = 0.5*torch.exp(test_sk).detach().numpy().squeeze()"
      ],
      "metadata": {
        "id": "HQ3xbTDTmPRc"
      },
      "execution_count": 27,
      "outputs": []
    },
    {
      "cell_type": "code",
      "source": [
        "# Let's Plot The Predicted Means with The Errorbars as \n",
        "# 2sigma. \n",
        "\n",
        "fig, ax = plt.subplots(1,2,figsize=(12,4))\n",
        "font_size = 18\n",
        "\n",
        "ax[0].scatter(x_test.numpy(),y_test,label=\"True Values\")\n",
        "ax[0].errorbar(x_test.numpy(),test_mean,yerr=2*test_std,label=\"Predicted Values\",c='C1',\n",
        "               capsize=5)\n",
        "\n",
        "ax[0].set_xlabel(\"x\",fontsize=font_size)\n",
        "ax[0].set_ylabel(\"y\",fontsize=font_size)\n",
        "\n",
        "\n",
        "ax[1].scatter(x_test.numpy(),y_test,label=\"True Values\")\n",
        "ax[1].scatter(x_test.numpy(),test_mean,label=\"True Values\",c='C1',s=10)\n",
        "ax[1].plot(x_test.numpy(), test_mean+2*test_std, linestyle=\"--\",c='C1',lw=3)\n",
        "ax[1].plot(x_test.numpy(), test_mean-2*test_std, linestyle=\"--\",c='C1',lw=3)\n",
        "\n",
        "ax[0].legend(loc=\"best\",fontsize=font_size-2)\n",
        "\n",
        "ax[1].set_xlabel(\"x\",fontsize=font_size)\n",
        "ax[1].set_ylabel(\"y\",fontsize=font_size)"
      ],
      "metadata": {
        "colab": {
          "base_uri": "https://localhost:8080/",
          "height": 305
        },
        "id": "VJ55VR55uFs8",
        "outputId": "71efadd9-7fef-4aac-9849-0a590c84073f"
      },
      "execution_count": 28,
      "outputs": [
        {
          "output_type": "execute_result",
          "data": {
            "text/plain": [
              "Text(0, 0.5, 'y')"
            ]
          },
          "metadata": {},
          "execution_count": 28
        },
        {
          "output_type": "display_data",
          "data": {
            "text/plain": [
              "<Figure size 864x288 with 2 Axes>"
            ],
            "image/png": "[encoded data removed]"
          },
          "metadata": {
            "needs_background": "light"
          }
        }
      ]
    },
    {
      "cell_type": "markdown",
      "source": [
        "**Notes**\n",
        "\n",
        "*  The above plot will change depending on the shape of the network that you choose to work with! Try it out! \n",
        "*  In most situations you will see that you have accounted for a lot of the scatter in the data, but not all of it! \n",
        "\n"
      ],
      "metadata": {
        "id": "DOvYsxBm0iT0"
      }
    },
    {
      "cell_type": "markdown",
      "source": [
        "**This, completes the section of incorporating Aleatoric Uncertainties into our model. Now, let's look go back to the slides to look at the various options that we have for implementing Epistemic Uncertainties**"
      ],
      "metadata": {
        "id": "f6UXRNlF00Pm"
      }
    },
    {
      "cell_type": "markdown",
      "source": [
        "#Exercise 3: Using Monte Carlo Dropout In Our Toy Problem\n",
        "\n",
        "Now, having learnt about epistemic uncertainties, let's try to incroporate MC Dropout in our prediction model. "
      ],
      "metadata": {
        "id": "YHgtslJrvSe_"
      }
    },
    {
      "cell_type": "markdown",
      "source": [
        "##3.1: Creating a New Model that Includes Dropout\n",
        "\n",
        "First, we need to redefine the model that we used before to include dropout. Look up the documentation for the [PyTorch Dropout function](https://pytorch.org/docs/stable/generated/torch.nn.Dropout.html) and include a dropout layer in the NN below\n"
      ],
      "metadata": {
        "id": "OYuVjROKUDER"
      }
    },
    {
      "cell_type": "code",
      "source": [
        "## FILL-IN THE MODEL BELOW!! \n",
        "\n",
        "\n",
        "class ModelWithDropout(nn.Module):\n",
        "    def __init__(self):\n",
        "        super().__init__()\n",
        "        self.backbone = nn.Sequential(\n",
        "            nn.BatchNorm1d(1), # trick to normalize the input automatically\n",
        "            nn.Linear(#?, #?),\n",
        "            nn.ReLU(inplace=True),\n",
        "            nn.BatchNorm1d(#?),\n",
        "            ##Dropout Layer Goes Here\n",
        "            nn.Linear(#?, #?),\n",
        "        )\n",
        "        nn.init.kaiming_normal_(self.backbone[1].weight.data)\n",
        "        nn.init.ones_(self.backbone[1].bias.data)\n",
        "        nn.init.kaiming_normal_(self.backbone[5].weight.data)\n",
        "        nn.init.ones_(self.backbone[5].bias.data)\n",
        "    \n",
        "    def forward(self, X):\n",
        "        out = self.backbone(X)\n",
        "        \n",
        "        return out"
      ],
      "metadata": {
        "id": "dEkePTRzUtbL"
      },
      "execution_count": null,
      "outputs": []
    },
    {
      "cell_type": "code",
      "source": [
        "#@title Show Answer\n",
        "# Defining the new model \n",
        "\n",
        "class ModelWithDropout(nn.Module):\n",
        "    def __init__(self):\n",
        "        super().__init__()\n",
        "        self.backbone = nn.Sequential(\n",
        "            nn.BatchNorm1d(1), # trick to normalize the input automatically\n",
        "            nn.Linear(1, 10),\n",
        "            nn.ReLU(inplace=True),\n",
        "            nn.BatchNorm1d(10),\n",
        "            nn.Dropout(p=0.2),\n",
        "            nn.Linear(10, 2),\n",
        "        )\n",
        "        nn.init.kaiming_normal_(self.backbone[1].weight.data)\n",
        "        nn.init.ones_(self.backbone[1].bias.data)\n",
        "        nn.init.kaiming_normal_(self.backbone[5].weight.data)\n",
        "        nn.init.ones_(self.backbone[5].bias.data)\n",
        "    \n",
        "    def forward(self, X):\n",
        "        out = self.backbone(X)\n",
        "        \n",
        "        return out"
      ],
      "metadata": {
        "cellView": "form",
        "id": "nxcU079imv_z"
      },
      "execution_count": 31,
      "outputs": []
    },
    {
      "cell_type": "markdown",
      "source": [
        "## 3.2: Now Train the Model! "
      ],
      "metadata": {
        "id": "UKdAmExqZlJt"
      }
    },
    {
      "cell_type": "code",
      "source": [
        "# Defining the Model\n",
        "model = ModelWithDropout()\n",
        "\n",
        "# Defininf the Adam Optimizer\n",
        "adam = optim.Adam(params=model.parameters(), lr=0.001)\n",
        "\n",
        "# Traning the Model\n",
        "model = train_model(model, al_loss, adam, iterations=20000, print_every=2000, lr=0.001)"
      ],
      "metadata": {
        "colab": {
          "base_uri": "https://localhost:8080/"
        },
        "id": "boqpDQZMm_mj",
        "outputId": "986daed0-98bd-45d4-a674-4d8e5160c661"
      },
      "execution_count": 32,
      "outputs": [
        {
          "output_type": "stream",
          "name": "stdout",
          "text": [
            "tensor(2599.8052, grad_fn=<SumBackward0>) tensor(2.6030e+11)\n",
            "tensor(233.2586, grad_fn=<SumBackward0>) tensor(66.1587)\n",
            "tensor(221.3417, grad_fn=<SumBackward0>) tensor(55.2692)\n",
            "tensor(206.1627, grad_fn=<SumBackward0>) tensor(60.6604)\n",
            "tensor(199.5480, grad_fn=<SumBackward0>) tensor(109.6169)\n",
            "tensor(189.6237, grad_fn=<SumBackward0>) tensor(88.8615)\n",
            "tensor(189.5173, grad_fn=<SumBackward0>) tensor(54.7244)\n",
            "tensor(186.3744, grad_fn=<SumBackward0>) tensor(55.0518)\n",
            "tensor(192.3467, grad_fn=<SumBackward0>) tensor(55.0793)\n",
            "tensor(209.2008, grad_fn=<SumBackward0>) tensor(77.5735)\n"
          ]
        }
      ]
    },
    {
      "cell_type": "markdown",
      "source": [
        "#3.3: Now Perform Inference With Dropout Enabled"
      ],
      "metadata": {
        "id": "Bk7AaQLzZsJl"
      }
    },
    {
      "cell_type": "code",
      "source": [
        "#Taking the Output and Reverting it to the mean and std\n",
        "#for each value in the test set\n",
        "#AleatoricLoss processes the two outputs as mu and \n",
        "# log(sigma^2) which we call sk below\n",
        "\n",
        "from ggt.utils import enable_dropout\n",
        "from tqdm.notebook import trange\n",
        "\n",
        "model.eval() #Putting model in evaluation model\n",
        "enable_dropout(model) # ALL IMPORTANT STEP. WHERE WE ARE ENABLING DROPOUT DURING\n",
        "                      # MODEL EVALUATION\n",
        "preds_all = []\n",
        "\n",
        "#### FILL-IN::\n",
        "#### Repeat the indented code block as many times as you want to draw samples\n",
        "\n",
        "  test_out = model(x_test)\n",
        "  test_mean = test_out[..., 0]\n",
        "  test_sk = test_out[..., 1]\n",
        "  test_std = 0.5*torch.exp(test_sk)\n",
        "\n",
        "  test_sample = torch.normal(test_mean,test_std)\n",
        "  preds_all.append(test_sample.detach().numpy().squeeze())\n",
        "\n",
        "\n",
        "preds_all = np.array(preds_all)"
      ],
      "metadata": {
        "id": "WS_Oqc_OZ4Z9"
      },
      "execution_count": null,
      "outputs": []
    },
    {
      "cell_type": "code",
      "source": [
        "#@title Show Answer\n",
        "#Taking the Output and Reverting it to the mean and std\n",
        "#for each value in the test set\n",
        "#AleatoricLoss processes the two outputs as mu and \n",
        "# log(sigma^2) which we call sk below\n",
        "\n",
        "from ggt.utils import enable_dropout\n",
        "from tqdm.notebook import trange\n",
        "\n",
        "model.eval()\n",
        "enable_dropout(model)\n",
        "preds_all = []\n",
        "\n",
        "for i in trange(200):\n",
        "\n",
        "  test_out = model(x_test)\n",
        "  test_mean = test_out[..., 0]\n",
        "  test_sk = test_out[..., 1]\n",
        "  test_std = 0.5*torch.exp(test_sk)\n",
        "\n",
        "  test_sample = torch.normal(test_mean,test_std)\n",
        "  preds_all.append(test_sample.detach().numpy().squeeze())\n",
        "\n",
        "\n",
        "preds_all = np.array(preds_all)"
      ],
      "metadata": {
        "colab": {
          "base_uri": "https://localhost:8080/",
          "height": 49,
          "referenced_widgets": [
            "803cd476f6c24b3cbd14a76fd81c89f2",
            "f5965c45fc534ccab4d807a860f583ac",
            "4b037cf7762044c79e0466e08450c317",
            "0d839b246fa444ecb03c1b916e14395c",
            "105fdd0831794a12a576b8af12bd8bfb",
            "7d1b6b2cb5774411a2526ff02a28f5fc",
            "01414caa728441fbb856b19e53857828",
            "4a079d4f5bbb4eeca2a7c938dd849aa7",
            "4c1fb160edbe49ac8f209c4635133b23",
            "627186c6ddd24c3f89d12b149a17cbf3",
            "8c47aeb743ed4a9a899cbd5264b13a18"
          ]
        },
        "cellView": "form",
        "id": "lzFH0HUfpVof",
        "outputId": "63011225-e4dc-4843-b515-7311a142b76d"
      },
      "execution_count": 33,
      "outputs": [
        {
          "output_type": "display_data",
          "data": {
            "text/plain": [
              "  0%|          | 0/200 [00:00<?, ?it/s]"
            ],
            "application/vnd.jupyter.widget-view+json": {
              "version_major": 2,
              "version_minor": 0,
              "model_id": "803cd476f6c24b3cbd14a76fd81c89f2"
            }
          },
          "metadata": {}
        }
      ]
    },
    {
      "cell_type": "code",
      "source": [
        "preds_all.shape"
      ],
      "metadata": {
        "colab": {
          "base_uri": "https://localhost:8080/"
        },
        "id": "-W9gcJ6rrtxP",
        "outputId": "f5fe24d4-e1ab-438d-f6c2-8d8412a54508"
      },
      "execution_count": 34,
      "outputs": [
        {
          "output_type": "execute_result",
          "data": {
            "text/plain": [
              "(200, 172)"
            ]
          },
          "metadata": {},
          "execution_count": 34
        }
      ]
    },
    {
      "cell_type": "markdown",
      "source": [
        "The shape above should be (N,172) where N is as many samples as you have drawn using MC Dropout. \n",
        "\n",
        "Now for plotting purposes, let's figure out the mean and std of these predicted distributions."
      ],
      "metadata": {
        "id": "302u5q1HaleS"
      }
    },
    {
      "cell_type": "code",
      "source": [
        "mean_preds_all = np.mean(preds_all,axis=0)\n",
        "std_preds_all = np.std(preds_all,axis=0)"
      ],
      "metadata": {
        "id": "F0ByuF0Rr6_0"
      },
      "execution_count": 35,
      "outputs": []
    },
    {
      "cell_type": "code",
      "source": [
        "# Let's Plot The Predicted Means with The Errorbars as \n",
        "# 2sigma. \n",
        "\n",
        "fig, ax = plt.subplots(1,2,figsize=(12,4))\n",
        "font_size = 18\n",
        "\n",
        "ax[0].scatter(x_test.numpy(),y_test,label=\"True Values\")\n",
        "ax[0].errorbar(x_test.numpy(),mean_preds_all,yerr=2*std_preds_all,\n",
        "               label=\"Predicted Values\",c='C1',capsize=5)\n",
        "\n",
        "ax[0].set_xlabel(\"x\",fontsize=font_size)\n",
        "ax[0].set_ylabel(\"y\",fontsize=font_size)\n",
        "\n",
        "\n",
        "ax[1].scatter(x_test.numpy(),y_test,label=\"True Values\")\n",
        "ax[1].scatter(x_test.numpy(),mean_preds_all,label=\"True Values\",c='C1',s=10)\n",
        "ax[1].plot(x_test.numpy(), mean_preds_all+2*std_preds_all, linestyle=\"--\",c='C1',lw=3)\n",
        "ax[1].plot(x_test.numpy(), mean_preds_all-2*std_preds_all, linestyle=\"--\",c='C1',lw=3)\n",
        "\n",
        "ax[0].legend(loc=\"best\",fontsize=font_size-2)\n",
        "\n",
        "ax[1].set_xlabel(\"x\",fontsize=font_size)\n",
        "ax[1].set_ylabel(\"y\",fontsize=font_size)"
      ],
      "metadata": {
        "colab": {
          "base_uri": "https://localhost:8080/",
          "height": 305
        },
        "id": "ulHNAoKkpa0k",
        "outputId": "37cfef60-20e3-4b02-891d-ef898e93315a"
      },
      "execution_count": 36,
      "outputs": [
        {
          "output_type": "execute_result",
          "data": {
            "text/plain": [
              "Text(0, 0.5, 'y')"
            ]
          },
          "metadata": {},
          "execution_count": 36
        },
        {
          "output_type": "display_data",
          "data": {
            "text/plain": [
              "<Figure size 864x288 with 2 Axes>"
            ],
            "image/png": "[encoded data removed]"
          },
          "metadata": {
            "needs_background": "light"
          }
        }
      ]
    },
    {
      "cell_type": "markdown",
      "source": [
        "**Discuss:**\n",
        "\n",
        "1. How this plot different from the non-MCD plot? \n",
        "2. Is it apparent that we are averaging for multiple models here?\n",
        "3. Do the unceretainties look callibrated? "
      ],
      "metadata": {
        "id": "ogNbxLk1bcoM"
      }
    },
    {
      "cell_type": "markdown",
      "source": [
        "**That concludes our interaction with MCD. Now, let's go back to the slides**\n",
        "\n",
        "**Note: If you are using MCD for your research, remember to TUNE your dropout rate (more on this in the slides)**"
      ],
      "metadata": {
        "id": "z1CtHdtwa8_n"
      }
    },
    {
      "cell_type": "markdown",
      "source": [
        "#Demo 4: HMC With hamiltorch"
      ],
      "metadata": {
        "id": "-DeWNwreknC5"
      }
    },
    {
      "cell_type": "markdown",
      "source": [
        "##4.1: Loading the Data\n",
        "\n",
        "Let's move on to some new (more complicated) data! \n",
        "\n",
        "For this regression example, let's use the data from  Izmailov et al. (2019) The functions for loading the data in the next cell come from the git repo:\n",
        "\n",
        "\"Depth Uncertainty in Neural Networks\" https://github.com/cambridge-mlg/DUN/blob/master/src/utils.py"
      ],
      "metadata": {
        "id": "Iy0qXbwJlhhO"
      }
    },
    {
      "cell_type": "code",
      "source": [
        "!pip install git+https://github.com/AdamCobb/hamiltorch\n",
        "import hamiltorch"
      ],
      "metadata": {
        "colab": {
          "base_uri": "https://localhost:8080/"
        },
        "id": "QASfNbuclhEV",
        "outputId": "74889490-3128-4ce9-e209-36f3537be5a3"
      },
      "execution_count": 37,
      "outputs": [
        {
          "output_type": "stream",
          "name": "stdout",
          "text": [
            "Looking in indexes: https://pypi.org/simple, https://us-python.pkg.dev/colab-wheels/public/simple/\n",
            "Collecting git+https://github.com/AdamCobb/hamiltorch\n",
            "  Cloning https://github.com/AdamCobb/hamiltorch to /tmp/pip-req-build-2sytrzr4\n",
            "  Running command git clone --filter=blob:none --quiet https://github.com/AdamCobb/hamiltorch /tmp/pip-req-build-2sytrzr4\n",
            "  Resolved https://github.com/AdamCobb/hamiltorch to commit c6b243f3487532e2c1d34a666f613eecbb3c274a\n",
            "  Preparing metadata (setup.py) ... \u001b[?25l\u001b[?25hdone\n",
            "Requirement already satisfied: torch>=1.6.0 in /usr/local/lib/python3.8/dist-packages (from hamiltorch==0.4.0.dev2) (1.6.0)\n",
            "Requirement already satisfied: numpy in /usr/local/lib/python3.8/dist-packages (from hamiltorch==0.4.0.dev2) (1.19.1)\n",
            "Requirement already satisfied: termcolor in /usr/local/lib/python3.8/dist-packages (from hamiltorch==0.4.0.dev2) (2.2.0)\n",
            "Requirement already satisfied: future in /usr/local/lib/python3.8/dist-packages (from torch>=1.6.0->hamiltorch==0.4.0.dev2) (0.18.2)\n",
            "Building wheels for collected packages: hamiltorch\n",
            "  Building wheel for hamiltorch (setup.py) ... \u001b[?25l\u001b[?25hdone\n",
            "  Created wheel for hamiltorch: filename=hamiltorch-0.4.0.dev2-py3-none-any.whl size=20543 sha256=748f7b309523fb38eb3ce033bdc8323a9e58bd6ef1b98602f3e89f57fd2f8502\n",
            "  Stored in directory: /tmp/pip-ephem-wheel-cache-fsy4lkzk/wheels/81/3f/f8/50fd124562118bff6d77852f4a4f1ad49929c6d390ff684b30\n",
            "Successfully built hamiltorch\n",
            "Installing collected packages: hamiltorch\n",
            "Successfully installed hamiltorch-0.4.0.dev2\n"
          ]
        }
      ]
    },
    {
      "cell_type": "code",
      "source": [
        "def mkdir(paths):\n",
        "    if not isinstance(paths, (list, tuple)):\n",
        "        paths = [paths]\n",
        "    for path in paths:\n",
        "        if not os.path.isdir(path):\n",
        "            os.makedirs(path, mode=0o777)\n",
        "\n",
        "def load_agw_1d(base_dir, get_feats=False):\n",
        "    if not path.exists(base_dir + '/agw_data'):\n",
        "        mkdir(base_dir + '/agw_data')\n",
        "        urllib.urlretrieve('https://raw.githubusercontent.com/wjmaddox/drbayes/master/experiments/synthetic_regression/ckpts/data.npy',\n",
        "                           filename=base_dir + '/agw_data/data.npy')\n",
        "\n",
        "    def features(x):\n",
        "        return np.hstack([x[:, None] / 2.0, (x[:, None] / 2.0) ** 2])\n",
        "\n",
        "    data = np.load(base_dir + '/agw_data/data.npy')\n",
        "    x, y = data[:, 0], data[:, 1]\n",
        "    y = y[:, None]\n",
        "    f = features(x)\n",
        "\n",
        "    x_means, x_stds = x.mean(axis=0), x.std(axis=0)\n",
        "    y_means, y_stds = y.mean(axis=0), y.std(axis=0)\n",
        "    f_means, f_stds = f.mean(axis=0), f.std(axis=0)\n",
        "\n",
        "    X = ((x - x_means) / x_stds).astype(np.float32)\n",
        "    Y = ((y - y_means) / y_stds).astype(np.float32)\n",
        "    F = ((f - f_means) / f_stds).astype(np.float32)\n",
        "\n",
        "    if get_feats:\n",
        "        return F, Y\n",
        "\n",
        "    return X[:, None], Y\n",
        "\n",
        "\n",
        "#### Note the location the data will be stored!!!\n",
        "\n",
        "folder = '../../../data/'\n",
        "\n",
        "X, Y = load_agw_1d(folder, get_feats=False)\n",
        "X = torch.Tensor(X).view(-1,1)\n",
        "Y = torch.Tensor(Y).view(-1,1)\n",
        "\n",
        "X_test = torch.linspace(-2,2,500).view(-1,1)"
      ],
      "metadata": {
        "id": "KKaK-A2rkmlU"
      },
      "execution_count": 38,
      "outputs": []
    },
    {
      "cell_type": "code",
      "source": [
        "plt.figure(figsize=(8,4))\n",
        "plt.scatter(X,Y)"
      ],
      "metadata": {
        "colab": {
          "base_uri": "https://localhost:8080/",
          "height": 283
        },
        "id": "K4qeu3ydmgn6",
        "outputId": "9cc2f1c7-e934-4dca-cbf8-1dd98fcb4b98"
      },
      "execution_count": 39,
      "outputs": [
        {
          "output_type": "execute_result",
          "data": {
            "text/plain": [
              "<matplotlib.collections.PathCollection at 0x7fb0c686ae20>"
            ]
          },
          "metadata": {},
          "execution_count": 39
        },
        {
          "output_type": "display_data",
          "data": {
            "text/plain": [
              "<Figure size 576x288 with 1 Axes>"
            ],
            "image/png": "[encoded data removed]"
          },
          "metadata": {
            "needs_background": "light"
          }
        }
      ]
    },
    {
      "cell_type": "markdown",
      "source": [
        "# 4.2: Define a Model and Draw Samples\n",
        "\n",
        "The following code is adapted from [this following notebook](https://github.com/AdamCobb/hamiltorch/blob/master/notebooks/hamiltorch_split_HMC_BNN_example.ipynb) \n"
      ],
      "metadata": {
        "id": "cAvKeHMgflGG"
      }
    },
    {
      "cell_type": "code",
      "source": [
        "## Using GPUs if available\n",
        "device = torch.device('cuda' if torch.cuda.is_available() else 'cpu')\n",
        "if torch.cuda.is_available():\n",
        "    print(torch.cuda.get_device_name(0))\n",
        "\n",
        "\n",
        "## Defining a Model That We Want to Use\n",
        "class Net(nn.Module):\n",
        "    def __init__(self):\n",
        "        super(Net, self).__init__()\n",
        "        self.fc1 = nn.Linear(1, 100)\n",
        "        self.fc2 = nn.Linear(100, 100)\n",
        "        self.fc3 = nn.Linear(100, 1)\n",
        "\n",
        "    def forward(self, x):\n",
        "        x = torch.nn.functional.relu(self.fc1(x))\n",
        "        x = torch.nn.functional.relu(self.fc2(x))\n",
        "        x = self.fc3(x)\n",
        "        return x\n",
        "\n",
        "\n",
        "net = Net()"
      ],
      "metadata": {
        "id": "iFkCYyymmqtP"
      },
      "execution_count": 40,
      "outputs": []
    },
    {
      "cell_type": "code",
      "source": [
        "step_size = 0.0005\n",
        "num_samples = 1000\n",
        "L = 30\n",
        "burn = -1\n",
        "store_on_GPU = False\n",
        "debug = False\n",
        "model_loss = 'regression'\n",
        "mass = 1.0\n",
        "\n",
        "# Effect of tau\n",
        "# Set to tau = 1000. to see a function that is less bendy (weights restricted to small bends)\n",
        "# Set to tau = 1. for more flexible\n",
        "\n",
        "tau = 1.0 # Prior Precision\n",
        "tau_out = 110.4439498986428 # Output Precision\n",
        "r = 0 # Random seed\n",
        "\n",
        "tau_list = []\n",
        "for w in net.parameters():\n",
        "    tau_list.append(tau) # set the prior precision to be the same for each set of weights\n",
        "tau_list = torch.tensor(tau_list).to(device)\n",
        "\n",
        "# Set initial weights\n",
        "params_init = hamiltorch.util.flatten(net).to(device).clone()\n",
        "# Set the Inverse of the Mass matrix\n",
        "inv_mass = torch.ones(params_init.shape) / mass"
      ],
      "metadata": {
        "id": "g0W1CDJHmsTq"
      },
      "execution_count": 41,
      "outputs": []
    },
    {
      "cell_type": "code",
      "source": [
        "print(params_init.shape)\n",
        "integrator = hamiltorch.Integrator.EXPLICIT\n",
        "sampler = hamiltorch.Sampler.HMC\n",
        "\n",
        "## Now,let's sample the model\n",
        "hamiltorch.set_random_seed(r)\n",
        "params_hmc_f = hamiltorch.sample_model(net, X.to(device), Y.to(device), params_init=params_init,\n",
        "                                       model_loss=model_loss, num_samples=num_samples,\n",
        "                                       burn = burn, inv_mass=inv_mass.to(device),step_size=step_size,\n",
        "                                       num_steps_per_sample=L,tau_out=tau_out, tau_list=tau_list,\n",
        "                                       debug=debug, store_on_GPU=store_on_GPU,\n",
        "                                       sampler = sampler)\n",
        "\n",
        "# At the moment, params_hmc_f is on the CPU so we move to GPU\n",
        "\n",
        "params_hmc_gpu = [ll.to(device) for ll in params_hmc_f[1:]]\n",
        "\n",
        "\n",
        "# Let's predict over the entire test range [-2,2]\n",
        "pred_list, log_probs_f = hamiltorch.predict_model(net, x = X_test.to(device),\n",
        "                                                  y = X_test.to(device), samples=params_hmc_gpu,\n",
        "                                                  model_loss=model_loss, tau_out=tau_out,\n",
        "                                                  tau_list=tau_list)\n",
        "# Let's evaluate the performance over the training data\n",
        "pred_list_tr, log_probs_split_tr = hamiltorch.predict_model(net, x = X.to(device), y=Y.to(device),\n",
        "                                                            samples=params_hmc_gpu, model_loss=model_loss,\n",
        "                                                            tau_out=tau_out, tau_list=tau_list)\n",
        "ll_full = torch.zeros(pred_list_tr.shape[0])\n",
        "ll_full[0] = - 0.5 * tau_out * ((pred_list_tr[0].cpu() - Y) ** 2).sum(0)\n",
        "for i in range(pred_list_tr.shape[0]):\n",
        "    ll_full[i] = - 0.5 * tau_out * ((pred_list_tr[:i].mean(0).cpu() - Y) ** 2).sum(0)"
      ],
      "metadata": {
        "colab": {
          "base_uri": "https://localhost:8080/"
        },
        "id": "AcXSwhYfmwqi",
        "outputId": "fb16f38e-f8b9-49b4-bf41-02ff6ee2caec"
      },
      "execution_count": 42,
      "outputs": [
        {
          "output_type": "stream",
          "name": "stdout",
          "text": [
            "torch.Size([10401])\n",
            "Sampling (Sampler.HMC; Integrator.IMPLICIT)\n",
            "Time spent  | Time remain.| Progress             | Samples   | Samples/sec\n",
            "\n",
            "Acceptance Rate 0.56\n"
          ]
        }
      ]
    },
    {
      "cell_type": "code",
      "source": [
        "fs = 16\n",
        "\n",
        "m = pred_list[200:].mean(0).to('cpu')\n",
        "s = pred_list[200:].std(0).to('cpu')\n",
        "\n",
        "f, ax = plt.subplots(1, 1, figsize=(8, 4))\n",
        "\n",
        "# Get upper and lower confidence bounds\n",
        "lower, upper = (m - s*2).flatten(), (m + s*2).flatten()\n",
        "\n",
        "\n",
        "# Plot training data as black stars\n",
        "ax.plot(X.numpy(), Y.numpy(), 'k*', rasterized=True)\n",
        "# Plot predictive means as blue line\n",
        "ax.plot(X_test.numpy(), m.numpy(), 'b', rasterized=True)\n",
        "# Shade between the lower and upper confidence bounds\n",
        "ax.fill_between(X_test.flatten().numpy(), lower.numpy(), upper.numpy(), alpha=0.5, rasterized=True)\n",
        "\n",
        "ax.set_ylim([-2, 2])\n",
        "ax.set_xlim([-2, 2])\n",
        "plt.grid()\n",
        "ax.legend(['Observed Data', 'Mean', 'Epistemic'], fontsize = fs)\n",
        "ax.tick_params(axis='both', which='major', labelsize=14)\n",
        "ax.tick_params(axis='both', which='minor', labelsize=14)\n",
        "\n",
        "bbox = {'facecolor': 'white', 'alpha': 0.8, 'pad': 1, 'boxstyle': 'round', 'edgecolor':'black'}\n",
        "plt.text(1., -1.5, 'Acceptance Rate: 58 %', bbox=bbox, fontsize=16, horizontalalignment='center')\n",
        "\n",
        "\n",
        "plt.tight_layout()\n",
        "# plt.savefig('plots/full_hmc.pdf', rasterized=True)\n",
        "    \n",
        "plt.show()"
      ],
      "metadata": {
        "colab": {
          "base_uri": "https://localhost:8080/",
          "height": 297
        },
        "id": "OLmGHut0p2pc",
        "outputId": "2edaa3e7-77dd-46bc-d377-7cebc27f01b7"
      },
      "execution_count": 43,
      "outputs": [
        {
          "output_type": "display_data",
          "data": {
            "text/plain": [
              "<Figure size 576x288 with 1 Axes>"
            ],
            "image/png": "[encoded data removed]"
          },
          "metadata": {
            "needs_background": "light"
          }
        }
      ]
    },
    {
      "cell_type": "markdown",
      "source": [
        "**Exercise for Later:** Note that the in the above implementation, I have not included aleatoric uncertainties. Alter the code above to include aleatoric uncertainties! "
      ],
      "metadata": {
        "id": "BDAfqs7ghzc7"
      }
    },
    {
      "cell_type": "markdown",
      "source": [
        "# Demo 5: Applying what we learnt on a real astrophysics problem using GaMPEN!\n",
        "\n",
        "For most of this demo, I will be using pre-defined functions in GaMPEN. The idea is to show you:-\n",
        "\n",
        "1. How easy it is these days to incorporate uncertainties into your models\n",
        "2. So that you can simply repurpose code from the [GaMPEN Github repo](https://github.com/aritraghsh09/GaMPEN) for your own problem! "
      ],
      "metadata": {
        "id": "Sv_KdSKwvbYP"
      }
    },
    {
      "cell_type": "markdown",
      "source": [
        "## Getting Images & Models to Perform Prediction"
      ],
      "metadata": {
        "id": "YWnzYF1Oe5GF"
      }
    },
    {
      "cell_type": "markdown",
      "source": [
        "### Downloading Images and Creating the Necessary Folder Structure\n",
        "\n",
        "Let's get some Hyper Suprime Cam images from its 2nd Public Data Release that we can use to perform predictions. For this demo, we will use the images from Fig. 13 of [Ghosh et. al. 2022](https://arxiv.org/pdf/2212.00051.pdf)\n",
        "\n",
        "**⚠ NOTE:** In order for GaMPEN to work, you need to point it to a `/data/` folder which has all the key components it needs (this folder doesn't necessarily need to be name).  In the data folder, at the very least, you should have \n",
        "  * a `/cutouts/` folder with all the images on which you want to perform analysis\n",
        "  * an `info.csv` file with file names of the various images."
      ],
      "metadata": {
        "id": "6h5MSyBKXlWr"
      }
    },
    {
      "cell_type": "code",
      "source": [
        "# Let's create two data-directories in our Colab runtime\n",
        "# One containing low-z images and one containing mid-z images. \n",
        "%cd /content/\n",
        "!mkdir data_lowz\n",
        "!mkdir data_lowz/cutouts/\n",
        "!mkdir data_midz\n",
        "!mkdir data_midz/cutouts/"
      ],
      "metadata": {
        "id": "5neVc-uBwQRS",
        "outputId": "d689f0fb-ba0b-4197-b216-e55faf156c41",
        "colab": {
          "base_uri": "https://localhost:8080/"
        }
      },
      "execution_count": 44,
      "outputs": [
        {
          "output_type": "stream",
          "name": "stdout",
          "text": [
            "/content\n"
          ]
        }
      ]
    },
    {
      "cell_type": "code",
      "source": [
        "#Now let's get some contents for these folders from the Yale FTP Servers\n",
        "\n",
        "%cd /content/data_lowz/\n",
        "!wget ftp://ftp.astro.yale.edu/pub/hsc_morph/gampen_tutorial_files/for_preds/data_lowz/info.csv \n",
        "\n",
        "%cd /content/data_lowz/cutouts/\n",
        "!wget ftp://ftp.astro.yale.edu/pub/hsc_morph/gampen_tutorial_files/for_preds/data_lowz/cutouts/*.fits\n",
        "\n",
        "%cd /content/data_midz/\n",
        "!wget ftp://ftp.astro.yale.edu/pub/hsc_morph/gampen_tutorial_files/for_preds/data_midz/info.csv \n",
        "\n",
        "%cd /content/data_midz/cutouts/\n",
        "!wget ftp://ftp.astro.yale.edu/pub/hsc_morph/gampen_tutorial_files/for_preds/data_midz/cutouts/*.fits"
      ],
      "metadata": {
        "id": "WilIIGeRw2Lx",
        "outputId": "7fe8dafb-540a-4d7a-b630-f38cd65ce43e",
        "colab": {
          "base_uri": "https://localhost:8080/"
        }
      },
      "execution_count": 45,
      "outputs": [
        {
          "output_type": "stream",
          "name": "stdout",
          "text": [
            "/content/data_lowz\n",
            "--2023-01-30 17:21:44--  ftp://ftp.astro.yale.edu/pub/hsc_morph/gampen_tutorial_files/for_preds/data_lowz/info.csv\n",
            "           => ‘info.csv’\n",
            "Resolving ftp.astro.yale.edu (ftp.astro.yale.edu)... 128.36.139.12\n",
            "Connecting to ftp.astro.yale.edu (ftp.astro.yale.edu)|128.36.139.12|:21... connected.\n",
            "Logging in as anonymous ... Logged in!\n",
            "==> SYST ... done.    ==> PWD ... done.\n",
            "==> TYPE I ... done.  ==> CWD (1) /pub/hsc_morph/gampen_tutorial_files/for_preds/data_lowz ... done.\n",
            "==> SIZE info.csv ... 102\n",
            "==> PASV ... done.    ==> RETR info.csv ... done.\n",
            "Length: 102 (unauthoritative)\n",
            "\n",
            "info.csv            100%[===================>]     102  --.-KB/s    in 0.02s   \n",
            "\n",
            "2023-01-30 17:21:45 (4.63 KB/s) - ‘info.csv’ saved [102]\n",
            "\n",
            "/content/data_lowz/cutouts\n",
            "--2023-01-30 17:21:45--  ftp://ftp.astro.yale.edu/pub/hsc_morph/gampen_tutorial_files/for_preds/data_lowz/cutouts/*.fits\n",
            "           => ‘.listing’\n",
            "Resolving ftp.astro.yale.edu (ftp.astro.yale.edu)... 128.36.139.12\n",
            "Connecting to ftp.astro.yale.edu (ftp.astro.yale.edu)|128.36.139.12|:21... connected.\n",
            "Logging in as anonymous ... Logged in!\n",
            "==> SYST ... done.    ==> PWD ... done.\n",
            "==> TYPE I ... done.  ==> CWD (1) /pub/hsc_morph/gampen_tutorial_files/for_preds/data_lowz/cutouts ... done.\n",
            "==> PASV ... done.    ==> LIST ... done.\n",
            "\n",
            ".listing                [ <=>                ]     279  --.-KB/s    in 0s      \n",
            "\n",
            "2023-01-30 17:21:46 (1.89 MB/s) - ‘.listing’ saved [279]\n",
            "\n",
            "Removed ‘.listing’.\n",
            "--2023-01-30 17:21:46--  ftp://ftp.astro.yale.edu/pub/hsc_morph/gampen_tutorial_files/for_preds/data_lowz/cutouts/45849776612206843.fits\n",
            "           => ‘45849776612206843.fits’\n",
            "==> CWD not required.\n",
            "==> PASV ... done.    ==> RETR 45849776612206843.fits ... done.\n",
            "Length: 288000 (281K)\n",
            "\n",
            "45849776612206843.f 100%[===================>] 281.25K  1.22MB/s    in 0.2s    \n",
            "\n",
            "2023-01-30 17:21:46 (1.22 MB/s) - ‘45849776612206843.fits’ saved [288000]\n",
            "\n",
            "--2023-01-30 17:21:46--  ftp://ftp.astro.yale.edu/pub/hsc_morph/gampen_tutorial_files/for_preds/data_lowz/cutouts/71112151477012948.fits\n",
            "           => ‘71112151477012948.fits’\n",
            "==> CWD not required.\n",
            "==> PASV ... done.    ==> RETR 71112151477012948.fits ... done.\n",
            "Length: 290880 (284K)\n",
            "\n",
            "71112151477012948.f 100%[===================>] 284.06K  1.00MB/s    in 0.3s    \n",
            "\n",
            "2023-01-30 17:21:47 (1.00 MB/s) - ‘71112151477012948.fits’ saved [290880]\n",
            "\n",
            "/content/data_midz\n",
            "--2023-01-30 17:21:47--  ftp://ftp.astro.yale.edu/pub/hsc_morph/gampen_tutorial_files/for_preds/data_midz/info.csv\n",
            "           => ‘info.csv’\n",
            "Resolving ftp.astro.yale.edu (ftp.astro.yale.edu)... 128.36.139.12\n",
            "Connecting to ftp.astro.yale.edu (ftp.astro.yale.edu)|128.36.139.12|:21... connected.\n",
            "Logging in as anonymous ... Logged in!\n",
            "==> SYST ... done.    ==> PWD ... done.\n",
            "==> TYPE I ... done.  ==> CWD (1) /pub/hsc_morph/gampen_tutorial_files/for_preds/data_midz ... done.\n",
            "==> SIZE info.csv ... 102\n",
            "==> PASV ... done.    ==> RETR info.csv ... done.\n",
            "Length: 102 (unauthoritative)\n",
            "\n",
            "info.csv            100%[===================>]     102  --.-KB/s    in 0s      \n",
            "\n",
            "2023-01-30 17:21:47 (365 KB/s) - ‘info.csv’ saved [102]\n",
            "\n",
            "/content/data_midz/cutouts\n",
            "--2023-01-30 17:21:47--  ftp://ftp.astro.yale.edu/pub/hsc_morph/gampen_tutorial_files/for_preds/data_midz/cutouts/*.fits\n",
            "           => ‘.listing’\n",
            "Resolving ftp.astro.yale.edu (ftp.astro.yale.edu)... 128.36.139.12\n",
            "Connecting to ftp.astro.yale.edu (ftp.astro.yale.edu)|128.36.139.12|:21... connected.\n",
            "Logging in as anonymous ... Logged in!\n",
            "==> SYST ... done.    ==> PWD ... done.\n",
            "==> TYPE I ... done.  ==> CWD (1) /pub/hsc_morph/gampen_tutorial_files/for_preds/data_midz/cutouts ... done.\n",
            "==> PASV ... done.    ==> LIST ... done.\n",
            "\n",
            ".listing                [ <=>                ]     279  --.-KB/s    in 0s      \n",
            "\n",
            "2023-01-30 17:21:48 (617 KB/s) - ‘.listing’ saved [279]\n",
            "\n",
            "Removed ‘.listing’.\n",
            "--2023-01-30 17:21:48--  ftp://ftp.astro.yale.edu/pub/hsc_morph/gampen_tutorial_files/for_preds/data_midz/cutouts/38544642832100143.fits\n",
            "           => ‘38544642832100143.fits’\n",
            "==> CWD not required.\n",
            "==> PASV ... done.    ==> RETR 38544642832100143.fits ... done.\n",
            "Length: 288000 (281K)\n",
            "\n",
            "38544642832100143.f 100%[===================>] 281.25K  1.52MB/s    in 0.2s    \n",
            "\n",
            "2023-01-30 17:21:48 (1.52 MB/s) - ‘38544642832100143.fits’ saved [288000]\n",
            "\n",
            "--2023-01-30 17:21:48--  ftp://ftp.astro.yale.edu/pub/hsc_morph/gampen_tutorial_files/for_preds/data_midz/cutouts/40163802552993641.fits\n",
            "           => ‘40163802552993641.fits’\n",
            "==> CWD not required.\n",
            "==> PASV ... done.    ==> RETR 40163802552993641.fits ... done.\n",
            "Length: 290880 (284K)\n",
            "\n",
            "40163802552993641.f 100%[===================>] 284.06K  1.41MB/s    in 0.2s    \n",
            "\n",
            "2023-01-30 17:21:49 (1.41 MB/s) - ‘40163802552993641.fits’ saved [290880]\n",
            "\n"
          ]
        }
      ]
    },
    {
      "cell_type": "markdown",
      "source": [
        "### Downloading the Trained Models\n",
        "\n",
        "Now, let's download the models we trained on Hyper Suprime Cam Imaging in [Ghosh et. al. 2022](https://arxiv.org/pdf/2212.00051.pdf). Since our images are from the low redshift bin, we download the corresponding trained model. "
      ],
      "metadata": {
        "id": "6iBQORoffLpc"
      }
    },
    {
      "cell_type": "code",
      "source": [
        "%cd /content/\n",
        "%mkdir trained_models\n",
        "%cd trained_models\n",
        "\n",
        "!wget ftp://ftp.astro.yale.edu/pub/hsc_morph/g_0_025/trained_model/g_0_025_real_data.pt"
      ],
      "metadata": {
        "id": "qlx7BsEZ5QdW",
        "outputId": "68c48669-dc6d-498f-d152-03890192e4bd",
        "colab": {
          "base_uri": "https://localhost:8080/"
        }
      },
      "execution_count": 46,
      "outputs": [
        {
          "output_type": "stream",
          "name": "stdout",
          "text": [
            "/content\n",
            "/content/trained_models\n",
            "--2023-01-30 17:22:26--  ftp://ftp.astro.yale.edu/pub/hsc_morph/g_0_025/trained_model/g_0_025_real_data.pt\n",
            "           => ‘g_0_025_real_data.pt’\n",
            "Resolving ftp.astro.yale.edu (ftp.astro.yale.edu)... 128.36.139.12\n",
            "Connecting to ftp.astro.yale.edu (ftp.astro.yale.edu)|128.36.139.12|:21... connected.\n",
            "Logging in as anonymous ... Logged in!\n",
            "==> SYST ... done.    ==> PWD ... done.\n",
            "==> TYPE I ... done.  ==> CWD (1) /pub/hsc_morph/g_0_025/trained_model ... done.\n",
            "==> SIZE g_0_025_real_data.pt ... 572517399\n",
            "==> PASV ... done.    ==> RETR g_0_025_real_data.pt ... done.\n",
            "Length: 572517399 (546M) (unauthoritative)\n",
            "\n",
            "g_0_025_real_data.p 100%[===================>] 546.00M  59.6MB/s    in 9.7s    \n",
            "\n",
            "2023-01-30 17:22:36 (56.3 MB/s) - ‘g_0_025_real_data.pt’ saved [572517399]\n",
            "\n"
          ]
        }
      ]
    },
    {
      "cell_type": "markdown",
      "source": [
        "**⚠ NOTE:** Details about all the publicly-available GaMPEN models as well as the morphological catalogs for all galaxies in [Ghosh et. al. 2022](https://arxiv.org/pdf/2212.00051.pdf) can be found in our [Public Data Release Handbook](https://gampen.readthedocs.io/en/latest/Public_data.html)"
      ],
      "metadata": {
        "id": "VYtltwxV_BY0"
      }
    },
    {
      "cell_type": "markdown",
      "source": [
        "### Inspecting the Files\n"
      ],
      "metadata": {
        "id": "RM1AFnDaeEPX"
      }
    },
    {
      "cell_type": "markdown",
      "source": [
        "As outlined before, the only mandatory coulmn in the info.csv file is a column called `file_name` with the full name of each image file in the `/cutouts/` folder.\n",
        "\n",
        "\n",
        "Now, let's take a quick look at the images. Note that HSC's cutout tool sometimes returns images with slightly different cutout-sizes (in terms of pixels). Thus, if you are using our models for performing inference, we recommend downloading cutouts that are at least 250x250 pixels. Then, using the correct options in GaMPEN, these will be cropped automatically while performing inference. \n",
        "\n",
        "Our pre-trained models accept the following sizes as input sizes for their images:-\n",
        "\n",
        "* Low-z: $239 \\times 239$ pixels\n",
        "* Mid-z: $143 \\times 143$ pixels\n",
        "* High-z: $96 \\times 96$ pixels\n",
        "\n",
        "Inspite of the fact the GaMPEN automatically crops galaxies, we still start out with different sizes for each redshift bin as training & inference time goes down drastically with reduction in image size. Thus, it makes no senese to start with the same sizes for the low- and high-z bins. Each size above is chosen such that most galaxies at these redshifts will have $10 \\times R_e < $ cutout size. "
      ],
      "metadata": {
        "id": "gDmCJzWVejYN"
      }
    },
    {
      "cell_type": "code",
      "source": [
        "!pip install matplotlib==3.1.3"
      ],
      "metadata": {
        "id": "U8MqAj_PhXWU",
        "outputId": "0e2db922-ceb6-4656-95e2-65ecbdb6fa03",
        "colab": {
          "base_uri": "https://localhost:8080/"
        }
      },
      "execution_count": 47,
      "outputs": [
        {
          "output_type": "stream",
          "name": "stdout",
          "text": [
            "Looking in indexes: https://pypi.org/simple, https://us-python.pkg.dev/colab-wheels/public/simple/\n",
            "Collecting matplotlib==3.1.3\n",
            "  Downloading matplotlib-3.1.3-cp38-cp38-manylinux1_x86_64.whl (13.1 MB)\n",
            "\u001b[2K     \u001b[90m━━━━━━━━━━━━━━━━━━━━━━━━━━━━━━━━━━━━━━━━\u001b[0m \u001b[32m13.1/13.1 MB\u001b[0m \u001b[31m43.4 MB/s\u001b[0m eta \u001b[36m0:00:00\u001b[0m\n",
            "\u001b[?25hRequirement already satisfied: python-dateutil>=2.1 in /usr/local/lib/python3.8/dist-packages (from matplotlib==3.1.3) (2.8.1)\n",
            "Requirement already satisfied: numpy>=1.11 in /usr/local/lib/python3.8/dist-packages (from matplotlib==3.1.3) (1.19.1)\n",
            "Requirement already satisfied: kiwisolver>=1.0.1 in /usr/local/lib/python3.8/dist-packages (from matplotlib==3.1.3) (1.4.4)\n",
            "Requirement already satisfied: cycler>=0.10 in /usr/local/lib/python3.8/dist-packages (from matplotlib==3.1.3) (0.11.0)\n",
            "Requirement already satisfied: pyparsing!=2.0.4,!=2.1.2,!=2.1.6,>=2.0.1 in /usr/local/lib/python3.8/dist-packages (from matplotlib==3.1.3) (2.4.7)\n",
            "Requirement already satisfied: six>=1.5 in /usr/local/lib/python3.8/dist-packages (from python-dateutil>=2.1->matplotlib==3.1.3) (1.15.0)\n",
            "Installing collected packages: matplotlib\n",
            "  Attempting uninstall: matplotlib\n",
            "    Found existing installation: matplotlib 3.3.1\n",
            "    Uninstalling matplotlib-3.3.1:\n",
            "      Successfully uninstalled matplotlib-3.3.1\n",
            "\u001b[31mERROR: pip's dependency resolver does not currently take into account all the packages that are installed. This behaviour is the source of the following dependency conflicts.\n",
            "yellowbrick 1.5 requires scikit-learn>=1.0.0, but you have scikit-learn 0.23.2 which is incompatible.\n",
            "fastai 2.7.10 requires torch<1.14,>=1.7, but you have torch 1.6.0 which is incompatible.\n",
            "fastai 2.7.10 requires torchvision>=0.8.2, but you have torchvision 0.7.0 which is incompatible.\u001b[0m\u001b[31m\n",
            "\u001b[0mSuccessfully installed matplotlib-3.1.3\n"
          ]
        }
      ]
    },
    {
      "cell_type": "code",
      "source": [
        "import pylab as plt\n",
        "import matplotlib as mpl\n",
        "from astropy.io import fits\n",
        "\n",
        "LOGMIN = 1e-3\n",
        "\n",
        "#Defining a function to crop images\n",
        "def crop_center(img, cropx, cropy):\n",
        "    \n",
        "    #Function from \n",
        "    #https://stackoverflow.com/questions/39382412/crop-center-portion-of-a-numpy-image\n",
        "    \n",
        "    y, x, *_ = img.shape\n",
        "    startx = x // 2 - (cropx // 2)\n",
        "    starty = y // 2 - (cropy // 2)    \n",
        "    return img[starty:starty + cropy, startx:startx + cropx, ...]"
      ],
      "metadata": {
        "id": "zwyLeKRNf2jy"
      },
      "execution_count": 48,
      "outputs": []
    },
    {
      "cell_type": "code",
      "source": [
        "#Low-z Data\n",
        "fig, ax = plt.subplots(1,2,figsize=(7,3))\n",
        "\n",
        "for i,img_num in enumerate([45849776612206843, 71112151477012948]):\n",
        "  img_data = fits.getdata('/content/data_lowz/cutouts/' + str(img_num) + '.fits')\n",
        "\n",
        "  #Now, let's crop the image to it's starting size\n",
        "  img_data = crop_center(img_data, 239, 239)\n",
        "\n",
        "  ax[i].imshow(img_data,norm=mpl.colors.LogNorm(vmin=max(img_data.min(),LOGMIN)))"
      ],
      "metadata": {
        "id": "04XmkY3QhhVB",
        "outputId": "d1c9eef6-2aea-4c3f-84b3-2c8f8250e32b",
        "colab": {
          "base_uri": "https://localhost:8080/",
          "height": 215
        }
      },
      "execution_count": 49,
      "outputs": [
        {
          "output_type": "display_data",
          "data": {
            "text/plain": [
              "<Figure size 504x216 with 2 Axes>"
            ],
            "image/png": "[encoded data removed]"
          },
          "metadata": {
            "needs_background": "light"
          }
        }
      ]
    },
    {
      "cell_type": "markdown",
      "source": [
        "## Running the Inference module\n",
        "\n",
        "Now using the downloaded models and images, let's perform inference."
      ],
      "metadata": {
        "id": "1umWWY934xyL"
      }
    },
    {
      "cell_type": "markdown",
      "source": [
        "### Low-z\n",
        "\n",
        "First, let's use the lowz model to perform inference on the lowz images.\n",
        "\n",
        "For performing inference, first we need to create a directory to store the output files. Let's call this directory `bayesian_inference_runs`.\n",
        "\n",
        "Additionally since we will be using models that have already been trained, we will be making predictions for the following three variables:-\n",
        "\n",
        "$$ \\left( \\log\\frac{L_B/L_T}{1-L_B/L_T}, \\log R_e, \\log \\mathrm{Flux} \\right) $$\n",
        "\n",
        "The variables were additionally standard-scaled (i.e., mean subtracted and variance set to 1) during training (for more details see Section 4.1 of [Ghosh et. al. 2022](https://arxiv.org/pdf/2212.00051.pdf)). Now, in order to perform the inverse scaling properly, we need access to the different training values of these variables that were used to perform the forward scaling.\n",
        "\n",
        "We make a separate directory called `scaling_data_lowz` and `scaling_data_midz` to place the relevant `info.csv` and `/splits/` files from the Yale FTP Servers. These were the files used for training and will help us unscale the predicted values back to ($L_B/L_T$,$R_e$, Flux). You should use the same options for these options if you are using our pre-trained models (as well as the corresponding options for the mid and high-z models)"
      ],
      "metadata": {
        "id": "kSWe8sFjEL8e"
      }
    },
    {
      "cell_type": "code",
      "source": [
        "%cd /content/\n",
        "%mkdir bayesian_inference_runs_lowz\n",
        "%mkdir scaling_data_dir_lowz\n",
        "%mkdir scaling_data_dir_lowz/splits/\n",
        "\n",
        "%cd /content/scaling_data_dir_lowz/\n",
        "!wget ftp://ftp.astro.yale.edu/pub/hsc_morph/g_0_025/scaling_data_dir/info.csv\n",
        "\n",
        "%cd /content/scaling_data_dir_lowz/splits/\n",
        "!wget ftp://ftp.astro.yale.edu/pub/hsc_morph/g_0_025/scaling_data_dir/splits/*.csv"
      ],
      "metadata": {
        "id": "JjEickCsN_Ye",
        "outputId": "d34b5a80-8436-4b53-e904-d29b213b8b01",
        "colab": {
          "base_uri": "https://localhost:8080/"
        }
      },
      "execution_count": 50,
      "outputs": [
        {
          "output_type": "stream",
          "name": "stdout",
          "text": [
            "/content\n",
            "/content/scaling_data_dir_lowz\n",
            "--2023-01-30 17:24:54--  ftp://ftp.astro.yale.edu/pub/hsc_morph/g_0_025/scaling_data_dir/info.csv\n",
            "           => ‘info.csv’\n",
            "Resolving ftp.astro.yale.edu (ftp.astro.yale.edu)... 128.36.139.12\n",
            "Connecting to ftp.astro.yale.edu (ftp.astro.yale.edu)|128.36.139.12|:21... connected.\n",
            "Logging in as anonymous ... Logged in!\n",
            "==> SYST ... done.    ==> PWD ... done.\n",
            "==> TYPE I ... done.  ==> CWD (1) /pub/hsc_morph/g_0_025/scaling_data_dir ... done.\n",
            "==> SIZE info.csv ... 7682214\n",
            "==> PASV ... done.    ==> RETR info.csv ... done.\n",
            "Length: 7682214 (7.3M) (unauthoritative)\n",
            "\n",
            "info.csv            100%[===================>]   7.33M  14.8MB/s    in 0.5s    \n",
            "\n",
            "2023-01-30 17:24:56 (14.8 MB/s) - ‘info.csv’ saved [7682214]\n",
            "\n",
            "/content/scaling_data_dir_lowz/splits\n",
            "--2023-01-30 17:24:56--  ftp://ftp.astro.yale.edu/pub/hsc_morph/g_0_025/scaling_data_dir/splits/*.csv\n",
            "           => ‘.listing’\n",
            "Resolving ftp.astro.yale.edu (ftp.astro.yale.edu)... 128.36.139.12\n",
            "Connecting to ftp.astro.yale.edu (ftp.astro.yale.edu)|128.36.139.12|:21... connected.\n",
            "Logging in as anonymous ... Logged in!\n",
            "==> SYST ... done.    ==> PWD ... done.\n",
            "==> TYPE I ... done.  ==> CWD (1) /pub/hsc_morph/g_0_025/scaling_data_dir/splits ... done.\n",
            "==> PASV ... done.    ==> LIST ... done.\n",
            "\n",
            ".listing                [ <=>                ]     200  --.-KB/s    in 0.001s  \n",
            "\n",
            "2023-01-30 17:24:57 (295 KB/s) - ‘.listing’ saved [200]\n",
            "\n",
            "Removed ‘.listing’.\n",
            "--2023-01-30 17:24:57--  ftp://ftp.astro.yale.edu/pub/hsc_morph/g_0_025/scaling_data_dir/splits/balanced-dev2-train.csv\n",
            "           => ‘balanced-dev2-train.csv’\n",
            "==> CWD not required.\n",
            "==> PASV ... done.    ==> RETR balanced-dev2-train.csv ... done.\n",
            "Length: 5444492 (5.2M)\n",
            "\n",
            "balanced-dev2-train 100%[===================>]   5.19M  10.6MB/s    in 0.5s    \n",
            "\n",
            "2023-01-30 17:24:57 (10.6 MB/s) - ‘balanced-dev2-train.csv’ saved [5444492]\n",
            "\n"
          ]
        }
      ]
    },
    {
      "cell_type": "markdown",
      "source": [
        "The backbone of performing inference is the `inference.py` file at `/GaMPEN/ggt/modules/`.\n",
        "\n",
        "In order to use this file, we run it by passing different variables to the inferece file. In order to understand the various options that can be specified while running inference you can type `!python GaMPEN/ggt/modules/inference.py --help` in a Google Colab code cell or consult the documentation [here](https://gampen.readthedocs.io/en/latest/Using_GaMPEN.html#inference). \n",
        "\n",
        "\n",
        "Since the data we are using for inference doesn't have any ground-truth data available, we set `split` and `slug` to `None` and pass the `--no-labels` option to specify that we don't have any labels available for these images. \n",
        "\n",
        "In order to unscale the predictions back, we specify the path to the appropriate `scaling_data_dir` that we created in the previous step. We specify the `scaling_slug` as `balanced-dev2` since this was the option that was used for the pre-trained model and the scaling file we are using is named `balanced-dev2-train.csv`. All that is done using this file is that the full range of values for the prediction columns specified are read in --> their mean and standard deviation is determined --> and this is then used for unscaling the predicted values. If you are using your own trained models, you should of course point this to the relevant file in `/splits/` in your trainin data directory. \n",
        "\n",
        "**The `--mc-dropout` and `--cov-errors` options specify that we want to perform both Monte Carlo dropout during inference as well include aleatoric errors in each of the Monte Carlo runs.**The `n_runs` parameter controls the number of different Monte Carlo models generated for prediction. For a robust analysis, we recommend setting this to `500` or `1000`. We set this to `50` here just for demonstrative purposes. \n",
        "\n"
      ],
      "metadata": {
        "id": "7s7z7CPmnAgo"
      }
    },
    {
      "cell_type": "code",
      "source": [
        "%cd /content/\n",
        "\n",
        "!python GaMPEN/ggt/modules/inference.py\\\n",
        "  --model_path='trained_models/g_0_025_real_data.pt'\\\n",
        "  --output_path=\"bayesian_inference_runs_lowz/\"\\\n",
        "  --data_dir='data_lowz/'\\\n",
        "  --split=None\\\n",
        "  --slug=None\\\n",
        "  --cutout_size=239\\\n",
        "  --normalize\\\n",
        "  --transform\\\n",
        "  --n_workers=2\\\n",
        "  --parallel\\\n",
        "  --label_cols='custom_logit_bt,ln_R_e_asec,ln_total_flux_adus'\\\n",
        "  --model_type='vgg16_w_stn_oc_drp'\\\n",
        "  --repeat_dims\\\n",
        "  --channels=3\\\n",
        "  --label_scaling='std'\\\n",
        "  --mc_dropout\\\n",
        "  --cov_errors\\\n",
        "  --dropout_rate=0.0004\\\n",
        "  --n_runs=50\\\n",
        "  --no-labels\\\n",
        "  --scaling_data_dir='scaling_data_dir_lowz/'\\\n",
        "  --scaling_slug='balanced-dev2'\n"
      ],
      "metadata": {
        "id": "UNenDhbndsR5",
        "outputId": "6e173128-5062-4614-c8b1-9d4f4b5a5757",
        "colab": {
          "base_uri": "https://localhost:8080/"
        }
      },
      "execution_count": 51,
      "outputs": [
        {
          "output_type": "stream",
          "name": "stdout",
          "text": [
            "/content\n",
            "[2023-01-30 17:25:33,755] Performing pure inference without labels. Using\n",
            "            column names to infer number of expected outputs.\n",
            "            Split and Slug values entered will be ignored and\n",
            "            info.csv will be used.\n",
            "[2023-01-30 17:25:33,756] Loading images to device...\n",
            "[2023-01-30 17:25:33,764] Generating PyTorch tensors from FITS files...\n",
            "100% 2/2 [00:00<00:00, 146.60it/s]\n",
            "[2023-01-30 17:25:33,780] Preloading 2 tensors...\n",
            "100% 2/2 [00:00<00:00, 403.74it/s]\n",
            "[2023-01-30 17:25:33,818] Running inference run 1\n",
            "[2023-01-30 17:25:33,839] No GPU found; falling back to CPU\n",
            "[2023-01-30 17:25:33,839] Using dropout rate of 0.0004 in the model\n",
            "Downloading: \"https://download.pytorch.org/models/vgg16-397923af.pth\" to /root/.cache/torch/hub/checkpoints/vgg16-397923af.pth\n",
            "100% 528M/528M [00:04<00:00, 132MB/s]\n",
            "[2023-01-30 17:25:41,484] Loading model...\n",
            "[2023-01-30 17:25:42,000] Performing predictions...\n",
            "[2023-01-30 17:25:42,001] Activating Monte Carlo dropout...\n",
            "100% 1/1 [00:02<00:00,  2.65s/it]\n",
            "[2023-01-30 17:25:44,785] Running inference run 2\n",
            "[2023-01-30 17:25:44,785] No GPU found; falling back to CPU\n",
            "[2023-01-30 17:25:44,785] Using dropout rate of 0.0004 in the model\n",
            "[2023-01-30 17:25:46,571] Loading model...\n",
            "[2023-01-30 17:25:46,872] Performing predictions...\n",
            "[2023-01-30 17:25:46,872] Activating Monte Carlo dropout...\n",
            "100% 1/1 [00:02<00:00,  2.13s/it]\n",
            "[2023-01-30 17:25:49,103] Running inference run 3\n",
            "[2023-01-30 17:25:49,104] No GPU found; falling back to CPU\n",
            "[2023-01-30 17:25:49,104] Using dropout rate of 0.0004 in the model\n",
            "[2023-01-30 17:25:50,868] Loading model...\n",
            "[2023-01-30 17:25:51,152] Performing predictions...\n",
            "[2023-01-30 17:25:51,152] Activating Monte Carlo dropout...\n",
            "100% 1/1 [00:02<00:00,  2.11s/it]\n",
            "[2023-01-30 17:25:53,359] Running inference run 4\n",
            "[2023-01-30 17:25:53,360] No GPU found; falling back to CPU\n",
            "[2023-01-30 17:25:53,360] Using dropout rate of 0.0004 in the model\n",
            "[2023-01-30 17:25:55,122] Loading model...\n",
            "[2023-01-30 17:25:55,403] Performing predictions...\n",
            "[2023-01-30 17:25:55,403] Activating Monte Carlo dropout...\n",
            "100% 1/1 [00:02<00:00,  2.10s/it]\n",
            "[2023-01-30 17:25:57,610] Running inference run 5\n",
            "[2023-01-30 17:25:57,611] No GPU found; falling back to CPU\n",
            "[2023-01-30 17:25:57,611] Using dropout rate of 0.0004 in the model\n",
            "[2023-01-30 17:25:59,348] Loading model...\n",
            "[2023-01-30 17:25:59,638] Performing predictions...\n",
            "[2023-01-30 17:25:59,638] Activating Monte Carlo dropout...\n",
            "100% 1/1 [00:02<00:00,  2.09s/it]\n",
            "[2023-01-30 17:26:01,839] Running inference run 6\n",
            "[2023-01-30 17:26:01,839] No GPU found; falling back to CPU\n",
            "[2023-01-30 17:26:01,839] Using dropout rate of 0.0004 in the model\n",
            "[2023-01-30 17:26:03,604] Loading model...\n",
            "[2023-01-30 17:26:03,890] Performing predictions...\n",
            "[2023-01-30 17:26:03,891] Activating Monte Carlo dropout...\n",
            "100% 1/1 [00:02<00:00,  2.11s/it]\n",
            "[2023-01-30 17:26:06,106] Running inference run 7\n",
            "[2023-01-30 17:26:06,106] No GPU found; falling back to CPU\n",
            "[2023-01-30 17:26:06,106] Using dropout rate of 0.0004 in the model\n",
            "[2023-01-30 17:26:07,845] Loading model...\n",
            "[2023-01-30 17:26:08,129] Performing predictions...\n",
            "[2023-01-30 17:26:08,129] Activating Monte Carlo dropout...\n",
            "100% 1/1 [00:02<00:00,  2.07s/it]\n",
            "[2023-01-30 17:26:10,312] Running inference run 8\n",
            "[2023-01-30 17:26:10,312] No GPU found; falling back to CPU\n",
            "[2023-01-30 17:26:10,312] Using dropout rate of 0.0004 in the model\n",
            "[2023-01-30 17:26:12,053] Loading model...\n",
            "[2023-01-30 17:26:12,336] Performing predictions...\n",
            "[2023-01-30 17:26:12,336] Activating Monte Carlo dropout...\n",
            "100% 1/1 [00:02<00:00,  2.07s/it]\n",
            "[2023-01-30 17:26:14,513] Running inference run 9\n",
            "[2023-01-30 17:26:14,514] No GPU found; falling back to CPU\n",
            "[2023-01-30 17:26:14,514] Using dropout rate of 0.0004 in the model\n",
            "[2023-01-30 17:26:16,317] Loading model...\n",
            "[2023-01-30 17:26:16,598] Performing predictions...\n",
            "[2023-01-30 17:26:16,598] Activating Monte Carlo dropout...\n",
            "100% 1/1 [00:02<00:00,  2.08s/it]\n",
            "[2023-01-30 17:26:18,787] Running inference run 10\n",
            "[2023-01-30 17:26:18,787] No GPU found; falling back to CPU\n",
            "[2023-01-30 17:26:18,788] Using dropout rate of 0.0004 in the model\n",
            "[2023-01-30 17:26:20,533] Loading model...\n",
            "[2023-01-30 17:26:20,817] Performing predictions...\n",
            "[2023-01-30 17:26:20,817] Activating Monte Carlo dropout...\n",
            "100% 1/1 [00:02<00:00,  2.08s/it]\n",
            "[2023-01-30 17:26:23,006] Running inference run 11\n",
            "[2023-01-30 17:26:23,007] No GPU found; falling back to CPU\n",
            "[2023-01-30 17:26:23,007] Using dropout rate of 0.0004 in the model\n",
            "[2023-01-30 17:26:24,739] Loading model...\n",
            "[2023-01-30 17:26:25,026] Performing predictions...\n",
            "[2023-01-30 17:26:25,027] Activating Monte Carlo dropout...\n",
            "100% 1/1 [00:02<00:00,  2.09s/it]\n",
            "[2023-01-30 17:26:27,215] Running inference run 12\n",
            "[2023-01-30 17:26:27,215] No GPU found; falling back to CPU\n",
            "[2023-01-30 17:26:27,216] Using dropout rate of 0.0004 in the model\n",
            "[2023-01-30 17:26:28,953] Loading model...\n",
            "[2023-01-30 17:26:29,232] Performing predictions...\n",
            "[2023-01-30 17:26:29,233] Activating Monte Carlo dropout...\n",
            "100% 1/1 [00:02<00:00,  2.10s/it]\n",
            "[2023-01-30 17:26:31,439] Running inference run 13\n",
            "[2023-01-30 17:26:31,439] No GPU found; falling back to CPU\n",
            "[2023-01-30 17:26:31,440] Using dropout rate of 0.0004 in the model\n",
            "[2023-01-30 17:26:33,533] Loading model...\n",
            "[2023-01-30 17:26:33,814] Performing predictions...\n",
            "[2023-01-30 17:26:33,815] Activating Monte Carlo dropout...\n",
            "100% 1/1 [00:02<00:00,  2.12s/it]\n",
            "[2023-01-30 17:26:36,035] Running inference run 14\n",
            "[2023-01-30 17:26:36,035] No GPU found; falling back to CPU\n",
            "[2023-01-30 17:26:36,035] Using dropout rate of 0.0004 in the model\n",
            "[2023-01-30 17:26:38,079] Loading model...\n",
            "[2023-01-30 17:26:38,376] Performing predictions...\n",
            "[2023-01-30 17:26:38,377] Activating Monte Carlo dropout...\n",
            "100% 1/1 [00:02<00:00,  2.75s/it]\n",
            "[2023-01-30 17:26:41,237] Running inference run 15\n",
            "[2023-01-30 17:26:41,237] No GPU found; falling back to CPU\n",
            "[2023-01-30 17:26:41,237] Using dropout rate of 0.0004 in the model\n",
            "[2023-01-30 17:26:42,985] Loading model...\n",
            "[2023-01-30 17:26:43,271] Performing predictions...\n",
            "[2023-01-30 17:26:43,272] Activating Monte Carlo dropout...\n",
            "100% 1/1 [00:02<00:00,  2.08s/it]\n",
            "[2023-01-30 17:26:45,473] Running inference run 16\n",
            "[2023-01-30 17:26:45,474] No GPU found; falling back to CPU\n",
            "[2023-01-30 17:26:45,474] Using dropout rate of 0.0004 in the model\n",
            "[2023-01-30 17:26:47,226] Loading model...\n",
            "[2023-01-30 17:26:47,508] Performing predictions...\n",
            "[2023-01-30 17:26:47,508] Activating Monte Carlo dropout...\n",
            "100% 1/1 [00:02<00:00,  2.08s/it]\n",
            "[2023-01-30 17:26:49,689] Running inference run 17\n",
            "[2023-01-30 17:26:49,689] No GPU found; falling back to CPU\n",
            "[2023-01-30 17:26:49,689] Using dropout rate of 0.0004 in the model\n",
            "[2023-01-30 17:26:51,435] Loading model...\n",
            "[2023-01-30 17:26:51,732] Performing predictions...\n",
            "[2023-01-30 17:26:51,732] Activating Monte Carlo dropout...\n",
            "100% 1/1 [00:02<00:00,  2.08s/it]\n",
            "[2023-01-30 17:26:53,915] Running inference run 18\n",
            "[2023-01-30 17:26:53,915] No GPU found; falling back to CPU\n",
            "[2023-01-30 17:26:53,915] Using dropout rate of 0.0004 in the model\n",
            "[2023-01-30 17:26:55,667] Loading model...\n",
            "[2023-01-30 17:26:55,948] Performing predictions...\n",
            "[2023-01-30 17:26:55,948] Activating Monte Carlo dropout...\n",
            "100% 1/1 [00:02<00:00,  2.12s/it]\n",
            "[2023-01-30 17:26:58,174] Running inference run 19\n",
            "[2023-01-30 17:26:58,174] No GPU found; falling back to CPU\n",
            "[2023-01-30 17:26:58,174] Using dropout rate of 0.0004 in the model\n",
            "[2023-01-30 17:26:59,926] Loading model...\n",
            "[2023-01-30 17:27:00,207] Performing predictions...\n",
            "[2023-01-30 17:27:00,207] Activating Monte Carlo dropout...\n",
            "100% 1/1 [00:02<00:00,  2.09s/it]\n",
            "[2023-01-30 17:27:02,403] Running inference run 20\n",
            "[2023-01-30 17:27:02,403] No GPU found; falling back to CPU\n",
            "[2023-01-30 17:27:02,403] Using dropout rate of 0.0004 in the model\n",
            "[2023-01-30 17:27:04,358] Loading model...\n",
            "[2023-01-30 17:27:04,640] Performing predictions...\n",
            "[2023-01-30 17:27:04,641] Activating Monte Carlo dropout...\n",
            "100% 1/1 [00:02<00:00,  2.74s/it]\n",
            "[2023-01-30 17:27:07,492] Running inference run 21\n",
            "[2023-01-30 17:27:07,492] No GPU found; falling back to CPU\n",
            "[2023-01-30 17:27:07,492] Using dropout rate of 0.0004 in the model\n",
            "[2023-01-30 17:27:09,553] Loading model...\n",
            "[2023-01-30 17:27:09,859] Performing predictions...\n",
            "[2023-01-30 17:27:09,860] Activating Monte Carlo dropout...\n",
            "100% 1/1 [00:02<00:00,  2.42s/it]\n",
            "[2023-01-30 17:27:12,396] Running inference run 22\n",
            "[2023-01-30 17:27:12,396] No GPU found; falling back to CPU\n",
            "[2023-01-30 17:27:12,396] Using dropout rate of 0.0004 in the model\n",
            "[2023-01-30 17:27:14,366] Loading model...\n",
            "[2023-01-30 17:27:14,656] Performing predictions...\n",
            "[2023-01-30 17:27:14,657] Activating Monte Carlo dropout...\n",
            "100% 1/1 [00:02<00:00,  2.52s/it]\n",
            "[2023-01-30 17:27:17,283] Running inference run 23\n",
            "[2023-01-30 17:27:17,283] No GPU found; falling back to CPU\n",
            "[2023-01-30 17:27:17,284] Using dropout rate of 0.0004 in the model\n",
            "[2023-01-30 17:27:19,389] Loading model...\n",
            "[2023-01-30 17:27:19,674] Performing predictions...\n",
            "[2023-01-30 17:27:19,675] Activating Monte Carlo dropout...\n",
            "100% 1/1 [00:02<00:00,  2.38s/it]\n",
            "[2023-01-30 17:27:22,221] Running inference run 24\n",
            "[2023-01-30 17:27:22,222] No GPU found; falling back to CPU\n",
            "[2023-01-30 17:27:22,225] Using dropout rate of 0.0004 in the model\n",
            "[2023-01-30 17:27:24,321] Loading model...\n",
            "[2023-01-30 17:27:24,622] Performing predictions...\n",
            "[2023-01-30 17:27:24,623] Activating Monte Carlo dropout...\n",
            "100% 1/1 [00:02<00:00,  2.30s/it]\n",
            "[2023-01-30 17:27:27,028] Running inference run 25\n",
            "[2023-01-30 17:27:27,029] No GPU found; falling back to CPU\n",
            "[2023-01-30 17:27:27,029] Using dropout rate of 0.0004 in the model\n",
            "[2023-01-30 17:27:28,939] Loading model...\n",
            "[2023-01-30 17:27:29,241] Performing predictions...\n",
            "[2023-01-30 17:27:29,242] Activating Monte Carlo dropout...\n",
            "100% 1/1 [00:02<00:00,  2.63s/it]\n",
            "[2023-01-30 17:27:32,034] Running inference run 26\n",
            "[2023-01-30 17:27:32,034] No GPU found; falling back to CPU\n",
            "[2023-01-30 17:27:32,034] Using dropout rate of 0.0004 in the model\n",
            "[2023-01-30 17:27:34,071] Loading model...\n",
            "[2023-01-30 17:27:34,369] Performing predictions...\n",
            "[2023-01-30 17:27:34,370] Activating Monte Carlo dropout...\n",
            "100% 1/1 [00:02<00:00,  2.54s/it]\n",
            "[2023-01-30 17:27:37,017] Running inference run 27\n",
            "[2023-01-30 17:27:37,018] No GPU found; falling back to CPU\n",
            "[2023-01-30 17:27:37,018] Using dropout rate of 0.0004 in the model\n",
            "[2023-01-30 17:27:39,277] Loading model...\n",
            "[2023-01-30 17:27:39,589] Performing predictions...\n",
            "[2023-01-30 17:27:39,590] Activating Monte Carlo dropout...\n",
            "100% 1/1 [00:02<00:00,  2.53s/it]\n",
            "[2023-01-30 17:27:42,227] Running inference run 28\n",
            "[2023-01-30 17:27:42,227] No GPU found; falling back to CPU\n",
            "[2023-01-30 17:27:42,227] Using dropout rate of 0.0004 in the model\n",
            "[2023-01-30 17:27:44,244] Loading model...\n",
            "[2023-01-30 17:27:44,537] Performing predictions...\n",
            "[2023-01-30 17:27:44,538] Activating Monte Carlo dropout...\n",
            "100% 1/1 [00:02<00:00,  2.36s/it]\n",
            "[2023-01-30 17:27:47,015] Running inference run 29\n",
            "[2023-01-30 17:27:47,015] No GPU found; falling back to CPU\n",
            "[2023-01-30 17:27:47,015] Using dropout rate of 0.0004 in the model\n",
            "[2023-01-30 17:27:49,079] Loading model...\n",
            "[2023-01-30 17:27:49,374] Performing predictions...\n",
            "[2023-01-30 17:27:49,375] Activating Monte Carlo dropout...\n",
            "100% 1/1 [00:02<00:00,  2.56s/it]\n",
            "[2023-01-30 17:27:52,074] Running inference run 30\n",
            "[2023-01-30 17:27:52,074] No GPU found; falling back to CPU\n",
            "[2023-01-30 17:27:52,074] Using dropout rate of 0.0004 in the model\n",
            "[2023-01-30 17:27:54,205] Loading model...\n",
            "[2023-01-30 17:27:54,509] Performing predictions...\n",
            "[2023-01-30 17:27:54,515] Activating Monte Carlo dropout...\n",
            "100% 1/1 [00:02<00:00,  2.21s/it]\n",
            "[2023-01-30 17:27:56,837] Running inference run 31\n",
            "[2023-01-30 17:27:56,838] No GPU found; falling back to CPU\n",
            "[2023-01-30 17:27:56,838] Using dropout rate of 0.0004 in the model\n",
            "[2023-01-30 17:27:58,561] Loading model...\n",
            "[2023-01-30 17:27:58,850] Performing predictions...\n",
            "[2023-01-30 17:27:58,850] Activating Monte Carlo dropout...\n",
            "100% 1/1 [00:02<00:00,  2.08s/it]\n",
            "[2023-01-30 17:28:01,034] Running inference run 32\n",
            "[2023-01-30 17:28:01,035] No GPU found; falling back to CPU\n",
            "[2023-01-30 17:28:01,035] Using dropout rate of 0.0004 in the model\n",
            "[2023-01-30 17:28:02,807] Loading model...\n",
            "[2023-01-30 17:28:03,108] Performing predictions...\n",
            "[2023-01-30 17:28:03,108] Activating Monte Carlo dropout...\n",
            "100% 1/1 [00:02<00:00,  2.36s/it]\n",
            "[2023-01-30 17:28:05,575] Running inference run 33\n",
            "[2023-01-30 17:28:05,575] No GPU found; falling back to CPU\n",
            "[2023-01-30 17:28:05,575] Using dropout rate of 0.0004 in the model\n",
            "[2023-01-30 17:28:07,730] Loading model...\n",
            "[2023-01-30 17:28:08,028] Performing predictions...\n",
            "[2023-01-30 17:28:08,028] Activating Monte Carlo dropout...\n",
            "100% 1/1 [00:02<00:00,  2.40s/it]\n",
            "[2023-01-30 17:28:10,652] Running inference run 34\n",
            "[2023-01-30 17:28:10,652] No GPU found; falling back to CPU\n",
            "[2023-01-30 17:28:10,652] Using dropout rate of 0.0004 in the model\n",
            "[2023-01-30 17:28:12,731] Loading model...\n",
            "[2023-01-30 17:28:13,033] Performing predictions...\n",
            "[2023-01-30 17:28:13,033] Activating Monte Carlo dropout...\n",
            "100% 1/1 [00:02<00:00,  2.73s/it]\n",
            "[2023-01-30 17:28:15,873] Running inference run 35\n",
            "[2023-01-30 17:28:15,873] No GPU found; falling back to CPU\n",
            "[2023-01-30 17:28:15,873] Using dropout rate of 0.0004 in the model\n",
            "[2023-01-30 17:28:17,823] Loading model...\n",
            "[2023-01-30 17:28:18,116] Performing predictions...\n",
            "[2023-01-30 17:28:18,117] Activating Monte Carlo dropout...\n",
            "100% 1/1 [00:02<00:00,  2.66s/it]\n",
            "[2023-01-30 17:28:20,881] Running inference run 36\n",
            "[2023-01-30 17:28:20,881] No GPU found; falling back to CPU\n",
            "[2023-01-30 17:28:20,881] Using dropout rate of 0.0004 in the model\n",
            "[2023-01-30 17:28:22,623] Loading model...\n",
            "[2023-01-30 17:28:22,911] Performing predictions...\n",
            "[2023-01-30 17:28:22,911] Activating Monte Carlo dropout...\n",
            "100% 1/1 [00:02<00:00,  2.05s/it]\n",
            "[2023-01-30 17:28:25,066] Running inference run 37\n",
            "[2023-01-30 17:28:25,067] No GPU found; falling back to CPU\n",
            "[2023-01-30 17:28:25,067] Using dropout rate of 0.0004 in the model\n",
            "[2023-01-30 17:28:27,247] Loading model...\n",
            "[2023-01-30 17:28:27,533] Performing predictions...\n",
            "[2023-01-30 17:28:27,533] Activating Monte Carlo dropout...\n",
            "100% 1/1 [00:03<00:00,  3.09s/it]\n",
            "[2023-01-30 17:28:30,726] Running inference run 38\n",
            "[2023-01-30 17:28:30,727] No GPU found; falling back to CPU\n",
            "[2023-01-30 17:28:30,727] Using dropout rate of 0.0004 in the model\n",
            "[2023-01-30 17:28:32,481] Loading model...\n",
            "[2023-01-30 17:28:32,772] Performing predictions...\n",
            "[2023-01-30 17:28:32,773] Activating Monte Carlo dropout...\n",
            "100% 1/1 [00:02<00:00,  2.08s/it]\n",
            "[2023-01-30 17:28:34,952] Running inference run 39\n",
            "[2023-01-30 17:28:34,952] No GPU found; falling back to CPU\n",
            "[2023-01-30 17:28:34,952] Using dropout rate of 0.0004 in the model\n",
            "[2023-01-30 17:28:36,790] Loading model...\n",
            "[2023-01-30 17:28:37,084] Performing predictions...\n",
            "[2023-01-30 17:28:37,085] Activating Monte Carlo dropout...\n",
            "100% 1/1 [00:02<00:00,  2.15s/it]\n",
            "[2023-01-30 17:28:39,345] Running inference run 40\n",
            "[2023-01-30 17:28:39,345] No GPU found; falling back to CPU\n",
            "[2023-01-30 17:28:39,345] Using dropout rate of 0.0004 in the model\n",
            "[2023-01-30 17:28:41,127] Loading model...\n",
            "[2023-01-30 17:28:41,424] Performing predictions...\n",
            "[2023-01-30 17:28:41,424] Activating Monte Carlo dropout...\n",
            "100% 1/1 [00:02<00:00,  2.11s/it]\n",
            "[2023-01-30 17:28:43,635] Running inference run 41\n",
            "[2023-01-30 17:28:43,635] No GPU found; falling back to CPU\n",
            "[2023-01-30 17:28:43,635] Using dropout rate of 0.0004 in the model\n",
            "[2023-01-30 17:28:45,436] Loading model...\n",
            "[2023-01-30 17:28:45,723] Performing predictions...\n",
            "[2023-01-30 17:28:45,723] Activating Monte Carlo dropout...\n",
            "100% 1/1 [00:02<00:00,  2.12s/it]\n",
            "[2023-01-30 17:28:47,942] Running inference run 42\n",
            "[2023-01-30 17:28:47,942] No GPU found; falling back to CPU\n",
            "[2023-01-30 17:28:47,942] Using dropout rate of 0.0004 in the model\n",
            "[2023-01-30 17:28:49,681] Loading model...\n",
            "[2023-01-30 17:28:49,970] Performing predictions...\n",
            "[2023-01-30 17:28:49,971] Activating Monte Carlo dropout...\n",
            "100% 1/1 [00:02<00:00,  2.11s/it]\n",
            "[2023-01-30 17:28:52,176] Running inference run 43\n",
            "[2023-01-30 17:28:52,177] No GPU found; falling back to CPU\n",
            "[2023-01-30 17:28:52,177] Using dropout rate of 0.0004 in the model\n",
            "[2023-01-30 17:28:53,924] Loading model...\n",
            "[2023-01-30 17:28:54,205] Performing predictions...\n",
            "[2023-01-30 17:28:54,205] Activating Monte Carlo dropout...\n",
            "100% 1/1 [00:02<00:00,  2.10s/it]\n",
            "[2023-01-30 17:28:56,420] Running inference run 44\n",
            "[2023-01-30 17:28:56,420] No GPU found; falling back to CPU\n",
            "[2023-01-30 17:28:56,420] Using dropout rate of 0.0004 in the model\n",
            "[2023-01-30 17:28:58,183] Loading model...\n",
            "[2023-01-30 17:28:58,469] Performing predictions...\n",
            "[2023-01-30 17:28:58,469] Activating Monte Carlo dropout...\n",
            "100% 1/1 [00:02<00:00,  2.17s/it]\n",
            "[2023-01-30 17:29:00,741] Running inference run 45\n",
            "[2023-01-30 17:29:00,742] No GPU found; falling back to CPU\n",
            "[2023-01-30 17:29:00,742] Using dropout rate of 0.0004 in the model\n",
            "[2023-01-30 17:29:02,483] Loading model...\n",
            "[2023-01-30 17:29:02,774] Performing predictions...\n",
            "[2023-01-30 17:29:02,774] Activating Monte Carlo dropout...\n",
            "100% 1/1 [00:02<00:00,  2.12s/it]\n",
            "[2023-01-30 17:29:05,000] Running inference run 46\n",
            "[2023-01-30 17:29:05,000] No GPU found; falling back to CPU\n",
            "[2023-01-30 17:29:05,000] Using dropout rate of 0.0004 in the model\n",
            "[2023-01-30 17:29:06,750] Loading model...\n",
            "[2023-01-30 17:29:07,043] Performing predictions...\n",
            "[2023-01-30 17:29:07,044] Activating Monte Carlo dropout...\n",
            "100% 1/1 [00:02<00:00,  2.10s/it]\n",
            "[2023-01-30 17:29:09,245] Running inference run 47\n",
            "[2023-01-30 17:29:09,246] No GPU found; falling back to CPU\n",
            "[2023-01-30 17:29:09,246] Using dropout rate of 0.0004 in the model\n",
            "[2023-01-30 17:29:10,984] Loading model...\n",
            "[2023-01-30 17:29:11,269] Performing predictions...\n",
            "[2023-01-30 17:29:11,270] Activating Monte Carlo dropout...\n",
            "100% 1/1 [00:02<00:00,  2.12s/it]\n",
            "[2023-01-30 17:29:13,495] Running inference run 48\n",
            "[2023-01-30 17:29:13,495] No GPU found; falling back to CPU\n",
            "[2023-01-30 17:29:13,495] Using dropout rate of 0.0004 in the model\n",
            "[2023-01-30 17:29:15,227] Loading model...\n",
            "[2023-01-30 17:29:15,510] Performing predictions...\n",
            "[2023-01-30 17:29:15,511] Activating Monte Carlo dropout...\n",
            "100% 1/1 [00:02<00:00,  2.09s/it]\n",
            "[2023-01-30 17:29:17,706] Running inference run 49\n",
            "[2023-01-30 17:29:17,706] No GPU found; falling back to CPU\n",
            "[2023-01-30 17:29:17,706] Using dropout rate of 0.0004 in the model\n",
            "[2023-01-30 17:29:19,457] Loading model...\n",
            "[2023-01-30 17:29:19,737] Performing predictions...\n",
            "[2023-01-30 17:29:19,737] Activating Monte Carlo dropout...\n",
            "100% 1/1 [00:02<00:00,  2.09s/it]\n",
            "[2023-01-30 17:29:21,937] Running inference run 50\n",
            "[2023-01-30 17:29:21,938] No GPU found; falling back to CPU\n",
            "[2023-01-30 17:29:21,938] Using dropout rate of 0.0004 in the model\n",
            "[2023-01-30 17:29:23,689] Loading model...\n",
            "[2023-01-30 17:29:23,983] Performing predictions...\n",
            "[2023-01-30 17:29:23,983] Activating Monte Carlo dropout...\n",
            "100% 1/1 [00:02<00:00,  2.12s/it]\n"
          ]
        }
      ]
    },
    {
      "cell_type": "markdown",
      "source": [
        "Note that output `.csv` files are stored in the output directory we specified. As many `.csv` files are created as the number of runs specified in `n_runs` and are named `inf_xx.csv`. Each file corresponds to the values predicted using a different model created using Monte Carlo Dropout. Each file will contain one sampled value from the predicted distribution by that model.\n",
        "\n",
        "Let's take a look at `inf_1.csv`"
      ],
      "metadata": {
        "id": "R14OjnIjBN0k"
      }
    },
    {
      "cell_type": "code",
      "source": [
        "import pandas as pd\n",
        "\n",
        "inf_1 = pd.read_csv('/content/bayesian_inference_runs_lowz/inf_1.csv')\n",
        "inf_1"
      ],
      "metadata": {
        "outputId": "4858cbec-aaf4-499f-9691-6b85d55a507d",
        "colab": {
          "base_uri": "https://localhost:8080/",
          "height": 112
        },
        "id": "1qtDoLV5vpAe"
      },
      "execution_count": null,
      "outputs": [
        {
          "output_type": "execute_result",
          "data": {
            "text/plain": [
              "           object_id               file_name  preds_custom_logit_bt  \\\n",
              "0  45849776612206843  45849776612206843.fits              -1.116584   \n",
              "1  71112151477012948  71112151477012948.fits               1.144712   \n",
              "\n",
              "   preds_ln_R_e_asec  preds_ln_total_flux_adus  \n",
              "0           0.615151                  8.055857  \n",
              "1           1.037505                  9.459242  "
            ],
            "text/html": [
              "\n",
              "  <div id=\"df-4303c15a-59dd-4d07-a434-76111bf08e5a\">\n",
              "    <div class=\"colab-df-container\">\n",
              "      <div>\n",
              "<style scoped>\n",
              "    .dataframe tbody tr th:only-of-type {\n",
              "        vertical-align: middle;\n",
              "    }\n",
              "\n",
              "    .dataframe tbody tr th {\n",
              "        vertical-align: top;\n",
              "    }\n",
              "\n",
              "    .dataframe thead th {\n",
              "        text-align: right;\n",
              "    }\n",
              "</style>\n",
              "<table border=\"1\" class=\"dataframe\">\n",
              "  <thead>\n",
              "    <tr style=\"text-align: right;\">\n",
              "      <th></th>\n",
              "      <th>object_id</th>\n",
              "      <th>file_name</th>\n",
              "      <th>preds_custom_logit_bt</th>\n",
              "      <th>preds_ln_R_e_asec</th>\n",
              "      <th>preds_ln_total_flux_adus</th>\n",
              "    </tr>\n",
              "  </thead>\n",
              "  <tbody>\n",
              "    <tr>\n",
              "      <th>0</th>\n",
              "      <td>45849776612206843</td>\n",
              "      <td>45849776612206843.fits</td>\n",
              "      <td>-1.116584</td>\n",
              "      <td>0.615151</td>\n",
              "      <td>8.055857</td>\n",
              "    </tr>\n",
              "    <tr>\n",
              "      <th>1</th>\n",
              "      <td>71112151477012948</td>\n",
              "      <td>71112151477012948.fits</td>\n",
              "      <td>1.144712</td>\n",
              "      <td>1.037505</td>\n",
              "      <td>9.459242</td>\n",
              "    </tr>\n",
              "  </tbody>\n",
              "</table>\n",
              "</div>\n",
              "      <button class=\"colab-df-convert\" onclick=\"convertToInteractive('df-4303c15a-59dd-4d07-a434-76111bf08e5a')\"\n",
              "              title=\"Convert this dataframe to an interactive table.\"\n",
              "              style=\"display:none;\">\n",
              "        \n",
              "  <svg xmlns=\"http://www.w3.org/2000/svg\" height=\"24px\"viewBox=\"0 0 24 24\"\n",
              "       width=\"24px\">\n",
              "    <path d=\"M0 0h24v24H0V0z\" fill=\"none\"/>\n",
              "    <path d=\"M18.56 5.44l.94 2.06.94-2.06 2.06-.94-2.06-.94-.94-2.06-.94 2.06-2.06.94zm-11 1L8.5 8.5l.94-2.06 2.06-.94-2.06-.94L8.5 2.5l-.94 2.06-2.06.94zm10 10l.94 2.06.94-2.06 2.06-.94-2.06-.94-.94-2.06-.94 2.06-2.06.94z\"/><path d=\"M17.41 7.96l-1.37-1.37c-.4-.4-.92-.59-1.43-.59-.52 0-1.04.2-1.43.59L10.3 9.45l-7.72 7.72c-.78.78-.78 2.05 0 2.83L4 21.41c.39.39.9.59 1.41.59.51 0 1.02-.2 1.41-.59l7.78-7.78 2.81-2.81c.8-.78.8-2.07 0-2.86zM5.41 20L4 18.59l7.72-7.72 1.47 1.35L5.41 20z\"/>\n",
              "  </svg>\n",
              "      </button>\n",
              "      \n",
              "  <style>\n",
              "    .colab-df-container {\n",
              "      display:flex;\n",
              "      flex-wrap:wrap;\n",
              "      gap: 12px;\n",
              "    }\n",
              "\n",
              "    .colab-df-convert {\n",
              "      background-color: #E8F0FE;\n",
              "      border: none;\n",
              "      border-radius: 50%;\n",
              "      cursor: pointer;\n",
              "      display: none;\n",
              "      fill: #1967D2;\n",
              "      height: 32px;\n",
              "      padding: 0 0 0 0;\n",
              "      width: 32px;\n",
              "    }\n",
              "\n",
              "    .colab-df-convert:hover {\n",
              "      background-color: #E2EBFA;\n",
              "      box-shadow: 0px 1px 2px rgba(60, 64, 67, 0.3), 0px 1px 3px 1px rgba(60, 64, 67, 0.15);\n",
              "      fill: #174EA6;\n",
              "    }\n",
              "\n",
              "    [theme=dark] .colab-df-convert {\n",
              "      background-color: #3B4455;\n",
              "      fill: #D2E3FC;\n",
              "    }\n",
              "\n",
              "    [theme=dark] .colab-df-convert:hover {\n",
              "      background-color: #434B5C;\n",
              "      box-shadow: 0px 1px 3px 1px rgba(0, 0, 0, 0.15);\n",
              "      filter: drop-shadow(0px 1px 2px rgba(0, 0, 0, 0.3));\n",
              "      fill: #FFFFFF;\n",
              "    }\n",
              "  </style>\n",
              "\n",
              "      <script>\n",
              "        const buttonEl =\n",
              "          document.querySelector('#df-4303c15a-59dd-4d07-a434-76111bf08e5a button.colab-df-convert');\n",
              "        buttonEl.style.display =\n",
              "          google.colab.kernel.accessAllowed ? 'block' : 'none';\n",
              "\n",
              "        async function convertToInteractive(key) {\n",
              "          const element = document.querySelector('#df-4303c15a-59dd-4d07-a434-76111bf08e5a');\n",
              "          const dataTable =\n",
              "            await google.colab.kernel.invokeFunction('convertToInteractive',\n",
              "                                                     [key], {});\n",
              "          if (!dataTable) return;\n",
              "\n",
              "          const docLinkHtml = 'Like what you see? Visit the ' +\n",
              "            '<a target=\"_blank\" href=https://colab.research.google.com/notebooks/data_table.ipynb>data table notebook</a>'\n",
              "            + ' to learn more about interactive tables.';\n",
              "          element.innerHTML = '';\n",
              "          dataTable['output_type'] = 'display_data';\n",
              "          await google.colab.output.renderOutput(dataTable, element);\n",
              "          const docLink = document.createElement('div');\n",
              "          docLink.innerHTML = docLinkHtml;\n",
              "          element.appendChild(docLink);\n",
              "        }\n",
              "      </script>\n",
              "    </div>\n",
              "  </div>\n",
              "  "
            ]
          },
          "metadata": {},
          "execution_count": 16
        }
      ]
    },
    {
      "cell_type": "markdown",
      "source": [
        "As expected we have the predicted values for each columns specified during inference. Note that these have already been un-scaled in terms of the the minmax/standard scaling specified. However, they are still in the format \n",
        "\n",
        "$$ \\left( \\log\\frac{L_B/L_T}{1-L_B/L_T}, \\log R_e, \\log \\mathrm{Flux} \\right) $$\n",
        "\n",
        "\n",
        "Now, we will use the [`result_aggregator.py`](https://github.com/aritraghsh09/GaMPEN/blob/master/ggt/modules/result_aggregator.py) file in GaMPEN to collate all these .csvs. The `result_aggregator` module of GaMPEN will collect all the csvs; scale the values back to $L_B/L_T$, $R_e$, Flux; produce summary statistics; as well as produce PDFs of the output variables for each image. \n",
        "\n",
        "**For an understanding of all the options available in the `result_aggregator` module, please refere to [this page.](https://gampen.readthedocs.io/en/latest/Using_GaMPEN.html#result-aggregator)**\n",
        "\n",
        "The `data_dir` must point to the directory with the output csvs and the `out_summary_df_path` to the location you want the summary data-frame to be stored. \n",
        "\n",
        "The `unscale` option here specifies that we want to perform the inverse logit and logarithmic scalings. The `scaling_data_dir` should again point to the scaling files used during training (see previous discussion)."
      ],
      "metadata": {
        "id": "sRUQE5LBCtb8"
      }
    },
    {
      "cell_type": "code",
      "source": [
        "%cd /content/\n",
        "%mkdir lowz_pdfs\n",
        "\n",
        "!python /content/GaMPEN/ggt/modules/result_aggregator.py\\\n",
        "    --data_dir=\"bayesian_inference_runs_lowz/\"\\\n",
        "    --num=50\\\n",
        "    --out_summary_df_path=\"bayesian_inference_runs_lowz/summary.csv\"\\\n",
        "    --out_pdfs_path=\"lowz_pdfs/\"\\\n",
        "    --unscale\\\n",
        "    --scaling_df_path=\"scaling_data_dir_lowz/info.csv\"\\\n",
        "    --drop_old"
      ],
      "metadata": {
        "id": "1KuXgAKzJdWo",
        "outputId": "3320c1f1-815c-4fc0-85c8-1896246a4bf2",
        "colab": {
          "base_uri": "https://localhost:8080/"
        }
      },
      "execution_count": null,
      "outputs": [
        {
          "output_type": "stream",
          "name": "stdout",
          "text": [
            "/content\n",
            "Loading Files.....\n",
            "100% 50/50 [00:09<00:00,  5.21it/s]\n",
            "Creating Data Array\n",
            "100% 50/50 [00:00<00:00, 329.33it/s]\n",
            "Calculating Conf Ints for preds_R_e_asec\n",
            "100% 2/2 [00:00<00:00, 18.73it/s]\n",
            "Calculating Conf Ints for preds_total_flux_adus\n",
            "100% 2/2 [00:00<00:00, 35.21it/s]\n",
            "Calculating Conf Ints for preds_bt\n",
            "100% 2/2 [00:00<00:00, 37.21it/s]\n",
            "Calculating Conf Ints for preds_total_mag\n",
            "100% 2/2 [00:00<00:00, 34.40it/s]\n",
            "Saving PDFs as Arrays\n",
            "100% 2/2 [00:00<00:00, 136.38it/s]\n"
          ]
        }
      ]
    },
    {
      "cell_type": "markdown",
      "source": [
        "Now, let's inspect the `summary.csv` file as well as the predicted PDFs. \n"
      ],
      "metadata": {
        "id": "WV9fp10ExWus"
      }
    },
    {
      "cell_type": "code",
      "source": [
        "import pandas as pd\n",
        "\n",
        "summary_lowz = pd.read_csv('/content/bayesian_inference_runs_lowz/summary.csv')\n",
        "summary_lowz"
      ],
      "metadata": {
        "id": "3KX-3feUx1gj",
        "outputId": "aa8ec936-a1dc-413c-85f7-adf747750a6c",
        "colab": {
          "base_uri": "https://localhost:8080/",
          "height": 240
        }
      },
      "execution_count": null,
      "outputs": [
        {
          "output_type": "execute_result",
          "data": {
            "text/plain": [
              "           object_id               file_name  preds_R_e_asec_mean  \\\n",
              "0  45849776612206843  45849776612206843.fits             1.820383   \n",
              "1  71112151477012948  71112151477012948.fits             2.651862   \n",
              "\n",
              "   preds_R_e_asec_median  preds_R_e_asec_std  preds_R_e_asec_skew  \\\n",
              "0               1.817087            0.033035             0.088111   \n",
              "1               2.660352            0.099627            -0.231496   \n",
              "\n",
              "   preds_R_e_asec_kurtosis  preds_R_e_asec_mode  \\\n",
              "0                 0.364540             1.819898   \n",
              "1                -0.112394             2.655467   \n",
              "\n",
              "                      preds_R_e_asec_sig_ci  \\\n",
              "0  (1.7849062023871562, 1.8548905780783351)   \n",
              "1  (2.5474644276399103, 2.7634696637768608)   \n",
              "\n",
              "                  preds_R_e_asec_twosig_ci  ...  \\\n",
              "0  (1.7437085033965363, 1.896088277068955)  ...   \n",
              "1  (2.446881836766979, 2.8417921730631597)  ...   \n",
              "\n",
              "                         preds_bt_threesig_ci  preds_total_mag_mean  \\\n",
              "0  (0.017120892971267457, 0.6071860425100599)             18.330711   \n",
              "1   (0.24711985189174737, 0.7585437171245606)             16.795830   \n",
              "\n",
              "   preds_total_mag_median  preds_total_mag_std  preds_total_mag_skew  \\\n",
              "0               18.317148             0.078251              0.518924   \n",
              "1               16.803533             0.093847             -0.397087   \n",
              "\n",
              "   preds_total_mag_kurtosis  preds_total_mag_mode  \\\n",
              "0                  0.128911             18.291817   \n",
              "1                 -0.410068             16.847730   \n",
              "\n",
              "                     preds_total_mag_sig_ci  \\\n",
              "0  (18.203980020792837, 18.379654918407713)   \n",
              "1   (16.73570179486509, 16.959757791182813)   \n",
              "\n",
              "                  preds_total_mag_twosig_ci  \\\n",
              "0  (18.160436670101973, 18.494519274540515)   \n",
              "1   (16.60634116302882, 16.989350092583265)   \n",
              "\n",
              "                preds_total_mag_threesig_ci  \n",
              "0  (18.160436670101973, 18.535435009241414)  \n",
              "1    (16.5670256768825, 16.989350092583265)  \n",
              "\n",
              "[2 rows x 38 columns]"
            ],
            "text/html": [
              "\n",
              "  <div id=\"df-da751369-97d7-42b9-acdf-d662aa2e34c6\">\n",
              "    <div class=\"colab-df-container\">\n",
              "      <div>\n",
              "<style scoped>\n",
              "    .dataframe tbody tr th:only-of-type {\n",
              "        vertical-align: middle;\n",
              "    }\n",
              "\n",
              "    .dataframe tbody tr th {\n",
              "        vertical-align: top;\n",
              "    }\n",
              "\n",
              "    .dataframe thead th {\n",
              "        text-align: right;\n",
              "    }\n",
              "</style>\n",
              "<table border=\"1\" class=\"dataframe\">\n",
              "  <thead>\n",
              "    <tr style=\"text-align: right;\">\n",
              "      <th></th>\n",
              "      <th>object_id</th>\n",
              "      <th>file_name</th>\n",
              "      <th>preds_R_e_asec_mean</th>\n",
              "      <th>preds_R_e_asec_median</th>\n",
              "      <th>preds_R_e_asec_std</th>\n",
              "      <th>preds_R_e_asec_skew</th>\n",
              "      <th>preds_R_e_asec_kurtosis</th>\n",
              "      <th>preds_R_e_asec_mode</th>\n",
              "      <th>preds_R_e_asec_sig_ci</th>\n",
              "      <th>preds_R_e_asec_twosig_ci</th>\n",
              "      <th>...</th>\n",
              "      <th>preds_bt_threesig_ci</th>\n",
              "      <th>preds_total_mag_mean</th>\n",
              "      <th>preds_total_mag_median</th>\n",
              "      <th>preds_total_mag_std</th>\n",
              "      <th>preds_total_mag_skew</th>\n",
              "      <th>preds_total_mag_kurtosis</th>\n",
              "      <th>preds_total_mag_mode</th>\n",
              "      <th>preds_total_mag_sig_ci</th>\n",
              "      <th>preds_total_mag_twosig_ci</th>\n",
              "      <th>preds_total_mag_threesig_ci</th>\n",
              "    </tr>\n",
              "  </thead>\n",
              "  <tbody>\n",
              "    <tr>\n",
              "      <th>0</th>\n",
              "      <td>45849776612206843</td>\n",
              "      <td>45849776612206843.fits</td>\n",
              "      <td>1.820383</td>\n",
              "      <td>1.817087</td>\n",
              "      <td>0.033035</td>\n",
              "      <td>0.088111</td>\n",
              "      <td>0.364540</td>\n",
              "      <td>1.819898</td>\n",
              "      <td>(1.7849062023871562, 1.8548905780783351)</td>\n",
              "      <td>(1.7437085033965363, 1.896088277068955)</td>\n",
              "      <td>...</td>\n",
              "      <td>(0.017120892971267457, 0.6071860425100599)</td>\n",
              "      <td>18.330711</td>\n",
              "      <td>18.317148</td>\n",
              "      <td>0.078251</td>\n",
              "      <td>0.518924</td>\n",
              "      <td>0.128911</td>\n",
              "      <td>18.291817</td>\n",
              "      <td>(18.203980020792837, 18.379654918407713)</td>\n",
              "      <td>(18.160436670101973, 18.494519274540515)</td>\n",
              "      <td>(18.160436670101973, 18.535435009241414)</td>\n",
              "    </tr>\n",
              "    <tr>\n",
              "      <th>1</th>\n",
              "      <td>71112151477012948</td>\n",
              "      <td>71112151477012948.fits</td>\n",
              "      <td>2.651862</td>\n",
              "      <td>2.660352</td>\n",
              "      <td>0.099627</td>\n",
              "      <td>-0.231496</td>\n",
              "      <td>-0.112394</td>\n",
              "      <td>2.655467</td>\n",
              "      <td>(2.5474644276399103, 2.7634696637768608)</td>\n",
              "      <td>(2.446881836766979, 2.8417921730631597)</td>\n",
              "      <td>...</td>\n",
              "      <td>(0.24711985189174737, 0.7585437171245606)</td>\n",
              "      <td>16.795830</td>\n",
              "      <td>16.803533</td>\n",
              "      <td>0.093847</td>\n",
              "      <td>-0.397087</td>\n",
              "      <td>-0.410068</td>\n",
              "      <td>16.847730</td>\n",
              "      <td>(16.73570179486509, 16.959757791182813)</td>\n",
              "      <td>(16.60634116302882, 16.989350092583265)</td>\n",
              "      <td>(16.5670256768825, 16.989350092583265)</td>\n",
              "    </tr>\n",
              "  </tbody>\n",
              "</table>\n",
              "<p>2 rows × 38 columns</p>\n",
              "</div>\n",
              "      <button class=\"colab-df-convert\" onclick=\"convertToInteractive('df-da751369-97d7-42b9-acdf-d662aa2e34c6')\"\n",
              "              title=\"Convert this dataframe to an interactive table.\"\n",
              "              style=\"display:none;\">\n",
              "        \n",
              "  <svg xmlns=\"http://www.w3.org/2000/svg\" height=\"24px\"viewBox=\"0 0 24 24\"\n",
              "       width=\"24px\">\n",
              "    <path d=\"M0 0h24v24H0V0z\" fill=\"none\"/>\n",
              "    <path d=\"M18.56 5.44l.94 2.06.94-2.06 2.06-.94-2.06-.94-.94-2.06-.94 2.06-2.06.94zm-11 1L8.5 8.5l.94-2.06 2.06-.94-2.06-.94L8.5 2.5l-.94 2.06-2.06.94zm10 10l.94 2.06.94-2.06 2.06-.94-2.06-.94-.94-2.06-.94 2.06-2.06.94z\"/><path d=\"M17.41 7.96l-1.37-1.37c-.4-.4-.92-.59-1.43-.59-.52 0-1.04.2-1.43.59L10.3 9.45l-7.72 7.72c-.78.78-.78 2.05 0 2.83L4 21.41c.39.39.9.59 1.41.59.51 0 1.02-.2 1.41-.59l7.78-7.78 2.81-2.81c.8-.78.8-2.07 0-2.86zM5.41 20L4 18.59l7.72-7.72 1.47 1.35L5.41 20z\"/>\n",
              "  </svg>\n",
              "      </button>\n",
              "      \n",
              "  <style>\n",
              "    .colab-df-container {\n",
              "      display:flex;\n",
              "      flex-wrap:wrap;\n",
              "      gap: 12px;\n",
              "    }\n",
              "\n",
              "    .colab-df-convert {\n",
              "      background-color: #E8F0FE;\n",
              "      border: none;\n",
              "      border-radius: 50%;\n",
              "      cursor: pointer;\n",
              "      display: none;\n",
              "      fill: #1967D2;\n",
              "      height: 32px;\n",
              "      padding: 0 0 0 0;\n",
              "      width: 32px;\n",
              "    }\n",
              "\n",
              "    .colab-df-convert:hover {\n",
              "      background-color: #E2EBFA;\n",
              "      box-shadow: 0px 1px 2px rgba(60, 64, 67, 0.3), 0px 1px 3px 1px rgba(60, 64, 67, 0.15);\n",
              "      fill: #174EA6;\n",
              "    }\n",
              "\n",
              "    [theme=dark] .colab-df-convert {\n",
              "      background-color: #3B4455;\n",
              "      fill: #D2E3FC;\n",
              "    }\n",
              "\n",
              "    [theme=dark] .colab-df-convert:hover {\n",
              "      background-color: #434B5C;\n",
              "      box-shadow: 0px 1px 3px 1px rgba(0, 0, 0, 0.15);\n",
              "      filter: drop-shadow(0px 1px 2px rgba(0, 0, 0, 0.3));\n",
              "      fill: #FFFFFF;\n",
              "    }\n",
              "  </style>\n",
              "\n",
              "      <script>\n",
              "        const buttonEl =\n",
              "          document.querySelector('#df-da751369-97d7-42b9-acdf-d662aa2e34c6 button.colab-df-convert');\n",
              "        buttonEl.style.display =\n",
              "          google.colab.kernel.accessAllowed ? 'block' : 'none';\n",
              "\n",
              "        async function convertToInteractive(key) {\n",
              "          const element = document.querySelector('#df-da751369-97d7-42b9-acdf-d662aa2e34c6');\n",
              "          const dataTable =\n",
              "            await google.colab.kernel.invokeFunction('convertToInteractive',\n",
              "                                                     [key], {});\n",
              "          if (!dataTable) return;\n",
              "\n",
              "          const docLinkHtml = 'Like what you see? Visit the ' +\n",
              "            '<a target=\"_blank\" href=https://colab.research.google.com/notebooks/data_table.ipynb>data table notebook</a>'\n",
              "            + ' to learn more about interactive tables.';\n",
              "          element.innerHTML = '';\n",
              "          dataTable['output_type'] = 'display_data';\n",
              "          await google.colab.output.renderOutput(dataTable, element);\n",
              "          const docLink = document.createElement('div');\n",
              "          docLink.innerHTML = docLinkHtml;\n",
              "          element.appendChild(docLink);\n",
              "        }\n",
              "      </script>\n",
              "    </div>\n",
              "  </div>\n",
              "  "
            ]
          },
          "metadata": {},
          "execution_count": 18
        }
      ]
    },
    {
      "cell_type": "code",
      "source": [
        "print(summary_lowz.columns)"
      ],
      "metadata": {
        "id": "vMrT0RAtzPdB",
        "outputId": "c620dfd3-60b0-4c46-eed6-c16c7f54d65b",
        "colab": {
          "base_uri": "https://localhost:8080/"
        }
      },
      "execution_count": null,
      "outputs": [
        {
          "output_type": "stream",
          "name": "stdout",
          "text": [
            "Index(['object_id', 'file_name', 'preds_R_e_asec_mean',\n",
            "       'preds_R_e_asec_median', 'preds_R_e_asec_std', 'preds_R_e_asec_skew',\n",
            "       'preds_R_e_asec_kurtosis', 'preds_R_e_asec_mode',\n",
            "       'preds_R_e_asec_sig_ci', 'preds_R_e_asec_twosig_ci',\n",
            "       'preds_R_e_asec_threesig_ci', 'preds_total_flux_adus_mean',\n",
            "       'preds_total_flux_adus_median', 'preds_total_flux_adus_std',\n",
            "       'preds_total_flux_adus_skew', 'preds_total_flux_adus_kurtosis',\n",
            "       'preds_total_flux_adus_mode', 'preds_total_flux_adus_sig_ci',\n",
            "       'preds_total_flux_adus_twosig_ci', 'preds_total_flux_adus_threesig_ci',\n",
            "       'preds_bt_mean', 'preds_bt_median', 'preds_bt_std', 'preds_bt_skew',\n",
            "       'preds_bt_kurtosis', 'preds_bt_mode', 'preds_bt_sig_ci',\n",
            "       'preds_bt_twosig_ci', 'preds_bt_threesig_ci', 'preds_total_mag_mean',\n",
            "       'preds_total_mag_median', 'preds_total_mag_std', 'preds_total_mag_skew',\n",
            "       'preds_total_mag_kurtosis', 'preds_total_mag_mode',\n",
            "       'preds_total_mag_sig_ci', 'preds_total_mag_twosig_ci',\n",
            "       'preds_total_mag_threesig_ci'],\n",
            "      dtype='object')\n"
          ]
        }
      ]
    },
    {
      "cell_type": "markdown",
      "source": [
        "As can be seen in the summary file, for every prediction column we have the \n",
        "\n",
        "  * mean (_mean)\n",
        "  * median (_median)\n",
        "  * mode (_mode)\n",
        "  * standard deviation (_std)\n",
        "  * skewness (_skew)\n",
        "  * kurtosis (_kurt)\n",
        "  * $1\\sigma$ confidence interval (_sig_ci)\n",
        "  * $2\\sigma$ confidence interval (_twosig_ci)\n",
        "  * $3\\sigma$ confidence interval (_threesig_ci)\n",
        "\n",
        "for the predicted distribution. \n",
        "\n",
        "**⚠ STOP: Note that the `result_aggregator` module also converts flux to magnitudes; however this coversion assumes a photometric zeropoint that is only true for HSC. If you are using the `result_aggregator` module for some other survey, you should change this.**\n"
      ],
      "metadata": {
        "id": "FoRyviaFyL2f"
      }
    },
    {
      "cell_type": "markdown",
      "source": [
        "## Plotting Results\n",
        "\n",
        "Now, let's make a plot for the predicted distributions against the images."
      ],
      "metadata": {
        "id": "qcbGOfN3wufs"
      }
    },
    {
      "cell_type": "markdown",
      "source": [
        "### Importing required packages & Defining Functions"
      ],
      "metadata": {
        "id": "k57mZvNLhp1O"
      }
    },
    {
      "cell_type": "code",
      "source": [
        "!pip install matplotlib==3.1.3\n",
        "\n",
        "import matplotlib as mpl\n",
        "import numpy as np\n",
        "import pylab as plt\n",
        "import pandas as pd\n",
        "\n",
        "\n",
        "import random\n",
        "from matplotlib.patches import Rectangle\n",
        "from matplotlib.ticker import FormatStrFormatter, ScalarFormatter\n",
        "from astropy.io import fits \n",
        "LOGMIN=1e-4"
      ],
      "metadata": {
        "id": "04vDMjeiWuOy",
        "outputId": "cf8e5ebd-c4b0-4d92-ec36-7b3971be277d",
        "colab": {
          "base_uri": "https://localhost:8080/"
        }
      },
      "execution_count": null,
      "outputs": [
        {
          "output_type": "stream",
          "name": "stdout",
          "text": [
            "Looking in indexes: https://pypi.org/simple, https://us-python.pkg.dev/colab-wheels/public/simple/\n",
            "Requirement already satisfied: matplotlib==3.1.3 in /usr/local/lib/python3.8/dist-packages (3.1.3)\n",
            "Requirement already satisfied: kiwisolver>=1.0.1 in /usr/local/lib/python3.8/dist-packages (from matplotlib==3.1.3) (1.4.4)\n",
            "Requirement already satisfied: python-dateutil>=2.1 in /usr/local/lib/python3.8/dist-packages (from matplotlib==3.1.3) (2.8.1)\n",
            "Requirement already satisfied: numpy>=1.11 in /usr/local/lib/python3.8/dist-packages (from matplotlib==3.1.3) (1.19.1)\n",
            "Requirement already satisfied: pyparsing!=2.0.4,!=2.1.2,!=2.1.6,>=2.0.1 in /usr/local/lib/python3.8/dist-packages (from matplotlib==3.1.3) (2.4.7)\n",
            "Requirement already satisfied: cycler>=0.10 in /usr/local/lib/python3.8/dist-packages (from matplotlib==3.1.3) (0.11.0)\n",
            "Requirement already satisfied: six>=1.5 in /usr/local/lib/python3.8/dist-packages (from python-dateutil>=2.1->matplotlib==3.1.3) (1.15.0)\n"
          ]
        }
      ]
    },
    {
      "cell_type": "code",
      "source": [
        "def plot_hists(summary_file_path,\n",
        "               imgdir, pdf_dir,\n",
        "               font_size=15,\n",
        "               cutout_size=239):\n",
        "  \n",
        "  summary_df = pd.read_csv(summary_file_path)\n",
        "\n",
        "  fig,ax1 = plt.subplots(len(summary_df),4,figsize=(4*5.3,len(summary_df)*4),\n",
        "                          gridspec_kw={'width_ratios': [0.65, 1, 1, 1]})\n",
        "  fig.subplots_adjust(wspace=0.12,hspace=0.23)\n",
        "\n",
        "  row_counter = 0\n",
        "\n",
        "  for i, img_num in enumerate(summary_df[\"object_id\"]):\n",
        "        \n",
        "    ax = ax1[row_counter]\n",
        "    ax[0].set_xticks([])\n",
        "    ax[0].set_yticks([])\n",
        "        \n",
        "    img_data = fits.getdata(imgdir\n",
        "                            + str(img_num) + \".fits\")\n",
        "    img_data = crop_center(img_data,cutout_size,cutout_size)\n",
        "    ax[0].imshow(img_data,norm=mpl.colors.LogNorm(vmin=max(img_data.min(),LOGMIN)))\n",
        "\n",
        "    pred_arr = np.load(pdf_dir + str(img_num) + \".npy\")\n",
        "  \n",
        "    pred_cols = [\"preds_bt\",\"preds_R_e_asec\",\"preds_total_mag\"]\n",
        "    pred_arr_idxs = [2,0,3] #indexes of columns in pred_arr\n",
        "\n",
        "    for j, column_name in enumerate(pred_cols):\n",
        "\n",
        "      ax[j+1].plot(pred_arr[pred_arr_idxs[j]],\n",
        "                   pred_arr[pred_arr_idxs[j]+4],\n",
        "                   label=\"PDF\",lw=3)\n",
        "      \n",
        "\n",
        "      mode = summary_df[column_name + \"_mode\"][i]\n",
        "      sig_ci = summary_df[column_name + \"_sig_ci\"][i]\n",
        "      sig_ci = (float(sig_ci.split(',')[0][1:]),\n",
        "                float(sig_ci.split(',')[1][:-1]))\n",
        "      twosig_ci = summary_df[column_name + \"_twosig_ci\"][i]\n",
        "      twosig_ci = (float(twosig_ci.split(',')[0][1:]),\n",
        "                   float(twosig_ci.split(',')[1][:-1]))\n",
        "      threesig_ci = summary_df[column_name + \"_threesig_ci\"][i]\n",
        "      threesig_ci = (float(threesig_ci.split(',')[0][1:]),\n",
        "                     float(threesig_ci.split(',')[1][:-1]))\n",
        "      n_out = pred_arr[pred_arr_idxs[j]+4]\n",
        "      \n",
        "      ax[j+1].plot([mode,mode],[0,np.max(pred_arr[pred_arr_idxs[j]+4])],c='r',\n",
        "                      ls='solid',label=\"Mode\", lw =3) #plotting a x = Mode line\n",
        "            \n",
        "            \n",
        "            \n",
        "      rect = Rectangle((sig_ci[0], 0), sig_ci[1]-sig_ci[0], 0.25*np.max(n_out),color='coral',\n",
        "                             alpha=0.5,label=\"68.27 %ile\",lw=1)\n",
        "      border = Rectangle((sig_ci[0], 0), sig_ci[1]-sig_ci[0], 0.25*np.max(n_out),ec='coral',\n",
        "                             lw=3,fill=False)\n",
        "      ax[j+1].add_patch(rect)  \n",
        "      ax[j+1].add_patch(border)\n",
        "    \n",
        "      rect = Rectangle((twosig_ci[0], 0), twosig_ci[1]-twosig_ci[0], 0.175*np.max(n_out),color='goldenrod',\n",
        "                             alpha=0.5,label=\"95.45 %ile\")\n",
        "      border = Rectangle((twosig_ci[0], 0), twosig_ci[1]-twosig_ci[0], 0.175*np.max(n_out),ec='goldenrod',\n",
        "                             lw=3,fill=False)\n",
        "      ax[j+1].add_patch(rect)\n",
        "      ax[j+1].add_patch(border)\n",
        "    \n",
        "      rect = Rectangle((threesig_ci[0], 0), threesig_ci[1]-threesig_ci[0], 0.10*np.max(n_out),\n",
        "                             color='seagreen',alpha=0.5,label=\"99.73 %ile\")\n",
        "      border = Rectangle((threesig_ci[0], 0), threesig_ci[1]-threesig_ci[0], 0.10*np.max(n_out),ec='seagreen',\n",
        "                             lw=3,fill=False)\n",
        "      ax[j+1].add_patch(rect)\n",
        "      ax[j+1].add_patch(border)\n",
        "            \n",
        "            \n",
        "            \n",
        "      #ax[j+1].ticklabel_format(axis='both',style='sci',scilimits=(0,0))\n",
        "      ax[j+1].set_yticks([])\n",
        "      ax[j+1].tick_params(axis='x',labelsize=font_size-3)\n",
        "            \n",
        "                \n",
        "    if row_counter == 0:\n",
        "            ax[1].legend(loc='upper right',prop={'size': font_size-4})\n",
        "            \n",
        "                \n",
        "              \n",
        "    row_counter += 1\n",
        "\n",
        "\n",
        "  ax[1].set_xlabel(r\"$L_B/L_T$\",fontsize=font_size)\n",
        "  ax[2].set_xlabel(r\"$R_e$ (asec)\",fontsize=font_size)\n",
        "  ax[3].set_xlabel(r\"mag (g-band)\",fontsize=font_size)\n",
        "\n"
      ],
      "metadata": {
        "id": "PZhY47Oo6OkS"
      },
      "execution_count": null,
      "outputs": []
    },
    {
      "cell_type": "markdown",
      "source": [
        "### Making Plots"
      ],
      "metadata": {
        "id": "XRJKP6DaTApE"
      }
    },
    {
      "cell_type": "code",
      "source": [
        "plot_hists(imgdir=\"/content/data_lowz/cutouts/\",\n",
        "           summary_file_path=\"/content/bayesian_inference_runs_lowz/summary.csv\",\n",
        "           pdf_dir=\"/content/lowz_pdfs/\",\n",
        "           font_size=18)"
      ],
      "metadata": {
        "id": "b86ps-NQ6c23",
        "outputId": "4745bfcb-d005-42a9-f721-55fd814f9634",
        "colab": {
          "base_uri": "https://localhost:8080/",
          "height": 513
        }
      },
      "execution_count": null,
      "outputs": [
        {
          "output_type": "display_data",
          "data": {
            "text/plain": [
              "<Figure size 1526.4x576 with 8 Axes>"
            ],
            "image/png": "[encoded data removed]"
          },
          "metadata": {
            "needs_background": "light"
          }
        }
      ]
    },
    {
      "cell_type": "markdown",
      "source": [
        "**NOTE: Some of the distributions above are multimodal and look a bit funky. This is primarily because we ran inference with 50 runs. For better results, re-run inference with 500/1000 runs!**"
      ],
      "metadata": {
        "id": "73Qfp5weymil"
      }
    }
  ]
}